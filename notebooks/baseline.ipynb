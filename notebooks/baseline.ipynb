{
 "cells": [
  {
   "cell_type": "code",
   "execution_count": 1,
   "metadata": {},
   "outputs": [],
   "source": [
    "from torch.utils.data import Dataset, DataLoader\n",
    "import os\n",
    "import pandas as pd\n",
    "import numpy as np\n",
    "from sklearn.preprocessing import LabelEncoder\n",
    "import torch\n",
    "import math "
   ]
  },
  {
   "cell_type": "code",
   "execution_count": 3,
   "metadata": {},
   "outputs": [],
   "source": [
    "DATA_DIR = '../data/data_normalized_exp2'\n",
    "data_set = os.listdir(DATA_DIR)"
   ]
  },
  {
   "cell_type": "code",
   "execution_count": 4,
   "metadata": {},
   "outputs": [
    {
     "data": {
      "text/plain": [
       "'CA_17315012_resampled_clase_2.csv'"
      ]
     },
     "execution_count": 4,
     "metadata": {},
     "output_type": "execute_result"
    }
   ],
   "source": [
    "data_set[0]"
   ]
  },
  {
   "cell_type": "code",
   "execution_count": 9,
   "metadata": {},
   "outputs": [],
   "source": [
    "test_file = os.path.join(DATA_DIR, data_set[2])\n",
    "test = pd.read_csv(test_file)"
   ]
  },
  {
   "cell_type": "code",
   "execution_count": 2,
   "metadata": {},
   "outputs": [],
   "source": [
    "device = torch.device(\"cuda\" if torch.cuda.is_available() else \"cpu\")\n"
   ]
  },
  {
   "cell_type": "code",
   "execution_count": 11,
   "metadata": {},
   "outputs": [
    {
     "data": {
      "text/plain": [
       "device(type='cuda')"
      ]
     },
     "execution_count": 11,
     "metadata": {},
     "output_type": "execute_result"
    }
   ],
   "source": [
    "device"
   ]
  },
  {
   "cell_type": "code",
   "execution_count": 18,
   "metadata": {},
   "outputs": [
    {
     "data": {
      "text/plain": [
       "25404"
      ]
     },
     "execution_count": 18,
     "metadata": {},
     "output_type": "execute_result"
    }
   ],
   "source": [
    "test.shape[0]"
   ]
  },
  {
   "cell_type": "code",
   "execution_count": 30,
   "metadata": {},
   "outputs": [],
   "source": [
    "signal = np.linspace(0,25404,25404, dtype=int)"
   ]
  },
  {
   "cell_type": "code",
   "execution_count": 35,
   "metadata": {},
   "outputs": [
    {
     "name": "stdout",
     "output_type": "stream",
     "text": [
      "[   0    1    2 ... 4997 4998 4999]\n",
      "[5000 5001 5002 ... 9997 9998 9999]\n",
      "[10000 10001 10002 ... 14997 14998 14999]\n",
      "[15000 15001 15002 ... 19997 19998 19999]\n",
      "[20000 20001 20002 ... 24997 24998 24999]\n"
     ]
    }
   ],
   "source": [
    "signal_1 = []\n",
    "for i in range(0,math.floor(signal.shape[0]/5000)):\n",
    "        signal_1=(signal[i*5000:i*5000+5000])\n",
    "        print(signal_1)"
   ]
  },
  {
   "cell_type": "code",
   "execution_count": 3,
   "metadata": {},
   "outputs": [],
   "source": [
    "# math.floor(25404/5000)\n",
    "# for column in test.columns:\n",
    "#     for i in range(0,math.floor(test.shape[0]/5000)):\n",
    "#         signal_1 = test[column].values[i*5000:i*5000+5000]\n",
    "#         print(signal_1.shape)\n",
    "    \n",
    "    "
   ]
  },
  {
   "cell_type": "markdown",
   "metadata": {},
   "source": [
    "# Dataset Class"
   ]
  },
  {
   "cell_type": "code",
   "execution_count": 4,
   "metadata": {},
   "outputs": [],
   "source": [
    "class IeegDataset(Dataset):\n",
    "    def __init__(self, data_dir, seq_length=5000):\n",
    "        self.data_dir = data_dir\n",
    "        self.signals = os.listdir(self.data_dir)\n",
    "        self.seq_length = seq_length\n",
    "        self.data = []\n",
    "        self.labels = []\n",
    "        \n",
    "        self.classes = [f.split('_')[0] for f in self.signals]\n",
    "\n",
    "        self.label_encoder = LabelEncoder()\n",
    "        self.label_encoder.fit(self.classes)\n",
    "\n",
    "        for file in self.signals:\n",
    "            file_path = os.path.join(data_dir, file)\n",
    "            df = pd.read_csv(file_path)\n",
    "\n",
    "            for column in df.columns: \n",
    "                for idx in range(0,math.floor(df.shape[0]/self.seq_length)):\n",
    "                    # signal_1 = test[column].values[i*5000:i*5000+5000]\n",
    "\n",
    "                    signal_window = df[column].values[idx*self.seq_length:idx*self.seq_length+self.seq_length]\n",
    "\n",
    "    \n",
    "                    class_label = self.label_encoder.transform([file.split('_')[0]])\n",
    "                    self.data.append(signal_window)\n",
    "                    self.labels.append(class_label)\n",
    "        \n",
    "        self.data = torch.tensor(self.data, dtype=torch.float32)\n",
    "        self.labels = torch.tensor(self.labels, dtype=torch.long)\n",
    "\n",
    "    def __len__(self):\n",
    "        return(len(self.data))\n",
    "    def __getitem__(self, index) -> torch.tensor:\n",
    "        return self.data[index] , self.labels[index]\n",
    "    def get_class_mapping(self):\n",
    "        return {i: class_name for i, class_name in enumerate(self.label_encoder.classes_)}"
   ]
  },
  {
   "cell_type": "code",
   "execution_count": 5,
   "metadata": {},
   "outputs": [
    {
     "name": "stderr",
     "output_type": "stream",
     "text": [
      "/tmp/ipykernel_24/485794265.py:29: UserWarning: Creating a tensor from a list of numpy.ndarrays is extremely slow. Please consider converting the list to a single numpy.ndarray with numpy.array() before converting to a tensor. (Triggered internally at ../torch/csrc/utils/tensor_new.cpp:274.)\n",
      "  self.data = torch.tensor(self.data, dtype=torch.float32)\n"
     ]
    }
   ],
   "source": [
    "dataset = IeegDataset('../data/data_normalized_exp2')"
   ]
  },
  {
   "cell_type": "code",
   "execution_count": 6,
   "metadata": {},
   "outputs": [
    {
     "data": {
      "text/plain": [
       "13115"
      ]
     },
     "execution_count": 6,
     "metadata": {},
     "output_type": "execute_result"
    }
   ],
   "source": [
    "dataset.__len__()"
   ]
  },
  {
   "cell_type": "code",
   "execution_count": 15,
   "metadata": {},
   "outputs": [],
   "source": [
    "import numpy as np\n",
    "from sklearn.model_selection import StratifiedShuffleSplit\n",
    "from torch.utils.data import Subset\n",
    "import matplotlib.pyplot as plt\n",
    "import mlflow\n",
    "import mlflow.pytorch\n",
    "\n",
    "# Create data loaders\n",
    "batch_size = 128\n",
    "\n",
    "# Get labels\n",
    "labels = np.array([dataset[i][1] for i in range(len(dataset))])\n",
    "\n",
    "# Stratified Shuffle Split\n",
    "sss = StratifiedShuffleSplit(n_splits=1, test_size=0.2, random_state=42)\n",
    "train_index, test_index = next(sss.split(np.zeros(len(labels)), labels))\n",
    "\n",
    "# Create train and test subsets\n",
    "train_dataset = Subset(dataset, train_index)\n",
    "test_dataset = Subset(dataset, test_index)\n",
    "\n",
    "# Create data loaders\n",
    "train_loader = DataLoader(train_dataset, batch_size=batch_size, shuffle=True)\n",
    "test_loader = DataLoader(test_dataset, batch_size=batch_size, shuffle=False)\n",
    "\n",
    "# Calculate class distributions\n",
    "train_labels = [train_dataset[i][1].item() for i in range(len(train_dataset))]\n",
    "test_labels = [test_dataset[i][1].item() for i in range(len(test_dataset))]\n",
    "\n",
    "train_counts = np.bincount(train_labels)\n",
    "test_counts = np.bincount(test_labels)\n",
    "\n",
    "class_names = dataset.label_encoder.classes_\n",
    "\n",
    "# Create pie charts\n",
    "def plot_pie_chart(counts, class_names, title):\n",
    "    fig, ax = plt.subplots()\n",
    "    ax.pie(counts, labels=class_names, autopct='%1.1f%%', startangle=90, counterclock=False)\n",
    "    ax.axis('equal')\n",
    "    plt.title(title)\n",
    "    plt.show()\n",
    "    return fig"
   ]
  },
  {
   "cell_type": "code",
   "execution_count": 16,
   "metadata": {},
   "outputs": [
    {
     "data": {
      "image/png": "[encoded data removed]",
      "text/plain": [
       "<Figure size 640x480 with 1 Axes>"
      ]
     },
     "metadata": {},
     "output_type": "display_data"
    },
    {
     "data": {
      "image/png": "[encoded data removed]",
      "text/plain": [
       "<Figure size 640x480 with 1 Axes>"
      ]
     },
     "metadata": {},
     "output_type": "display_data"
    }
   ],
   "source": [
    "train_fig = plot_pie_chart(train_counts, class_names, \"Train Set Class Distribution\")\n",
    "test_fig = plot_pie_chart(test_counts, class_names, \"Test Set Class Distribution\")\n"
   ]
  },
  {
   "cell_type": "code",
   "execution_count": 17,
   "metadata": {},
   "outputs": [],
   "source": [
    "import torch.nn as nn\n",
    "import torch.optim as optim\n",
    "\n",
    "class SimpleNN(nn.Module):\n",
    "    def __init__(self, input_size, num_classes):\n",
    "        super(SimpleNN, self).__init__()\n",
    "        self.fc1 = nn.Linear(input_size, 128)\n",
    "        self.fc2 = nn.Linear(128, 64)\n",
    "        self.fc3 = nn.Linear(64, num_classes)\n",
    "        self.relu = nn.ReLU()\n",
    "        self.dropout = nn.Dropout(0.5)\n",
    "        \n",
    "    def forward(self, x):\n",
    "        x = self.relu(self.fc1(x))\n",
    "        x = self.dropout(x)\n",
    "        x = self.relu(self.fc2(x))\n",
    "        x = self.dropout(x)\n",
    "        x = self.fc3(x)\n",
    "        return x\n",
    "\n",
    "# Check for GPU availability\n",
    "device = torch.device(\"cuda\" if torch.cuda.is_available() else \"cpu\")\n",
    "\n",
    "# Define model, loss function, and optimizer\n",
    "input_size = 5000  # sequence length\n",
    "num_classes = len(dataset.label_encoder.classes_)\n",
    "model = SimpleNN(input_size, num_classes).to(device)\n",
    "\n",
    "criterion = nn.CrossEntropyLoss()\n",
    "optimizer = optim.Adam(model.parameters(), lr=0.001)"
   ]
  },
  {
   "cell_type": "code",
   "execution_count": 18,
   "metadata": {},
   "outputs": [
    {
     "data": {
      "text/plain": [
       "SimpleNN(\n",
       "  (fc1): Linear(in_features=5000, out_features=128, bias=True)\n",
       "  (fc2): Linear(in_features=128, out_features=64, bias=True)\n",
       "  (fc3): Linear(in_features=64, out_features=5, bias=True)\n",
       "  (relu): ReLU()\n",
       "  (dropout): Dropout(p=0.5, inplace=False)\n",
       ")"
      ]
     },
     "execution_count": 18,
     "metadata": {},
     "output_type": "execute_result"
    }
   ],
   "source": [
    "model"
   ]
  },
  {
   "cell_type": "code",
   "execution_count": 19,
   "metadata": {},
   "outputs": [
    {
     "name": "stdout",
     "output_type": "stream",
     "text": [
      "tracking uri: http://mlflow:5000\n"
     ]
    }
   ],
   "source": [
    "import mlflow\n",
    "import mlflow.pytorch\n",
    "mlflow.set_tracking_uri(\"http://mlflow:5000\")\n",
    "\n",
    "print('tracking uri:', mlflow.get_tracking_uri())\n"
   ]
  },
  {
   "cell_type": "code",
   "execution_count": 20,
   "metadata": {},
   "outputs": [
    {
     "name": "stdout",
     "output_type": "stream",
     "text": [
      "Epoch [1/200], Loss: 1.4512, Accuracy: 0.4129, Precision: 0.3472, Recall: 0.4129, F1 Score: 0.3683\n",
      "Epoch [2/200], Loss: 1.3312, Accuracy: 0.4624, Precision: 0.3769, Recall: 0.4624, F1 Score: 0.3934\n",
      "Epoch [3/200], Loss: 1.3087, Accuracy: 0.4700, Precision: 0.3680, Recall: 0.4700, F1 Score: 0.3951\n",
      "Epoch [4/200], Loss: 1.2807, Accuracy: 0.4800, Precision: 0.3985, Recall: 0.4800, F1 Score: 0.4039\n",
      "Epoch [5/200], Loss: 1.2724, Accuracy: 0.4751, Precision: 0.3596, Recall: 0.4751, F1 Score: 0.4007\n"
     ]
    },
    {
     "name": "stderr",
     "output_type": "stream",
     "text": [
      "/usr/local/lib/python3.10/site-packages/sklearn/metrics/_classification.py:1509: UndefinedMetricWarning: Precision is ill-defined and being set to 0.0 in labels with no predicted samples. Use `zero_division` parameter to control this behavior.\n",
      "  _warn_prf(average, modifier, f\"{metric.capitalize()} is\", len(result))\n"
     ]
    },
    {
     "name": "stdout",
     "output_type": "stream",
     "text": [
      "Epoch [6/200], Loss: 1.2586, Accuracy: 0.4844, Precision: 0.3679, Recall: 0.4844, F1 Score: 0.4065\n"
     ]
    },
    {
     "name": "stderr",
     "output_type": "stream",
     "text": [
      "/usr/local/lib/python3.10/site-packages/sklearn/metrics/_classification.py:1509: UndefinedMetricWarning: Precision is ill-defined and being set to 0.0 in labels with no predicted samples. Use `zero_division` parameter to control this behavior.\n",
      "  _warn_prf(average, modifier, f\"{metric.capitalize()} is\", len(result))\n"
     ]
    },
    {
     "name": "stdout",
     "output_type": "stream",
     "text": [
      "Epoch [7/200], Loss: 1.2422, Accuracy: 0.4854, Precision: 0.3719, Recall: 0.4854, F1 Score: 0.4073\n"
     ]
    },
    {
     "name": "stderr",
     "output_type": "stream",
     "text": [
      "/usr/local/lib/python3.10/site-packages/sklearn/metrics/_classification.py:1509: UndefinedMetricWarning: Precision is ill-defined and being set to 0.0 in labels with no predicted samples. Use `zero_division` parameter to control this behavior.\n",
      "  _warn_prf(average, modifier, f\"{metric.capitalize()} is\", len(result))\n"
     ]
    },
    {
     "name": "stdout",
     "output_type": "stream",
     "text": [
      "Epoch [8/200], Loss: 1.2373, Accuracy: 0.4915, Precision: 0.4623, Recall: 0.4915, F1 Score: 0.4139\n"
     ]
    },
    {
     "name": "stderr",
     "output_type": "stream",
     "text": [
      "/usr/local/lib/python3.10/site-packages/sklearn/metrics/_classification.py:1509: UndefinedMetricWarning: Precision is ill-defined and being set to 0.0 in labels with no predicted samples. Use `zero_division` parameter to control this behavior.\n",
      "  _warn_prf(average, modifier, f\"{metric.capitalize()} is\", len(result))\n"
     ]
    },
    {
     "name": "stdout",
     "output_type": "stream",
     "text": [
      "Epoch [9/200], Loss: 1.2238, Accuracy: 0.4913, Precision: 0.3993, Recall: 0.4913, F1 Score: 0.4143\n"
     ]
    },
    {
     "name": "stderr",
     "output_type": "stream",
     "text": [
      "/usr/local/lib/python3.10/site-packages/sklearn/metrics/_classification.py:1509: UndefinedMetricWarning: Precision is ill-defined and being set to 0.0 in labels with no predicted samples. Use `zero_division` parameter to control this behavior.\n",
      "  _warn_prf(average, modifier, f\"{metric.capitalize()} is\", len(result))\n"
     ]
    },
    {
     "name": "stdout",
     "output_type": "stream",
     "text": [
      "Epoch [10/200], Loss: 1.2143, Accuracy: 0.4983, Precision: 0.4158, Recall: 0.4983, F1 Score: 0.4242\n"
     ]
    },
    {
     "name": "stderr",
     "output_type": "stream",
     "text": [
      "/usr/local/lib/python3.10/site-packages/sklearn/metrics/_classification.py:1509: UndefinedMetricWarning: Precision is ill-defined and being set to 0.0 in labels with no predicted samples. Use `zero_division` parameter to control this behavior.\n",
      "  _warn_prf(average, modifier, f\"{metric.capitalize()} is\", len(result))\n"
     ]
    },
    {
     "name": "stdout",
     "output_type": "stream",
     "text": [
      "Epoch [11/200], Loss: 1.2102, Accuracy: 0.5002, Precision: 0.4482, Recall: 0.5002, F1 Score: 0.4313\n"
     ]
    },
    {
     "name": "stderr",
     "output_type": "stream",
     "text": [
      "/usr/local/lib/python3.10/site-packages/sklearn/metrics/_classification.py:1509: UndefinedMetricWarning: Precision is ill-defined and being set to 0.0 in labels with no predicted samples. Use `zero_division` parameter to control this behavior.\n",
      "  _warn_prf(average, modifier, f\"{metric.capitalize()} is\", len(result))\n"
     ]
    },
    {
     "name": "stdout",
     "output_type": "stream",
     "text": [
      "Epoch [12/200], Loss: 1.1972, Accuracy: 0.5023, Precision: 0.4314, Recall: 0.5023, F1 Score: 0.4354\n"
     ]
    },
    {
     "name": "stderr",
     "output_type": "stream",
     "text": [
      "/usr/local/lib/python3.10/site-packages/sklearn/metrics/_classification.py:1509: UndefinedMetricWarning: Precision is ill-defined and being set to 0.0 in labels with no predicted samples. Use `zero_division` parameter to control this behavior.\n",
      "  _warn_prf(average, modifier, f\"{metric.capitalize()} is\", len(result))\n"
     ]
    },
    {
     "name": "stdout",
     "output_type": "stream",
     "text": [
      "Epoch [13/200], Loss: 1.1863, Accuracy: 0.5014, Precision: 0.4469, Recall: 0.5014, F1 Score: 0.4376\n"
     ]
    },
    {
     "name": "stderr",
     "output_type": "stream",
     "text": [
      "/usr/local/lib/python3.10/site-packages/sklearn/metrics/_classification.py:1509: UndefinedMetricWarning: Precision is ill-defined and being set to 0.0 in labels with no predicted samples. Use `zero_division` parameter to control this behavior.\n",
      "  _warn_prf(average, modifier, f\"{metric.capitalize()} is\", len(result))\n"
     ]
    },
    {
     "name": "stdout",
     "output_type": "stream",
     "text": [
      "Epoch [14/200], Loss: 1.1820, Accuracy: 0.5021, Precision: 0.4466, Recall: 0.5021, F1 Score: 0.4397\n",
      "Epoch [15/200], Loss: 1.1687, Accuracy: 0.5082, Precision: 0.4617, Recall: 0.5082, F1 Score: 0.4461\n"
     ]
    },
    {
     "name": "stderr",
     "output_type": "stream",
     "text": [
      "/usr/local/lib/python3.10/site-packages/sklearn/metrics/_classification.py:1509: UndefinedMetricWarning: Precision is ill-defined and being set to 0.0 in labels with no predicted samples. Use `zero_division` parameter to control this behavior.\n",
      "  _warn_prf(average, modifier, f\"{metric.capitalize()} is\", len(result))\n"
     ]
    },
    {
     "name": "stdout",
     "output_type": "stream",
     "text": [
      "Epoch [16/200], Loss: 1.1623, Accuracy: 0.5078, Precision: 0.4622, Recall: 0.5078, F1 Score: 0.4484\n",
      "Epoch [17/200], Loss: 1.1520, Accuracy: 0.5114, Precision: 0.4655, Recall: 0.5114, F1 Score: 0.4529\n"
     ]
    },
    {
     "name": "stderr",
     "output_type": "stream",
     "text": [
      "/usr/local/lib/python3.10/site-packages/sklearn/metrics/_classification.py:1509: UndefinedMetricWarning: Precision is ill-defined and being set to 0.0 in labels with no predicted samples. Use `zero_division` parameter to control this behavior.\n",
      "  _warn_prf(average, modifier, f\"{metric.capitalize()} is\", len(result))\n"
     ]
    },
    {
     "name": "stdout",
     "output_type": "stream",
     "text": [
      "Epoch [18/200], Loss: 1.1476, Accuracy: 0.5204, Precision: 0.4674, Recall: 0.5204, F1 Score: 0.4628\n",
      "Epoch [19/200], Loss: 1.1396, Accuracy: 0.5274, Precision: 0.5513, Recall: 0.5274, F1 Score: 0.4720\n"
     ]
    },
    {
     "name": "stderr",
     "output_type": "stream",
     "text": [
      "/usr/local/lib/python3.10/site-packages/sklearn/metrics/_classification.py:1509: UndefinedMetricWarning: Precision is ill-defined and being set to 0.0 in labels with no predicted samples. Use `zero_division` parameter to control this behavior.\n",
      "  _warn_prf(average, modifier, f\"{metric.capitalize()} is\", len(result))\n"
     ]
    },
    {
     "name": "stdout",
     "output_type": "stream",
     "text": [
      "Epoch [20/200], Loss: 1.1302, Accuracy: 0.5230, Precision: 0.4815, Recall: 0.5230, F1 Score: 0.4706\n"
     ]
    },
    {
     "name": "stderr",
     "output_type": "stream",
     "text": [
      "/usr/local/lib/python3.10/site-packages/sklearn/metrics/_classification.py:1509: UndefinedMetricWarning: Precision is ill-defined and being set to 0.0 in labels with no predicted samples. Use `zero_division` parameter to control this behavior.\n",
      "  _warn_prf(average, modifier, f\"{metric.capitalize()} is\", len(result))\n"
     ]
    },
    {
     "name": "stdout",
     "output_type": "stream",
     "text": [
      "Epoch [21/200], Loss: 1.1282, Accuracy: 0.5251, Precision: 0.4828, Recall: 0.5251, F1 Score: 0.4714\n",
      "Epoch [22/200], Loss: 1.1195, Accuracy: 0.5277, Precision: 0.5188, Recall: 0.5277, F1 Score: 0.4775\n",
      "Epoch [23/200], Loss: 1.1159, Accuracy: 0.5322, Precision: 0.5165, Recall: 0.5322, F1 Score: 0.4807\n",
      "Epoch [24/200], Loss: 1.1082, Accuracy: 0.5373, Precision: 0.4997, Recall: 0.5373, F1 Score: 0.4893\n",
      "Epoch [25/200], Loss: 1.1140, Accuracy: 0.5285, Precision: 0.4896, Recall: 0.5285, F1 Score: 0.4736\n",
      "Epoch [26/200], Loss: 1.1046, Accuracy: 0.5367, Precision: 0.5234, Recall: 0.5367, F1 Score: 0.4871\n",
      "Epoch [27/200], Loss: 1.0855, Accuracy: 0.5434, Precision: 0.5426, Recall: 0.5434, F1 Score: 0.4958\n",
      "Epoch [28/200], Loss: 1.0899, Accuracy: 0.5416, Precision: 0.5218, Recall: 0.5416, F1 Score: 0.4960\n",
      "Epoch [29/200], Loss: 1.0873, Accuracy: 0.5417, Precision: 0.5429, Recall: 0.5417, F1 Score: 0.4953\n",
      "Epoch [30/200], Loss: 1.0809, Accuracy: 0.5394, Precision: 0.5213, Recall: 0.5394, F1 Score: 0.4908\n",
      "Epoch [31/200], Loss: 1.0863, Accuracy: 0.5483, Precision: 0.5323, Recall: 0.5483, F1 Score: 0.5002\n",
      "Epoch [32/200], Loss: 1.0807, Accuracy: 0.5462, Precision: 0.5453, Recall: 0.5462, F1 Score: 0.5004\n",
      "Epoch [33/200], Loss: 1.0646, Accuracy: 0.5565, Precision: 0.5516, Recall: 0.5565, F1 Score: 0.5128\n",
      "Epoch [34/200], Loss: 1.0732, Accuracy: 0.5517, Precision: 0.5494, Recall: 0.5517, F1 Score: 0.5079\n",
      "Epoch [35/200], Loss: 1.0594, Accuracy: 0.5536, Precision: 0.5346, Recall: 0.5536, F1 Score: 0.5103\n",
      "Epoch [36/200], Loss: 1.0618, Accuracy: 0.5582, Precision: 0.5498, Recall: 0.5582, F1 Score: 0.5165\n",
      "Epoch [37/200], Loss: 1.0549, Accuracy: 0.5583, Precision: 0.5457, Recall: 0.5583, F1 Score: 0.5159\n",
      "Epoch [38/200], Loss: 1.0527, Accuracy: 0.5598, Precision: 0.5423, Recall: 0.5598, F1 Score: 0.5167\n",
      "Epoch [39/200], Loss: 1.0562, Accuracy: 0.5610, Precision: 0.5395, Recall: 0.5610, F1 Score: 0.5173\n",
      "Epoch [40/200], Loss: 1.0457, Accuracy: 0.5651, Precision: 0.5686, Recall: 0.5651, F1 Score: 0.5233\n",
      "Epoch [41/200], Loss: 1.0471, Accuracy: 0.5628, Precision: 0.5533, Recall: 0.5628, F1 Score: 0.5228\n",
      "Epoch [42/200], Loss: 1.0473, Accuracy: 0.5574, Precision: 0.5469, Recall: 0.5574, F1 Score: 0.5145\n",
      "Epoch [43/200], Loss: 1.0399, Accuracy: 0.5659, Precision: 0.5470, Recall: 0.5659, F1 Score: 0.5245\n",
      "Epoch [44/200], Loss: 1.0299, Accuracy: 0.5754, Precision: 0.5652, Recall: 0.5754, F1 Score: 0.5346\n",
      "Epoch [45/200], Loss: 1.0363, Accuracy: 0.5617, Precision: 0.5438, Recall: 0.5617, F1 Score: 0.5191\n",
      "Epoch [46/200], Loss: 1.0393, Accuracy: 0.5759, Precision: 0.5872, Recall: 0.5759, F1 Score: 0.5352\n",
      "Epoch [47/200], Loss: 1.0235, Accuracy: 0.5745, Precision: 0.5675, Recall: 0.5745, F1 Score: 0.5359\n",
      "Epoch [48/200], Loss: 1.0364, Accuracy: 0.5652, Precision: 0.5694, Recall: 0.5652, F1 Score: 0.5270\n",
      "Epoch [49/200], Loss: 1.0184, Accuracy: 0.5762, Precision: 0.5733, Recall: 0.5762, F1 Score: 0.5358\n",
      "Epoch [50/200], Loss: 1.0134, Accuracy: 0.5787, Precision: 0.5820, Recall: 0.5787, F1 Score: 0.5397\n",
      "Epoch [51/200], Loss: 1.0122, Accuracy: 0.5772, Precision: 0.5586, Recall: 0.5772, F1 Score: 0.5400\n",
      "Epoch [52/200], Loss: 1.0171, Accuracy: 0.5733, Precision: 0.5571, Recall: 0.5733, F1 Score: 0.5337\n",
      "Epoch [53/200], Loss: 1.0106, Accuracy: 0.5873, Precision: 0.5827, Recall: 0.5873, F1 Score: 0.5496\n",
      "Epoch [54/200], Loss: 1.0193, Accuracy: 0.5671, Precision: 0.5700, Recall: 0.5671, F1 Score: 0.5268\n",
      "Epoch [55/200], Loss: 1.0176, Accuracy: 0.5757, Precision: 0.5685, Recall: 0.5757, F1 Score: 0.5381\n",
      "Epoch [56/200], Loss: 1.0155, Accuracy: 0.5833, Precision: 0.5861, Recall: 0.5833, F1 Score: 0.5453\n",
      "Epoch [57/200], Loss: 1.0073, Accuracy: 0.5813, Precision: 0.5838, Recall: 0.5813, F1 Score: 0.5439\n",
      "Epoch [58/200], Loss: 1.0076, Accuracy: 0.5823, Precision: 0.5842, Recall: 0.5823, F1 Score: 0.5453\n",
      "Epoch [59/200], Loss: 1.0045, Accuracy: 0.5855, Precision: 0.5909, Recall: 0.5855, F1 Score: 0.5476\n",
      "Epoch [60/200], Loss: 1.0046, Accuracy: 0.5824, Precision: 0.5776, Recall: 0.5824, F1 Score: 0.5447\n",
      "Epoch [61/200], Loss: 1.0008, Accuracy: 0.5879, Precision: 0.5835, Recall: 0.5879, F1 Score: 0.5505\n",
      "Epoch [62/200], Loss: 0.9948, Accuracy: 0.5844, Precision: 0.5819, Recall: 0.5844, F1 Score: 0.5500\n",
      "Epoch [63/200], Loss: 0.9918, Accuracy: 0.5851, Precision: 0.5777, Recall: 0.5851, F1 Score: 0.5498\n",
      "Epoch [64/200], Loss: 0.9940, Accuracy: 0.5900, Precision: 0.5928, Recall: 0.5900, F1 Score: 0.5536\n",
      "Epoch [65/200], Loss: 0.9841, Accuracy: 0.5927, Precision: 0.5892, Recall: 0.5927, F1 Score: 0.5568\n",
      "Epoch [66/200], Loss: 0.9880, Accuracy: 0.5903, Precision: 0.5831, Recall: 0.5903, F1 Score: 0.5547\n",
      "Epoch [67/200], Loss: 0.9876, Accuracy: 0.5891, Precision: 0.5865, Recall: 0.5891, F1 Score: 0.5514\n",
      "Epoch [68/200], Loss: 0.9773, Accuracy: 0.5964, Precision: 0.5990, Recall: 0.5964, F1 Score: 0.5619\n",
      "Epoch [69/200], Loss: 0.9811, Accuracy: 0.5928, Precision: 0.5901, Recall: 0.5928, F1 Score: 0.5584\n",
      "Epoch [70/200], Loss: 0.9880, Accuracy: 0.5929, Precision: 0.5921, Recall: 0.5929, F1 Score: 0.5574\n",
      "Epoch [71/200], Loss: 0.9836, Accuracy: 0.5861, Precision: 0.5819, Recall: 0.5861, F1 Score: 0.5502\n",
      "Epoch [72/200], Loss: 0.9719, Accuracy: 0.5946, Precision: 0.5916, Recall: 0.5946, F1 Score: 0.5601\n",
      "Epoch [73/200], Loss: 0.9670, Accuracy: 0.5907, Precision: 0.5786, Recall: 0.5907, F1 Score: 0.5555\n",
      "Epoch [74/200], Loss: 0.9744, Accuracy: 0.5972, Precision: 0.5935, Recall: 0.5972, F1 Score: 0.5600\n",
      "Epoch [75/200], Loss: 0.9735, Accuracy: 0.5973, Precision: 0.5990, Recall: 0.5973, F1 Score: 0.5609\n",
      "Epoch [76/200], Loss: 0.9681, Accuracy: 0.5966, Precision: 0.5978, Recall: 0.5966, F1 Score: 0.5608\n",
      "Epoch [77/200], Loss: 0.9692, Accuracy: 0.5992, Precision: 0.5922, Recall: 0.5992, F1 Score: 0.5638\n",
      "Epoch [78/200], Loss: 0.9754, Accuracy: 0.5903, Precision: 0.5886, Recall: 0.5903, F1 Score: 0.5560\n",
      "Epoch [79/200], Loss: 0.9659, Accuracy: 0.5982, Precision: 0.5948, Recall: 0.5982, F1 Score: 0.5641\n",
      "Epoch [80/200], Loss: 0.9606, Accuracy: 0.5956, Precision: 0.5824, Recall: 0.5956, F1 Score: 0.5597\n",
      "Epoch [81/200], Loss: 0.9742, Accuracy: 0.5940, Precision: 0.5814, Recall: 0.5940, F1 Score: 0.5593\n",
      "Epoch [82/200], Loss: 0.9621, Accuracy: 0.6027, Precision: 0.5958, Recall: 0.6027, F1 Score: 0.5676\n",
      "Epoch [83/200], Loss: 0.9590, Accuracy: 0.5990, Precision: 0.6075, Recall: 0.5990, F1 Score: 0.5645\n",
      "Epoch [84/200], Loss: 0.9564, Accuracy: 0.6030, Precision: 0.5978, Recall: 0.6030, F1 Score: 0.5669\n",
      "Epoch [85/200], Loss: 0.9447, Accuracy: 0.6174, Precision: 0.6105, Recall: 0.6174, F1 Score: 0.5856\n",
      "Epoch [86/200], Loss: 0.9637, Accuracy: 0.6008, Precision: 0.6002, Recall: 0.6008, F1 Score: 0.5679\n",
      "Epoch [87/200], Loss: 0.9590, Accuracy: 0.5956, Precision: 0.5910, Recall: 0.5956, F1 Score: 0.5609\n",
      "Epoch [88/200], Loss: 0.9649, Accuracy: 0.6037, Precision: 0.6010, Recall: 0.6037, F1 Score: 0.5701\n",
      "Epoch [89/200], Loss: 0.9536, Accuracy: 0.5998, Precision: 0.5904, Recall: 0.5998, F1 Score: 0.5656\n",
      "Epoch [90/200], Loss: 0.9590, Accuracy: 0.6064, Precision: 0.6055, Recall: 0.6064, F1 Score: 0.5730\n",
      "Epoch [91/200], Loss: 0.9526, Accuracy: 0.6034, Precision: 0.5996, Recall: 0.6034, F1 Score: 0.5720\n",
      "Epoch [92/200], Loss: 0.9622, Accuracy: 0.6063, Precision: 0.6019, Recall: 0.6063, F1 Score: 0.5739\n",
      "Epoch [93/200], Loss: 0.9496, Accuracy: 0.6062, Precision: 0.6007, Recall: 0.6062, F1 Score: 0.5738\n",
      "Epoch [94/200], Loss: 0.9464, Accuracy: 0.6101, Precision: 0.6011, Recall: 0.6101, F1 Score: 0.5767\n",
      "Epoch [95/200], Loss: 0.9432, Accuracy: 0.6094, Precision: 0.6036, Recall: 0.6094, F1 Score: 0.5740\n",
      "Epoch [96/200], Loss: 0.9433, Accuracy: 0.6071, Precision: 0.6053, Recall: 0.6071, F1 Score: 0.5760\n",
      "Epoch [97/200], Loss: 0.9364, Accuracy: 0.6092, Precision: 0.6040, Recall: 0.6092, F1 Score: 0.5748\n",
      "Epoch [98/200], Loss: 0.9458, Accuracy: 0.6052, Precision: 0.6003, Recall: 0.6052, F1 Score: 0.5723\n",
      "Epoch [99/200], Loss: 0.9385, Accuracy: 0.6127, Precision: 0.6113, Recall: 0.6127, F1 Score: 0.5801\n",
      "Epoch [100/200], Loss: 0.9368, Accuracy: 0.6132, Precision: 0.6045, Recall: 0.6132, F1 Score: 0.5808\n",
      "Epoch [101/200], Loss: 0.9342, Accuracy: 0.6136, Precision: 0.6135, Recall: 0.6136, F1 Score: 0.5808\n",
      "Epoch [102/200], Loss: 0.9352, Accuracy: 0.6146, Precision: 0.6085, Recall: 0.6146, F1 Score: 0.5820\n",
      "Epoch [103/200], Loss: 0.9314, Accuracy: 0.6185, Precision: 0.6158, Recall: 0.6185, F1 Score: 0.5874\n",
      "Epoch [104/200], Loss: 0.9287, Accuracy: 0.6138, Precision: 0.6068, Recall: 0.6138, F1 Score: 0.5818\n",
      "Epoch [105/200], Loss: 0.9187, Accuracy: 0.6207, Precision: 0.6154, Recall: 0.6207, F1 Score: 0.5893\n",
      "Epoch [106/200], Loss: 0.9379, Accuracy: 0.6108, Precision: 0.6098, Recall: 0.6108, F1 Score: 0.5776\n",
      "Epoch [107/200], Loss: 0.9217, Accuracy: 0.6200, Precision: 0.6210, Recall: 0.6200, F1 Score: 0.5876\n",
      "Epoch [108/200], Loss: 0.9367, Accuracy: 0.6158, Precision: 0.6095, Recall: 0.6158, F1 Score: 0.5834\n",
      "Epoch [109/200], Loss: 0.9282, Accuracy: 0.6208, Precision: 0.6125, Recall: 0.6208, F1 Score: 0.5861\n",
      "Epoch [110/200], Loss: 0.9246, Accuracy: 0.6182, Precision: 0.6056, Recall: 0.6182, F1 Score: 0.5881\n",
      "Epoch [111/200], Loss: 0.9154, Accuracy: 0.6307, Precision: 0.6206, Recall: 0.6307, F1 Score: 0.6003\n",
      "Epoch [112/200], Loss: 0.9186, Accuracy: 0.6218, Precision: 0.6180, Recall: 0.6218, F1 Score: 0.5892\n",
      "Epoch [113/200], Loss: 0.9284, Accuracy: 0.6157, Precision: 0.6165, Recall: 0.6157, F1 Score: 0.5837\n",
      "Epoch [114/200], Loss: 0.9207, Accuracy: 0.6225, Precision: 0.6166, Recall: 0.6225, F1 Score: 0.5922\n",
      "Epoch [115/200], Loss: 0.9285, Accuracy: 0.6122, Precision: 0.6060, Recall: 0.6122, F1 Score: 0.5789\n",
      "Epoch [116/200], Loss: 0.9116, Accuracy: 0.6313, Precision: 0.6304, Recall: 0.6313, F1 Score: 0.6011\n",
      "Epoch [117/200], Loss: 0.9061, Accuracy: 0.6275, Precision: 0.6244, Recall: 0.6275, F1 Score: 0.5975\n",
      "Epoch [118/200], Loss: 0.9144, Accuracy: 0.6279, Precision: 0.6325, Recall: 0.6279, F1 Score: 0.5954\n",
      "Epoch [119/200], Loss: 0.9291, Accuracy: 0.6209, Precision: 0.6236, Recall: 0.6209, F1 Score: 0.5895\n",
      "Epoch [120/200], Loss: 0.9155, Accuracy: 0.6240, Precision: 0.6281, Recall: 0.6240, F1 Score: 0.5922\n",
      "Epoch [121/200], Loss: 0.9008, Accuracy: 0.6287, Precision: 0.6233, Recall: 0.6287, F1 Score: 0.5971\n",
      "Epoch [122/200], Loss: 0.9039, Accuracy: 0.6312, Precision: 0.6327, Recall: 0.6312, F1 Score: 0.5987\n",
      "Epoch [123/200], Loss: 0.9031, Accuracy: 0.6270, Precision: 0.6199, Recall: 0.6270, F1 Score: 0.5968\n",
      "Epoch [124/200], Loss: 0.8976, Accuracy: 0.6331, Precision: 0.6335, Recall: 0.6331, F1 Score: 0.6008\n",
      "Epoch [125/200], Loss: 0.8980, Accuracy: 0.6336, Precision: 0.6292, Recall: 0.6336, F1 Score: 0.6035\n",
      "Epoch [126/200], Loss: 0.9019, Accuracy: 0.6294, Precision: 0.6282, Recall: 0.6294, F1 Score: 0.5977\n",
      "Epoch [127/200], Loss: 0.9079, Accuracy: 0.6288, Precision: 0.6259, Recall: 0.6288, F1 Score: 0.5954\n",
      "Epoch [128/200], Loss: 0.8965, Accuracy: 0.6311, Precision: 0.6206, Recall: 0.6311, F1 Score: 0.5987\n",
      "Epoch [129/200], Loss: 0.9051, Accuracy: 0.6340, Precision: 0.6298, Recall: 0.6340, F1 Score: 0.6026\n",
      "Epoch [130/200], Loss: 0.8930, Accuracy: 0.6320, Precision: 0.6290, Recall: 0.6320, F1 Score: 0.6020\n",
      "Epoch [131/200], Loss: 0.9137, Accuracy: 0.6261, Precision: 0.6226, Recall: 0.6261, F1 Score: 0.5939\n",
      "Epoch [132/200], Loss: 0.8939, Accuracy: 0.6367, Precision: 0.6424, Recall: 0.6367, F1 Score: 0.6047\n",
      "Epoch [133/200], Loss: 0.8955, Accuracy: 0.6312, Precision: 0.6167, Recall: 0.6312, F1 Score: 0.6011\n",
      "Epoch [134/200], Loss: 0.9050, Accuracy: 0.6337, Precision: 0.6280, Recall: 0.6337, F1 Score: 0.6020\n",
      "Epoch [135/200], Loss: 0.8943, Accuracy: 0.6358, Precision: 0.6331, Recall: 0.6358, F1 Score: 0.6054\n",
      "Epoch [136/200], Loss: 0.9000, Accuracy: 0.6318, Precision: 0.6059, Recall: 0.6318, F1 Score: 0.5980\n",
      "Epoch [137/200], Loss: 0.8908, Accuracy: 0.6392, Precision: 0.6302, Recall: 0.6392, F1 Score: 0.6083\n",
      "Epoch [138/200], Loss: 0.8896, Accuracy: 0.6419, Precision: 0.6432, Recall: 0.6419, F1 Score: 0.6118\n",
      "Epoch [139/200], Loss: 0.8875, Accuracy: 0.6446, Precision: 0.6406, Recall: 0.6446, F1 Score: 0.6157\n",
      "Epoch [140/200], Loss: 0.8946, Accuracy: 0.6319, Precision: 0.6196, Recall: 0.6319, F1 Score: 0.5999\n",
      "Epoch [141/200], Loss: 0.8874, Accuracy: 0.6419, Precision: 0.6429, Recall: 0.6419, F1 Score: 0.6116\n",
      "Epoch [142/200], Loss: 0.8863, Accuracy: 0.6456, Precision: 0.6421, Recall: 0.6456, F1 Score: 0.6152\n",
      "Epoch [143/200], Loss: 0.8882, Accuracy: 0.6401, Precision: 0.6364, Recall: 0.6401, F1 Score: 0.6105\n",
      "Epoch [144/200], Loss: 0.8797, Accuracy: 0.6436, Precision: 0.6407, Recall: 0.6436, F1 Score: 0.6142\n",
      "Epoch [145/200], Loss: 0.8881, Accuracy: 0.6383, Precision: 0.6326, Recall: 0.6383, F1 Score: 0.6062\n",
      "Epoch [146/200], Loss: 0.8682, Accuracy: 0.6431, Precision: 0.6475, Recall: 0.6431, F1 Score: 0.6134\n",
      "Epoch [147/200], Loss: 0.8717, Accuracy: 0.6500, Precision: 0.6505, Recall: 0.6500, F1 Score: 0.6207\n",
      "Epoch [148/200], Loss: 0.8821, Accuracy: 0.6450, Precision: 0.6384, Recall: 0.6450, F1 Score: 0.6140\n",
      "Epoch [149/200], Loss: 0.8679, Accuracy: 0.6412, Precision: 0.6332, Recall: 0.6412, F1 Score: 0.6109\n",
      "Epoch [150/200], Loss: 0.8773, Accuracy: 0.6511, Precision: 0.6344, Recall: 0.6511, F1 Score: 0.6184\n",
      "Epoch [151/200], Loss: 0.8738, Accuracy: 0.6496, Precision: 0.6436, Recall: 0.6496, F1 Score: 0.6205\n",
      "Epoch [152/200], Loss: 0.8778, Accuracy: 0.6479, Precision: 0.6463, Recall: 0.6479, F1 Score: 0.6173\n",
      "Epoch [153/200], Loss: 0.8734, Accuracy: 0.6436, Precision: 0.6381, Recall: 0.6436, F1 Score: 0.6136\n",
      "Epoch [154/200], Loss: 0.8665, Accuracy: 0.6526, Precision: 0.6530, Recall: 0.6526, F1 Score: 0.6230\n",
      "Epoch [155/200], Loss: 0.8577, Accuracy: 0.6544, Precision: 0.6453, Recall: 0.6544, F1 Score: 0.6259\n",
      "Epoch [156/200], Loss: 0.8604, Accuracy: 0.6472, Precision: 0.6375, Recall: 0.6472, F1 Score: 0.6179\n",
      "Epoch [157/200], Loss: 0.8651, Accuracy: 0.6553, Precision: 0.6409, Recall: 0.6553, F1 Score: 0.6249\n",
      "Epoch [158/200], Loss: 0.8788, Accuracy: 0.6516, Precision: 0.6490, Recall: 0.6516, F1 Score: 0.6218\n",
      "Epoch [159/200], Loss: 0.8553, Accuracy: 0.6514, Precision: 0.6370, Recall: 0.6514, F1 Score: 0.6226\n",
      "Epoch [160/200], Loss: 0.8623, Accuracy: 0.6498, Precision: 0.6398, Recall: 0.6498, F1 Score: 0.6202\n",
      "Epoch [161/200], Loss: 0.8656, Accuracy: 0.6514, Precision: 0.6530, Recall: 0.6514, F1 Score: 0.6206\n",
      "Epoch [162/200], Loss: 0.8553, Accuracy: 0.6558, Precision: 0.6516, Recall: 0.6558, F1 Score: 0.6279\n",
      "Epoch [163/200], Loss: 0.8503, Accuracy: 0.6569, Precision: 0.6526, Recall: 0.6569, F1 Score: 0.6286\n",
      "Epoch [164/200], Loss: 0.8612, Accuracy: 0.6588, Precision: 0.6521, Recall: 0.6588, F1 Score: 0.6300\n",
      "Epoch [165/200], Loss: 0.8579, Accuracy: 0.6595, Precision: 0.6542, Recall: 0.6595, F1 Score: 0.6290\n",
      "Epoch [166/200], Loss: 0.8482, Accuracy: 0.6517, Precision: 0.6458, Recall: 0.6517, F1 Score: 0.6239\n",
      "Epoch [167/200], Loss: 0.8473, Accuracy: 0.6543, Precision: 0.6460, Recall: 0.6543, F1 Score: 0.6249\n",
      "Epoch [168/200], Loss: 0.8326, Accuracy: 0.6608, Precision: 0.6578, Recall: 0.6608, F1 Score: 0.6318\n",
      "Epoch [169/200], Loss: 0.8387, Accuracy: 0.6582, Precision: 0.6526, Recall: 0.6582, F1 Score: 0.6309\n",
      "Epoch [170/200], Loss: 0.8588, Accuracy: 0.6525, Precision: 0.6472, Recall: 0.6525, F1 Score: 0.6238\n",
      "Epoch [171/200], Loss: 0.8400, Accuracy: 0.6645, Precision: 0.6582, Recall: 0.6645, F1 Score: 0.6362\n",
      "Epoch [172/200], Loss: 0.8531, Accuracy: 0.6617, Precision: 0.6525, Recall: 0.6617, F1 Score: 0.6337\n",
      "Epoch [173/200], Loss: 0.8590, Accuracy: 0.6539, Precision: 0.6448, Recall: 0.6539, F1 Score: 0.6255\n",
      "Epoch [174/200], Loss: 0.8441, Accuracy: 0.6594, Precision: 0.6567, Recall: 0.6594, F1 Score: 0.6303\n",
      "Epoch [175/200], Loss: 0.8317, Accuracy: 0.6676, Precision: 0.6587, Recall: 0.6676, F1 Score: 0.6398\n",
      "Epoch [176/200], Loss: 0.8497, Accuracy: 0.6601, Precision: 0.6552, Recall: 0.6601, F1 Score: 0.6326\n",
      "Epoch [177/200], Loss: 0.8395, Accuracy: 0.6655, Precision: 0.6575, Recall: 0.6655, F1 Score: 0.6379\n",
      "Epoch [178/200], Loss: 0.8462, Accuracy: 0.6639, Precision: 0.6527, Recall: 0.6639, F1 Score: 0.6355\n",
      "Epoch [179/200], Loss: 0.8357, Accuracy: 0.6657, Precision: 0.6561, Recall: 0.6657, F1 Score: 0.6369\n",
      "Epoch [180/200], Loss: 0.8366, Accuracy: 0.6700, Precision: 0.6656, Recall: 0.6700, F1 Score: 0.6429\n",
      "Epoch [181/200], Loss: 0.8357, Accuracy: 0.6651, Precision: 0.6545, Recall: 0.6651, F1 Score: 0.6366\n",
      "Epoch [182/200], Loss: 0.8341, Accuracy: 0.6636, Precision: 0.6525, Recall: 0.6636, F1 Score: 0.6338\n",
      "Epoch [183/200], Loss: 0.8328, Accuracy: 0.6678, Precision: 0.6573, Recall: 0.6678, F1 Score: 0.6390\n",
      "Epoch [184/200], Loss: 0.8349, Accuracy: 0.6688, Precision: 0.6677, Recall: 0.6688, F1 Score: 0.6411\n",
      "Epoch [185/200], Loss: 0.8315, Accuracy: 0.6670, Precision: 0.6611, Recall: 0.6670, F1 Score: 0.6393\n",
      "Epoch [186/200], Loss: 0.8466, Accuracy: 0.6641, Precision: 0.6500, Recall: 0.6641, F1 Score: 0.6346\n",
      "Epoch [187/200], Loss: 0.8329, Accuracy: 0.6698, Precision: 0.6643, Recall: 0.6698, F1 Score: 0.6428\n",
      "Epoch [188/200], Loss: 0.8425, Accuracy: 0.6648, Precision: 0.6569, Recall: 0.6648, F1 Score: 0.6365\n",
      "Epoch [189/200], Loss: 0.8307, Accuracy: 0.6751, Precision: 0.6694, Recall: 0.6751, F1 Score: 0.6468\n",
      "Epoch [190/200], Loss: 0.8436, Accuracy: 0.6622, Precision: 0.6542, Recall: 0.6622, F1 Score: 0.6328\n",
      "Epoch [191/200], Loss: 0.8234, Accuracy: 0.6705, Precision: 0.6602, Recall: 0.6705, F1 Score: 0.6419\n",
      "Epoch [192/200], Loss: 0.8110, Accuracy: 0.6687, Precision: 0.6632, Recall: 0.6687, F1 Score: 0.6393\n",
      "Epoch [193/200], Loss: 0.8178, Accuracy: 0.6743, Precision: 0.6639, Recall: 0.6743, F1 Score: 0.6459\n",
      "Epoch [194/200], Loss: 0.8249, Accuracy: 0.6756, Precision: 0.6668, Recall: 0.6756, F1 Score: 0.6477\n",
      "Epoch [195/200], Loss: 0.8239, Accuracy: 0.6765, Precision: 0.6669, Recall: 0.6765, F1 Score: 0.6487\n",
      "Epoch [196/200], Loss: 0.8185, Accuracy: 0.6715, Precision: 0.6636, Recall: 0.6715, F1 Score: 0.6439\n",
      "Epoch [197/200], Loss: 0.8094, Accuracy: 0.6781, Precision: 0.6705, Recall: 0.6781, F1 Score: 0.6513\n",
      "Epoch [198/200], Loss: 0.8143, Accuracy: 0.6789, Precision: 0.6709, Recall: 0.6789, F1 Score: 0.6508\n",
      "Epoch [199/200], Loss: 0.8152, Accuracy: 0.6800, Precision: 0.6724, Recall: 0.6800, F1 Score: 0.6522\n",
      "Epoch [200/200], Loss: 0.8136, Accuracy: 0.6800, Precision: 0.6752, Recall: 0.6800, F1 Score: 0.6538\n",
      "Accuracy of the model on the test data: 0.69%\n",
      "Precision: 0.6627, Recall: 0.6923, F1 Score: 0.6484\n"
     ]
    },
    {
     "name": "stderr",
     "output_type": "stream",
     "text": [
      "/usr/local/lib/python3.10/site-packages/_distutils_hack/__init__.py:18: UserWarning: Distutils was imported before Setuptools, but importing Setuptools also replaces the `distutils` module in `sys.modules`. This may lead to undesirable behaviors or errors. To avoid these issues, avoid using distutils directly, ensure that setuptools is installed in the traditional way (e.g. not an editable install), and/or make sure that setuptools is always imported before distutils.\n",
      "  warnings.warn(\n",
      "/usr/local/lib/python3.10/site-packages/_distutils_hack/__init__.py:33: UserWarning: Setuptools is replacing distutils.\n",
      "  warnings.warn(\"Setuptools is replacing distutils.\")\n"
     ]
    }
   ],
   "source": [
    "import mlflow\n",
    "import mlflow.pytorch\n",
    "import torch\n",
    "import torch.nn as nn\n",
    "import torch.optim as optim\n",
    "from sklearn.metrics import precision_recall_fscore_support, accuracy_score, confusion_matrix\n",
    "import matplotlib.pyplot as plt\n",
    "import seaborn as sns\n",
    "import pandas as pd\n",
    "\n",
    "# Define the experiment name\n",
    "experiment_name = \"IEEG_Classification_Baseline\"\n",
    "\n",
    "# Create a new experiment or set the existing one\n",
    "mlflow.set_experiment(experiment_name)\n",
    "\n",
    "# Define the device\n",
    "device = torch.device(\"cuda\" if torch.cuda.is_available() else \"cpu\")\n",
    "\n",
    "# Define the model, loss function, and optimizer\n",
    "input_size = 5000  # sequence length\n",
    "num_classes = len(dataset.label_encoder.classes_)\n",
    "model = SimpleNN(input_size, num_classes).to(device)\n",
    "criterion = nn.CrossEntropyLoss()\n",
    "optimizer = optim.Adam(model.parameters(), lr=0.001)\n",
    "\n",
    "# Training and evaluation function\n",
    "def train_and_evaluate(model, train_loader, test_loader, num_epochs=200):\n",
    "    \n",
    "    with mlflow.start_run(run_name=\"ANN-Baseline_NO_Response\") as run:\n",
    "        # Log parameters\n",
    "        mlflow.log_param(\"epochs\", num_epochs)\n",
    "        mlflow.log_param(\"batch_size\", batch_size)\n",
    "        mlflow.log_param(\"learning_rate\", 0.001)\n",
    "        mlflow.log_param(\"model\", \"SimpleNN\")\n",
    "        mlflow.log_param(\"input_size\", input_size)\n",
    "        mlflow.log_param(\"num_classes\", num_classes)\n",
    "        mlflow.log_dict(dataset.get_class_mapping(), \"class_mapping.json\")\n",
    "\n",
    "        for epoch in range(num_epochs):\n",
    "            model.train()\n",
    "            running_loss = 0.0\n",
    "            y_true_train = []\n",
    "            y_pred_train = []\n",
    "            \n",
    "            for inputs, labels in train_loader:\n",
    "                inputs, labels = inputs.to(device), labels.to(device)\n",
    "\n",
    "                optimizer.zero_grad()\n",
    "                outputs = model(inputs)\n",
    "                loss = criterion(outputs, labels.squeeze())\n",
    "                loss.backward()\n",
    "                optimizer.step()\n",
    "                running_loss += loss.item()\n",
    "                \n",
    "                _, predicted = torch.max(outputs, 1)\n",
    "                y_true_train.extend(labels.squeeze().cpu().numpy())\n",
    "                y_pred_train.extend(predicted.cpu().numpy())\n",
    "            \n",
    "            avg_loss = running_loss / len(train_loader)\n",
    "            train_accuracy = accuracy_score(y_true_train, y_pred_train)\n",
    "            precision, recall, f1, _ = precision_recall_fscore_support(y_true_train, y_pred_train, average='weighted')\n",
    "            \n",
    "            print(f'Epoch [{epoch+1}/{num_epochs}], Loss: {avg_loss:.4f}, Accuracy: {train_accuracy:.4f}, Precision: {precision:.4f}, Recall: {recall:.4f}, F1 Score: {f1:.4f}')\n",
    "            \n",
    "            mlflow.log_metric(\"train_loss\", avg_loss, step=epoch)\n",
    "            mlflow.log_metric(\"train_accuracy\", train_accuracy, step=epoch)\n",
    "            mlflow.log_metric(\"train_precision\", precision, step=epoch)\n",
    "            mlflow.log_metric(\"train_recall\", recall, step=epoch)\n",
    "            mlflow.log_metric(\"train_f1\", f1, step=epoch)\n",
    "\n",
    "        model.eval()\n",
    "        y_true_test = []\n",
    "        y_pred_test = []\n",
    "        \n",
    "        with torch.no_grad():\n",
    "            for inputs, labels in test_loader:\n",
    "                inputs, labels = inputs.to(device), labels.to(device)\n",
    "                outputs = model(inputs)\n",
    "                _, predicted = torch.max(outputs, 1)\n",
    "                y_true_test.extend(labels.squeeze().cpu().numpy())\n",
    "                y_pred_test.extend(predicted.cpu().numpy())\n",
    "                \n",
    "        test_accuracy = accuracy_score(y_true_test, y_pred_test)\n",
    "        precision, recall, f1, _ = precision_recall_fscore_support(y_true_test, y_pred_test, average='weighted')\n",
    "        \n",
    "        print(f'Accuracy of the model on the test data: {test_accuracy:.2f}%')\n",
    "        print(f'Precision: {precision:.4f}, Recall: {recall:.4f}, F1 Score: {f1:.4f}')\n",
    "        \n",
    "        mlflow.log_metric(\"test_accuracy\", test_accuracy)\n",
    "        mlflow.log_metric(\"test_precision\", precision)\n",
    "        mlflow.log_metric(\"test_recall\", recall)\n",
    "        mlflow.log_metric(\"test_f1\", f1)\n",
    "        \n",
    "        # Confusion matrix\n",
    "        cm = confusion_matrix(y_true_test, y_pred_test)\n",
    "        cm_df = pd.DataFrame(cm, index=dataset.label_encoder.classes_, columns=dataset.label_encoder.classes_)\n",
    "        \n",
    "        plt.figure(figsize=(10, 7))\n",
    "        sns.heatmap(cm_df, annot=True, fmt='d', cmap='Blues')\n",
    "        plt.ylabel('Actual')\n",
    "        plt.xlabel('Predicted')\n",
    "        plt.title('Confusion Matrix')\n",
    "        plt.savefig(\"confusion_matrix.png\")\n",
    "        mlflow.log_artifact(\"confusion_matrix.png\")\n",
    "        plt.close()\n",
    "        \n",
    "        # Log the model\n",
    "        mlflow.pytorch.log_model(model, \"model\")\n",
    "\n",
    "# Train and evaluate the model while tracking with MLflow\n",
    "train_and_evaluate(model, train_loader, test_loader, num_epochs=200)\n"
   ]
  },
  {
   "cell_type": "code",
   "execution_count": null,
   "metadata": {},
   "outputs": [],
   "source": []
  }
 ],
 "metadata": {
  "kernelspec": {
   "display_name": "Python 3 (ipykernel)",
   "language": "python",
   "name": "python3"
  },
  "language_info": {
   "codemirror_mode": {
    "name": "ipython",
    "version": 3
   },
   "file_extension": ".py",
   "mimetype": "text/x-python",
   "name": "python",
   "nbconvert_exporter": "python",
   "pygments_lexer": "ipython3",
   "version": "3.10.14"
  }
 },
 "nbformat": 4,
 "nbformat_minor": 4
}
