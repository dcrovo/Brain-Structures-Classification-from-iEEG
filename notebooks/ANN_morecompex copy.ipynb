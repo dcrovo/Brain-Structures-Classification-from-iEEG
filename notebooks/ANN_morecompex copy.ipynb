{
 "cells": [
  {
   "cell_type": "code",
   "execution_count": 5,
   "metadata": {},
   "outputs": [],
   "source": [
    "# import mlflow\n",
    "# import mlflow.pytorch\n",
    "import torch\n",
    "import torch.nn as nn\n",
    "import torch.optim as optim\n",
    "from sklearn.metrics import precision_recall_fscore_support, accuracy_score, confusion_matrix\n",
    "from sklearn.model_selection import StratifiedShuffleSplit\n",
    "import matplotlib.pyplot as plt\n",
    "import seaborn as sns\n",
    "import pandas as pd\n",
    "import numpy as np\n",
    "from torch.utils.data import Dataset, DataLoader, Subset\n",
    "from tqdm.notebook import tqdm\n",
    "import os\n",
    "from sklearn.preprocessing import LabelEncoder\n",
    "import torch\n",
    "import math "
   ]
  },
  {
   "cell_type": "markdown",
   "metadata": {},
   "source": [
    "# More Complex CNN"
   ]
  },
  {
   "cell_type": "code",
   "execution_count": 6,
   "metadata": {},
   "outputs": [],
   "source": [
    "# Configuration\n",
    "DATA_DIR = '../data/data_normalized_exp2'\n",
    "# DATA_DIR = 'C:/Users/franc/Downloads/data_normalized_exp2'\n",
    "SEQ_LENGTH = 5000\n",
    "BATCH_SIZE = 64\n",
    "NUM_EPOCHS = 100\n",
    "LEARNING_RATE = 0.0005\n",
    "EXPERIMENT_NAME = \"IEEG_Classification_CNN\"\n",
    "RUN_NAME = \"CNN\"\n",
    "DEVICE = torch.device(\"cuda\" if torch.cuda.is_available() else \"cpu\")\n",
    "INPUT_SIZE = SEQ_LENGTH"
   ]
  },
  {
   "cell_type": "code",
   "execution_count": 7,
   "metadata": {},
   "outputs": [],
   "source": [
    "class IeegDataset(Dataset):\n",
    "    def __init__(self, data_dir, seq_length=5000):\n",
    "        self.data_dir = data_dir\n",
    "        self.seq_length = seq_length\n",
    "        self.signals = []\n",
    "        self.data = []\n",
    "        self.labels = []\n",
    "        self.label_encoder = LabelEncoder()\n",
    "\n",
    "        # Recorre los archivos dentro del directorio principal\n",
    "        for root, dirs, files in os.walk(data_dir):\n",
    "            for file in files:\n",
    "                if file.endswith('.csv'):\n",
    "                    self.signals.append(os.path.join(root, file))\n",
    "                    # Extraer etiqueta del nombre del archivo (antes del primer guion bajo)\n",
    "                    label = file.split('_')[0]\n",
    "                    self.labels.append(label)\n",
    "\n",
    "        if not self.signals:\n",
    "            print(f\"No CSV files found in {data_dir}\")\n",
    "            return\n",
    "\n",
    "        # Imprimir las etiquetas antes de la codificación\n",
    "        print(\"Etiquetas antes de la codificación:\", self.labels)\n",
    "\n",
    "        # Convertir etiquetas a valores numéricos\n",
    "        if self.labels:\n",
    "            self.labels = self.label_encoder.fit_transform(self.labels)\n",
    "        \n",
    "        # Imprimir las etiquetas después de la codificación\n",
    "        print(\"Etiquetas después de la codificación:\", self.labels)\n",
    "\n",
    "        data_temp = []\n",
    "        labels_temp = []\n",
    "        for file_path, label in zip(self.signals, self.labels):\n",
    "            print(f\"Loading file: {file_path}\")\n",
    "            try:\n",
    "                df = pd.read_csv(file_path)\n",
    "            except PermissionError as e:\n",
    "                print(f\"Permission denied: {e}\")\n",
    "                continue\n",
    "            except Exception as e:\n",
    "                print(f\"Error loading {file_path}: {e}\")\n",
    "                continue\n",
    "            \n",
    "            for column in df.columns: \n",
    "                for idx in range(0, math.floor(df.shape[0] / self.seq_length)):\n",
    "                    segment = df[column].values[idx * self.seq_length : (idx + 1) * self.seq_length]\n",
    "                    if len(segment) == self.seq_length:\n",
    "                        data_temp.append(segment)\n",
    "                        labels_temp.append(label)\n",
    "        \n",
    "        # Convertir a tensores\n",
    "        if data_temp:\n",
    "            self.data = torch.tensor(data_temp, dtype=torch.float32)\n",
    "            self.labels = torch.tensor(labels_temp, dtype=torch.long)\n",
    "        else:\n",
    "            print(\"No data segments found.\")\n",
    "            self.data = torch.tensor([], dtype=torch.float32)\n",
    "            self.labels = torch.tensor([], dtype=torch.long)\n",
    "\n",
    "    def __len__(self):\n",
    "        return len(self.data)\n",
    "\n",
    "    def __getitem__(self, idx):\n",
    "        return self.data[idx].unsqueeze(0), self.labels[idx]\n",
    "\n",
    "    def get_class_mapping(self):\n",
    "        return {i: class_name for i, class_name in enumerate(self.label_encoder.classes_)}\n",
    "\n",
    "# Función para crear DataLoaders\n",
    "def create_data_loaders(dataset, batch_size):\n",
    "    labels = np.array([dataset[i][1].item() for i in range(len(dataset))])\n",
    "    if len(labels) == 0:\n",
    "        raise ValueError(\"No labels found in the dataset.\")\n",
    "    sss = StratifiedShuffleSplit(n_splits=1, test_size=0.2, random_state=42)\n",
    "    train_index, test_index = next(sss.split(np.zeros(len(labels)), labels))\n",
    "\n",
    "    train_dataset = Subset(dataset, train_index)\n",
    "    test_dataset = Subset(dataset, test_index)\n",
    "\n",
    "    train_loader = DataLoader(train_dataset, batch_size=batch_size, shuffle=True)\n",
    "    test_loader = DataLoader(test_dataset, batch_size=batch_size, shuffle=False)\n",
    "\n",
    "    return train_loader, test_loader"
   ]
  },
  {
   "cell_type": "code",
   "execution_count": 4,
   "metadata": {},
   "outputs": [],
   "source": [
    "# Define Model\n",
    "class Deep_CNN_Signals(nn.Module):\n",
    "    def __init__(self, input_size, num_classes):\n",
    "        super(Deep_CNN_Signals, self).__init__()\n",
    "        self.conv1 = nn.Conv1d(in_channels=1, out_channels=64, kernel_size=3, padding=1)\n",
    "        self.bn1 = nn.BatchNorm1d(64)\n",
    "        self.conv2 = nn.Conv1d(in_channels=64, out_channels=128, kernel_size=3, padding=1)\n",
    "        self.bn2 = nn.BatchNorm1d(128)\n",
    "        self.conv3 = nn.Conv1d(in_channels=128, out_channels=256, kernel_size=3, padding=1)\n",
    "        self.bn3 = nn.BatchNorm1d(256)\n",
    "        self.conv4 = nn.Conv1d(in_channels=256, out_channels=512, kernel_size=3, padding=1)\n",
    "        self.bn4 = nn.BatchNorm1d(512)\n",
    "        self.relu = nn.ReLU()\n",
    "        self.maxpool = nn.MaxPool1d(kernel_size=2, stride=2)\n",
    "        self.dropout = nn.Dropout(0.3)\n",
    "        \n",
    "        self.fc1 = nn.Linear(512 * (input_size // 16), 1024)\n",
    "        self.fc2 = nn.Linear(1024, 256)\n",
    "        self.fc3 = nn.Linear(256, num_classes)\n",
    "\n",
    "    def forward(self, x):\n",
    "        feature_maps = []\n",
    "        x = self.relu(self.bn1(self.conv1(x)))\n",
    "        feature_maps.append(x)\n",
    "        x = self.maxpool(x)\n",
    "        x = self.dropout(x)\n",
    "        \n",
    "        x = self.relu(self.bn2(self.conv2(x)))\n",
    "        feature_maps.append(x)\n",
    "        x = self.maxpool(x)\n",
    "        x = self.dropout(x)\n",
    "        \n",
    "        x = self.relu(self.bn3(self.conv3(x)))\n",
    "        feature_maps.append(x)\n",
    "        x = self.maxpool(x)\n",
    "        x = self.dropout(x)\n",
    "        \n",
    "        x = self.relu(self.bn4(self.conv4(x)))\n",
    "        feature_maps.append(x)\n",
    "        x = self.maxpool(x)\n",
    "        x = self.dropout(x)\n",
    "        \n",
    "        x = x.view(x.size(0), -1)\n",
    "        \n",
    "        x = self.relu(self.fc1(x))\n",
    "        x = self.dropout(x)\n",
    "        \n",
    "        x = self.relu(self.fc2(x))\n",
    "        x = self.dropout(x)\n",
    "        \n",
    "        x = self.fc3(x)\n",
    "        \n",
    "        return x, feature_maps\n"
   ]
  },
  {
   "cell_type": "code",
   "execution_count": 5,
   "metadata": {},
   "outputs": [],
   "source": [
    "def plot_feature_maps(feature_maps):\n",
    "    for layer_idx, feature_map in enumerate(feature_maps):\n",
    "        num_features = feature_map.shape[1]\n",
    "        size = feature_map.shape[2]\n",
    "        \n",
    "        fig, axes = plt.subplots(1, num_features, figsize=(num_features * 2, 2))\n",
    "        fig.suptitle(f'Layer {layer_idx + 1} Feature Maps')\n",
    "        \n",
    "        for i in range(num_features):\n",
    "            if num_features > 1:\n",
    "                axes[i].plot(feature_map[0, i].detach().cpu().numpy())\n",
    "            else:\n",
    "                axes.plot(feature_map[0, i].detach().cpu().numpy())\n",
    "        \n",
    "        plt.show()"
   ]
  },
  {
   "cell_type": "code",
   "execution_count": 6,
   "metadata": {},
   "outputs": [],
   "source": [
    "# # Data Loaders and Partitioning\n",
    "# def create_data_loaders(dataset, batch_size):\n",
    "#     labels = np.array([dataset[i][1].item() for i in range(len(dataset))])\n",
    "#     sss = StratifiedShuffleSplit(n_splits=1, test_size=0.2, random_state=42)\n",
    "#     train_index, test_index = next(sss.split(np.zeros(len(labels)), labels))\n",
    "\n",
    "#     train_dataset = Subset(dataset, train_index)\n",
    "#     test_dataset = Subset(dataset, test_index)\n",
    "\n",
    "#     train_loader = DataLoader(train_dataset, batch_size=batch_size, shuffle=True)\n",
    "#     test_loader = DataLoader(test_dataset, batch_size=batch_size, shuffle=False)\n",
    "\n",
    "#     return train_loader, test_loader"
   ]
  },
  {
   "cell_type": "code",
   "execution_count": 7,
   "metadata": {},
   "outputs": [],
   "source": [
    "# Plotting Functions\n",
    "def plot_pie_chart(counts, class_names, title):\n",
    "    fig, ax = plt.subplots()\n",
    "    ax.pie(counts, labels=class_names, autopct='%1.1f%%', startangle=90, counterclock=False)\n",
    "    ax.axis('equal')\n",
    "    plt.title(title)\n",
    "    return fig"
   ]
  },
  {
   "cell_type": "code",
   "execution_count": 12,
   "metadata": {},
   "outputs": [],
   "source": [
    "class EarlyStopping:\n",
    "    def __init__(self, patience=5, delta=0):\n",
    "        self.patience = patience\n",
    "        self.delta\n",
    "\n",
    "class EarlyStopping:\n",
    "    def __init__(self, patience=5, delta=0):\n",
    "        self.patience = patience\n",
    "        self.delta = delta\n",
    "        self.counter = 0\n",
    "        self.best_loss = None\n",
    "        self.early_stop = False\n",
    "\n",
    "    def __call__(self, val_loss):\n",
    "        if self.best_loss is None:\n",
    "            self.best_loss = val_loss\n",
    "        elif val_loss > self.best_loss - self.delta:\n",
    "            self.counter += 1\n",
    "            if self.counter >= self.patience:\n",
    "                self.early_stop = True\n",
    "        else:\n",
    "            self.best_loss = val_loss\n",
    "            self.counter = 0\n"
   ]
  },
  {
   "cell_type": "code",
   "execution_count": 13,
   "metadata": {},
   "outputs": [],
   "source": [
    "# Training Function\n",
    "def train_model(model, train_loader, optimizer, criterion, num_epochs, device):\n",
    "    model.train()\n",
    "    for epoch in range(num_epochs):\n",
    "        running_loss = 0.0\n",
    "        y_true_train = []\n",
    "        y_pred_train = []\n",
    "\n",
    "        progress_bar = tqdm(train_loader, desc=f\"Epoch {epoch+1}/{num_epochs}\", unit=\"batch\")\n",
    "        for inputs, labels in progress_bar:\n",
    "            inputs, labels = inputs.to(device), labels.to(device)\n",
    "\n",
    "            optimizer.zero_grad()\n",
    "            outputs, _ = model(inputs)\n",
    "            loss = criterion(outputs, labels.squeeze())\n",
    "            loss.backward()\n",
    "            optimizer.step()\n",
    "            running_loss += loss.item()\n",
    "\n",
    "            _, predicted = torch.max(outputs, 1)\n",
    "            y_true_train.extend(labels.squeeze().cpu().numpy())\n",
    "            y_pred_train.extend(predicted.cpu().numpy())\n",
    "\n",
    "            avg_loss = running_loss / len(train_loader)\n",
    "            train_accuracy = accuracy_score(y_true_train, y_pred_train)\n",
    "            precision, recall, f1, _ = precision_recall_fscore_support(y_true_train, y_pred_train, average='weighted', zero_division=0)\n",
    "\n",
    "            progress_bar.set_postfix(loss=avg_loss, accuracy=train_accuracy, precision=precision, recall=recall, f1=f1)\n",
    "\n",
    "        mlflow.log_metric(\"train_loss\", avg_loss, step=epoch)\n",
    "        mlflow.log_metric(\"train_accuracy\", train_accuracy, step=epoch)\n",
    "        mlflow.log_metric(\"train_precision\", precision, step=epoch)\n",
    "        mlflow.log_metric(\"train_recall\", recall, step=epoch)\n",
    "        mlflow.log_metric(\"train_f1\", f1, step=epoch)\n",
    "\n",
    "# Evaluation Function\n",
    "def evaluate_model(model, test_loader, dataset, device, img_path, run_name):\n",
    "    model.eval()\n",
    "    y_true_test = []\n",
    "    y_pred_test = []\n",
    "\n",
    "    with torch.no_grad():\n",
    "        for inputs, labels in tqdm(test_loader, desc=\"Evaluating\", unit=\"batch\"):\n",
    "            inputs, labels = inputs.to(device), labels.to(device)\n",
    "            outputs, feature_maps = model(inputs)\n",
    "            plot_feature_maps(feature_maps)\n",
    "            _, predicted = torch.max(outputs, 1)\n",
    "            y_true_test.extend(labels.squeeze().cpu().numpy())\n",
    "            y_pred_test.extend(predicted.cpu().numpy())\n",
    "\n",
    "    test_accuracy = accuracy_score(y_true_test, y_pred_test)\n",
    "    precision, recall, f1, _ = precision_recall_fscore_support(y_true_test, y_pred_test, average='weighted', zero_division=0)\n",
    "\n",
    "    print(f'Accuracy of the model on the test data: {test_accuracy:.2f}%')\n",
    "    print(f'Precision: {precision:.4f}, Recall: {recall:.4f}, F1 Score: {f1:.4f}')\n",
    "\n",
    "    # mlflow.log_metric(\"test_accuracy\", test_accuracy)\n",
    "    # mlflow.log_metric(\"test_precision\", precision)\n",
    "    # mlflow.log_metric(\"test_recall\", recall)\n",
    "    # mlflow.log_metric(\"test_f1\", f1)\n",
    "\n",
    "    # Confusion matrix\n",
    "    cm = confusion_matrix(y_true_test, y_pred_test)\n",
    "    cm_df = pd.DataFrame(cm, index=dataset.label_encoder.classes_, columns=dataset.label_encoder.classes_)\n",
    "\n",
    "    plt.figure(figsize=(10, 7))\n",
    "    sns.heatmap(cm_df, annot=True, fmt='d', cmap='Blues')\n",
    "    plt.ylabel('Actual')\n",
    "    plt.xlabel('Predicted')\n",
    "    plt.title('Confusion Matrix')\n",
    "    img_file = os.path.join(img_path, f\"confusion_matrix_{run_name}.png\")\n",
    "    plt.savefig(img_file)\n",
    "    # mlflow.log_artifact(img_file)\n",
    "    plt.close()"
   ]
  },
  {
   "cell_type": "code",
   "execution_count": 14,
   "metadata": {},
   "outputs": [],
   "source": [
    "# # Verifica que tienes los datos de DVC\n",
    "# os.system('dvc pull')"
   ]
  },
  {
   "cell_type": "code",
   "execution_count": 8,
   "metadata": {},
   "outputs": [
    {
     "name": "stdout",
     "output_type": "stream",
     "text": [
      "Etiquetas antes de la codificación: ['CA', 'CA1', 'CA', 'vM1', 'CA', 'vM1', 'CA', 'CA', 'CA', 'vM1', 'CA', 'CA1', 'vM1', 'vM1', 'CxM1 LPF', 'vM1', 'CxM1 LPF', 'Thalamus', 'CA', 'CA', 'vM1', 'CA', 'CA', 'vM1', 'CA', 'vM1', 'CA', 'vM1', 'Thalamus', 'CA', 'vM1', 'vM1', 'Thalamus', 'vM1', 'vM1', 'vM1', 'CxM1 LPF', 'vM1', 'vM1', 'vM1', 'vM1']\n",
      "Etiquetas después de la codificación: [0 1 0 4 0 4 0 0 0 4 0 1 4 4 2 4 2 3 0 0 4 0 0 4 0 4 0 4 3 0 4 4 3 4 4 4 2\n",
      " 4 4 4 4]\n",
      "Loading file: ../data/data_normalized_exp2/CA_17315012_resampled_clase_2.csv\n",
      "Loading file: ../data/data_normalized_exp2/CA1_18306013_resampled_clase_2.csv\n",
      "Loading file: ../data/data_normalized_exp2/CA_15901007_resampled_clase_2.csv\n",
      "Loading file: ../data/data_normalized_exp2/vM1_15901012_resampled_clase_2.csv\n",
      "Loading file: ../data/data_normalized_exp2/CA_15901009_resampled_clase_2.csv\n",
      "Loading file: ../data/data_normalized_exp2/vM1_15901007_resampled_clase_2.csv\n",
      "Loading file: ../data/data_normalized_exp2/CA_15901010_resampled_clase_2.csv\n",
      "Loading file: ../data/data_normalized_exp2/CA_15901006_resampled_clase_2.csv\n",
      "Loading file: ../data/data_normalized_exp2/CA_15901005_resampled_clase_2.csv\n",
      "Loading file: ../data/data_normalized_exp2/vM1_15901011_resampled_clase_2.csv\n",
      "Loading file: ../data/data_normalized_exp2/CA_15o14007_resampled_clase_2.csv\n",
      "Loading file: ../data/data_normalized_exp2/CA1_17419014_resampled_clase_2.csv\n",
      "Loading file: ../data/data_normalized_exp2/vM1_18920011_resampled_clase_2.csv\n",
      "Loading file: ../data/data_normalized_exp2/vM1_15o14031_resampled_clase_2.csv\n",
      "Loading file: ../data/data_normalized_exp2/CxM1 LPF_11361009_resampled_clase_2.csv\n",
      "Loading file: ../data/data_normalized_exp2/vM1_15901010_resampled_clase_2.csv\n",
      "Loading file: ../data/data_normalized_exp2/CxM1 LPF_11361089_resampled_clase_2.csv\n",
      "Loading file: ../data/data_normalized_exp2/Thalamus_11361089_resampled_clase_2.csv\n",
      "Loading file: ../data/data_normalized_exp2/CA_15901011_resampled_clase_2.csv\n",
      "Loading file: ../data/data_normalized_exp2/CA_15901013_resampled_clase_2.csv\n",
      "Loading file: ../data/data_normalized_exp2/vM1_15901006_resampled_clase_2.csv\n",
      "Loading file: ../data/data_normalized_exp2/CA_15o14006_resampled_clase_2.csv\n",
      "Loading file: ../data/data_normalized_exp2/CA_15901012_resampled_clase_2.csv\n",
      "Loading file: ../data/data_normalized_exp2/vM1_18913008_resampled_clase_2.csv\n",
      "Loading file: ../data/data_normalized_exp2/CA_15901008_resampled_clase_2.csv\n",
      "Loading file: ../data/data_normalized_exp2/vM1_15o14007_resampled_clase_2.csv\n",
      "Loading file: ../data/data_normalized_exp2/CA_15o14008_resampled_clase_2.csv\n",
      "Loading file: ../data/data_normalized_exp2/vM1_15901005_resampled_clase_2.csv\n",
      "Loading file: ../data/data_normalized_exp2/Thalamus_11361009_resampled_clase_2.csv\n",
      "Loading file: ../data/data_normalized_exp2/CA_15901014_resampled_clase_2.csv\n",
      "Loading file: ../data/data_normalized_exp2/vM1_15901013_resampled_clase_2.csv\n",
      "Loading file: ../data/data_normalized_exp2/vM1_17315012_resampled_clase_2.csv\n",
      "Loading file: ../data/data_normalized_exp2/Thalamus_11361010_resampled_clase_2.csv\n",
      "Loading file: ../data/data_normalized_exp2/vM1_15901014_resampled_clase_2.csv\n",
      "Loading file: ../data/data_normalized_exp2/vM1_18920012_resampled_clase_2.csv\n",
      "Loading file: ../data/data_normalized_exp2/vM1_18913006_resampled_clase_2.csv\n",
      "Loading file: ../data/data_normalized_exp2/CxM1 LPF_11361010_resampled_clase_2.csv\n",
      "Loading file: ../data/data_normalized_exp2/vM1_15o14006_resampled_clase_2.csv\n",
      "Loading file: ../data/data_normalized_exp2/vM1_18913007_resampled_clase_2.csv\n",
      "Loading file: ../data/data_normalized_exp2/vM1_15901009_resampled_clase_2.csv\n",
      "Loading file: ../data/data_normalized_exp2/vM1_15o14008_resampled_clase_2.csv\n"
     ]
    },
    {
     "name": "stderr",
     "output_type": "stream",
     "text": [
      "/tmp/ipykernel_47742/1435999915.py:55: UserWarning: Creating a tensor from a list of numpy.ndarrays is extremely slow. Please consider converting the list to a single numpy.ndarray with numpy.array() before converting to a tensor. (Triggered internally at ../torch/csrc/utils/tensor_new.cpp:274.)\n",
      "  self.data = torch.tensor(data_temp, dtype=torch.float32)\n"
     ]
    }
   ],
   "source": [
    "dataset = IeegDataset(DATA_DIR, SEQ_LENGTH)\n",
    "\n",
    "NUM_CLASSES = len(dataset.label_encoder.classes_)"
   ]
  },
  {
   "cell_type": "code",
   "execution_count": 15,
   "metadata": {},
   "outputs": [
    {
     "name": "stdout",
     "output_type": "stream",
     "text": [
      "Etiquetas antes de la codificación: ['CA', 'CA1', 'CA', 'vM1', 'CA', 'vM1', 'CA', 'CA', 'CA', 'vM1', 'CA', 'CA1', 'vM1', 'vM1', 'CxM1 LPF', 'vM1', 'CxM1 LPF', 'Thalamus', 'CA', 'CA', 'vM1', 'CA', 'CA', 'vM1', 'CA', 'vM1', 'CA', 'vM1', 'Thalamus', 'CA', 'vM1', 'vM1', 'Thalamus', 'vM1', 'vM1', 'vM1', 'CxM1 LPF', 'vM1', 'vM1', 'vM1', 'vM1']\n",
      "Etiquetas después de la codificación: [0 1 0 4 0 4 0 0 0 4 0 1 4 4 2 4 2 3 0 0 4 0 0 4 0 4 0 4 3 0 4 4 3 4 4 4 2\n",
      " 4 4 4 4]\n",
      "Loading file: ../data/data_normalized_exp2/CA_17315012_resampled_clase_2.csv\n",
      "Loading file: ../data/data_normalized_exp2/CA1_18306013_resampled_clase_2.csv\n",
      "Loading file: ../data/data_normalized_exp2/CA_15901007_resampled_clase_2.csv\n",
      "Loading file: ../data/data_normalized_exp2/vM1_15901012_resampled_clase_2.csv\n",
      "Loading file: ../data/data_normalized_exp2/CA_15901009_resampled_clase_2.csv\n",
      "Loading file: ../data/data_normalized_exp2/vM1_15901007_resampled_clase_2.csv\n",
      "Loading file: ../data/data_normalized_exp2/CA_15901010_resampled_clase_2.csv\n",
      "Loading file: ../data/data_normalized_exp2/CA_15901006_resampled_clase_2.csv\n",
      "Loading file: ../data/data_normalized_exp2/CA_15901005_resampled_clase_2.csv\n",
      "Loading file: ../data/data_normalized_exp2/vM1_15901011_resampled_clase_2.csv\n",
      "Loading file: ../data/data_normalized_exp2/CA_15o14007_resampled_clase_2.csv\n",
      "Loading file: ../data/data_normalized_exp2/CA1_17419014_resampled_clase_2.csv\n",
      "Loading file: ../data/data_normalized_exp2/vM1_18920011_resampled_clase_2.csv\n",
      "Loading file: ../data/data_normalized_exp2/vM1_15o14031_resampled_clase_2.csv\n",
      "Loading file: ../data/data_normalized_exp2/CxM1 LPF_11361009_resampled_clase_2.csv\n",
      "Loading file: ../data/data_normalized_exp2/vM1_15901010_resampled_clase_2.csv\n",
      "Loading file: ../data/data_normalized_exp2/CxM1 LPF_11361089_resampled_clase_2.csv\n",
      "Loading file: ../data/data_normalized_exp2/Thalamus_11361089_resampled_clase_2.csv\n",
      "Loading file: ../data/data_normalized_exp2/CA_15901011_resampled_clase_2.csv\n",
      "Loading file: ../data/data_normalized_exp2/CA_15901013_resampled_clase_2.csv\n",
      "Loading file: ../data/data_normalized_exp2/vM1_15901006_resampled_clase_2.csv\n",
      "Loading file: ../data/data_normalized_exp2/CA_15o14006_resampled_clase_2.csv\n",
      "Loading file: ../data/data_normalized_exp2/CA_15901012_resampled_clase_2.csv\n",
      "Loading file: ../data/data_normalized_exp2/vM1_18913008_resampled_clase_2.csv\n",
      "Loading file: ../data/data_normalized_exp2/CA_15901008_resampled_clase_2.csv\n",
      "Loading file: ../data/data_normalized_exp2/vM1_15o14007_resampled_clase_2.csv\n",
      "Loading file: ../data/data_normalized_exp2/CA_15o14008_resampled_clase_2.csv\n",
      "Loading file: ../data/data_normalized_exp2/vM1_15901005_resampled_clase_2.csv\n",
      "Loading file: ../data/data_normalized_exp2/Thalamus_11361009_resampled_clase_2.csv\n",
      "Loading file: ../data/data_normalized_exp2/CA_15901014_resampled_clase_2.csv\n",
      "Loading file: ../data/data_normalized_exp2/vM1_15901013_resampled_clase_2.csv\n",
      "Loading file: ../data/data_normalized_exp2/vM1_17315012_resampled_clase_2.csv\n",
      "Loading file: ../data/data_normalized_exp2/Thalamus_11361010_resampled_clase_2.csv\n",
      "Loading file: ../data/data_normalized_exp2/vM1_15901014_resampled_clase_2.csv\n",
      "Loading file: ../data/data_normalized_exp2/vM1_18920012_resampled_clase_2.csv\n",
      "Loading file: ../data/data_normalized_exp2/vM1_18913006_resampled_clase_2.csv\n",
      "Loading file: ../data/data_normalized_exp2/CxM1 LPF_11361010_resampled_clase_2.csv\n",
      "Loading file: ../data/data_normalized_exp2/vM1_15o14006_resampled_clase_2.csv\n",
      "Loading file: ../data/data_normalized_exp2/vM1_18913007_resampled_clase_2.csv\n",
      "Loading file: ../data/data_normalized_exp2/vM1_15901009_resampled_clase_2.csv\n",
      "Loading file: ../data/data_normalized_exp2/vM1_15o14008_resampled_clase_2.csv\n"
     ]
    },
    {
     "name": "stderr",
     "output_type": "stream",
     "text": [
      "/tmp/ipykernel_20336/1435999915.py:55: UserWarning: Creating a tensor from a list of numpy.ndarrays is extremely slow. Please consider converting the list to a single numpy.ndarray with numpy.array() before converting to a tensor. (Triggered internally at ../torch/csrc/utils/tensor_new.cpp:274.)\n",
      "  self.data = torch.tensor(data_temp, dtype=torch.float32)\n"
     ]
    }
   ],
   "source": [
    "dataset = IeegDataset(DATA_DIR, SEQ_LENGTH)\n",
    "\n",
    "if len(dataset) == 0:\n",
    "    raise ValueError(\"No data found in the dataset.\")\n",
    "\n",
    "train_loader, test_loader = create_data_loaders(dataset, BATCH_SIZE)\n",
    "NUM_CLASSES = len(dataset.label_encoder.classes_)"
   ]
  },
  {
   "cell_type": "code",
   "execution_count": 16,
   "metadata": {},
   "outputs": [
    {
     "name": "stdout",
     "output_type": "stream",
     "text": [
      "Batch 1/2\n",
      "Inputs shape: torch.Size([64, 1, 5000])\n",
      "Labels shape: torch.Size([64])\n",
      "Labels: tensor([1, 4, 4, 4, 4, 4, 4, 1, 4, 4, 0, 1, 4, 0, 0, 2, 4, 0, 3, 0, 0, 0, 3, 0,\n",
      "        2, 0, 0, 3, 0, 1, 3, 4, 0, 4, 0, 1, 4, 0, 4, 4, 4, 0, 4, 4, 3, 0, 4, 0,\n",
      "        0, 4, 3, 4, 4, 1, 3, 1, 3, 4, 4, 0, 0, 4, 4, 0])\n"
     ]
    },
    {
     "data": {
      "image/png": "[encoded data removed]",
      "text/plain": [
       "<Figure size 1500x300 with 4 Axes>"
      ]
     },
     "metadata": {},
     "output_type": "display_data"
    },
    {
     "name": "stdout",
     "output_type": "stream",
     "text": [
      "Batch 2/2\n",
      "Inputs shape: torch.Size([64, 1, 5000])\n",
      "Labels shape: torch.Size([64])\n",
      "Labels: tensor([3, 3, 3, 0, 0, 0, 0, 1, 0, 4, 0, 4, 0, 0, 4, 1, 4, 4, 0, 4, 1, 4, 4, 3,\n",
      "        0, 4, 1, 4, 4, 4, 0, 4, 1, 1, 0, 2, 0, 4, 4, 0, 1, 4, 2, 4, 0, 4, 0, 1,\n",
      "        4, 1, 0, 2, 0, 0, 4, 1, 1, 4, 4, 1, 0, 3, 0, 4])\n"
     ]
    },
    {
     "data": {
      "image/png": "[encoded data removed]",
      "text/plain": [
       "<Figure size 1500x300 with 4 Axes>"
      ]
     },
     "metadata": {},
     "output_type": "display_data"
    }
   ],
   "source": [
    "def inspect_train_loader(train_loader, num_batches=1):\n",
    "    for batch_idx, (inputs, labels) in enumerate(train_loader):\n",
    "        print(f\"Batch {batch_idx + 1}/{num_batches}\")\n",
    "        print(f\"Inputs shape: {inputs.shape}\")\n",
    "        print(f\"Labels shape: {labels.shape}\")\n",
    "        print(f\"Labels: {labels}\")\n",
    "        \n",
    "        # Visualizar algunas señales\n",
    "        fig, axes = plt.subplots(1, min(4, inputs.shape[0]), figsize=(15, 3))\n",
    "        for i in range(min(4, inputs.shape[0])):\n",
    "            axes[i].plot(inputs[i].squeeze().numpy())\n",
    "            axes[i].set_title(f\"Label: {labels[i].item()}\")\n",
    "        plt.show()\n",
    "        \n",
    "        if batch_idx + 1 >= num_batches:\n",
    "            break\n",
    "\n",
    "# Usar la función para inspeccionar el train_loader\n",
    "inspect_train_loader(train_loader, num_batches=2)"
   ]
  },
  {
   "cell_type": "code",
   "execution_count": 17,
   "metadata": {},
   "outputs": [
    {
     "name": "stderr",
     "output_type": "stream",
     "text": [
      "/home/danielcrovo/anaconda3/envs/ieeg/lib/python3.12/site-packages/torch/optim/lr_scheduler.py:28: UserWarning: The verbose parameter is deprecated. Please use get_last_lr() to access the learning rate.\n",
      "  warnings.warn(\"The verbose parameter is deprecated. Please use get_last_lr() \"\n"
     ]
    },
    {
     "data": {
      "text/plain": [
       "Deep_CNN_Signals(\n",
       "  (conv1): Conv1d(1, 64, kernel_size=(3,), stride=(1,), padding=(1,))\n",
       "  (bn1): BatchNorm1d(64, eps=1e-05, momentum=0.1, affine=True, track_running_stats=True)\n",
       "  (conv2): Conv1d(64, 128, kernel_size=(3,), stride=(1,), padding=(1,))\n",
       "  (bn2): BatchNorm1d(128, eps=1e-05, momentum=0.1, affine=True, track_running_stats=True)\n",
       "  (conv3): Conv1d(128, 256, kernel_size=(3,), stride=(1,), padding=(1,))\n",
       "  (bn3): BatchNorm1d(256, eps=1e-05, momentum=0.1, affine=True, track_running_stats=True)\n",
       "  (conv4): Conv1d(256, 512, kernel_size=(3,), stride=(1,), padding=(1,))\n",
       "  (bn4): BatchNorm1d(512, eps=1e-05, momentum=0.1, affine=True, track_running_stats=True)\n",
       "  (relu): ReLU()\n",
       "  (maxpool): MaxPool1d(kernel_size=2, stride=2, padding=0, dilation=1, ceil_mode=False)\n",
       "  (dropout): Dropout(p=0.3, inplace=False)\n",
       "  (fc1): Linear(in_features=159744, out_features=1024, bias=True)\n",
       "  (fc2): Linear(in_features=1024, out_features=256, bias=True)\n",
       "  (fc3): Linear(in_features=256, out_features=5, bias=True)\n",
       ")"
      ]
     },
     "execution_count": 17,
     "metadata": {},
     "output_type": "execute_result"
    }
   ],
   "source": [
    "model = Deep_CNN_Signals(INPUT_SIZE, NUM_CLASSES).to(DEVICE)\n",
    "\n",
    "criterion = nn.CrossEntropyLoss()\n",
    "optimizer = optim.Adam(model.parameters(), lr=LEARNING_RATE)\n",
    "scheduler = optim.lr_scheduler.ReduceLROnPlateau(optimizer, mode='min', factor=0.1, patience=5, verbose=True)\n",
    "\n",
    "# Inicializar la parada temprana\n",
    "early_stopping = EarlyStopping(patience=10, delta=0.001)\n",
    "\n",
    "model"
   ]
  },
  {
   "cell_type": "code",
   "execution_count": 18,
   "metadata": {},
   "outputs": [
    {
     "name": "stdout",
     "output_type": "stream",
     "text": [
      "Training in: cuda\n"
     ]
    },
    {
     "data": {
      "application/vnd.jupyter.widget-view+json": {
       "model_id": "a69b50ccd73f46c08ee6e23b2cfb2145",
       "version_major": 2,
       "version_minor": 0
      },
      "text/plain": [
       "Epoch 1/100:   0%|          | 0/164 [00:00<?, ?batch/s]"
      ]
     },
     "metadata": {},
     "output_type": "display_data"
    },
    {
     "name": "stderr",
     "output_type": "stream",
     "text": [
      "/home/danielcrovo/anaconda3/envs/ieeg/lib/python3.12/site-packages/torch/autograd/graph.py:744: UserWarning: Plan failed with a cudnnException: CUDNN_BACKEND_EXECUTION_PLAN_DESCRIPTOR: cudnnFinalize Descriptor Failed cudnn_status: CUDNN_STATUS_NOT_SUPPORTED (Triggered internally at ../aten/src/ATen/native/cudnn/Conv_v8.cpp:919.)\n",
      "  return Variable._execution_engine.run_backward(  # Calls into the C++ engine to run the backward pass\n",
      "/home/danielcrovo/anaconda3/envs/ieeg/lib/python3.12/site-packages/torch/nn/modules/conv.py:306: UserWarning: Plan failed with a cudnnException: CUDNN_BACKEND_EXECUTION_PLAN_DESCRIPTOR: cudnnFinalize Descriptor Failed cudnn_status: CUDNN_STATUS_NOT_SUPPORTED (Triggered internally at ../aten/src/ATen/native/cudnn/Conv_v8.cpp:919.)\n",
      "  return F.conv1d(input, weight, bias, self.stride,\n"
     ]
    },
    {
     "data": {
      "application/vnd.jupyter.widget-view+json": {
       "model_id": "73a015d0da314e7282127aef862c101d",
       "version_major": 2,
       "version_minor": 0
      },
      "text/plain": [
       "Epoch 2/100:   0%|          | 0/164 [00:00<?, ?batch/s]"
      ]
     },
     "metadata": {},
     "output_type": "display_data"
    },
    {
     "data": {
      "application/vnd.jupyter.widget-view+json": {
       "model_id": "37b860d64a424243942feefd91803468",
       "version_major": 2,
       "version_minor": 0
      },
      "text/plain": [
       "Epoch 3/100:   0%|          | 0/164 [00:00<?, ?batch/s]"
      ]
     },
     "metadata": {},
     "output_type": "display_data"
    },
    {
     "data": {
      "application/vnd.jupyter.widget-view+json": {
       "model_id": "700a4af011294ca19615356c4bc07c80",
       "version_major": 2,
       "version_minor": 0
      },
      "text/plain": [
       "Epoch 4/100:   0%|          | 0/164 [00:00<?, ?batch/s]"
      ]
     },
     "metadata": {},
     "output_type": "display_data"
    },
    {
     "data": {
      "application/vnd.jupyter.widget-view+json": {
       "model_id": "5d6846531ee4435682a0ee56bd605d18",
       "version_major": 2,
       "version_minor": 0
      },
      "text/plain": [
       "Epoch 5/100:   0%|          | 0/164 [00:00<?, ?batch/s]"
      ]
     },
     "metadata": {},
     "output_type": "display_data"
    },
    {
     "data": {
      "application/vnd.jupyter.widget-view+json": {
       "model_id": "7b0c4dca4f554adebbded791545d852a",
       "version_major": 2,
       "version_minor": 0
      },
      "text/plain": [
       "Epoch 6/100:   0%|          | 0/164 [00:00<?, ?batch/s]"
      ]
     },
     "metadata": {},
     "output_type": "display_data"
    },
    {
     "data": {
      "application/vnd.jupyter.widget-view+json": {
       "model_id": "262c212293294831a86869b297aa00ab",
       "version_major": 2,
       "version_minor": 0
      },
      "text/plain": [
       "Epoch 7/100:   0%|          | 0/164 [00:00<?, ?batch/s]"
      ]
     },
     "metadata": {},
     "output_type": "display_data"
    },
    {
     "data": {
      "application/vnd.jupyter.widget-view+json": {
       "model_id": "b595ae1a578b4241b29c02b21e80078d",
       "version_major": 2,
       "version_minor": 0
      },
      "text/plain": [
       "Epoch 8/100:   0%|          | 0/164 [00:00<?, ?batch/s]"
      ]
     },
     "metadata": {},
     "output_type": "display_data"
    },
    {
     "data": {
      "application/vnd.jupyter.widget-view+json": {
       "model_id": "ce1ffa00c46b404f90b3ee4a3581e1f1",
       "version_major": 2,
       "version_minor": 0
      },
      "text/plain": [
       "Epoch 9/100:   0%|          | 0/164 [00:00<?, ?batch/s]"
      ]
     },
     "metadata": {},
     "output_type": "display_data"
    },
    {
     "data": {
      "application/vnd.jupyter.widget-view+json": {
       "model_id": "5d3d06175b71484991108f789bfb4997",
       "version_major": 2,
       "version_minor": 0
      },
      "text/plain": [
       "Epoch 10/100:   0%|          | 0/164 [00:00<?, ?batch/s]"
      ]
     },
     "metadata": {},
     "output_type": "display_data"
    },
    {
     "data": {
      "application/vnd.jupyter.widget-view+json": {
       "model_id": "3d73ffc8f5124ae6afe3722f1f20695c",
       "version_major": 2,
       "version_minor": 0
      },
      "text/plain": [
       "Epoch 11/100:   0%|          | 0/164 [00:00<?, ?batch/s]"
      ]
     },
     "metadata": {},
     "output_type": "display_data"
    },
    {
     "data": {
      "application/vnd.jupyter.widget-view+json": {
       "model_id": "c2b5386477e94194810856e1e099e3e7",
       "version_major": 2,
       "version_minor": 0
      },
      "text/plain": [
       "Epoch 12/100:   0%|          | 0/164 [00:00<?, ?batch/s]"
      ]
     },
     "metadata": {},
     "output_type": "display_data"
    },
    {
     "data": {
      "application/vnd.jupyter.widget-view+json": {
       "model_id": "42ba912aeead4f6c98caf2878132d257",
       "version_major": 2,
       "version_minor": 0
      },
      "text/plain": [
       "Epoch 13/100:   0%|          | 0/164 [00:00<?, ?batch/s]"
      ]
     },
     "metadata": {},
     "output_type": "display_data"
    },
    {
     "data": {
      "application/vnd.jupyter.widget-view+json": {
       "model_id": "814f6e63410d4191ab4038717feccf12",
       "version_major": 2,
       "version_minor": 0
      },
      "text/plain": [
       "Epoch 14/100:   0%|          | 0/164 [00:00<?, ?batch/s]"
      ]
     },
     "metadata": {},
     "output_type": "display_data"
    },
    {
     "data": {
      "application/vnd.jupyter.widget-view+json": {
       "model_id": "98988595f8ff4d97adbef780f7782af0",
       "version_major": 2,
       "version_minor": 0
      },
      "text/plain": [
       "Epoch 15/100:   0%|          | 0/164 [00:00<?, ?batch/s]"
      ]
     },
     "metadata": {},
     "output_type": "display_data"
    },
    {
     "data": {
      "application/vnd.jupyter.widget-view+json": {
       "model_id": "4be88c0e721f44ebba259438d600b4d0",
       "version_major": 2,
       "version_minor": 0
      },
      "text/plain": [
       "Epoch 16/100:   0%|          | 0/164 [00:00<?, ?batch/s]"
      ]
     },
     "metadata": {},
     "output_type": "display_data"
    },
    {
     "data": {
      "application/vnd.jupyter.widget-view+json": {
       "model_id": "fb39581f8bd042aca566290c51a5990d",
       "version_major": 2,
       "version_minor": 0
      },
      "text/plain": [
       "Epoch 17/100:   0%|          | 0/164 [00:00<?, ?batch/s]"
      ]
     },
     "metadata": {},
     "output_type": "display_data"
    },
    {
     "data": {
      "application/vnd.jupyter.widget-view+json": {
       "model_id": "57e1c9dc434546a1a1f765da344ad3c2",
       "version_major": 2,
       "version_minor": 0
      },
      "text/plain": [
       "Epoch 18/100:   0%|          | 0/164 [00:00<?, ?batch/s]"
      ]
     },
     "metadata": {},
     "output_type": "display_data"
    },
    {
     "data": {
      "application/vnd.jupyter.widget-view+json": {
       "model_id": "5ed993ddf19345af937c5308d41c4f29",
       "version_major": 2,
       "version_minor": 0
      },
      "text/plain": [
       "Epoch 19/100:   0%|          | 0/164 [00:00<?, ?batch/s]"
      ]
     },
     "metadata": {},
     "output_type": "display_data"
    },
    {
     "data": {
      "application/vnd.jupyter.widget-view+json": {
       "model_id": "d97b509f10fc4923b8b176dfb3a04294",
       "version_major": 2,
       "version_minor": 0
      },
      "text/plain": [
       "Epoch 20/100:   0%|          | 0/164 [00:00<?, ?batch/s]"
      ]
     },
     "metadata": {},
     "output_type": "display_data"
    },
    {
     "data": {
      "application/vnd.jupyter.widget-view+json": {
       "model_id": "d8de2395833440a99441eee101c04804",
       "version_major": 2,
       "version_minor": 0
      },
      "text/plain": [
       "Epoch 21/100:   0%|          | 0/164 [00:00<?, ?batch/s]"
      ]
     },
     "metadata": {},
     "output_type": "display_data"
    },
    {
     "data": {
      "application/vnd.jupyter.widget-view+json": {
       "model_id": "9bee1390a5ea44c886975da73d121411",
       "version_major": 2,
       "version_minor": 0
      },
      "text/plain": [
       "Epoch 22/100:   0%|          | 0/164 [00:00<?, ?batch/s]"
      ]
     },
     "metadata": {},
     "output_type": "display_data"
    },
    {
     "data": {
      "application/vnd.jupyter.widget-view+json": {
       "model_id": "e6ff3c09f2e54d0c9ae6890f633ab1f7",
       "version_major": 2,
       "version_minor": 0
      },
      "text/plain": [
       "Epoch 23/100:   0%|          | 0/164 [00:00<?, ?batch/s]"
      ]
     },
     "metadata": {},
     "output_type": "display_data"
    },
    {
     "data": {
      "application/vnd.jupyter.widget-view+json": {
       "model_id": "3880caf82a7a4eccbf2be5fda3125ee9",
       "version_major": 2,
       "version_minor": 0
      },
      "text/plain": [
       "Epoch 24/100:   0%|          | 0/164 [00:00<?, ?batch/s]"
      ]
     },
     "metadata": {},
     "output_type": "display_data"
    },
    {
     "data": {
      "application/vnd.jupyter.widget-view+json": {
       "model_id": "310d80faa0f945218a02443b80f79f68",
       "version_major": 2,
       "version_minor": 0
      },
      "text/plain": [
       "Epoch 25/100:   0%|          | 0/164 [00:00<?, ?batch/s]"
      ]
     },
     "metadata": {},
     "output_type": "display_data"
    },
    {
     "data": {
      "application/vnd.jupyter.widget-view+json": {
       "model_id": "140f3d0f93d94a70a0554b367ce6b17d",
       "version_major": 2,
       "version_minor": 0
      },
      "text/plain": [
       "Epoch 26/100:   0%|          | 0/164 [00:00<?, ?batch/s]"
      ]
     },
     "metadata": {},
     "output_type": "display_data"
    },
    {
     "data": {
      "application/vnd.jupyter.widget-view+json": {
       "model_id": "d6a7afd56a084b32aca448153ac716ae",
       "version_major": 2,
       "version_minor": 0
      },
      "text/plain": [
       "Epoch 27/100:   0%|          | 0/164 [00:00<?, ?batch/s]"
      ]
     },
     "metadata": {},
     "output_type": "display_data"
    },
    {
     "data": {
      "application/vnd.jupyter.widget-view+json": {
       "model_id": "5c69aecee2ed4a4eb12e9806d63648db",
       "version_major": 2,
       "version_minor": 0
      },
      "text/plain": [
       "Epoch 28/100:   0%|          | 0/164 [00:00<?, ?batch/s]"
      ]
     },
     "metadata": {},
     "output_type": "display_data"
    },
    {
     "data": {
      "application/vnd.jupyter.widget-view+json": {
       "model_id": "0f9b012fe0b14126b6104aa436045b0e",
       "version_major": 2,
       "version_minor": 0
      },
      "text/plain": [
       "Epoch 29/100:   0%|          | 0/164 [00:00<?, ?batch/s]"
      ]
     },
     "metadata": {},
     "output_type": "display_data"
    },
    {
     "ename": "KeyboardInterrupt",
     "evalue": "",
     "output_type": "error",
     "traceback": [
      "\u001b[0;31m---------------------------------------------------------------------------\u001b[0m",
      "\u001b[0;31mKeyboardInterrupt\u001b[0m                         Traceback (most recent call last)",
      "Cell \u001b[0;32mIn[18], line 2\u001b[0m\n\u001b[1;32m      1\u001b[0m \u001b[38;5;28mprint\u001b[39m(\u001b[38;5;124m\"\u001b[39m\u001b[38;5;124mTraining in: \u001b[39m\u001b[38;5;132;01m{}\u001b[39;00m\u001b[38;5;124m\"\u001b[39m\u001b[38;5;241m.\u001b[39mformat(DEVICE))\n\u001b[0;32m----> 2\u001b[0m \u001b[43mtrain_model\u001b[49m\u001b[43m(\u001b[49m\u001b[43mmodel\u001b[49m\u001b[43m,\u001b[49m\u001b[43m \u001b[49m\u001b[43mtrain_loader\u001b[49m\u001b[43m,\u001b[49m\u001b[43m \u001b[49m\u001b[43moptimizer\u001b[49m\u001b[43m,\u001b[49m\u001b[43m \u001b[49m\u001b[43mcriterion\u001b[49m\u001b[43m,\u001b[49m\u001b[43m \u001b[49m\u001b[43mNUM_EPOCHS\u001b[49m\u001b[43m,\u001b[49m\u001b[43m \u001b[49m\u001b[43mdevice\u001b[49m\u001b[38;5;241;43m=\u001b[39;49m\u001b[43mDEVICE\u001b[49m\u001b[43m)\u001b[49m\n\u001b[1;32m      3\u001b[0m \u001b[38;5;66;03m# evaluate_model(model, test_loader, dataset,  DEVICE, img_path='../plots', run_name=RUN_NAME)\u001b[39;00m\n",
      "Cell \u001b[0;32mIn[13], line 11\u001b[0m, in \u001b[0;36mtrain_model\u001b[0;34m(model, train_loader, optimizer, criterion, num_epochs, device)\u001b[0m\n\u001b[1;32m      9\u001b[0m progress_bar \u001b[38;5;241m=\u001b[39m tqdm(train_loader, desc\u001b[38;5;241m=\u001b[39m\u001b[38;5;124mf\u001b[39m\u001b[38;5;124m\"\u001b[39m\u001b[38;5;124mEpoch \u001b[39m\u001b[38;5;132;01m{\u001b[39;00mepoch\u001b[38;5;241m+\u001b[39m\u001b[38;5;241m1\u001b[39m\u001b[38;5;132;01m}\u001b[39;00m\u001b[38;5;124m/\u001b[39m\u001b[38;5;132;01m{\u001b[39;00mnum_epochs\u001b[38;5;132;01m}\u001b[39;00m\u001b[38;5;124m\"\u001b[39m, unit\u001b[38;5;241m=\u001b[39m\u001b[38;5;124m\"\u001b[39m\u001b[38;5;124mbatch\u001b[39m\u001b[38;5;124m\"\u001b[39m)\n\u001b[1;32m     10\u001b[0m \u001b[38;5;28;01mfor\u001b[39;00m inputs, labels \u001b[38;5;129;01min\u001b[39;00m progress_bar:\n\u001b[0;32m---> 11\u001b[0m     inputs, labels \u001b[38;5;241m=\u001b[39m \u001b[43minputs\u001b[49m\u001b[38;5;241;43m.\u001b[39;49m\u001b[43mto\u001b[49m\u001b[43m(\u001b[49m\u001b[43mdevice\u001b[49m\u001b[43m)\u001b[49m, labels\u001b[38;5;241m.\u001b[39mto(device)\n\u001b[1;32m     13\u001b[0m     optimizer\u001b[38;5;241m.\u001b[39mzero_grad()\n\u001b[1;32m     14\u001b[0m     outputs, _ \u001b[38;5;241m=\u001b[39m model(inputs)\n",
      "\u001b[0;31mKeyboardInterrupt\u001b[0m: "
     ]
    },
    {
     "ename": "",
     "evalue": "",
     "output_type": "error",
     "traceback": [
      "\u001b[1;31mThe Kernel crashed while executing code in the current cell or a previous cell. \n",
      "\u001b[1;31mPlease review the code in the cell(s) to identify a possible cause of the failure. \n",
      "\u001b[1;31mClick <a href='https://aka.ms/vscodeJupyterKernelCrash'>here</a> for more info. \n",
      "\u001b[1;31mView Jupyter <a href='command:jupyter.viewOutput'>log</a> for further details."
     ]
    }
   ],
   "source": [
    "print(\"Training in: {}\".format(DEVICE))\n",
    "train_model(model, train_loader, optimizer, criterion, NUM_EPOCHS, device=DEVICE)\n",
    "# evaluate_model(model, test_loader, dataset,  DEVICE, img_path='../plots', run_name=RUN_NAME)"
   ]
  },
  {
   "cell_type": "code",
   "execution_count": 18,
   "metadata": {},
   "outputs": [],
   "source": [
    "torch.cuda.empty_cache()"
   ]
  },
  {
   "cell_type": "code",
   "execution_count": null,
   "metadata": {},
   "outputs": [],
   "source": []
  }
 ],
 "metadata": {
  "kernelspec": {
   "display_name": "Python 3 (ipykernel)",
   "language": "python",
   "name": "python3"
  },
  "language_info": {
   "codemirror_mode": {
    "name": "ipython",
    "version": 3
   },
   "file_extension": ".py",
   "mimetype": "text/x-python",
   "name": "python",
   "nbconvert_exporter": "python",
   "pygments_lexer": "ipython3",
   "version": "3.12.3"
  }
 },
 "nbformat": 4,
 "nbformat_minor": 4
}
