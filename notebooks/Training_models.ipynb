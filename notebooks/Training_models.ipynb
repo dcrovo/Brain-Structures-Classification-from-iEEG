{
 "cells": [
  {
   "cell_type": "code",
   "execution_count": 1,
   "metadata": {},
   "outputs": [],
   "source": [
    "import os\n",
    "import sys\n",
    "sys.path.append(os.path.abspath(os.path.join('..', 'src')))\n",
    "\n",
    "from cnn_model import CNN_Ieeg_Model\n",
    "from lstm_model import LSTM_Ieeg_Model,LSTM_Ieeg_Model_2\n",
    "from ann_baseline import Baseline_ANN\n",
    "from transformer_model import TransformerClassifier\n",
    "from cnn_lstm import CNN_LSTM_Model, ParallelCNNLSTMModel, LSTM_CNN,ParallelCNNTransformerModel\n",
    "from utils import get_loaders, import_checkpoint, save_checkpoint\n",
    "import torch\n",
    "import multiprocessing\n",
    "import mlflow\n",
    "import mlflow.pytorch\n",
    "import torch\n",
    "import torch.optim as optim\n",
    "from sklearn.metrics import precision_recall_fscore_support, accuracy_score, confusion_matrix\n",
    "import matplotlib.pyplot as plt\n",
    "import seaborn as sns\n",
    "import pandas as pd\n",
    "import numpy as np\n",
    "from tqdm.notebook import tqdm\n",
    "import psutil\n",
    "import mlflow.pytorch\n",
    "from torch.cuda.amp import GradScaler, autocast\n",
    "import torch.nn as nn\n",
    "from torch.utils.data import Dataset, DataLoader\n",
    "import math\n"
   ]
  },
  {
   "cell_type": "markdown",
   "metadata": {},
   "source": [
    "# MLFlow Set up"
   ]
  },
  {
   "cell_type": "code",
   "execution_count": 2,
   "metadata": {},
   "outputs": [
    {
     "name": "stdout",
     "output_type": "stream",
     "text": [
      "tracking uri: http://localhost:5000\n"
     ]
    }
   ],
   "source": [
    "os.environ['AWS_ACCESS_KEY_ID'] = 'dIgexhE2iDrGls2qargL'\n",
    "os.environ['AWS_SECRET_ACCESS_KEY'] = 'IzEzgQpztotDnrIInJdUfUIYngpjJoT18d0FDZf7'\n",
    "os.environ['MLFLOW_S3_ENDPOINT_URL'] = 'http://localhost:9000'\n",
    "os.environ['MLFLOW_S3_IGNORE_TLS'] = 'true'\n",
    "os.environ[\"MLFLOW_ENABLE_SYSTEM_METRICS_LOGGING\"] = \"true\"\n",
    "mlflow.set_tracking_uri(\"http://localhost:5000\")\n",
    "\n",
    "print('tracking uri:', mlflow.get_tracking_uri())"
   ]
  },
  {
   "cell_type": "markdown",
   "metadata": {},
   "source": [
    "# Parameter setting"
   ]
  },
  {
   "cell_type": "code",
   "execution_count": 14,
   "metadata": {},
   "outputs": [],
   "source": [
    "# Configuration\n",
    "DATA_DIR = '../data/data_normalized_exp2'\n",
    "SEQ_LENGTH = 1000\n",
    "BATCH_SIZE = 64\n",
    "NUM_EPOCHS = 10\n",
    "LEARNING_RATE = 0.0001\n",
    "EXPERIMENT_NAME = \"IEEG_Classification_TNN_CNN\"\n",
    "# RUN_NAME = \"CNN\"\n",
    "PIN_MEMORY = True\n",
    "LOAD_MODEL = False\n",
    "NUM_WORKERS = multiprocessing.cpu_count()\n",
    "DEVICE = torch.device(\"cuda\" if torch.cuda.is_available() else \"cpu\")\n",
    "INPUT_SIZE = SEQ_LENGTH\n",
    "NUM_CLASSES = 5\n",
    "CHECKPOINTS_PATH = '../models/checkpoints'"
   ]
  },
  {
   "cell_type": "markdown",
   "metadata": {},
   "source": [
    "# Previous Steps Before Training"
   ]
  },
  {
   "cell_type": "code",
   "execution_count": 4,
   "metadata": {},
   "outputs": [],
   "source": [
    "def get_model_size(model):\n",
    "    param_size = 0\n",
    "    buffer_size = 0\n",
    "    for param in model.parameters():\n",
    "        param_size += param.numel() * param.element_size()\n",
    "    for buffer in model.buffers():\n",
    "        buffer_size += buffer.numel() * buffer.element_size()\n",
    "    size_all_mb = (param_size + buffer_size) / 1024 ** 2\n",
    "    return size_all_mb"
   ]
  },
  {
   "cell_type": "code",
   "execution_count": 5,
   "metadata": {},
   "outputs": [],
   "source": [
    "def train_model(model: nn.Module, train_loader: DataLoader, optimizer: optim.Optimizer, \n",
    "                criterion: nn.Module, num_epochs: int, device: torch.device, save_checkpoint_interval: int = 10, \n",
    "                early_stopping_patience: int = 15, checkpoint_dir: str = '../models/checkpoints', accumulation_steps: int = 2,\n",
    "                cnn=False, model_name='CNN'):\n",
    "    \"\"\"\n",
    "    Train a deep learning model with the given parameters and log metrics to MLflow.\n",
    "\n",
    "    Args:\n",
    "        model (nn.Module): The model to train.\n",
    "        train_loader (DataLoader): DataLoader for the training data.\n",
    "        optimizer (optim.Optimizer): Optimizer for updating model parameters.\n",
    "        criterion (nn.Module): Loss function.\n",
    "        num_epochs (int): Number of epochs to train.\n",
    "        device (torch.device): Device to use for training (CPU or GPU).\n",
    "        save_checkpoint_interval (int, optional): Interval for saving checkpoints. Default is 10.\n",
    "        early_stopping_patience (int, optional): Patience for early stopping. Default is 5.\n",
    "        checkpoint_dir (str, optional): Directory to save checkpoints. Default is 'checkpoints'.\n",
    "        accumulation_steps (int, optional): Number of steps to accumulate gradients before updating weights. Default is 2.\n",
    "    \"\"\"\n",
    "    scaler = GradScaler()  # For mixed precision training\n",
    "    best_loss = float('inf')  # Track the best loss for early stopping\n",
    "    patience_counter = 0  # Counter for early stopping\n",
    "\n",
    "    # Ensure checkpoint directory exists\n",
    "    if not os.path.exists(checkpoint_dir):\n",
    "        os.makedirs(checkpoint_dir)\n",
    "\n",
    "    for epoch in range(num_epochs):\n",
    "        model.train()\n",
    "        running_loss = 0.0\n",
    "        y_true_train = []\n",
    "        y_pred_train = []\n",
    "\n",
    "        progress_bar = tqdm(train_loader, desc=f\"Epoch {epoch+1}/{num_epochs}\", unit=\"batch\")\n",
    "        optimizer.zero_grad()  # Reset gradients at the start of each epoch\n",
    "\n",
    "        for batch_idx, (inputs, labels) in enumerate(progress_bar):\n",
    "            inputs, labels = inputs.to(device), labels.to(device)\n",
    "\n",
    "            with autocast():  # Mixed precision training\n",
    "                if not cnn:\n",
    "                    outputs = model(inputs)\n",
    "                else:\n",
    "                    outputs, _= model(inputs)\n",
    "                loss = criterion(outputs, labels.squeeze())\n",
    "\n",
    "            scaler.scale(loss).backward()  # Backpropagation\n",
    "\n",
    "            scaler.step(optimizer)  # Update weights\n",
    "            scaler.update()\n",
    "            optimizer.zero_grad()  # Reset gradients after updating weights\n",
    "\n",
    "            running_loss += loss.item()\n",
    "            _, predicted = torch.max(outputs, 1)\n",
    "            y_true_train.extend(labels.squeeze().cpu().numpy())\n",
    "            y_pred_train.extend(predicted.cpu().numpy())\n",
    "\n",
    "            avg_loss = running_loss / (batch_idx + 1)\n",
    "            train_accuracy = accuracy_score(y_true_train, y_pred_train)\n",
    "            precision, recall, f1, _ = precision_recall_fscore_support(y_true_train, y_pred_train, average='weighted', zero_division=0)\n",
    "\n",
    "            progress_bar.set_postfix(loss=avg_loss, accuracy=train_accuracy, precision=precision, recall=recall, f1=f1)\n",
    "\n",
    "        # Log metrics to MLflow\n",
    "        mlflow.log_metric(\"train_loss\", avg_loss, step=epoch)\n",
    "        mlflow.log_metric(\"train_accuracy\", train_accuracy, step=epoch)\n",
    "        mlflow.log_metric(\"train_precision\", precision, step=epoch)\n",
    "        mlflow.log_metric(\"train_recall\", recall, step=epoch)\n",
    "        mlflow.log_metric(\"train_f1\", f1, step=epoch)\n",
    "\n",
    "        # Save checkpoint every 'save_checkpoint_interval' epochs\n",
    "        if (epoch + 1) % save_checkpoint_interval == 0:\n",
    "            checkpoint_path = os.path.join(checkpoint_dir, f'checkpoint_{model_name}.pth.tar')\n",
    "            save_checkpoint({'epoch': epoch + 1, 'state_dict': model.state_dict(), 'optimizer': optimizer.state_dict()}, checkpoint_path)\n",
    "            mlflow.log_artifact(checkpoint_path, artifact_path=\"checkpoints\")\n",
    "\n",
    "        # Early stopping\n",
    "        if round(avg_loss,4) < best_loss:\n",
    "            best_loss = round(avg_loss,4)\n",
    "            patience_counter = 0  # Reset counter if we get a new best loss\n",
    "            # print(f\"Best Loss:{best_loss}\")\n",
    "            # print(f\"AVG Loss:{avg_loss}\")\n",
    "            # print(f\"patience_counter:{patience_counter}\")\n",
    "\n",
    "\n",
    "        else:\n",
    "            patience_counter += 1\n",
    "\n",
    "        if patience_counter >= early_stopping_patience:\n",
    "            print(f\"Early stopping at epoch {epoch + 1}\")\n",
    "            mlflow.log_param(\"epochs_actual\", (epoch+1))\n",
    "\n",
    "            break\n",
    "\n",
    "        # Clear CUDA cache after each epoch\n",
    "        torch.cuda.empty_cache()\n",
    "\n",
    "    # Clear CUDA cache at the end of training\n",
    "    torch.cuda.empty_cache()"
   ]
  },
  {
   "cell_type": "code",
   "execution_count": 6,
   "metadata": {},
   "outputs": [],
   "source": [
    "\n",
    "def evaluate_model(model: nn.Module, test_loader: DataLoader, dataset: Dataset, device: torch.device, \n",
    "                   img_path: str, run_name: str, batch_size: int = 16, cnn=False):\n",
    "    \"\"\"\n",
    "    Evaluate a deep learning model and log metrics to MLflow.\n",
    "\n",
    "    Args:\n",
    "        model (nn.Module): The model to evaluate.\n",
    "        test_loader (DataLoader): DataLoader for the test data.\n",
    "        dataset (Dataset): The dataset containing the test data.\n",
    "        device (torch.device): Device to use for evaluation (CPU or GPU).\n",
    "        img_path (str): Path to save the confusion matrix image.\n",
    "        run_name (str): Name of the MLflow run.\n",
    "        batch_size (int, optional): Batch size for evaluation. Default is 16.\n",
    "    \"\"\"\n",
    "    model.eval()\n",
    "    y_true_test = []\n",
    "    y_pred_test = []\n",
    "    feature_maps = []\n",
    "\n",
    "    with torch.no_grad():\n",
    "        for inputs, labels in tqdm(test_loader, desc=\"Evaluating\", unit=\"batch\"):\n",
    "            inputs, labels = inputs.to(device), labels.to(device)\n",
    "            if not cnn: \n",
    "                outputs = model(inputs)\n",
    "\n",
    "            else:\n",
    "                outputs, feature_map = model(inputs)\n",
    "                feature_maps.append([fm.cpu() for fm in feature_map])  # Move feature maps to CPU to free GPU memory\n",
    "\n",
    "            _, predicted = torch.max(outputs, 1)\n",
    "            y_true_test.extend(labels.squeeze().cpu().numpy())\n",
    "            y_pred_test.extend(predicted.cpu().numpy())\n",
    "\n",
    "            # Clear cache to free up memory\n",
    "            torch.cuda.empty_cache()\n",
    "\n",
    "    test_accuracy = accuracy_score(y_true_test, y_pred_test)\n",
    "    precision, recall, f1, _ = precision_recall_fscore_support(y_true_test, y_pred_test, average='weighted', zero_division=0)\n",
    "\n",
    "    print(f'Accuracy of the model on the test data: {test_accuracy:.2f}%')\n",
    "    print(f'Precision: {precision:.4f}, Recall: {recall:.4f}, F1 Score: {f1:.4f}')\n",
    "\n",
    "    mlflow.log_metric(\"test_accuracy\", test_accuracy)\n",
    "    mlflow.log_metric(\"test_precision\", precision)\n",
    "    mlflow.log_metric(\"test_recall\", recall)\n",
    "    mlflow.log_metric(\"test_f1\", f1)\n",
    "\n",
    "    # Confusion matrix\n",
    "    cm = confusion_matrix(y_true_test, y_pred_test)\n",
    "    cm_df = pd.DataFrame(cm, index=dataset.label_encoder.classes_, columns=dataset.label_encoder.classes_)\n",
    "\n",
    "    plt.figure(figsize=(10, 7))\n",
    "    sns.heatmap(cm_df, annot=True, fmt='d', cmap='Blues')\n",
    "    plt.ylabel('Actual')\n",
    "    plt.xlabel('Predicted')\n",
    "    plt.title('Confusion Matrix')\n",
    "    img_file = os.path.join(img_path, f\"confusion_matrix_{run_name}.png\")\n",
    "    plt.savefig(img_file)\n",
    "    mlflow.log_artifact(img_file)\n",
    "    plt.close()\n",
    "\n",
    "    # Save feature maps and labels to file\n",
    "    if cnn:\n",
    "        feature_maps_file = os.path.join(img_path, f\"feature_maps_{run_name}.pt\")\n",
    "        torch.save((feature_maps, y_true_test, y_pred_test), feature_maps_file)\n",
    "    # mlflow.log_artifact(feature_maps_file, artifact_path=\"feature_maps\")\n",
    "\n",
    "    return y_true_test, y_pred_test\n"
   ]
  },
  {
   "cell_type": "code",
   "execution_count": 7,
   "metadata": {},
   "outputs": [],
   "source": [
    "\n",
    "def plot_feature_maps(feature_maps_file: str, sample_index: int, img_path: str, run_name: str, dpi: int = 300, linewidth: float = 0.5):\n",
    "    \"\"\"\n",
    "    Plot the feature maps for a specified sample from Conv1D layers.\n",
    "\n",
    "    Args:\n",
    "        feature_maps_file (str): Path to the file containing the saved feature maps and labels.\n",
    "        sample_index (int): Index of the sample to plot the feature maps for.\n",
    "        img_path (str): Path to save the feature map images.\n",
    "        run_name (str): Name of the MLflow run.\n",
    "        dpi (int, optional): Resolution of the saved images. Default is 300.\n",
    "        linewidth (float, optional): Line width for the feature map plots. Default is 0.5.\n",
    "    \"\"\"\n",
    "    # Load feature maps and labels from file\n",
    "    feature_maps, y_true_test, y_pred_test = torch.load(feature_maps_file)\n",
    "    \n",
    "    # Check if the sample index is valid\n",
    "    if sample_index >= len(feature_maps):\n",
    "        raise ValueError(f\"Sample index {sample_index} is out of range. There are only {len(feature_maps)} samples.\")\n",
    "\n",
    "    # Get the feature maps for the specified sample\n",
    "    sample_feature_maps = feature_maps[sample_index]\n",
    "    true_label = y_true_test[sample_index]\n",
    "    predicted_label = y_pred_test[sample_index]\n",
    "    \n",
    "    # Plot each feature map\n",
    "    for layer_idx, feature_map in enumerate(sample_feature_maps):\n",
    "        num_feature_maps = feature_map.shape[0]  # Number of feature maps\n",
    "        \n",
    "        # Determine the grid size for subplots\n",
    "        grid_size = int(np.ceil(np.sqrt(num_feature_maps)))\n",
    "        \n",
    "        plt.figure(figsize=(15, 15))\n",
    "        for i in range(num_feature_maps):\n",
    "            plt.subplot(grid_size, grid_size, i + 1)\n",
    "            plt.plot(feature_map[i].cpu().numpy(), linewidth=linewidth)\n",
    "            plt.axis('off')\n",
    "        \n",
    "        plt.suptitle(f'Feature Maps for Layer {layer_idx + 1} (True: {true_label}, Pred: {predicted_label})')\n",
    "        img_file = os.path.join(img_path, f\"feature_maps_layer_{layer_idx + 1}_{run_name}_sample_{sample_index}.png\")\n",
    "        plt.savefig(img_file, dpi=dpi)\n",
    "        plt.close()\n",
    "        \n",
    "        print(f'Saved feature maps for layer {layer_idx + 1} to {img_file}')\n"
   ]
  },
  {
   "cell_type": "markdown",
   "metadata": {},
   "source": [
    "# Training CNN"
   ]
  },
  {
   "cell_type": "code",
   "execution_count": 8,
   "metadata": {},
   "outputs": [
    {
     "ename": "KeyboardInterrupt",
     "evalue": "",
     "output_type": "error",
     "traceback": [
      "\u001b[0;31m---------------------------------------------------------------------------\u001b[0m",
      "\u001b[0;31mKeyboardInterrupt\u001b[0m                         Traceback (most recent call last)",
      "Cell \u001b[0;32mIn[8], line 1\u001b[0m\n\u001b[0;32m----> 1\u001b[0m train_loader, test_loader, dataset \u001b[38;5;241m=\u001b[39m \u001b[43mget_loaders\u001b[49m\u001b[43m(\u001b[49m\u001b[43mdata_dir\u001b[49m\u001b[38;5;241;43m=\u001b[39;49m\u001b[43mDATA_DIR\u001b[49m\u001b[43m,\u001b[49m\u001b[43m \u001b[49m\u001b[43mbatch_size\u001b[49m\u001b[38;5;241;43m=\u001b[39;49m\u001b[43mBATCH_SIZE\u001b[49m\u001b[43m,\u001b[49m\u001b[43m \u001b[49m\u001b[43mnum_workers\u001b[49m\u001b[38;5;241;43m=\u001b[39;49m\u001b[43mNUM_WORKERS\u001b[49m\u001b[43m,\u001b[49m\n\u001b[1;32m      2\u001b[0m \u001b[43m                                        \u001b[49m\u001b[43mpin_memory\u001b[49m\u001b[38;5;241;43m=\u001b[39;49m\u001b[43mPIN_MEMORY\u001b[49m\u001b[43m,\u001b[49m\u001b[43m \u001b[49m\u001b[43mtest_size\u001b[49m\u001b[38;5;241;43m=\u001b[39;49m\u001b[38;5;241;43m0.2\u001b[39;49m\u001b[43m,\u001b[49m\u001b[43m \u001b[49m\u001b[43mseq_length\u001b[49m\u001b[38;5;241;43m=\u001b[39;49m\u001b[43mSEQ_LENGTH\u001b[49m\u001b[43m,\u001b[49m\u001b[43m \u001b[49m\u001b[43mmodel_type\u001b[49m\u001b[38;5;241;43m=\u001b[39;49m\u001b[38;5;124;43m\"\u001b[39;49m\u001b[38;5;124;43mcnn\u001b[39;49m\u001b[38;5;124;43m\"\u001b[39;49m\u001b[43m)\u001b[49m\n",
      "File \u001b[0;32m~/Documents/01.Study/01.MSc/01.Thesis/02.AIThesis/Brain-Structures-Classification-from-iEEG/src/utils.py:36\u001b[0m, in \u001b[0;36mget_loaders\u001b[0;34m(data_dir, batch_size, num_workers, pin_memory, with_val_loader, test_size, seq_length, model_type)\u001b[0m\n\u001b[1;32m     14\u001b[0m \u001b[38;5;28;01mdef\u001b[39;00m \u001b[38;5;21mget_loaders\u001b[39m(data_dir: \u001b[38;5;28mstr\u001b[39m, batch_size: \u001b[38;5;28mint\u001b[39m, num_workers: \u001b[38;5;28mint\u001b[39m, \n\u001b[1;32m     15\u001b[0m                 pin_memory: \u001b[38;5;28mbool\u001b[39m \u001b[38;5;241m=\u001b[39m \u001b[38;5;28;01mTrue\u001b[39;00m, with_val_loader: \u001b[38;5;28mbool\u001b[39m \u001b[38;5;241m=\u001b[39m \u001b[38;5;28;01mFalse\u001b[39;00m, \n\u001b[1;32m     16\u001b[0m                 test_size: \u001b[38;5;28mfloat\u001b[39m \u001b[38;5;241m=\u001b[39m \u001b[38;5;241m0.2\u001b[39m, seq_length: \u001b[38;5;28mint\u001b[39m \u001b[38;5;241m=\u001b[39m \u001b[38;5;241m5000\u001b[39m, \n\u001b[1;32m     17\u001b[0m                 model_type: \u001b[38;5;28mstr\u001b[39m \u001b[38;5;241m=\u001b[39m \u001b[38;5;124m\"\u001b[39m\u001b[38;5;124mmlp\u001b[39m\u001b[38;5;124m\"\u001b[39m) \u001b[38;5;241m-\u001b[39m\u001b[38;5;241m>\u001b[39m Union[Tuple[DataLoader, DataLoader], Tuple[DataLoader, DataLoader, DataLoader]]:\n\u001b[1;32m     18\u001b[0m \u001b[38;5;250m    \u001b[39m\u001b[38;5;124;03m\"\"\"\u001b[39;00m\n\u001b[1;32m     19\u001b[0m \u001b[38;5;124;03m    Creates data loaders for training, testing, and optionally validation from IEEG dataset.\u001b[39;00m\n\u001b[1;32m     20\u001b[0m \n\u001b[0;32m   (...)\u001b[0m\n\u001b[1;32m     33\u001b[0m \u001b[38;5;124;03m        Returns train and test data loaders. If `with_val_loader` is True, also returns a validation data loader.\u001b[39;00m\n\u001b[1;32m     34\u001b[0m \u001b[38;5;124;03m    \"\"\"\u001b[39;00m\n\u001b[0;32m---> 36\u001b[0m     dataset \u001b[38;5;241m=\u001b[39m \u001b[43mIeegDataset\u001b[49m\u001b[43m(\u001b[49m\u001b[43mdata_dir\u001b[49m\u001b[43m,\u001b[49m\u001b[43m \u001b[49m\u001b[43mseq_length\u001b[49m\u001b[38;5;241;43m=\u001b[39;49m\u001b[43mseq_length\u001b[49m\u001b[43m,\u001b[49m\u001b[43m \u001b[49m\u001b[43mmodel_type\u001b[49m\u001b[38;5;241;43m=\u001b[39;49m\u001b[43mmodel_type\u001b[49m\u001b[43m)\u001b[49m\n\u001b[1;32m     38\u001b[0m     labels \u001b[38;5;241m=\u001b[39m np\u001b[38;5;241m.\u001b[39marray([dataset[i][\u001b[38;5;241m1\u001b[39m]\u001b[38;5;241m.\u001b[39mitem() \u001b[38;5;28;01mfor\u001b[39;00m i \u001b[38;5;129;01min\u001b[39;00m \u001b[38;5;28mrange\u001b[39m(\u001b[38;5;28mlen\u001b[39m(dataset))])\n\u001b[1;32m     39\u001b[0m     sss \u001b[38;5;241m=\u001b[39m StratifiedShuffleSplit(n_splits\u001b[38;5;241m=\u001b[39m\u001b[38;5;241m1\u001b[39m, test_size\u001b[38;5;241m=\u001b[39mtest_size, random_state\u001b[38;5;241m=\u001b[39m\u001b[38;5;241m42\u001b[39m)\n",
      "File \u001b[0;32m~/Documents/01.Study/01.MSc/01.Thesis/02.AIThesis/Brain-Structures-Classification-from-iEEG/src/ieeg_dataset.py:38\u001b[0m, in \u001b[0;36mIeegDataset.__init__\u001b[0;34m(self, data_dir, seq_length, model_type)\u001b[0m\n\u001b[1;32m     35\u001b[0m \u001b[38;5;28mself\u001b[39m\u001b[38;5;241m.\u001b[39mlabel_encoder\u001b[38;5;241m.\u001b[39mfit(\u001b[38;5;28mself\u001b[39m\u001b[38;5;241m.\u001b[39mclasses)\n\u001b[1;32m     37\u001b[0m \u001b[38;5;66;03m# Load data from CSV files\u001b[39;00m\n\u001b[0;32m---> 38\u001b[0m \u001b[38;5;28;43mself\u001b[39;49m\u001b[38;5;241;43m.\u001b[39;49m\u001b[43m_load_data\u001b[49m\u001b[43m(\u001b[49m\u001b[43m)\u001b[49m\n\u001b[1;32m     39\u001b[0m \u001b[38;5;28mself\u001b[39m\u001b[38;5;241m.\u001b[39mdata \u001b[38;5;241m=\u001b[39m torch\u001b[38;5;241m.\u001b[39mtensor(np\u001b[38;5;241m.\u001b[39marray(\u001b[38;5;28mself\u001b[39m\u001b[38;5;241m.\u001b[39mdata), dtype\u001b[38;5;241m=\u001b[39mtorch\u001b[38;5;241m.\u001b[39mfloat32)\n\u001b[1;32m     40\u001b[0m \u001b[38;5;28mself\u001b[39m\u001b[38;5;241m.\u001b[39mlabels \u001b[38;5;241m=\u001b[39m torch\u001b[38;5;241m.\u001b[39mtensor(np\u001b[38;5;241m.\u001b[39marray(\u001b[38;5;28mself\u001b[39m\u001b[38;5;241m.\u001b[39mlabels)\u001b[38;5;241m.\u001b[39msqueeze(), dtype\u001b[38;5;241m=\u001b[39mtorch\u001b[38;5;241m.\u001b[39mlong)\n",
      "File \u001b[0;32m~/Documents/01.Study/01.MSc/01.Thesis/02.AIThesis/Brain-Structures-Classification-from-iEEG/src/ieeg_dataset.py:48\u001b[0m, in \u001b[0;36mIeegDataset._load_data\u001b[0;34m(self)\u001b[0m\n\u001b[1;32m     46\u001b[0m \u001b[38;5;28;01mfor\u001b[39;00m file \u001b[38;5;129;01min\u001b[39;00m os\u001b[38;5;241m.\u001b[39mlistdir(\u001b[38;5;28mself\u001b[39m\u001b[38;5;241m.\u001b[39mdata_dir):\n\u001b[1;32m     47\u001b[0m     file_path \u001b[38;5;241m=\u001b[39m os\u001b[38;5;241m.\u001b[39mpath\u001b[38;5;241m.\u001b[39mjoin(\u001b[38;5;28mself\u001b[39m\u001b[38;5;241m.\u001b[39mdata_dir, file)\n\u001b[0;32m---> 48\u001b[0m     df \u001b[38;5;241m=\u001b[39m \u001b[43mpd\u001b[49m\u001b[38;5;241;43m.\u001b[39;49m\u001b[43mread_csv\u001b[49m\u001b[43m(\u001b[49m\u001b[43mfile_path\u001b[49m\u001b[43m)\u001b[49m\n\u001b[1;32m     50\u001b[0m     \u001b[38;5;28;01mfor\u001b[39;00m column \u001b[38;5;129;01min\u001b[39;00m df\u001b[38;5;241m.\u001b[39mcolumns: \n\u001b[1;32m     51\u001b[0m         \u001b[38;5;28;01mfor\u001b[39;00m idx \u001b[38;5;129;01min\u001b[39;00m \u001b[38;5;28mrange\u001b[39m(\u001b[38;5;241m0\u001b[39m, math\u001b[38;5;241m.\u001b[39mfloor(df\u001b[38;5;241m.\u001b[39mshape[\u001b[38;5;241m0\u001b[39m] \u001b[38;5;241m/\u001b[39m \u001b[38;5;28mself\u001b[39m\u001b[38;5;241m.\u001b[39mseq_length)):\n",
      "File \u001b[0;32m~/anaconda3/envs/ieeg/lib/python3.12/site-packages/pandas/io/parsers/readers.py:1026\u001b[0m, in \u001b[0;36mread_csv\u001b[0;34m(filepath_or_buffer, sep, delimiter, header, names, index_col, usecols, dtype, engine, converters, true_values, false_values, skipinitialspace, skiprows, skipfooter, nrows, na_values, keep_default_na, na_filter, verbose, skip_blank_lines, parse_dates, infer_datetime_format, keep_date_col, date_parser, date_format, dayfirst, cache_dates, iterator, chunksize, compression, thousands, decimal, lineterminator, quotechar, quoting, doublequote, escapechar, comment, encoding, encoding_errors, dialect, on_bad_lines, delim_whitespace, low_memory, memory_map, float_precision, storage_options, dtype_backend)\u001b[0m\n\u001b[1;32m   1013\u001b[0m kwds_defaults \u001b[38;5;241m=\u001b[39m _refine_defaults_read(\n\u001b[1;32m   1014\u001b[0m     dialect,\n\u001b[1;32m   1015\u001b[0m     delimiter,\n\u001b[0;32m   (...)\u001b[0m\n\u001b[1;32m   1022\u001b[0m     dtype_backend\u001b[38;5;241m=\u001b[39mdtype_backend,\n\u001b[1;32m   1023\u001b[0m )\n\u001b[1;32m   1024\u001b[0m kwds\u001b[38;5;241m.\u001b[39mupdate(kwds_defaults)\n\u001b[0;32m-> 1026\u001b[0m \u001b[38;5;28;01mreturn\u001b[39;00m \u001b[43m_read\u001b[49m\u001b[43m(\u001b[49m\u001b[43mfilepath_or_buffer\u001b[49m\u001b[43m,\u001b[49m\u001b[43m \u001b[49m\u001b[43mkwds\u001b[49m\u001b[43m)\u001b[49m\n",
      "File \u001b[0;32m~/anaconda3/envs/ieeg/lib/python3.12/site-packages/pandas/io/parsers/readers.py:626\u001b[0m, in \u001b[0;36m_read\u001b[0;34m(filepath_or_buffer, kwds)\u001b[0m\n\u001b[1;32m    623\u001b[0m     \u001b[38;5;28;01mreturn\u001b[39;00m parser\n\u001b[1;32m    625\u001b[0m \u001b[38;5;28;01mwith\u001b[39;00m parser:\n\u001b[0;32m--> 626\u001b[0m     \u001b[38;5;28;01mreturn\u001b[39;00m \u001b[43mparser\u001b[49m\u001b[38;5;241;43m.\u001b[39;49m\u001b[43mread\u001b[49m\u001b[43m(\u001b[49m\u001b[43mnrows\u001b[49m\u001b[43m)\u001b[49m\n",
      "File \u001b[0;32m~/anaconda3/envs/ieeg/lib/python3.12/site-packages/pandas/io/parsers/readers.py:1923\u001b[0m, in \u001b[0;36mTextFileReader.read\u001b[0;34m(self, nrows)\u001b[0m\n\u001b[1;32m   1916\u001b[0m nrows \u001b[38;5;241m=\u001b[39m validate_integer(\u001b[38;5;124m\"\u001b[39m\u001b[38;5;124mnrows\u001b[39m\u001b[38;5;124m\"\u001b[39m, nrows)\n\u001b[1;32m   1917\u001b[0m \u001b[38;5;28;01mtry\u001b[39;00m:\n\u001b[1;32m   1918\u001b[0m     \u001b[38;5;66;03m# error: \"ParserBase\" has no attribute \"read\"\u001b[39;00m\n\u001b[1;32m   1919\u001b[0m     (\n\u001b[1;32m   1920\u001b[0m         index,\n\u001b[1;32m   1921\u001b[0m         columns,\n\u001b[1;32m   1922\u001b[0m         col_dict,\n\u001b[0;32m-> 1923\u001b[0m     ) \u001b[38;5;241m=\u001b[39m \u001b[38;5;28;43mself\u001b[39;49m\u001b[38;5;241;43m.\u001b[39;49m\u001b[43m_engine\u001b[49m\u001b[38;5;241;43m.\u001b[39;49m\u001b[43mread\u001b[49m\u001b[43m(\u001b[49m\u001b[43m  \u001b[49m\u001b[38;5;66;43;03m# type: ignore[attr-defined]\u001b[39;49;00m\n\u001b[1;32m   1924\u001b[0m \u001b[43m        \u001b[49m\u001b[43mnrows\u001b[49m\n\u001b[1;32m   1925\u001b[0m \u001b[43m    \u001b[49m\u001b[43m)\u001b[49m\n\u001b[1;32m   1926\u001b[0m \u001b[38;5;28;01mexcept\u001b[39;00m \u001b[38;5;167;01mException\u001b[39;00m:\n\u001b[1;32m   1927\u001b[0m     \u001b[38;5;28mself\u001b[39m\u001b[38;5;241m.\u001b[39mclose()\n",
      "File \u001b[0;32m~/anaconda3/envs/ieeg/lib/python3.12/site-packages/pandas/io/parsers/c_parser_wrapper.py:234\u001b[0m, in \u001b[0;36mCParserWrapper.read\u001b[0;34m(self, nrows)\u001b[0m\n\u001b[1;32m    232\u001b[0m \u001b[38;5;28;01mtry\u001b[39;00m:\n\u001b[1;32m    233\u001b[0m     \u001b[38;5;28;01mif\u001b[39;00m \u001b[38;5;28mself\u001b[39m\u001b[38;5;241m.\u001b[39mlow_memory:\n\u001b[0;32m--> 234\u001b[0m         chunks \u001b[38;5;241m=\u001b[39m \u001b[38;5;28;43mself\u001b[39;49m\u001b[38;5;241;43m.\u001b[39;49m\u001b[43m_reader\u001b[49m\u001b[38;5;241;43m.\u001b[39;49m\u001b[43mread_low_memory\u001b[49m\u001b[43m(\u001b[49m\u001b[43mnrows\u001b[49m\u001b[43m)\u001b[49m\n\u001b[1;32m    235\u001b[0m         \u001b[38;5;66;03m# destructive to chunks\u001b[39;00m\n\u001b[1;32m    236\u001b[0m         data \u001b[38;5;241m=\u001b[39m _concatenate_chunks(chunks)\n",
      "File \u001b[0;32mparsers.pyx:838\u001b[0m, in \u001b[0;36mpandas._libs.parsers.TextReader.read_low_memory\u001b[0;34m()\u001b[0m\n",
      "File \u001b[0;32mparsers.pyx:905\u001b[0m, in \u001b[0;36mpandas._libs.parsers.TextReader._read_rows\u001b[0;34m()\u001b[0m\n",
      "File \u001b[0;32mparsers.pyx:874\u001b[0m, in \u001b[0;36mpandas._libs.parsers.TextReader._tokenize_rows\u001b[0;34m()\u001b[0m\n",
      "File \u001b[0;32mparsers.pyx:891\u001b[0m, in \u001b[0;36mpandas._libs.parsers.TextReader._check_tokenize_status\u001b[0;34m()\u001b[0m\n",
      "File \u001b[0;32mparsers.pyx:2053\u001b[0m, in \u001b[0;36mpandas._libs.parsers.raise_parser_error\u001b[0;34m()\u001b[0m\n",
      "File \u001b[0;32m<frozen codecs>:331\u001b[0m, in \u001b[0;36mgetstate\u001b[0;34m(self)\u001b[0m\n",
      "\u001b[0;31mKeyboardInterrupt\u001b[0m: "
     ]
    }
   ],
   "source": [
    "train_loader, test_loader, dataset = get_loaders(data_dir=DATA_DIR, batch_size=BATCH_SIZE, num_workers=NUM_WORKERS,\n",
    "                                        pin_memory=PIN_MEMORY, test_size=0.2, seq_length=SEQ_LENGTH, model_type=\"cnn\")"
   ]
  },
  {
   "cell_type": "code",
   "execution_count": 9,
   "metadata": {},
   "outputs": [
    {
     "name": "stdout",
     "output_type": "stream",
     "text": [
      "Shape of inputs: torch.Size([64, 1, 5000])\n",
      "Shape of labels: torch.Size([64])\n"
     ]
    }
   ],
   "source": [
    "# Assuming you have already defined train_loader\n",
    "for inputs, labels in train_loader:\n",
    "    print(\"Shape of inputs:\", inputs.shape)\n",
    "    print(\"Shape of labels:\", labels.shape)\n",
    "    break  # Remove this line if you want to see shapes of more items"
   ]
  },
  {
   "cell_type": "code",
   "execution_count": 10,
   "metadata": {},
   "outputs": [
    {
     "data": {
      "text/plain": [
       "CNN_Ieeg_Model(\n",
       "  (conv_layers): ModuleList(\n",
       "    (0): Conv1d(1, 64, kernel_size=(3,), stride=(1,), padding=(1,))\n",
       "    (1): Conv1d(64, 128, kernel_size=(3,), stride=(1,), padding=(1,))\n",
       "    (2): Conv1d(128, 256, kernel_size=(3,), stride=(1,), padding=(1,))\n",
       "    (3): Conv1d(256, 512, kernel_size=(3,), stride=(1,), padding=(1,))\n",
       "  )\n",
       "  (bn_layers): ModuleList(\n",
       "    (0): BatchNorm1d(64, eps=1e-05, momentum=0.1, affine=True, track_running_stats=True)\n",
       "    (1): BatchNorm1d(128, eps=1e-05, momentum=0.1, affine=True, track_running_stats=True)\n",
       "    (2): BatchNorm1d(256, eps=1e-05, momentum=0.1, affine=True, track_running_stats=True)\n",
       "    (3): BatchNorm1d(512, eps=1e-05, momentum=0.1, affine=True, track_running_stats=True)\n",
       "  )\n",
       "  (activation): ReLU()\n",
       "  (dropout): Dropout(p=0.3, inplace=False)\n",
       "  (maxpool): MaxPool1d(kernel_size=2, stride=2, padding=0, dilation=1, ceil_mode=False)\n",
       "  (fc_layers): ModuleList(\n",
       "    (0): Linear(in_features=159744, out_features=1024, bias=True)\n",
       "    (1): Linear(in_features=1024, out_features=256, bias=True)\n",
       "  )\n",
       "  (output_layer): Linear(in_features=256, out_features=5, bias=True)\n",
       ")"
      ]
     },
     "execution_count": 10,
     "metadata": {},
     "output_type": "execute_result"
    }
   ],
   "source": [
    "model = CNN_Ieeg_Model(SEQ_LENGTH, NUM_CLASSES).to(DEVICE)\n",
    "model"
   ]
  },
  {
   "cell_type": "code",
   "execution_count": 11,
   "metadata": {},
   "outputs": [],
   "source": [
    "if LOAD_MODEL == True: # existe un modelo entrenado preliminarmente\n",
    "        import_checkpoint(torch.load('D:/Dropbox/PUJ/Subjects/Graduate/2023-1/Deep Learning/Lessons/9 - 24.04.23/my_checkpoint.pth.tar'), model)\n",
    "                                      \n",
    "optimizer = optim.Adam(model.parameters(), lr = LEARNING_RATE)\n",
    "criterion =  nn.CrossEntropyLoss()  \n",
    "scaler = torch.cuda.amp.GradScaler()"
   ]
  },
  {
   "cell_type": "code",
   "execution_count": 12,
   "metadata": {},
   "outputs": [
    {
     "data": {
      "text/plain": [
       "<Experiment: artifact_location='mlflow-artifacts:/9', creation_time=1716795170067, experiment_id='9', last_update_time=1716795170067, lifecycle_stage='active', name='IEEG_Classification_Arch_CNN_Hybrid', tags={}>"
      ]
     },
     "execution_count": 12,
     "metadata": {},
     "output_type": "execute_result"
    }
   ],
   "source": [
    "mlflow.set_experiment(EXPERIMENT_NAME)"
   ]
  },
  {
   "cell_type": "code",
   "execution_count": 13,
   "metadata": {},
   "outputs": [
    {
     "name": "stderr",
     "output_type": "stream",
     "text": [
      "2024/05/27 03:07:36 INFO mlflow.system_metrics.system_metrics_monitor: Started monitoring system metrics.\n"
     ]
    },
    {
     "data": {
      "application/vnd.jupyter.widget-view+json": {
       "model_id": "aa886fbf5fd1409c84f90b60811e37e4",
       "version_major": 2,
       "version_minor": 0
      },
      "text/plain": [
       "Epoch 1/50:   0%|          | 0/164 [00:00<?, ?batch/s]"
      ]
     },
     "metadata": {},
     "output_type": "display_data"
    },
    {
     "data": {
      "application/vnd.jupyter.widget-view+json": {
       "model_id": "ad1d6b568ad444a694ca1bc9bde4cf40",
       "version_major": 2,
       "version_minor": 0
      },
      "text/plain": [
       "Epoch 2/50:   0%|          | 0/164 [00:00<?, ?batch/s]"
      ]
     },
     "metadata": {},
     "output_type": "display_data"
    },
    {
     "data": {
      "application/vnd.jupyter.widget-view+json": {
       "model_id": "a0dfee4e04f34715977de114b29f82da",
       "version_major": 2,
       "version_minor": 0
      },
      "text/plain": [
       "Epoch 3/50:   0%|          | 0/164 [00:00<?, ?batch/s]"
      ]
     },
     "metadata": {},
     "output_type": "display_data"
    },
    {
     "data": {
      "application/vnd.jupyter.widget-view+json": {
       "model_id": "1f2d89cd58a44a96969af2001a0d9d3f",
       "version_major": 2,
       "version_minor": 0
      },
      "text/plain": [
       "Epoch 4/50:   0%|          | 0/164 [00:00<?, ?batch/s]"
      ]
     },
     "metadata": {},
     "output_type": "display_data"
    },
    {
     "data": {
      "application/vnd.jupyter.widget-view+json": {
       "model_id": "f68a782691344f60b764654185441367",
       "version_major": 2,
       "version_minor": 0
      },
      "text/plain": [
       "Epoch 5/50:   0%|          | 0/164 [00:00<?, ?batch/s]"
      ]
     },
     "metadata": {},
     "output_type": "display_data"
    },
    {
     "data": {
      "application/vnd.jupyter.widget-view+json": {
       "model_id": "88505561eb904643a5fead6e4eba85a3",
       "version_major": 2,
       "version_minor": 0
      },
      "text/plain": [
       "Epoch 6/50:   0%|          | 0/164 [00:00<?, ?batch/s]"
      ]
     },
     "metadata": {},
     "output_type": "display_data"
    },
    {
     "data": {
      "application/vnd.jupyter.widget-view+json": {
       "model_id": "cc5c8a586dc64ede8631bf6b5340b393",
       "version_major": 2,
       "version_minor": 0
      },
      "text/plain": [
       "Epoch 7/50:   0%|          | 0/164 [00:00<?, ?batch/s]"
      ]
     },
     "metadata": {},
     "output_type": "display_data"
    },
    {
     "data": {
      "application/vnd.jupyter.widget-view+json": {
       "model_id": "c675d8287c1e4643b6324090a17e620b",
       "version_major": 2,
       "version_minor": 0
      },
      "text/plain": [
       "Epoch 8/50:   0%|          | 0/164 [00:00<?, ?batch/s]"
      ]
     },
     "metadata": {},
     "output_type": "display_data"
    },
    {
     "data": {
      "application/vnd.jupyter.widget-view+json": {
       "model_id": "a50fb7c8313e4550a480710cd658a802",
       "version_major": 2,
       "version_minor": 0
      },
      "text/plain": [
       "Epoch 9/50:   0%|          | 0/164 [00:00<?, ?batch/s]"
      ]
     },
     "metadata": {},
     "output_type": "display_data"
    },
    {
     "data": {
      "application/vnd.jupyter.widget-view+json": {
       "model_id": "9506e898eb134f79b44b2292d697b9ce",
       "version_major": 2,
       "version_minor": 0
      },
      "text/plain": [
       "Epoch 10/50:   0%|          | 0/164 [00:00<?, ?batch/s]"
      ]
     },
     "metadata": {},
     "output_type": "display_data"
    },
    {
     "name": "stdout",
     "output_type": "stream",
     "text": [
      "Checkpoint saved successfully.\n"
     ]
    },
    {
     "data": {
      "application/vnd.jupyter.widget-view+json": {
       "model_id": "95d12bf1a917444dbe41b2309791efde",
       "version_major": 2,
       "version_minor": 0
      },
      "text/plain": [
       "Epoch 11/50:   0%|          | 0/164 [00:00<?, ?batch/s]"
      ]
     },
     "metadata": {},
     "output_type": "display_data"
    },
    {
     "data": {
      "application/vnd.jupyter.widget-view+json": {
       "model_id": "7fea432496d7420db83fefa11840c4ab",
       "version_major": 2,
       "version_minor": 0
      },
      "text/plain": [
       "Epoch 12/50:   0%|          | 0/164 [00:00<?, ?batch/s]"
      ]
     },
     "metadata": {},
     "output_type": "display_data"
    },
    {
     "data": {
      "application/vnd.jupyter.widget-view+json": {
       "model_id": "35e4e5a61d6340dfa48feb4138714d64",
       "version_major": 2,
       "version_minor": 0
      },
      "text/plain": [
       "Epoch 13/50:   0%|          | 0/164 [00:00<?, ?batch/s]"
      ]
     },
     "metadata": {},
     "output_type": "display_data"
    },
    {
     "data": {
      "application/vnd.jupyter.widget-view+json": {
       "model_id": "0449b4a7585343ce8b5da2376dd4ed79",
       "version_major": 2,
       "version_minor": 0
      },
      "text/plain": [
       "Epoch 14/50:   0%|          | 0/164 [00:00<?, ?batch/s]"
      ]
     },
     "metadata": {},
     "output_type": "display_data"
    },
    {
     "data": {
      "application/vnd.jupyter.widget-view+json": {
       "model_id": "551cb6454075486498fa958f0fcad694",
       "version_major": 2,
       "version_minor": 0
      },
      "text/plain": [
       "Epoch 15/50:   0%|          | 0/164 [00:00<?, ?batch/s]"
      ]
     },
     "metadata": {},
     "output_type": "display_data"
    },
    {
     "data": {
      "application/vnd.jupyter.widget-view+json": {
       "model_id": "3876e74f9dc04b8eb9854f33c0710dde",
       "version_major": 2,
       "version_minor": 0
      },
      "text/plain": [
       "Epoch 16/50:   0%|          | 0/164 [00:00<?, ?batch/s]"
      ]
     },
     "metadata": {},
     "output_type": "display_data"
    },
    {
     "data": {
      "application/vnd.jupyter.widget-view+json": {
       "model_id": "ba32a67b955d4f49aba7e1d09039fe76",
       "version_major": 2,
       "version_minor": 0
      },
      "text/plain": [
       "Epoch 17/50:   0%|          | 0/164 [00:00<?, ?batch/s]"
      ]
     },
     "metadata": {},
     "output_type": "display_data"
    },
    {
     "data": {
      "application/vnd.jupyter.widget-view+json": {
       "model_id": "6f5ffd0975644947b371540172225153",
       "version_major": 2,
       "version_minor": 0
      },
      "text/plain": [
       "Epoch 18/50:   0%|          | 0/164 [00:00<?, ?batch/s]"
      ]
     },
     "metadata": {},
     "output_type": "display_data"
    },
    {
     "data": {
      "application/vnd.jupyter.widget-view+json": {
       "model_id": "0531f7cea3624d5f937113113b2ab822",
       "version_major": 2,
       "version_minor": 0
      },
      "text/plain": [
       "Epoch 19/50:   0%|          | 0/164 [00:00<?, ?batch/s]"
      ]
     },
     "metadata": {},
     "output_type": "display_data"
    },
    {
     "data": {
      "application/vnd.jupyter.widget-view+json": {
       "model_id": "444a66541cfb4edaa41bc9dae18dbe24",
       "version_major": 2,
       "version_minor": 0
      },
      "text/plain": [
       "Epoch 20/50:   0%|          | 0/164 [00:00<?, ?batch/s]"
      ]
     },
     "metadata": {},
     "output_type": "display_data"
    },
    {
     "name": "stdout",
     "output_type": "stream",
     "text": [
      "Checkpoint saved successfully.\n"
     ]
    },
    {
     "data": {
      "application/vnd.jupyter.widget-view+json": {
       "model_id": "d6f29fb2b1b2443d90d3d70acaec66be",
       "version_major": 2,
       "version_minor": 0
      },
      "text/plain": [
       "Epoch 21/50:   0%|          | 0/164 [00:00<?, ?batch/s]"
      ]
     },
     "metadata": {},
     "output_type": "display_data"
    },
    {
     "data": {
      "application/vnd.jupyter.widget-view+json": {
       "model_id": "36c1588214a146b1ae5b258f9bf7dbce",
       "version_major": 2,
       "version_minor": 0
      },
      "text/plain": [
       "Epoch 22/50:   0%|          | 0/164 [00:00<?, ?batch/s]"
      ]
     },
     "metadata": {},
     "output_type": "display_data"
    },
    {
     "data": {
      "application/vnd.jupyter.widget-view+json": {
       "model_id": "8df9b8d316224527baa5210a0f62da06",
       "version_major": 2,
       "version_minor": 0
      },
      "text/plain": [
       "Epoch 23/50:   0%|          | 0/164 [00:00<?, ?batch/s]"
      ]
     },
     "metadata": {},
     "output_type": "display_data"
    },
    {
     "data": {
      "application/vnd.jupyter.widget-view+json": {
       "model_id": "71e5c2496cfe4af5b0500c330747c801",
       "version_major": 2,
       "version_minor": 0
      },
      "text/plain": [
       "Epoch 24/50:   0%|          | 0/164 [00:00<?, ?batch/s]"
      ]
     },
     "metadata": {},
     "output_type": "display_data"
    },
    {
     "data": {
      "application/vnd.jupyter.widget-view+json": {
       "model_id": "d3e7c89c66ef4b79b51cf18dceb09b8d",
       "version_major": 2,
       "version_minor": 0
      },
      "text/plain": [
       "Epoch 25/50:   0%|          | 0/164 [00:00<?, ?batch/s]"
      ]
     },
     "metadata": {},
     "output_type": "display_data"
    },
    {
     "data": {
      "application/vnd.jupyter.widget-view+json": {
       "model_id": "8866cb12a94b4aa39832e6863bcc0973",
       "version_major": 2,
       "version_minor": 0
      },
      "text/plain": [
       "Epoch 26/50:   0%|          | 0/164 [00:00<?, ?batch/s]"
      ]
     },
     "metadata": {},
     "output_type": "display_data"
    },
    {
     "data": {
      "application/vnd.jupyter.widget-view+json": {
       "model_id": "cf6521b43bc441e7a85dcf461f9b11d3",
       "version_major": 2,
       "version_minor": 0
      },
      "text/plain": [
       "Epoch 27/50:   0%|          | 0/164 [00:00<?, ?batch/s]"
      ]
     },
     "metadata": {},
     "output_type": "display_data"
    },
    {
     "data": {
      "application/vnd.jupyter.widget-view+json": {
       "model_id": "0735c87cae9542ba8b7564fb1fca633a",
       "version_major": 2,
       "version_minor": 0
      },
      "text/plain": [
       "Epoch 28/50:   0%|          | 0/164 [00:00<?, ?batch/s]"
      ]
     },
     "metadata": {},
     "output_type": "display_data"
    },
    {
     "data": {
      "application/vnd.jupyter.widget-view+json": {
       "model_id": "98ec3d181ee6424ca506cd414bba146c",
       "version_major": 2,
       "version_minor": 0
      },
      "text/plain": [
       "Epoch 29/50:   0%|          | 0/164 [00:00<?, ?batch/s]"
      ]
     },
     "metadata": {},
     "output_type": "display_data"
    },
    {
     "data": {
      "application/vnd.jupyter.widget-view+json": {
       "model_id": "4ad5c6d7eed749e19367701688921e1f",
       "version_major": 2,
       "version_minor": 0
      },
      "text/plain": [
       "Epoch 30/50:   0%|          | 0/164 [00:00<?, ?batch/s]"
      ]
     },
     "metadata": {},
     "output_type": "display_data"
    },
    {
     "name": "stdout",
     "output_type": "stream",
     "text": [
      "Checkpoint saved successfully.\n"
     ]
    },
    {
     "data": {
      "application/vnd.jupyter.widget-view+json": {
       "model_id": "ad63481991d148958eb5fbc1286f149b",
       "version_major": 2,
       "version_minor": 0
      },
      "text/plain": [
       "Epoch 31/50:   0%|          | 0/164 [00:00<?, ?batch/s]"
      ]
     },
     "metadata": {},
     "output_type": "display_data"
    },
    {
     "data": {
      "application/vnd.jupyter.widget-view+json": {
       "model_id": "a302e16ceb5348b881d8cc5c79ed99c1",
       "version_major": 2,
       "version_minor": 0
      },
      "text/plain": [
       "Epoch 32/50:   0%|          | 0/164 [00:00<?, ?batch/s]"
      ]
     },
     "metadata": {},
     "output_type": "display_data"
    },
    {
     "data": {
      "application/vnd.jupyter.widget-view+json": {
       "model_id": "c7ffde025f004e8287f6bbd9ce7a0a33",
       "version_major": 2,
       "version_minor": 0
      },
      "text/plain": [
       "Epoch 33/50:   0%|          | 0/164 [00:00<?, ?batch/s]"
      ]
     },
     "metadata": {},
     "output_type": "display_data"
    },
    {
     "data": {
      "application/vnd.jupyter.widget-view+json": {
       "model_id": "19b588b129ed4a179ab2b3b4828c4ad3",
       "version_major": 2,
       "version_minor": 0
      },
      "text/plain": [
       "Epoch 34/50:   0%|          | 0/164 [00:00<?, ?batch/s]"
      ]
     },
     "metadata": {},
     "output_type": "display_data"
    },
    {
     "data": {
      "application/vnd.jupyter.widget-view+json": {
       "model_id": "5393721df7ed43c3827504de68a6cf8a",
       "version_major": 2,
       "version_minor": 0
      },
      "text/plain": [
       "Epoch 35/50:   0%|          | 0/164 [00:00<?, ?batch/s]"
      ]
     },
     "metadata": {},
     "output_type": "display_data"
    },
    {
     "data": {
      "application/vnd.jupyter.widget-view+json": {
       "model_id": "c7e3d9a9de544e308daa905da6c34f12",
       "version_major": 2,
       "version_minor": 0
      },
      "text/plain": [
       "Epoch 36/50:   0%|          | 0/164 [00:00<?, ?batch/s]"
      ]
     },
     "metadata": {},
     "output_type": "display_data"
    },
    {
     "data": {
      "application/vnd.jupyter.widget-view+json": {
       "model_id": "c0dc5eeb53e34a6e89fc813cde7dda45",
       "version_major": 2,
       "version_minor": 0
      },
      "text/plain": [
       "Epoch 37/50:   0%|          | 0/164 [00:00<?, ?batch/s]"
      ]
     },
     "metadata": {},
     "output_type": "display_data"
    },
    {
     "data": {
      "application/vnd.jupyter.widget-view+json": {
       "model_id": "1f366f826d2d4332b5bc7207a1722d26",
       "version_major": 2,
       "version_minor": 0
      },
      "text/plain": [
       "Epoch 38/50:   0%|          | 0/164 [00:00<?, ?batch/s]"
      ]
     },
     "metadata": {},
     "output_type": "display_data"
    },
    {
     "data": {
      "application/vnd.jupyter.widget-view+json": {
       "model_id": "f0cbb820f90a46bba08b249324626f73",
       "version_major": 2,
       "version_minor": 0
      },
      "text/plain": [
       "Epoch 39/50:   0%|          | 0/164 [00:00<?, ?batch/s]"
      ]
     },
     "metadata": {},
     "output_type": "display_data"
    },
    {
     "data": {
      "application/vnd.jupyter.widget-view+json": {
       "model_id": "02c4f8d6aa6a411087079df7dc1f505b",
       "version_major": 2,
       "version_minor": 0
      },
      "text/plain": [
       "Epoch 40/50:   0%|          | 0/164 [00:00<?, ?batch/s]"
      ]
     },
     "metadata": {},
     "output_type": "display_data"
    },
    {
     "name": "stdout",
     "output_type": "stream",
     "text": [
      "Checkpoint saved successfully.\n"
     ]
    },
    {
     "data": {
      "application/vnd.jupyter.widget-view+json": {
       "model_id": "dba3d4a386ab41bbbdb1ff0a43045eac",
       "version_major": 2,
       "version_minor": 0
      },
      "text/plain": [
       "Epoch 41/50:   0%|          | 0/164 [00:00<?, ?batch/s]"
      ]
     },
     "metadata": {},
     "output_type": "display_data"
    },
    {
     "data": {
      "application/vnd.jupyter.widget-view+json": {
       "model_id": "93cb0af7b6fa48c9a8646cdb42f3163a",
       "version_major": 2,
       "version_minor": 0
      },
      "text/plain": [
       "Epoch 42/50:   0%|          | 0/164 [00:00<?, ?batch/s]"
      ]
     },
     "metadata": {},
     "output_type": "display_data"
    },
    {
     "data": {
      "application/vnd.jupyter.widget-view+json": {
       "model_id": "2d5622319d9c4ae98636e05068b39e7b",
       "version_major": 2,
       "version_minor": 0
      },
      "text/plain": [
       "Epoch 43/50:   0%|          | 0/164 [00:00<?, ?batch/s]"
      ]
     },
     "metadata": {},
     "output_type": "display_data"
    },
    {
     "data": {
      "application/vnd.jupyter.widget-view+json": {
       "model_id": "b263e629bac6493ea28513d8b9783162",
       "version_major": 2,
       "version_minor": 0
      },
      "text/plain": [
       "Epoch 44/50:   0%|          | 0/164 [00:00<?, ?batch/s]"
      ]
     },
     "metadata": {},
     "output_type": "display_data"
    },
    {
     "data": {
      "application/vnd.jupyter.widget-view+json": {
       "model_id": "eb708c4f33504c3698c68f6a6179faba",
       "version_major": 2,
       "version_minor": 0
      },
      "text/plain": [
       "Epoch 45/50:   0%|          | 0/164 [00:00<?, ?batch/s]"
      ]
     },
     "metadata": {},
     "output_type": "display_data"
    },
    {
     "data": {
      "application/vnd.jupyter.widget-view+json": {
       "model_id": "a7eda0857cb7474289ca295f4c04b03f",
       "version_major": 2,
       "version_minor": 0
      },
      "text/plain": [
       "Epoch 46/50:   0%|          | 0/164 [00:00<?, ?batch/s]"
      ]
     },
     "metadata": {},
     "output_type": "display_data"
    },
    {
     "data": {
      "application/vnd.jupyter.widget-view+json": {
       "model_id": "3e21d8826d224ba49e6533bfd524320c",
       "version_major": 2,
       "version_minor": 0
      },
      "text/plain": [
       "Epoch 47/50:   0%|          | 0/164 [00:00<?, ?batch/s]"
      ]
     },
     "metadata": {},
     "output_type": "display_data"
    },
    {
     "data": {
      "application/vnd.jupyter.widget-view+json": {
       "model_id": "9db63224b05b4f5a9ae3b0775476e62b",
       "version_major": 2,
       "version_minor": 0
      },
      "text/plain": [
       "Epoch 48/50:   0%|          | 0/164 [00:00<?, ?batch/s]"
      ]
     },
     "metadata": {},
     "output_type": "display_data"
    },
    {
     "data": {
      "application/vnd.jupyter.widget-view+json": {
       "model_id": "30ec3579644846219c4f2ce8da72fd94",
       "version_major": 2,
       "version_minor": 0
      },
      "text/plain": [
       "Epoch 49/50:   0%|          | 0/164 [00:00<?, ?batch/s]"
      ]
     },
     "metadata": {},
     "output_type": "display_data"
    },
    {
     "data": {
      "application/vnd.jupyter.widget-view+json": {
       "model_id": "299d6c3e7c5941b7b762ef1e4bc78876",
       "version_major": 2,
       "version_minor": 0
      },
      "text/plain": [
       "Epoch 50/50:   0%|          | 0/164 [00:00<?, ?batch/s]"
      ]
     },
     "metadata": {},
     "output_type": "display_data"
    },
    {
     "name": "stdout",
     "output_type": "stream",
     "text": [
      "Checkpoint saved successfully.\n"
     ]
    },
    {
     "data": {
      "application/vnd.jupyter.widget-view+json": {
       "model_id": "06cd73751aab438c91124b407e915aa5",
       "version_major": 2,
       "version_minor": 0
      },
      "text/plain": [
       "Evaluating:   0%|          | 0/41 [00:00<?, ?batch/s]"
      ]
     },
     "metadata": {},
     "output_type": "display_data"
    },
    {
     "name": "stderr",
     "output_type": "stream",
     "text": [
      "/home/danielcrovo/anaconda3/envs/ieeg/lib/python3.12/site-packages/torch/nn/modules/conv.py:306: UserWarning: Plan failed with a cudnnException: CUDNN_BACKEND_EXECUTION_PLAN_DESCRIPTOR: cudnnFinalize Descriptor Failed cudnn_status: CUDNN_STATUS_NOT_SUPPORTED (Triggered internally at ../aten/src/ATen/native/cudnn/Conv_v8.cpp:919.)\n",
      "  return F.conv1d(input, weight, bias, self.stride,\n"
     ]
    },
    {
     "name": "stdout",
     "output_type": "stream",
     "text": [
      "Accuracy of the model on the test data: 0.94%\n",
      "Precision: 0.9450, Recall: 0.9443, F1 Score: 0.9434\n"
     ]
    },
    {
     "name": "stderr",
     "output_type": "stream",
     "text": [
      "2024/05/27 03:23:21 INFO mlflow.system_metrics.system_metrics_monitor: Stopping system metrics monitoring...\n",
      "2024/05/27 03:23:21 INFO mlflow.system_metrics.system_metrics_monitor: Successfully terminated system metrics monitoring!\n"
     ]
    }
   ],
   "source": [
    "# Train and Evaluate the Model with MLflow\n",
    "run_name = \"CNN_Experiment\"\n",
    "with mlflow.start_run(run_name=run_name) as run:\n",
    "    # Log parameters\n",
    "    mlflow.log_param(\"epochs\", NUM_EPOCHS)\n",
    "    mlflow.log_param(\"batch_size\", BATCH_SIZE)\n",
    "    mlflow.log_param(\"learning_rate\", LEARNING_RATE)\n",
    "    mlflow.log_param(\"model\", \"CNN\")\n",
    "    mlflow.log_param(\"input_size\", SEQ_LENGTH)\n",
    "    mlflow.log_param(\"num_classes\", NUM_CLASSES)\n",
    "    mlflow.log_dict(dataset.get_class_mapping(), \"class_mapping.json\")\n",
    "\n",
    "    # Train and Evaluate the Model\n",
    "    train_model(model, train_loader, optimizer, criterion, NUM_EPOCHS, DEVICE, early_stopping_patience=20,save_checkpoint_interval=10, checkpoint_dir=CHECKPOINTS_PATH, cnn=True, model_name=\"CNN\")\n",
    "    evaluate_model(model, test_loader, dataset, DEVICE, img_path='../plots', run_name=run_name, cnn=True)\n",
    "\n",
    "    # Log the model\n",
    "    mlflow.pytorch.log_model(model, \"model_CNN\")"
   ]
  },
  {
   "cell_type": "code",
   "execution_count": 9,
   "metadata": {},
   "outputs": [
    {
     "name": "stdout",
     "output_type": "stream",
     "text": [
      "Saved feature maps for layer 1 to ../plots/feature_maps/feature_maps_layer_1_example_run_sample_0.png\n",
      "Saved feature maps for layer 2 to ../plots/feature_maps/feature_maps_layer_2_example_run_sample_0.png\n",
      "Saved feature maps for layer 3 to ../plots/feature_maps/feature_maps_layer_3_example_run_sample_0.png\n",
      "Saved feature maps for layer 4 to ../plots/feature_maps/feature_maps_layer_4_example_run_sample_0.png\n"
     ]
    }
   ],
   "source": [
    "# Example usage\n",
    "plot_feature_maps(feature_maps_file='../plots/feature_maps_CNN_Experiment.pt', \n",
    "                  sample_index=0, \n",
    "                  img_path='../plots/feature_maps', \n",
    "                  run_name='example_run')"
   ]
  },
  {
   "cell_type": "markdown",
   "metadata": {},
   "source": [
    "# ANN Simple "
   ]
  },
  {
   "cell_type": "code",
   "execution_count": 46,
   "metadata": {},
   "outputs": [],
   "source": [
    "train_loader, test_loader, dataset = get_loaders(data_dir=DATA_DIR, batch_size=BATCH_SIZE, num_workers=NUM_WORKERS,\n",
    "                                        pin_memory=PIN_MEMORY, test_size=0.2, seq_length=SEQ_LENGTH, model_type=\"mlp\")"
   ]
  },
  {
   "cell_type": "code",
   "execution_count": 49,
   "metadata": {},
   "outputs": [
    {
     "data": {
      "text/plain": [
       "Baseline_ANN(\n",
       "  (hidden_layers): ModuleList(\n",
       "    (0): Linear(in_features=5000, out_features=2048, bias=True)\n",
       "    (1): Linear(in_features=2048, out_features=1024, bias=True)\n",
       "    (2): Linear(in_features=1024, out_features=256, bias=True)\n",
       "    (3): Linear(in_features=256, out_features=64, bias=True)\n",
       "  )\n",
       "  (dropout): Dropout(p=0.1, inplace=False)\n",
       "  (activation): ReLU()\n",
       "  (output_layer): Linear(in_features=64, out_features=5, bias=True)\n",
       ")"
      ]
     },
     "execution_count": 49,
     "metadata": {},
     "output_type": "execute_result"
    }
   ],
   "source": [
    "model = Baseline_ANN(INPUT_SIZE, NUM_CLASSES).to(DEVICE)\n",
    "\n",
    "criterion = nn.CrossEntropyLoss()\n",
    "optimizer = optim.Adam(model.parameters(), lr=LEARNING_RATE)\n",
    "model"
   ]
  },
  {
   "cell_type": "code",
   "execution_count": 50,
   "metadata": {},
   "outputs": [
    {
     "data": {
      "text/plain": [
       "<Experiment: artifact_location='mlflow-artifacts:/8', creation_time=1716783309844, experiment_id='8', last_update_time=1716783309844, lifecycle_stage='active', name='IEEG_Classification_Architecture_Comp', tags={}>"
      ]
     },
     "execution_count": 50,
     "metadata": {},
     "output_type": "execute_result"
    }
   ],
   "source": [
    "mlflow.set_experiment(EXPERIMENT_NAME)"
   ]
  },
  {
   "cell_type": "code",
   "execution_count": 52,
   "metadata": {},
   "outputs": [
    {
     "name": "stderr",
     "output_type": "stream",
     "text": [
      "2024/05/27 00:08:34 INFO mlflow.system_metrics.system_metrics_monitor: Started monitoring system metrics.\n"
     ]
    },
    {
     "data": {
      "application/vnd.jupyter.widget-view+json": {
       "model_id": "92f3cc05c9d6453e86b1dd48a3506a6a",
       "version_major": 2,
       "version_minor": 0
      },
      "text/plain": [
       "Epoch 1/40:   0%|          | 0/164 [00:00<?, ?batch/s]"
      ]
     },
     "metadata": {},
     "output_type": "display_data"
    },
    {
     "data": {
      "application/vnd.jupyter.widget-view+json": {
       "model_id": "5e6b71a47100411f8e3ecc45d0ffba79",
       "version_major": 2,
       "version_minor": 0
      },
      "text/plain": [
       "Epoch 2/40:   0%|          | 0/164 [00:00<?, ?batch/s]"
      ]
     },
     "metadata": {},
     "output_type": "display_data"
    },
    {
     "data": {
      "application/vnd.jupyter.widget-view+json": {
       "model_id": "25e0c7765bec46b4be4b939e08653341",
       "version_major": 2,
       "version_minor": 0
      },
      "text/plain": [
       "Epoch 3/40:   0%|          | 0/164 [00:00<?, ?batch/s]"
      ]
     },
     "metadata": {},
     "output_type": "display_data"
    },
    {
     "data": {
      "application/vnd.jupyter.widget-view+json": {
       "model_id": "2bff2a20ebff406fb5a5ef148863aa86",
       "version_major": 2,
       "version_minor": 0
      },
      "text/plain": [
       "Epoch 4/40:   0%|          | 0/164 [00:00<?, ?batch/s]"
      ]
     },
     "metadata": {},
     "output_type": "display_data"
    },
    {
     "data": {
      "application/vnd.jupyter.widget-view+json": {
       "model_id": "b46389db2b304e559bd034e2d6d63f7b",
       "version_major": 2,
       "version_minor": 0
      },
      "text/plain": [
       "Epoch 5/40:   0%|          | 0/164 [00:00<?, ?batch/s]"
      ]
     },
     "metadata": {},
     "output_type": "display_data"
    },
    {
     "data": {
      "application/vnd.jupyter.widget-view+json": {
       "model_id": "17ca9df3a1734b5caced529f57d25afe",
       "version_major": 2,
       "version_minor": 0
      },
      "text/plain": [
       "Epoch 6/40:   0%|          | 0/164 [00:00<?, ?batch/s]"
      ]
     },
     "metadata": {},
     "output_type": "display_data"
    },
    {
     "data": {
      "application/vnd.jupyter.widget-view+json": {
       "model_id": "c19d04093daf4cdeb2727ab5662f79aa",
       "version_major": 2,
       "version_minor": 0
      },
      "text/plain": [
       "Epoch 7/40:   0%|          | 0/164 [00:00<?, ?batch/s]"
      ]
     },
     "metadata": {},
     "output_type": "display_data"
    },
    {
     "data": {
      "application/vnd.jupyter.widget-view+json": {
       "model_id": "3cd25078c2634f899f3ef1bbd77526b8",
       "version_major": 2,
       "version_minor": 0
      },
      "text/plain": [
       "Epoch 8/40:   0%|          | 0/164 [00:00<?, ?batch/s]"
      ]
     },
     "metadata": {},
     "output_type": "display_data"
    },
    {
     "data": {
      "application/vnd.jupyter.widget-view+json": {
       "model_id": "07c1658c02b645e8b8ef07d42db23af1",
       "version_major": 2,
       "version_minor": 0
      },
      "text/plain": [
       "Epoch 9/40:   0%|          | 0/164 [00:00<?, ?batch/s]"
      ]
     },
     "metadata": {},
     "output_type": "display_data"
    },
    {
     "data": {
      "application/vnd.jupyter.widget-view+json": {
       "model_id": "ff0f46fd325a4974881e330c76f7d521",
       "version_major": 2,
       "version_minor": 0
      },
      "text/plain": [
       "Epoch 10/40:   0%|          | 0/164 [00:00<?, ?batch/s]"
      ]
     },
     "metadata": {},
     "output_type": "display_data"
    },
    {
     "name": "stdout",
     "output_type": "stream",
     "text": [
      "Checkpoint saved successfully.\n"
     ]
    },
    {
     "data": {
      "application/vnd.jupyter.widget-view+json": {
       "model_id": "3cb06c9bc20c41f7b51bb46531528070",
       "version_major": 2,
       "version_minor": 0
      },
      "text/plain": [
       "Epoch 11/40:   0%|          | 0/164 [00:00<?, ?batch/s]"
      ]
     },
     "metadata": {},
     "output_type": "display_data"
    },
    {
     "data": {
      "application/vnd.jupyter.widget-view+json": {
       "model_id": "c5804d29b6664ea585b8b027fe151615",
       "version_major": 2,
       "version_minor": 0
      },
      "text/plain": [
       "Epoch 12/40:   0%|          | 0/164 [00:00<?, ?batch/s]"
      ]
     },
     "metadata": {},
     "output_type": "display_data"
    },
    {
     "data": {
      "application/vnd.jupyter.widget-view+json": {
       "model_id": "1ba12cb950d64d26935f0a0f5bd4b392",
       "version_major": 2,
       "version_minor": 0
      },
      "text/plain": [
       "Epoch 13/40:   0%|          | 0/164 [00:00<?, ?batch/s]"
      ]
     },
     "metadata": {},
     "output_type": "display_data"
    },
    {
     "data": {
      "application/vnd.jupyter.widget-view+json": {
       "model_id": "992e4d1bd1f248db91c6c01f296ce327",
       "version_major": 2,
       "version_minor": 0
      },
      "text/plain": [
       "Epoch 14/40:   0%|          | 0/164 [00:00<?, ?batch/s]"
      ]
     },
     "metadata": {},
     "output_type": "display_data"
    },
    {
     "data": {
      "application/vnd.jupyter.widget-view+json": {
       "model_id": "b55d556abcf240b2b3eab9dc43eb4634",
       "version_major": 2,
       "version_minor": 0
      },
      "text/plain": [
       "Epoch 15/40:   0%|          | 0/164 [00:00<?, ?batch/s]"
      ]
     },
     "metadata": {},
     "output_type": "display_data"
    },
    {
     "data": {
      "application/vnd.jupyter.widget-view+json": {
       "model_id": "eb772eb84dd44bbdae69135e3eca618a",
       "version_major": 2,
       "version_minor": 0
      },
      "text/plain": [
       "Epoch 16/40:   0%|          | 0/164 [00:00<?, ?batch/s]"
      ]
     },
     "metadata": {},
     "output_type": "display_data"
    },
    {
     "data": {
      "application/vnd.jupyter.widget-view+json": {
       "model_id": "00193b2deb384c14910d021c0936cf85",
       "version_major": 2,
       "version_minor": 0
      },
      "text/plain": [
       "Epoch 17/40:   0%|          | 0/164 [00:00<?, ?batch/s]"
      ]
     },
     "metadata": {},
     "output_type": "display_data"
    },
    {
     "data": {
      "application/vnd.jupyter.widget-view+json": {
       "model_id": "34fce3b632f84874bed21a98011b6d4f",
       "version_major": 2,
       "version_minor": 0
      },
      "text/plain": [
       "Epoch 18/40:   0%|          | 0/164 [00:00<?, ?batch/s]"
      ]
     },
     "metadata": {},
     "output_type": "display_data"
    },
    {
     "data": {
      "application/vnd.jupyter.widget-view+json": {
       "model_id": "8d8a156db88b4f4aa334784ae690add6",
       "version_major": 2,
       "version_minor": 0
      },
      "text/plain": [
       "Epoch 19/40:   0%|          | 0/164 [00:00<?, ?batch/s]"
      ]
     },
     "metadata": {},
     "output_type": "display_data"
    },
    {
     "data": {
      "application/vnd.jupyter.widget-view+json": {
       "model_id": "3e578a942c954f339a395cf093e3ca99",
       "version_major": 2,
       "version_minor": 0
      },
      "text/plain": [
       "Epoch 20/40:   0%|          | 0/164 [00:00<?, ?batch/s]"
      ]
     },
     "metadata": {},
     "output_type": "display_data"
    },
    {
     "name": "stdout",
     "output_type": "stream",
     "text": [
      "Checkpoint saved successfully.\n"
     ]
    },
    {
     "data": {
      "application/vnd.jupyter.widget-view+json": {
       "model_id": "defe63c76b564b01baa7ccd0dce630f1",
       "version_major": 2,
       "version_minor": 0
      },
      "text/plain": [
       "Epoch 21/40:   0%|          | 0/164 [00:00<?, ?batch/s]"
      ]
     },
     "metadata": {},
     "output_type": "display_data"
    },
    {
     "data": {
      "application/vnd.jupyter.widget-view+json": {
       "model_id": "b3ed156e59db44d099bbbe2cc9976f5a",
       "version_major": 2,
       "version_minor": 0
      },
      "text/plain": [
       "Epoch 22/40:   0%|          | 0/164 [00:00<?, ?batch/s]"
      ]
     },
     "metadata": {},
     "output_type": "display_data"
    },
    {
     "data": {
      "application/vnd.jupyter.widget-view+json": {
       "model_id": "503a9d6045454775a3cd8955d4f384d9",
       "version_major": 2,
       "version_minor": 0
      },
      "text/plain": [
       "Epoch 23/40:   0%|          | 0/164 [00:00<?, ?batch/s]"
      ]
     },
     "metadata": {},
     "output_type": "display_data"
    },
    {
     "data": {
      "application/vnd.jupyter.widget-view+json": {
       "model_id": "24240be9dd8e4db288065b698f8cadbb",
       "version_major": 2,
       "version_minor": 0
      },
      "text/plain": [
       "Epoch 24/40:   0%|          | 0/164 [00:00<?, ?batch/s]"
      ]
     },
     "metadata": {},
     "output_type": "display_data"
    },
    {
     "data": {
      "application/vnd.jupyter.widget-view+json": {
       "model_id": "4ff286be90c34ce0b0a5af7376c51903",
       "version_major": 2,
       "version_minor": 0
      },
      "text/plain": [
       "Epoch 25/40:   0%|          | 0/164 [00:00<?, ?batch/s]"
      ]
     },
     "metadata": {},
     "output_type": "display_data"
    },
    {
     "data": {
      "application/vnd.jupyter.widget-view+json": {
       "model_id": "a86afe2a760e49fab9c2e98518af92fc",
       "version_major": 2,
       "version_minor": 0
      },
      "text/plain": [
       "Epoch 26/40:   0%|          | 0/164 [00:00<?, ?batch/s]"
      ]
     },
     "metadata": {},
     "output_type": "display_data"
    },
    {
     "data": {
      "application/vnd.jupyter.widget-view+json": {
       "model_id": "4058168bea3f47ef8b3805edb8d219e5",
       "version_major": 2,
       "version_minor": 0
      },
      "text/plain": [
       "Epoch 27/40:   0%|          | 0/164 [00:00<?, ?batch/s]"
      ]
     },
     "metadata": {},
     "output_type": "display_data"
    },
    {
     "data": {
      "application/vnd.jupyter.widget-view+json": {
       "model_id": "db0f014e8c0747dabdc33fb4f8ccb1df",
       "version_major": 2,
       "version_minor": 0
      },
      "text/plain": [
       "Epoch 28/40:   0%|          | 0/164 [00:00<?, ?batch/s]"
      ]
     },
     "metadata": {},
     "output_type": "display_data"
    },
    {
     "data": {
      "application/vnd.jupyter.widget-view+json": {
       "model_id": "698155cdf7894c72a2a1d9a6f3f67873",
       "version_major": 2,
       "version_minor": 0
      },
      "text/plain": [
       "Epoch 29/40:   0%|          | 0/164 [00:00<?, ?batch/s]"
      ]
     },
     "metadata": {},
     "output_type": "display_data"
    },
    {
     "data": {
      "application/vnd.jupyter.widget-view+json": {
       "model_id": "7dbae6ca872a492d93dd3982ddee59e9",
       "version_major": 2,
       "version_minor": 0
      },
      "text/plain": [
       "Epoch 30/40:   0%|          | 0/164 [00:00<?, ?batch/s]"
      ]
     },
     "metadata": {},
     "output_type": "display_data"
    },
    {
     "name": "stdout",
     "output_type": "stream",
     "text": [
      "Checkpoint saved successfully.\n"
     ]
    },
    {
     "data": {
      "application/vnd.jupyter.widget-view+json": {
       "model_id": "1a9a87bfd69745b28e1873bf0ef8e60a",
       "version_major": 2,
       "version_minor": 0
      },
      "text/plain": [
       "Epoch 31/40:   0%|          | 0/164 [00:00<?, ?batch/s]"
      ]
     },
     "metadata": {},
     "output_type": "display_data"
    },
    {
     "data": {
      "application/vnd.jupyter.widget-view+json": {
       "model_id": "d9e215cc73ea4d1c8d1cc449918e0ea9",
       "version_major": 2,
       "version_minor": 0
      },
      "text/plain": [
       "Epoch 32/40:   0%|          | 0/164 [00:00<?, ?batch/s]"
      ]
     },
     "metadata": {},
     "output_type": "display_data"
    },
    {
     "data": {
      "application/vnd.jupyter.widget-view+json": {
       "model_id": "e4d4860cbfbc49ddb7661d62da3d4e87",
       "version_major": 2,
       "version_minor": 0
      },
      "text/plain": [
       "Epoch 33/40:   0%|          | 0/164 [00:00<?, ?batch/s]"
      ]
     },
     "metadata": {},
     "output_type": "display_data"
    },
    {
     "data": {
      "application/vnd.jupyter.widget-view+json": {
       "model_id": "a95d050bbfb7478a97585d04487b2944",
       "version_major": 2,
       "version_minor": 0
      },
      "text/plain": [
       "Epoch 34/40:   0%|          | 0/164 [00:00<?, ?batch/s]"
      ]
     },
     "metadata": {},
     "output_type": "display_data"
    },
    {
     "data": {
      "application/vnd.jupyter.widget-view+json": {
       "model_id": "66642e02df2c443cb0161c0fae6047f6",
       "version_major": 2,
       "version_minor": 0
      },
      "text/plain": [
       "Epoch 35/40:   0%|          | 0/164 [00:00<?, ?batch/s]"
      ]
     },
     "metadata": {},
     "output_type": "display_data"
    },
    {
     "data": {
      "application/vnd.jupyter.widget-view+json": {
       "model_id": "a4be898f90b64b9bbc8c0c91a0319bf4",
       "version_major": 2,
       "version_minor": 0
      },
      "text/plain": [
       "Epoch 36/40:   0%|          | 0/164 [00:00<?, ?batch/s]"
      ]
     },
     "metadata": {},
     "output_type": "display_data"
    },
    {
     "data": {
      "application/vnd.jupyter.widget-view+json": {
       "model_id": "339ca165d8b24b5c8a5c194a820fe0d9",
       "version_major": 2,
       "version_minor": 0
      },
      "text/plain": [
       "Epoch 37/40:   0%|          | 0/164 [00:00<?, ?batch/s]"
      ]
     },
     "metadata": {},
     "output_type": "display_data"
    },
    {
     "data": {
      "application/vnd.jupyter.widget-view+json": {
       "model_id": "6b3eabf558534b2cb4cc04662f2d27a2",
       "version_major": 2,
       "version_minor": 0
      },
      "text/plain": [
       "Epoch 38/40:   0%|          | 0/164 [00:00<?, ?batch/s]"
      ]
     },
     "metadata": {},
     "output_type": "display_data"
    },
    {
     "data": {
      "application/vnd.jupyter.widget-view+json": {
       "model_id": "a0e44c8794264765aa424e7892790f2d",
       "version_major": 2,
       "version_minor": 0
      },
      "text/plain": [
       "Epoch 39/40:   0%|          | 0/164 [00:00<?, ?batch/s]"
      ]
     },
     "metadata": {},
     "output_type": "display_data"
    },
    {
     "data": {
      "application/vnd.jupyter.widget-view+json": {
       "model_id": "187e1d8655ef4c7c921fa6683d0d7422",
       "version_major": 2,
       "version_minor": 0
      },
      "text/plain": [
       "Epoch 40/40:   0%|          | 0/164 [00:00<?, ?batch/s]"
      ]
     },
     "metadata": {},
     "output_type": "display_data"
    },
    {
     "name": "stdout",
     "output_type": "stream",
     "text": [
      "Checkpoint saved successfully.\n"
     ]
    },
    {
     "data": {
      "application/vnd.jupyter.widget-view+json": {
       "model_id": "540fecaa5c714cc782cb3b38995fae98",
       "version_major": 2,
       "version_minor": 0
      },
      "text/plain": [
       "Evaluating:   0%|          | 0/41 [00:00<?, ?batch/s]"
      ]
     },
     "metadata": {},
     "output_type": "display_data"
    },
    {
     "name": "stdout",
     "output_type": "stream",
     "text": [
      "Accuracy of the model on the test data: 0.68%\n",
      "Precision: 0.6688, Recall: 0.6756, F1 Score: 0.6712\n"
     ]
    },
    {
     "name": "stderr",
     "output_type": "stream",
     "text": [
      "2024/05/27 00:10:45 INFO mlflow.system_metrics.system_metrics_monitor: Stopping system metrics monitoring...\n",
      "2024/05/27 00:10:45 INFO mlflow.system_metrics.system_metrics_monitor: Successfully terminated system metrics monitoring!\n"
     ]
    }
   ],
   "source": [
    "# Train and Evaluate the Model with MLflow\n",
    "run_name = \"MLP_Experiment\"\n",
    "with mlflow.start_run(run_name=run_name) as run:\n",
    "    # Log parameters\n",
    "    mlflow.log_param(\"epochs\", NUM_EPOCHS)\n",
    "    mlflow.log_param(\"batch_size\", BATCH_SIZE)\n",
    "    mlflow.log_param(\"learning_rate\", LEARNING_RATE)\n",
    "    mlflow.log_param(\"model\", \"CNN\")\n",
    "    mlflow.log_param(\"input_size\", SEQ_LENGTH)\n",
    "    mlflow.log_param(\"num_classes\", NUM_CLASSES)\n",
    "    mlflow.log_dict(dataset.get_class_mapping(), \"class_mapping.json\")\n",
    "\n",
    "    # Train and Evaluate the Model\n",
    "    train_model(model, train_loader, optimizer, criterion, NUM_EPOCHS, DEVICE, save_checkpoint_interval=10, early_stopping_patience=40, checkpoint_dir=CHECKPOINTS_PATH, cnn=False, model_name=\"MLP\")\n",
    "    evaluate_model(model, test_loader, dataset, DEVICE, img_path='../plots', run_name=run_name, cnn=False)\n",
    "\n",
    "    # Log the model\n",
    "    mlflow.pytorch.log_model(model, \"model_MLP\")"
   ]
  },
  {
   "cell_type": "markdown",
   "metadata": {},
   "source": [
    "# Train LSTM"
   ]
  },
  {
   "cell_type": "code",
   "execution_count": 15,
   "metadata": {},
   "outputs": [],
   "source": [
    "train_loader, test_loader, dataset = get_loaders(data_dir=DATA_DIR, batch_size=BATCH_SIZE, num_workers=NUM_WORKERS,\n",
    "                                        pin_memory=PIN_MEMORY, test_size=0.2, seq_length=SEQ_LENGTH, model_type=\"cnn\")"
   ]
  },
  {
   "cell_type": "code",
   "execution_count": 25,
   "metadata": {},
   "outputs": [],
   "source": [
    "from torchview import draw_graph"
   ]
  },
  {
   "cell_type": "code",
   "execution_count": null,
   "metadata": {},
   "outputs": [],
   "source": [
    "# Assuming you have already defined train_loader\n",
    "for inputs, labels in train_loader:\n",
    "    print(\"Shape of inputs:\", inputs.shape)\n",
    "    print(\"Shape of labels:\", labels.shape)\n",
    "    break  # Remove this line if you want to see shapes of more items"
   ]
  },
  {
   "cell_type": "code",
   "execution_count": 32,
   "metadata": {},
   "outputs": [
    {
     "data": {
      "text/plain": [
       "torch.Size([64, 1, 1000])"
      ]
     },
     "execution_count": 32,
     "metadata": {},
     "output_type": "execute_result"
    }
   ],
   "source": [
    "batch = next(iter(train_loader))\n",
    "batch[0].shape"
   ]
  },
  {
   "cell_type": "code",
   "execution_count": 33,
   "metadata": {},
   "outputs": [
    {
     "data": {
      "image/svg+xml": [
       "<?xml version=\"1.0\" encoding=\"UTF-8\" standalone=\"no\"?>\n",
       "<!DOCTYPE svg PUBLIC \"-//W3C//DTD SVG 1.1//EN\"\n",
       " \"http://www.w3.org/Graphics/SVG/1.1/DTD/svg11.dtd\">\n",
       "<!-- Generated by graphviz version 9.0.0 (20230911.1827)\n",
       " -->\n",
       "<!-- Title: model Pages: 1 -->\n",
       "<svg width=\"511pt\" height=\"2182pt\"\n",
       " viewBox=\"0.00 0.00 510.77 2182.00\" xmlns=\"http://www.w3.org/2000/svg\" xmlns:xlink=\"http://www.w3.org/1999/xlink\">\n",
       "<g id=\"graph0\" class=\"graph\" transform=\"scale(0.612062 0.612062) rotate(0) translate(4 3561)\">\n",
       "<title>model</title>\n",
       "<polygon fill=\"white\" stroke=\"none\" points=\"-4,4 -4,-3561 830.5,-3561 830.5,4 -4,4\"/>\n",
       "<!-- 0 -->\n",
       "<g id=\"node1\" class=\"node\">\n",
       "<title>0</title>\n",
       "<polygon fill=\"lightyellow\" stroke=\"none\" points=\"497.12,-3557 360.88,-3557 360.88,-3518.5 497.12,-3518.5 497.12,-3557\"/>\n",
       "<polygon fill=\"none\" stroke=\"black\" points=\"360.88,-3518.5 360.88,-3557 428.62,-3557 428.62,-3518.5 360.88,-3518.5\"/>\n",
       "<text text-anchor=\"start\" x=\"365.88\" y=\"-3542.5\" font-family=\"Linux libertine\" font-size=\"10.00\">input&#45;tensor</text>\n",
       "<text text-anchor=\"start\" x=\"376.38\" y=\"-3528.25\" font-family=\"Linux libertine\" font-size=\"10.00\">depth:0</text>\n",
       "<polygon fill=\"none\" stroke=\"black\" points=\"428.62,-3518.5 428.62,-3557 497.12,-3557 497.12,-3518.5 428.62,-3518.5\"/>\n",
       "<text text-anchor=\"start\" x=\"433.62\" y=\"-3535.38\" font-family=\"Linux libertine\" font-size=\"10.00\">(64, 1, 1000)</text>\n",
       "</g>\n",
       "<!-- 1 -->\n",
       "<g id=\"node2\" class=\"node\">\n",
       "<title>1</title>\n",
       "<polygon fill=\"#c1ffc1\" stroke=\"none\" points=\"510,-3482.5 348,-3482.5 348,-3434.5 510,-3434.5 510,-3482.5\"/>\n",
       "<polygon fill=\"none\" stroke=\"black\" points=\"348,-3434.5 348,-3482.5 394,-3482.5 394,-3434.5 348,-3434.5\"/>\n",
       "<text text-anchor=\"start\" x=\"353.38\" y=\"-3463.25\" font-family=\"Linux libertine\" font-size=\"10.00\">Conv1d</text>\n",
       "<text text-anchor=\"start\" x=\"352.62\" y=\"-3449\" font-family=\"Linux libertine\" font-size=\"10.00\">depth:2</text>\n",
       "<polygon fill=\"none\" stroke=\"black\" points=\"394,-3458.5 394,-3482.5 440,-3482.5 440,-3458.5 394,-3458.5\"/>\n",
       "<text text-anchor=\"start\" x=\"403.5\" y=\"-3468\" font-family=\"Linux libertine\" font-size=\"10.00\">input:</text>\n",
       "<polygon fill=\"none\" stroke=\"black\" points=\"440,-3458.5 440,-3482.5 510,-3482.5 510,-3458.5 440,-3458.5\"/>\n",
       "<text text-anchor=\"start\" x=\"444.62\" y=\"-3468\" font-family=\"Linux libertine\" font-size=\"10.00\">(64, 1, 1000) </text>\n",
       "<polygon fill=\"none\" stroke=\"black\" points=\"394,-3434.5 394,-3458.5 440,-3458.5 440,-3434.5 394,-3434.5\"/>\n",
       "<text text-anchor=\"start\" x=\"398.62\" y=\"-3444\" font-family=\"Linux libertine\" font-size=\"10.00\">output: </text>\n",
       "<polygon fill=\"none\" stroke=\"black\" points=\"440,-3434.5 440,-3458.5 510,-3458.5 510,-3434.5 440,-3434.5\"/>\n",
       "<text text-anchor=\"start\" x=\"444.62\" y=\"-3444\" font-family=\"Linux libertine\" font-size=\"10.00\">(64, 64, 500) </text>\n",
       "</g>\n",
       "<!-- 0&#45;&gt;1 -->\n",
       "<g id=\"edge1\" class=\"edge\">\n",
       "<title>0&#45;&gt;1</title>\n",
       "<path fill=\"none\" stroke=\"black\" d=\"M429,-3518.83C429,-3511.36 429,-3502.41 429,-3493.76\"/>\n",
       "<polygon fill=\"black\" stroke=\"black\" points=\"432.5,-3493.83 429,-3483.83 425.5,-3493.83 432.5,-3493.83\"/>\n",
       "</g>\n",
       "<!-- 2 -->\n",
       "<g id=\"node3\" class=\"node\">\n",
       "<title>2</title>\n",
       "<polygon fill=\"#c1ffc1\" stroke=\"none\" points=\"510,-3398.5 348,-3398.5 348,-3350.5 510,-3350.5 510,-3398.5\"/>\n",
       "<polygon fill=\"none\" stroke=\"black\" points=\"348,-3350.5 348,-3398.5 394,-3398.5 394,-3350.5 348,-3350.5\"/>\n",
       "<text text-anchor=\"start\" x=\"358.25\" y=\"-3379.25\" font-family=\"Linux libertine\" font-size=\"10.00\">GELU</text>\n",
       "<text text-anchor=\"start\" x=\"352.62\" y=\"-3365\" font-family=\"Linux libertine\" font-size=\"10.00\">depth:2</text>\n",
       "<polygon fill=\"none\" stroke=\"black\" points=\"394,-3374.5 394,-3398.5 440,-3398.5 440,-3374.5 394,-3374.5\"/>\n",
       "<text text-anchor=\"start\" x=\"403.5\" y=\"-3384\" font-family=\"Linux libertine\" font-size=\"10.00\">input:</text>\n",
       "<polygon fill=\"none\" stroke=\"black\" points=\"440,-3374.5 440,-3398.5 510,-3398.5 510,-3374.5 440,-3374.5\"/>\n",
       "<text text-anchor=\"start\" x=\"444.62\" y=\"-3384\" font-family=\"Linux libertine\" font-size=\"10.00\">(64, 64, 500) </text>\n",
       "<polygon fill=\"none\" stroke=\"black\" points=\"394,-3350.5 394,-3374.5 440,-3374.5 440,-3350.5 394,-3350.5\"/>\n",
       "<text text-anchor=\"start\" x=\"398.62\" y=\"-3360\" font-family=\"Linux libertine\" font-size=\"10.00\">output: </text>\n",
       "<polygon fill=\"none\" stroke=\"black\" points=\"440,-3350.5 440,-3374.5 510,-3374.5 510,-3350.5 440,-3350.5\"/>\n",
       "<text text-anchor=\"start\" x=\"444.62\" y=\"-3360\" font-family=\"Linux libertine\" font-size=\"10.00\">(64, 64, 500) </text>\n",
       "</g>\n",
       "<!-- 1&#45;&gt;2 -->\n",
       "<g id=\"edge2\" class=\"edge\">\n",
       "<title>1&#45;&gt;2</title>\n",
       "<path fill=\"none\" stroke=\"black\" d=\"M429,-3434.66C429,-3426.93 429,-3418.12 429,-3409.7\"/>\n",
       "<polygon fill=\"black\" stroke=\"black\" points=\"432.5,-3409.73 429,-3399.73 425.5,-3409.73 432.5,-3409.73\"/>\n",
       "</g>\n",
       "<!-- 3 -->\n",
       "<g id=\"node4\" class=\"node\">\n",
       "<title>3</title>\n",
       "<polygon fill=\"#c1ffc1\" stroke=\"none\" points=\"524.5,-3314.5 333.5,-3314.5 333.5,-3266.5 524.5,-3266.5 524.5,-3314.5\"/>\n",
       "<polygon fill=\"none\" stroke=\"black\" points=\"333.5,-3266.5 333.5,-3314.5 408.5,-3314.5 408.5,-3266.5 333.5,-3266.5\"/>\n",
       "<text text-anchor=\"start\" x=\"338.38\" y=\"-3295.25\" font-family=\"Linux libertine\" font-size=\"10.00\">BatchNorm1d</text>\n",
       "<text text-anchor=\"start\" x=\"352.62\" y=\"-3281\" font-family=\"Linux libertine\" font-size=\"10.00\">depth:2</text>\n",
       "<polygon fill=\"none\" stroke=\"black\" points=\"408.5,-3290.5 408.5,-3314.5 454.5,-3314.5 454.5,-3290.5 408.5,-3290.5\"/>\n",
       "<text text-anchor=\"start\" x=\"418\" y=\"-3300\" font-family=\"Linux libertine\" font-size=\"10.00\">input:</text>\n",
       "<polygon fill=\"none\" stroke=\"black\" points=\"454.5,-3290.5 454.5,-3314.5 524.5,-3314.5 524.5,-3290.5 454.5,-3290.5\"/>\n",
       "<text text-anchor=\"start\" x=\"459.12\" y=\"-3300\" font-family=\"Linux libertine\" font-size=\"10.00\">(64, 64, 500) </text>\n",
       "<polygon fill=\"none\" stroke=\"black\" points=\"408.5,-3266.5 408.5,-3290.5 454.5,-3290.5 454.5,-3266.5 408.5,-3266.5\"/>\n",
       "<text text-anchor=\"start\" x=\"413.12\" y=\"-3276\" font-family=\"Linux libertine\" font-size=\"10.00\">output: </text>\n",
       "<polygon fill=\"none\" stroke=\"black\" points=\"454.5,-3266.5 454.5,-3290.5 524.5,-3290.5 524.5,-3266.5 454.5,-3266.5\"/>\n",
       "<text text-anchor=\"start\" x=\"459.12\" y=\"-3276\" font-family=\"Linux libertine\" font-size=\"10.00\">(64, 64, 500) </text>\n",
       "</g>\n",
       "<!-- 2&#45;&gt;3 -->\n",
       "<g id=\"edge3\" class=\"edge\">\n",
       "<title>2&#45;&gt;3</title>\n",
       "<path fill=\"none\" stroke=\"black\" d=\"M429,-3350.66C429,-3342.93 429,-3334.12 429,-3325.7\"/>\n",
       "<polygon fill=\"black\" stroke=\"black\" points=\"432.5,-3325.73 429,-3315.73 425.5,-3325.73 432.5,-3325.73\"/>\n",
       "</g>\n",
       "<!-- 4 -->\n",
       "<g id=\"node5\" class=\"node\">\n",
       "<title>4</title>\n",
       "<polygon fill=\"#c1ffc1\" stroke=\"none\" points=\"513,-3230.5 345,-3230.5 345,-3182.5 513,-3182.5 513,-3230.5\"/>\n",
       "<polygon fill=\"none\" stroke=\"black\" points=\"345,-3182.5 345,-3230.5 391,-3230.5 391,-3182.5 345,-3182.5\"/>\n",
       "<text text-anchor=\"start\" x=\"350.38\" y=\"-3211.25\" font-family=\"Linux libertine\" font-size=\"10.00\">Conv1d</text>\n",
       "<text text-anchor=\"start\" x=\"349.62\" y=\"-3197\" font-family=\"Linux libertine\" font-size=\"10.00\">depth:2</text>\n",
       "<polygon fill=\"none\" stroke=\"black\" points=\"391,-3206.5 391,-3230.5 437,-3230.5 437,-3206.5 391,-3206.5\"/>\n",
       "<text text-anchor=\"start\" x=\"400.5\" y=\"-3216\" font-family=\"Linux libertine\" font-size=\"10.00\">input:</text>\n",
       "<polygon fill=\"none\" stroke=\"black\" points=\"437,-3206.5 437,-3230.5 513,-3230.5 513,-3206.5 437,-3206.5\"/>\n",
       "<text text-anchor=\"start\" x=\"444.62\" y=\"-3216\" font-family=\"Linux libertine\" font-size=\"10.00\">(64, 64, 500) </text>\n",
       "<polygon fill=\"none\" stroke=\"black\" points=\"391,-3182.5 391,-3206.5 437,-3206.5 437,-3182.5 391,-3182.5\"/>\n",
       "<text text-anchor=\"start\" x=\"395.62\" y=\"-3192\" font-family=\"Linux libertine\" font-size=\"10.00\">output: </text>\n",
       "<polygon fill=\"none\" stroke=\"black\" points=\"437,-3182.5 437,-3206.5 513,-3206.5 513,-3182.5 437,-3182.5\"/>\n",
       "<text text-anchor=\"start\" x=\"441.62\" y=\"-3192\" font-family=\"Linux libertine\" font-size=\"10.00\">(64, 128, 500) </text>\n",
       "</g>\n",
       "<!-- 3&#45;&gt;4 -->\n",
       "<g id=\"edge4\" class=\"edge\">\n",
       "<title>3&#45;&gt;4</title>\n",
       "<path fill=\"none\" stroke=\"black\" d=\"M429,-3266.66C429,-3258.93 429,-3250.12 429,-3241.7\"/>\n",
       "<polygon fill=\"black\" stroke=\"black\" points=\"432.5,-3241.73 429,-3231.73 425.5,-3241.73 432.5,-3241.73\"/>\n",
       "</g>\n",
       "<!-- 5 -->\n",
       "<g id=\"node6\" class=\"node\">\n",
       "<title>5</title>\n",
       "<polygon fill=\"#c1ffc1\" stroke=\"none\" points=\"513,-3146.5 345,-3146.5 345,-3098.5 513,-3098.5 513,-3146.5\"/>\n",
       "<polygon fill=\"none\" stroke=\"black\" points=\"345,-3098.5 345,-3146.5 391,-3146.5 391,-3098.5 345,-3098.5\"/>\n",
       "<text text-anchor=\"start\" x=\"355.25\" y=\"-3127.25\" font-family=\"Linux libertine\" font-size=\"10.00\">GELU</text>\n",
       "<text text-anchor=\"start\" x=\"349.62\" y=\"-3113\" font-family=\"Linux libertine\" font-size=\"10.00\">depth:2</text>\n",
       "<polygon fill=\"none\" stroke=\"black\" points=\"391,-3122.5 391,-3146.5 437,-3146.5 437,-3122.5 391,-3122.5\"/>\n",
       "<text text-anchor=\"start\" x=\"400.5\" y=\"-3132\" font-family=\"Linux libertine\" font-size=\"10.00\">input:</text>\n",
       "<polygon fill=\"none\" stroke=\"black\" points=\"437,-3122.5 437,-3146.5 513,-3146.5 513,-3122.5 437,-3122.5\"/>\n",
       "<text text-anchor=\"start\" x=\"441.62\" y=\"-3132\" font-family=\"Linux libertine\" font-size=\"10.00\">(64, 128, 500) </text>\n",
       "<polygon fill=\"none\" stroke=\"black\" points=\"391,-3098.5 391,-3122.5 437,-3122.5 437,-3098.5 391,-3098.5\"/>\n",
       "<text text-anchor=\"start\" x=\"395.62\" y=\"-3108\" font-family=\"Linux libertine\" font-size=\"10.00\">output: </text>\n",
       "<polygon fill=\"none\" stroke=\"black\" points=\"437,-3098.5 437,-3122.5 513,-3122.5 513,-3098.5 437,-3098.5\"/>\n",
       "<text text-anchor=\"start\" x=\"441.62\" y=\"-3108\" font-family=\"Linux libertine\" font-size=\"10.00\">(64, 128, 500) </text>\n",
       "</g>\n",
       "<!-- 4&#45;&gt;5 -->\n",
       "<g id=\"edge5\" class=\"edge\">\n",
       "<title>4&#45;&gt;5</title>\n",
       "<path fill=\"none\" stroke=\"black\" d=\"M429,-3182.66C429,-3174.93 429,-3166.12 429,-3157.7\"/>\n",
       "<polygon fill=\"black\" stroke=\"black\" points=\"432.5,-3157.73 429,-3147.73 425.5,-3157.73 432.5,-3157.73\"/>\n",
       "</g>\n",
       "<!-- 6 -->\n",
       "<g id=\"node7\" class=\"node\">\n",
       "<title>6</title>\n",
       "<polygon fill=\"#c1ffc1\" stroke=\"none\" points=\"527.5,-3062.5 330.5,-3062.5 330.5,-3014.5 527.5,-3014.5 527.5,-3062.5\"/>\n",
       "<polygon fill=\"none\" stroke=\"black\" points=\"330.5,-3014.5 330.5,-3062.5 405.5,-3062.5 405.5,-3014.5 330.5,-3014.5\"/>\n",
       "<text text-anchor=\"start\" x=\"335.38\" y=\"-3043.25\" font-family=\"Linux libertine\" font-size=\"10.00\">BatchNorm1d</text>\n",
       "<text text-anchor=\"start\" x=\"349.62\" y=\"-3029\" font-family=\"Linux libertine\" font-size=\"10.00\">depth:2</text>\n",
       "<polygon fill=\"none\" stroke=\"black\" points=\"405.5,-3038.5 405.5,-3062.5 451.5,-3062.5 451.5,-3038.5 405.5,-3038.5\"/>\n",
       "<text text-anchor=\"start\" x=\"415\" y=\"-3048\" font-family=\"Linux libertine\" font-size=\"10.00\">input:</text>\n",
       "<polygon fill=\"none\" stroke=\"black\" points=\"451.5,-3038.5 451.5,-3062.5 527.5,-3062.5 527.5,-3038.5 451.5,-3038.5\"/>\n",
       "<text text-anchor=\"start\" x=\"456.12\" y=\"-3048\" font-family=\"Linux libertine\" font-size=\"10.00\">(64, 128, 500) </text>\n",
       "<polygon fill=\"none\" stroke=\"black\" points=\"405.5,-3014.5 405.5,-3038.5 451.5,-3038.5 451.5,-3014.5 405.5,-3014.5\"/>\n",
       "<text text-anchor=\"start\" x=\"410.12\" y=\"-3024\" font-family=\"Linux libertine\" font-size=\"10.00\">output: </text>\n",
       "<polygon fill=\"none\" stroke=\"black\" points=\"451.5,-3014.5 451.5,-3038.5 527.5,-3038.5 527.5,-3014.5 451.5,-3014.5\"/>\n",
       "<text text-anchor=\"start\" x=\"456.12\" y=\"-3024\" font-family=\"Linux libertine\" font-size=\"10.00\">(64, 128, 500) </text>\n",
       "</g>\n",
       "<!-- 5&#45;&gt;6 -->\n",
       "<g id=\"edge6\" class=\"edge\">\n",
       "<title>5&#45;&gt;6</title>\n",
       "<path fill=\"none\" stroke=\"black\" d=\"M429,-3098.66C429,-3090.93 429,-3082.12 429,-3073.7\"/>\n",
       "<polygon fill=\"black\" stroke=\"black\" points=\"432.5,-3073.73 429,-3063.73 425.5,-3073.73 432.5,-3073.73\"/>\n",
       "</g>\n",
       "<!-- 7 -->\n",
       "<g id=\"node8\" class=\"node\">\n",
       "<title>7</title>\n",
       "<polygon fill=\"#c1ffc1\" stroke=\"none\" points=\"513,-2978.5 345,-2978.5 345,-2930.5 513,-2930.5 513,-2978.5\"/>\n",
       "<polygon fill=\"none\" stroke=\"black\" points=\"345,-2930.5 345,-2978.5 391,-2978.5 391,-2930.5 345,-2930.5\"/>\n",
       "<text text-anchor=\"start\" x=\"350.38\" y=\"-2959.25\" font-family=\"Linux libertine\" font-size=\"10.00\">Conv1d</text>\n",
       "<text text-anchor=\"start\" x=\"349.62\" y=\"-2945\" font-family=\"Linux libertine\" font-size=\"10.00\">depth:2</text>\n",
       "<polygon fill=\"none\" stroke=\"black\" points=\"391,-2954.5 391,-2978.5 437,-2978.5 437,-2954.5 391,-2954.5\"/>\n",
       "<text text-anchor=\"start\" x=\"400.5\" y=\"-2964\" font-family=\"Linux libertine\" font-size=\"10.00\">input:</text>\n",
       "<polygon fill=\"none\" stroke=\"black\" points=\"437,-2954.5 437,-2978.5 513,-2978.5 513,-2954.5 437,-2954.5\"/>\n",
       "<text text-anchor=\"start\" x=\"441.62\" y=\"-2964\" font-family=\"Linux libertine\" font-size=\"10.00\">(64, 128, 500) </text>\n",
       "<polygon fill=\"none\" stroke=\"black\" points=\"391,-2930.5 391,-2954.5 437,-2954.5 437,-2930.5 391,-2930.5\"/>\n",
       "<text text-anchor=\"start\" x=\"395.62\" y=\"-2940\" font-family=\"Linux libertine\" font-size=\"10.00\">output: </text>\n",
       "<polygon fill=\"none\" stroke=\"black\" points=\"437,-2930.5 437,-2954.5 513,-2954.5 513,-2930.5 437,-2930.5\"/>\n",
       "<text text-anchor=\"start\" x=\"441.62\" y=\"-2940\" font-family=\"Linux libertine\" font-size=\"10.00\">(64, 128, 250) </text>\n",
       "</g>\n",
       "<!-- 6&#45;&gt;7 -->\n",
       "<g id=\"edge7\" class=\"edge\">\n",
       "<title>6&#45;&gt;7</title>\n",
       "<path fill=\"none\" stroke=\"black\" d=\"M429,-3014.66C429,-3006.93 429,-2998.12 429,-2989.7\"/>\n",
       "<polygon fill=\"black\" stroke=\"black\" points=\"432.5,-2989.73 429,-2979.73 425.5,-2989.73 432.5,-2989.73\"/>\n",
       "</g>\n",
       "<!-- 8 -->\n",
       "<g id=\"node9\" class=\"node\">\n",
       "<title>8</title>\n",
       "<polygon fill=\"#c1ffc1\" stroke=\"none\" points=\"513,-2894.5 345,-2894.5 345,-2846.5 513,-2846.5 513,-2894.5\"/>\n",
       "<polygon fill=\"none\" stroke=\"black\" points=\"345,-2846.5 345,-2894.5 391,-2894.5 391,-2846.5 345,-2846.5\"/>\n",
       "<text text-anchor=\"start\" x=\"355.25\" y=\"-2875.25\" font-family=\"Linux libertine\" font-size=\"10.00\">GELU</text>\n",
       "<text text-anchor=\"start\" x=\"349.62\" y=\"-2861\" font-family=\"Linux libertine\" font-size=\"10.00\">depth:2</text>\n",
       "<polygon fill=\"none\" stroke=\"black\" points=\"391,-2870.5 391,-2894.5 437,-2894.5 437,-2870.5 391,-2870.5\"/>\n",
       "<text text-anchor=\"start\" x=\"400.5\" y=\"-2880\" font-family=\"Linux libertine\" font-size=\"10.00\">input:</text>\n",
       "<polygon fill=\"none\" stroke=\"black\" points=\"437,-2870.5 437,-2894.5 513,-2894.5 513,-2870.5 437,-2870.5\"/>\n",
       "<text text-anchor=\"start\" x=\"441.62\" y=\"-2880\" font-family=\"Linux libertine\" font-size=\"10.00\">(64, 128, 250) </text>\n",
       "<polygon fill=\"none\" stroke=\"black\" points=\"391,-2846.5 391,-2870.5 437,-2870.5 437,-2846.5 391,-2846.5\"/>\n",
       "<text text-anchor=\"start\" x=\"395.62\" y=\"-2856\" font-family=\"Linux libertine\" font-size=\"10.00\">output: </text>\n",
       "<polygon fill=\"none\" stroke=\"black\" points=\"437,-2846.5 437,-2870.5 513,-2870.5 513,-2846.5 437,-2846.5\"/>\n",
       "<text text-anchor=\"start\" x=\"441.62\" y=\"-2856\" font-family=\"Linux libertine\" font-size=\"10.00\">(64, 128, 250) </text>\n",
       "</g>\n",
       "<!-- 7&#45;&gt;8 -->\n",
       "<g id=\"edge8\" class=\"edge\">\n",
       "<title>7&#45;&gt;8</title>\n",
       "<path fill=\"none\" stroke=\"black\" d=\"M429,-2930.66C429,-2922.93 429,-2914.12 429,-2905.7\"/>\n",
       "<polygon fill=\"black\" stroke=\"black\" points=\"432.5,-2905.73 429,-2895.73 425.5,-2905.73 432.5,-2905.73\"/>\n",
       "</g>\n",
       "<!-- 9 -->\n",
       "<g id=\"node10\" class=\"node\">\n",
       "<title>9</title>\n",
       "<polygon fill=\"#c1ffc1\" stroke=\"none\" points=\"527.5,-2810.5 330.5,-2810.5 330.5,-2762.5 527.5,-2762.5 527.5,-2810.5\"/>\n",
       "<polygon fill=\"none\" stroke=\"black\" points=\"330.5,-2762.5 330.5,-2810.5 405.5,-2810.5 405.5,-2762.5 330.5,-2762.5\"/>\n",
       "<text text-anchor=\"start\" x=\"335.38\" y=\"-2791.25\" font-family=\"Linux libertine\" font-size=\"10.00\">BatchNorm1d</text>\n",
       "<text text-anchor=\"start\" x=\"349.62\" y=\"-2777\" font-family=\"Linux libertine\" font-size=\"10.00\">depth:2</text>\n",
       "<polygon fill=\"none\" stroke=\"black\" points=\"405.5,-2786.5 405.5,-2810.5 451.5,-2810.5 451.5,-2786.5 405.5,-2786.5\"/>\n",
       "<text text-anchor=\"start\" x=\"415\" y=\"-2796\" font-family=\"Linux libertine\" font-size=\"10.00\">input:</text>\n",
       "<polygon fill=\"none\" stroke=\"black\" points=\"451.5,-2786.5 451.5,-2810.5 527.5,-2810.5 527.5,-2786.5 451.5,-2786.5\"/>\n",
       "<text text-anchor=\"start\" x=\"456.12\" y=\"-2796\" font-family=\"Linux libertine\" font-size=\"10.00\">(64, 128, 250) </text>\n",
       "<polygon fill=\"none\" stroke=\"black\" points=\"405.5,-2762.5 405.5,-2786.5 451.5,-2786.5 451.5,-2762.5 405.5,-2762.5\"/>\n",
       "<text text-anchor=\"start\" x=\"410.12\" y=\"-2772\" font-family=\"Linux libertine\" font-size=\"10.00\">output: </text>\n",
       "<polygon fill=\"none\" stroke=\"black\" points=\"451.5,-2762.5 451.5,-2786.5 527.5,-2786.5 527.5,-2762.5 451.5,-2762.5\"/>\n",
       "<text text-anchor=\"start\" x=\"456.12\" y=\"-2772\" font-family=\"Linux libertine\" font-size=\"10.00\">(64, 128, 250) </text>\n",
       "</g>\n",
       "<!-- 8&#45;&gt;9 -->\n",
       "<g id=\"edge9\" class=\"edge\">\n",
       "<title>8&#45;&gt;9</title>\n",
       "<path fill=\"none\" stroke=\"black\" d=\"M429,-2846.66C429,-2838.93 429,-2830.12 429,-2821.7\"/>\n",
       "<polygon fill=\"black\" stroke=\"black\" points=\"432.5,-2821.73 429,-2811.73 425.5,-2821.73 432.5,-2821.73\"/>\n",
       "</g>\n",
       "<!-- 10 -->\n",
       "<g id=\"node11\" class=\"node\">\n",
       "<title>10</title>\n",
       "<polygon fill=\"aliceblue\" stroke=\"none\" points=\"515.5,-2726.5 342.5,-2726.5 342.5,-2678.5 515.5,-2678.5 515.5,-2726.5\"/>\n",
       "<polygon fill=\"none\" stroke=\"black\" points=\"342.5,-2678.5 342.5,-2726.5 393.5,-2726.5 393.5,-2678.5 342.5,-2678.5\"/>\n",
       "<text text-anchor=\"start\" x=\"347.38\" y=\"-2707.25\" font-family=\"Linux libertine\" font-size=\"10.00\">permute</text>\n",
       "<text text-anchor=\"start\" x=\"349.62\" y=\"-2693\" font-family=\"Linux libertine\" font-size=\"10.00\">depth:1</text>\n",
       "<polygon fill=\"none\" stroke=\"black\" points=\"393.5,-2702.5 393.5,-2726.5 439.5,-2726.5 439.5,-2702.5 393.5,-2702.5\"/>\n",
       "<text text-anchor=\"start\" x=\"403\" y=\"-2712\" font-family=\"Linux libertine\" font-size=\"10.00\">input:</text>\n",
       "<polygon fill=\"none\" stroke=\"black\" points=\"439.5,-2702.5 439.5,-2726.5 515.5,-2726.5 515.5,-2702.5 439.5,-2702.5\"/>\n",
       "<text text-anchor=\"start\" x=\"444.12\" y=\"-2712\" font-family=\"Linux libertine\" font-size=\"10.00\">(64, 128, 250) </text>\n",
       "<polygon fill=\"none\" stroke=\"black\" points=\"393.5,-2678.5 393.5,-2702.5 439.5,-2702.5 439.5,-2678.5 393.5,-2678.5\"/>\n",
       "<text text-anchor=\"start\" x=\"398.12\" y=\"-2688\" font-family=\"Linux libertine\" font-size=\"10.00\">output: </text>\n",
       "<polygon fill=\"none\" stroke=\"black\" points=\"439.5,-2678.5 439.5,-2702.5 515.5,-2702.5 515.5,-2678.5 439.5,-2678.5\"/>\n",
       "<text text-anchor=\"start\" x=\"444.12\" y=\"-2688\" font-family=\"Linux libertine\" font-size=\"10.00\">(250, 64, 128) </text>\n",
       "</g>\n",
       "<!-- 9&#45;&gt;10 -->\n",
       "<g id=\"edge10\" class=\"edge\">\n",
       "<title>9&#45;&gt;10</title>\n",
       "<path fill=\"none\" stroke=\"black\" d=\"M429,-2762.66C429,-2754.93 429,-2746.12 429,-2737.7\"/>\n",
       "<polygon fill=\"black\" stroke=\"black\" points=\"432.5,-2737.73 429,-2727.73 425.5,-2737.73 432.5,-2737.73\"/>\n",
       "</g>\n",
       "<!-- 11 -->\n",
       "<g id=\"node12\" class=\"node\">\n",
       "<title>11</title>\n",
       "<polygon fill=\"#c1ffc1\" stroke=\"none\" points=\"420.5,-2642.5 235.5,-2642.5 235.5,-2594.5 420.5,-2594.5 420.5,-2642.5\"/>\n",
       "<polygon fill=\"none\" stroke=\"black\" points=\"235.5,-2594.5 235.5,-2642.5 298.5,-2642.5 298.5,-2594.5 235.5,-2594.5\"/>\n",
       "<text text-anchor=\"start\" x=\"240.38\" y=\"-2623.25\" font-family=\"Linux libertine\" font-size=\"10.00\">LayerNorm</text>\n",
       "<text text-anchor=\"start\" x=\"248.62\" y=\"-2609\" font-family=\"Linux libertine\" font-size=\"10.00\">depth:2</text>\n",
       "<polygon fill=\"none\" stroke=\"black\" points=\"298.5,-2618.5 298.5,-2642.5 344.5,-2642.5 344.5,-2618.5 298.5,-2618.5\"/>\n",
       "<text text-anchor=\"start\" x=\"308\" y=\"-2628\" font-family=\"Linux libertine\" font-size=\"10.00\">input:</text>\n",
       "<polygon fill=\"none\" stroke=\"black\" points=\"344.5,-2618.5 344.5,-2642.5 420.5,-2642.5 420.5,-2618.5 344.5,-2618.5\"/>\n",
       "<text text-anchor=\"start\" x=\"349.12\" y=\"-2628\" font-family=\"Linux libertine\" font-size=\"10.00\">(250, 64, 128) </text>\n",
       "<polygon fill=\"none\" stroke=\"black\" points=\"298.5,-2594.5 298.5,-2618.5 344.5,-2618.5 344.5,-2594.5 298.5,-2594.5\"/>\n",
       "<text text-anchor=\"start\" x=\"303.12\" y=\"-2604\" font-family=\"Linux libertine\" font-size=\"10.00\">output: </text>\n",
       "<polygon fill=\"none\" stroke=\"black\" points=\"344.5,-2594.5 344.5,-2618.5 420.5,-2618.5 420.5,-2594.5 344.5,-2594.5\"/>\n",
       "<text text-anchor=\"start\" x=\"349.12\" y=\"-2604\" font-family=\"Linux libertine\" font-size=\"10.00\">(250, 64, 128) </text>\n",
       "</g>\n",
       "<!-- 10&#45;&gt;11 -->\n",
       "<g id=\"edge11\" class=\"edge\">\n",
       "<title>10&#45;&gt;11</title>\n",
       "<path fill=\"none\" stroke=\"black\" d=\"M400.87,-2678.66C389.7,-2669.6 376.71,-2659.05 364.82,-2649.39\"/>\n",
       "<polygon fill=\"black\" stroke=\"black\" points=\"367.13,-2646.76 357.16,-2643.17 362.72,-2652.19 367.13,-2646.76\"/>\n",
       "</g>\n",
       "<!-- 12 -->\n",
       "<g id=\"node13\" class=\"node\">\n",
       "<title>12</title>\n",
       "<polygon fill=\"#c1ffc1\" stroke=\"none\" points=\"623.5,-2642.5 438.5,-2642.5 438.5,-2594.5 623.5,-2594.5 623.5,-2642.5\"/>\n",
       "<polygon fill=\"none\" stroke=\"black\" points=\"438.5,-2594.5 438.5,-2642.5 501.5,-2642.5 501.5,-2594.5 438.5,-2594.5\"/>\n",
       "<text text-anchor=\"start\" x=\"443.38\" y=\"-2623.25\" font-family=\"Linux libertine\" font-size=\"10.00\">LayerNorm</text>\n",
       "<text text-anchor=\"start\" x=\"451.62\" y=\"-2609\" font-family=\"Linux libertine\" font-size=\"10.00\">depth:2</text>\n",
       "<polygon fill=\"none\" stroke=\"black\" points=\"501.5,-2618.5 501.5,-2642.5 547.5,-2642.5 547.5,-2618.5 501.5,-2618.5\"/>\n",
       "<text text-anchor=\"start\" x=\"511\" y=\"-2628\" font-family=\"Linux libertine\" font-size=\"10.00\">input:</text>\n",
       "<polygon fill=\"none\" stroke=\"black\" points=\"547.5,-2618.5 547.5,-2642.5 623.5,-2642.5 623.5,-2618.5 547.5,-2618.5\"/>\n",
       "<text text-anchor=\"start\" x=\"552.12\" y=\"-2628\" font-family=\"Linux libertine\" font-size=\"10.00\">(250, 64, 128) </text>\n",
       "<polygon fill=\"none\" stroke=\"black\" points=\"501.5,-2594.5 501.5,-2618.5 547.5,-2618.5 547.5,-2594.5 501.5,-2594.5\"/>\n",
       "<text text-anchor=\"start\" x=\"506.12\" y=\"-2604\" font-family=\"Linux libertine\" font-size=\"10.00\">output: </text>\n",
       "<polygon fill=\"none\" stroke=\"black\" points=\"547.5,-2594.5 547.5,-2618.5 623.5,-2618.5 623.5,-2594.5 547.5,-2594.5\"/>\n",
       "<text text-anchor=\"start\" x=\"552.12\" y=\"-2604\" font-family=\"Linux libertine\" font-size=\"10.00\">(250, 64, 128) </text>\n",
       "</g>\n",
       "<!-- 10&#45;&gt;12 -->\n",
       "<g id=\"edge12\" class=\"edge\">\n",
       "<title>10&#45;&gt;12</title>\n",
       "<path fill=\"none\" stroke=\"black\" d=\"M457.41,-2678.66C468.69,-2669.6 481.81,-2659.05 493.82,-2649.39\"/>\n",
       "<polygon fill=\"black\" stroke=\"black\" points=\"495.96,-2652.16 501.56,-2643.17 491.57,-2646.71 495.96,-2652.16\"/>\n",
       "</g>\n",
       "<!-- 13 -->\n",
       "<g id=\"node14\" class=\"node\">\n",
       "<title>13</title>\n",
       "<polygon fill=\"#c1ffc1\" stroke=\"none\" points=\"826.5,-2642.5 641.5,-2642.5 641.5,-2594.5 826.5,-2594.5 826.5,-2642.5\"/>\n",
       "<polygon fill=\"none\" stroke=\"black\" points=\"641.5,-2594.5 641.5,-2642.5 704.5,-2642.5 704.5,-2594.5 641.5,-2594.5\"/>\n",
       "<text text-anchor=\"start\" x=\"646.38\" y=\"-2623.25\" font-family=\"Linux libertine\" font-size=\"10.00\">LayerNorm</text>\n",
       "<text text-anchor=\"start\" x=\"654.62\" y=\"-2609\" font-family=\"Linux libertine\" font-size=\"10.00\">depth:2</text>\n",
       "<polygon fill=\"none\" stroke=\"black\" points=\"704.5,-2618.5 704.5,-2642.5 750.5,-2642.5 750.5,-2618.5 704.5,-2618.5\"/>\n",
       "<text text-anchor=\"start\" x=\"714\" y=\"-2628\" font-family=\"Linux libertine\" font-size=\"10.00\">input:</text>\n",
       "<polygon fill=\"none\" stroke=\"black\" points=\"750.5,-2618.5 750.5,-2642.5 826.5,-2642.5 826.5,-2618.5 750.5,-2618.5\"/>\n",
       "<text text-anchor=\"start\" x=\"755.12\" y=\"-2628\" font-family=\"Linux libertine\" font-size=\"10.00\">(250, 64, 128) </text>\n",
       "<polygon fill=\"none\" stroke=\"black\" points=\"704.5,-2594.5 704.5,-2618.5 750.5,-2618.5 750.5,-2594.5 704.5,-2594.5\"/>\n",
       "<text text-anchor=\"start\" x=\"709.12\" y=\"-2604\" font-family=\"Linux libertine\" font-size=\"10.00\">output: </text>\n",
       "<polygon fill=\"none\" stroke=\"black\" points=\"750.5,-2594.5 750.5,-2618.5 826.5,-2618.5 826.5,-2594.5 750.5,-2594.5\"/>\n",
       "<text text-anchor=\"start\" x=\"755.12\" y=\"-2604\" font-family=\"Linux libertine\" font-size=\"10.00\">(250, 64, 128) </text>\n",
       "</g>\n",
       "<!-- 10&#45;&gt;13 -->\n",
       "<g id=\"edge13\" class=\"edge\">\n",
       "<title>10&#45;&gt;13</title>\n",
       "<path fill=\"none\" stroke=\"black\" d=\"M514.37,-2678.55C552.7,-2668.24 598.11,-2656.03 637.67,-2645.4\"/>\n",
       "<polygon fill=\"black\" stroke=\"black\" points=\"638.45,-2648.81 647.19,-2642.84 636.63,-2642.05 638.45,-2648.81\"/>\n",
       "</g>\n",
       "<!-- 16 -->\n",
       "<g id=\"node17\" class=\"node\">\n",
       "<title>16</title>\n",
       "<polygon fill=\"aliceblue\" stroke=\"none\" points=\"356,-2390.5 172,-2390.5 172,-2342.5 356,-2342.5 356,-2390.5\"/>\n",
       "<polygon fill=\"none\" stroke=\"black\" points=\"172,-2342.5 172,-2390.5 218,-2390.5 218,-2342.5 172,-2342.5\"/>\n",
       "<text text-anchor=\"start\" x=\"186.38\" y=\"-2371.25\" font-family=\"Linux libertine\" font-size=\"10.00\">add</text>\n",
       "<text text-anchor=\"start\" x=\"176.62\" y=\"-2357\" font-family=\"Linux libertine\" font-size=\"10.00\">depth:2</text>\n",
       "<polygon fill=\"none\" stroke=\"black\" points=\"218,-2366.5 218,-2390.5 264,-2390.5 264,-2366.5 218,-2366.5\"/>\n",
       "<text text-anchor=\"start\" x=\"227.5\" y=\"-2376\" font-family=\"Linux libertine\" font-size=\"10.00\">input:</text>\n",
       "<polygon fill=\"none\" stroke=\"black\" points=\"264,-2366.5 264,-2390.5 356,-2390.5 356,-2366.5 264,-2366.5\"/>\n",
       "<text text-anchor=\"start\" x=\"268.75\" y=\"-2376\" font-family=\"Linux libertine\" font-size=\"10.00\">2 x (250, 64, 128) </text>\n",
       "<polygon fill=\"none\" stroke=\"black\" points=\"218,-2342.5 218,-2366.5 264,-2366.5 264,-2342.5 218,-2342.5\"/>\n",
       "<text text-anchor=\"start\" x=\"222.62\" y=\"-2352\" font-family=\"Linux libertine\" font-size=\"10.00\">output: </text>\n",
       "<polygon fill=\"none\" stroke=\"black\" points=\"264,-2342.5 264,-2366.5 356,-2366.5 356,-2342.5 264,-2342.5\"/>\n",
       "<text text-anchor=\"start\" x=\"276.62\" y=\"-2352\" font-family=\"Linux libertine\" font-size=\"10.00\">(250, 64, 128) </text>\n",
       "</g>\n",
       "<!-- 10&#45;&gt;16 -->\n",
       "<g id=\"edge14\" class=\"edge\">\n",
       "<title>10&#45;&gt;16</title>\n",
       "<path fill=\"none\" stroke=\"black\" d=\"M342.77,-2687.07C294.26,-2677.01 240.57,-2661.91 226,-2642.5 171.63,-2570.08 217.54,-2455.83 245.82,-2400.16\"/>\n",
       "<polygon fill=\"black\" stroke=\"black\" points=\"248.81,-2401.98 250.33,-2391.5 242.61,-2398.75 248.81,-2401.98\"/>\n",
       "</g>\n",
       "<!-- 14 -->\n",
       "<g id=\"node15\" class=\"node\">\n",
       "<title>14</title>\n",
       "<polygon fill=\"aliceblue\" stroke=\"none\" points=\"638.5,-2558.5 297.5,-2558.5 297.5,-2510.5 638.5,-2510.5 638.5,-2558.5\"/>\n",
       "<polygon fill=\"none\" stroke=\"black\" points=\"297.5,-2510.5 297.5,-2558.5 446.5,-2558.5 446.5,-2510.5 297.5,-2510.5\"/>\n",
       "<text text-anchor=\"start\" x=\"302.25\" y=\"-2539.25\" font-family=\"Linux libertine\" font-size=\"10.00\">multi_head_attention_forward</text>\n",
       "<text text-anchor=\"start\" x=\"353.62\" y=\"-2525\" font-family=\"Linux libertine\" font-size=\"10.00\">depth:3</text>\n",
       "<polygon fill=\"none\" stroke=\"black\" points=\"446.5,-2534.5 446.5,-2558.5 492.5,-2558.5 492.5,-2534.5 446.5,-2534.5\"/>\n",
       "<text text-anchor=\"start\" x=\"456\" y=\"-2544\" font-family=\"Linux libertine\" font-size=\"10.00\">input:</text>\n",
       "<polygon fill=\"none\" stroke=\"black\" points=\"492.5,-2534.5 492.5,-2558.5 638.5,-2558.5 638.5,-2534.5 492.5,-2534.5\"/>\n",
       "<text text-anchor=\"start\" x=\"524.25\" y=\"-2544\" font-family=\"Linux libertine\" font-size=\"10.00\">3 x (250, 64, 128) </text>\n",
       "<polygon fill=\"none\" stroke=\"black\" points=\"446.5,-2510.5 446.5,-2534.5 492.5,-2534.5 492.5,-2510.5 446.5,-2510.5\"/>\n",
       "<text text-anchor=\"start\" x=\"451.12\" y=\"-2520\" font-family=\"Linux libertine\" font-size=\"10.00\">output: </text>\n",
       "<polygon fill=\"none\" stroke=\"black\" points=\"492.5,-2510.5 492.5,-2534.5 638.5,-2534.5 638.5,-2510.5 492.5,-2510.5\"/>\n",
       "<text text-anchor=\"start\" x=\"497.25\" y=\"-2520\" font-family=\"Linux libertine\" font-size=\"10.00\">(250, 64, 128), (64, 250, 250) </text>\n",
       "</g>\n",
       "<!-- 11&#45;&gt;14 -->\n",
       "<g id=\"edge15\" class=\"edge\">\n",
       "<title>11&#45;&gt;14</title>\n",
       "<path fill=\"none\" stroke=\"black\" d=\"M367,-2594.66C383.23,-2585.15 402.25,-2574.01 419.38,-2563.98\"/>\n",
       "<polygon fill=\"black\" stroke=\"black\" points=\"421.05,-2567.06 427.91,-2558.98 417.51,-2561.02 421.05,-2567.06\"/>\n",
       "</g>\n",
       "<!-- 12&#45;&gt;14 -->\n",
       "<g id=\"edge16\" class=\"edge\">\n",
       "<title>12&#45;&gt;14</title>\n",
       "<path fill=\"none\" stroke=\"black\" d=\"M513.45,-2594.66C506.9,-2586.13 499.33,-2576.28 492.28,-2567.1\"/>\n",
       "<polygon fill=\"black\" stroke=\"black\" points=\"495.24,-2565.22 486.38,-2559.42 489.69,-2569.48 495.24,-2565.22\"/>\n",
       "</g>\n",
       "<!-- 13&#45;&gt;14 -->\n",
       "<g id=\"edge17\" class=\"edge\">\n",
       "<title>13&#45;&gt;14</title>\n",
       "<path fill=\"none\" stroke=\"black\" d=\"M659.55,-2594.55C626.54,-2584.37 587.52,-2572.35 553.35,-2561.81\"/>\n",
       "<polygon fill=\"black\" stroke=\"black\" points=\"554.47,-2558.49 543.88,-2558.89 552.4,-2565.18 554.47,-2558.49\"/>\n",
       "</g>\n",
       "<!-- 15 -->\n",
       "<g id=\"node16\" class=\"node\">\n",
       "<title>15</title>\n",
       "<polygon fill=\"#c1ffc1\" stroke=\"none\" points=\"448.5,-2474.5 277.5,-2474.5 277.5,-2426.5 448.5,-2426.5 448.5,-2474.5\"/>\n",
       "<polygon fill=\"none\" stroke=\"black\" points=\"277.5,-2426.5 277.5,-2474.5 326.5,-2474.5 326.5,-2426.5 277.5,-2426.5\"/>\n",
       "<text text-anchor=\"start\" x=\"282.5\" y=\"-2455.25\" font-family=\"Linux libertine\" font-size=\"10.00\">Dropout</text>\n",
       "<text text-anchor=\"start\" x=\"283.62\" y=\"-2441\" font-family=\"Linux libertine\" font-size=\"10.00\">depth:2</text>\n",
       "<polygon fill=\"none\" stroke=\"black\" points=\"326.5,-2450.5 326.5,-2474.5 372.5,-2474.5 372.5,-2450.5 326.5,-2450.5\"/>\n",
       "<text text-anchor=\"start\" x=\"336\" y=\"-2460\" font-family=\"Linux libertine\" font-size=\"10.00\">input:</text>\n",
       "<polygon fill=\"none\" stroke=\"black\" points=\"372.5,-2450.5 372.5,-2474.5 448.5,-2474.5 448.5,-2450.5 372.5,-2450.5\"/>\n",
       "<text text-anchor=\"start\" x=\"377.12\" y=\"-2460\" font-family=\"Linux libertine\" font-size=\"10.00\">(250, 64, 128) </text>\n",
       "<polygon fill=\"none\" stroke=\"black\" points=\"326.5,-2426.5 326.5,-2450.5 372.5,-2450.5 372.5,-2426.5 326.5,-2426.5\"/>\n",
       "<text text-anchor=\"start\" x=\"331.12\" y=\"-2436\" font-family=\"Linux libertine\" font-size=\"10.00\">output: </text>\n",
       "<polygon fill=\"none\" stroke=\"black\" points=\"372.5,-2426.5 372.5,-2450.5 448.5,-2450.5 448.5,-2426.5 372.5,-2426.5\"/>\n",
       "<text text-anchor=\"start\" x=\"377.12\" y=\"-2436\" font-family=\"Linux libertine\" font-size=\"10.00\">(250, 64, 128) </text>\n",
       "</g>\n",
       "<!-- 14&#45;&gt;15 -->\n",
       "<g id=\"edge18\" class=\"edge\">\n",
       "<title>14&#45;&gt;15</title>\n",
       "<path fill=\"none\" stroke=\"black\" d=\"M438.75,-2510.66C427.03,-2501.51 413.38,-2490.84 400.91,-2481.11\"/>\n",
       "<polygon fill=\"black\" stroke=\"black\" points=\"403.32,-2478.55 393.28,-2475.15 399.01,-2484.06 403.32,-2478.55\"/>\n",
       "</g>\n",
       "<!-- 15&#45;&gt;16 -->\n",
       "<g id=\"edge19\" class=\"edge\">\n",
       "<title>15&#45;&gt;16</title>\n",
       "<path fill=\"none\" stroke=\"black\" d=\"M335.42,-2426.66C324.48,-2417.6 311.75,-2407.05 300.09,-2397.39\"/>\n",
       "<polygon fill=\"black\" stroke=\"black\" points=\"302.53,-2394.87 292.59,-2391.18 298.06,-2400.26 302.53,-2394.87\"/>\n",
       "</g>\n",
       "<!-- 17 -->\n",
       "<g id=\"node18\" class=\"node\">\n",
       "<title>17</title>\n",
       "<polygon fill=\"#c1ffc1\" stroke=\"none\" points=\"417.5,-2306.5 232.5,-2306.5 232.5,-2258.5 417.5,-2258.5 417.5,-2306.5\"/>\n",
       "<polygon fill=\"none\" stroke=\"black\" points=\"232.5,-2258.5 232.5,-2306.5 295.5,-2306.5 295.5,-2258.5 232.5,-2258.5\"/>\n",
       "<text text-anchor=\"start\" x=\"237.38\" y=\"-2287.25\" font-family=\"Linux libertine\" font-size=\"10.00\">LayerNorm</text>\n",
       "<text text-anchor=\"start\" x=\"245.62\" y=\"-2273\" font-family=\"Linux libertine\" font-size=\"10.00\">depth:2</text>\n",
       "<polygon fill=\"none\" stroke=\"black\" points=\"295.5,-2282.5 295.5,-2306.5 341.5,-2306.5 341.5,-2282.5 295.5,-2282.5\"/>\n",
       "<text text-anchor=\"start\" x=\"305\" y=\"-2292\" font-family=\"Linux libertine\" font-size=\"10.00\">input:</text>\n",
       "<polygon fill=\"none\" stroke=\"black\" points=\"341.5,-2282.5 341.5,-2306.5 417.5,-2306.5 417.5,-2282.5 341.5,-2282.5\"/>\n",
       "<text text-anchor=\"start\" x=\"346.12\" y=\"-2292\" font-family=\"Linux libertine\" font-size=\"10.00\">(250, 64, 128) </text>\n",
       "<polygon fill=\"none\" stroke=\"black\" points=\"295.5,-2258.5 295.5,-2282.5 341.5,-2282.5 341.5,-2258.5 295.5,-2258.5\"/>\n",
       "<text text-anchor=\"start\" x=\"300.12\" y=\"-2268\" font-family=\"Linux libertine\" font-size=\"10.00\">output: </text>\n",
       "<polygon fill=\"none\" stroke=\"black\" points=\"341.5,-2258.5 341.5,-2282.5 417.5,-2282.5 417.5,-2258.5 341.5,-2258.5\"/>\n",
       "<text text-anchor=\"start\" x=\"346.12\" y=\"-2268\" font-family=\"Linux libertine\" font-size=\"10.00\">(250, 64, 128) </text>\n",
       "</g>\n",
       "<!-- 16&#45;&gt;17 -->\n",
       "<g id=\"edge20\" class=\"edge\">\n",
       "<title>16&#45;&gt;17</title>\n",
       "<path fill=\"none\" stroke=\"black\" d=\"M280.99,-2342.66C287.27,-2334.22 294.51,-2324.49 301.28,-2315.39\"/>\n",
       "<polygon fill=\"black\" stroke=\"black\" points=\"304.04,-2317.55 307.2,-2307.43 298.42,-2313.37 304.04,-2317.55\"/>\n",
       "</g>\n",
       "<!-- 23 -->\n",
       "<g id=\"node24\" class=\"node\">\n",
       "<title>23</title>\n",
       "<polygon fill=\"aliceblue\" stroke=\"none\" points=\"353,-1802.5 169,-1802.5 169,-1754.5 353,-1754.5 353,-1802.5\"/>\n",
       "<polygon fill=\"none\" stroke=\"black\" points=\"169,-1754.5 169,-1802.5 215,-1802.5 215,-1754.5 169,-1754.5\"/>\n",
       "<text text-anchor=\"start\" x=\"183.38\" y=\"-1783.25\" font-family=\"Linux libertine\" font-size=\"10.00\">add</text>\n",
       "<text text-anchor=\"start\" x=\"173.62\" y=\"-1769\" font-family=\"Linux libertine\" font-size=\"10.00\">depth:2</text>\n",
       "<polygon fill=\"none\" stroke=\"black\" points=\"215,-1778.5 215,-1802.5 261,-1802.5 261,-1778.5 215,-1778.5\"/>\n",
       "<text text-anchor=\"start\" x=\"224.5\" y=\"-1788\" font-family=\"Linux libertine\" font-size=\"10.00\">input:</text>\n",
       "<polygon fill=\"none\" stroke=\"black\" points=\"261,-1778.5 261,-1802.5 353,-1802.5 353,-1778.5 261,-1778.5\"/>\n",
       "<text text-anchor=\"start\" x=\"265.75\" y=\"-1788\" font-family=\"Linux libertine\" font-size=\"10.00\">2 x (250, 64, 128) </text>\n",
       "<polygon fill=\"none\" stroke=\"black\" points=\"215,-1754.5 215,-1778.5 261,-1778.5 261,-1754.5 215,-1754.5\"/>\n",
       "<text text-anchor=\"start\" x=\"219.62\" y=\"-1764\" font-family=\"Linux libertine\" font-size=\"10.00\">output: </text>\n",
       "<polygon fill=\"none\" stroke=\"black\" points=\"261,-1754.5 261,-1778.5 353,-1778.5 353,-1754.5 261,-1754.5\"/>\n",
       "<text text-anchor=\"start\" x=\"273.62\" y=\"-1764\" font-family=\"Linux libertine\" font-size=\"10.00\">(250, 64, 128) </text>\n",
       "</g>\n",
       "<!-- 16&#45;&gt;23 -->\n",
       "<g id=\"edge21\" class=\"edge\">\n",
       "<title>16&#45;&gt;23</title>\n",
       "<path fill=\"none\" stroke=\"black\" d=\"M244.74,-2342.75C236.85,-2332.32 228.33,-2319.41 223,-2306.5 204.57,-2261.86 204,-2247.8 204,-2199.5 204,-2199.5 204,-2199.5 204,-1945.5 204,-1896.95 208.48,-1883.78 226,-1838.5 229.45,-1829.58 234.18,-1820.44 239.05,-1812.11\"/>\n",
       "<polygon fill=\"black\" stroke=\"black\" points=\"241.96,-1814.06 244.19,-1803.7 235.99,-1810.41 241.96,-1814.06\"/>\n",
       "</g>\n",
       "<!-- 18 -->\n",
       "<g id=\"node19\" class=\"node\">\n",
       "<title>18</title>\n",
       "<polygon fill=\"#c1ffc1\" stroke=\"none\" points=\"408,-2222.5 240,-2222.5 240,-2174.5 408,-2174.5 408,-2222.5\"/>\n",
       "<polygon fill=\"none\" stroke=\"black\" points=\"240,-2174.5 240,-2222.5 286,-2222.5 286,-2174.5 240,-2174.5\"/>\n",
       "<text text-anchor=\"start\" x=\"248.38\" y=\"-2203.25\" font-family=\"Linux libertine\" font-size=\"10.00\">Linear</text>\n",
       "<text text-anchor=\"start\" x=\"244.62\" y=\"-2189\" font-family=\"Linux libertine\" font-size=\"10.00\">depth:3</text>\n",
       "<polygon fill=\"none\" stroke=\"black\" points=\"286,-2198.5 286,-2222.5 332,-2222.5 332,-2198.5 286,-2198.5\"/>\n",
       "<text text-anchor=\"start\" x=\"295.5\" y=\"-2208\" font-family=\"Linux libertine\" font-size=\"10.00\">input:</text>\n",
       "<polygon fill=\"none\" stroke=\"black\" points=\"332,-2198.5 332,-2222.5 408,-2222.5 408,-2198.5 332,-2198.5\"/>\n",
       "<text text-anchor=\"start\" x=\"336.62\" y=\"-2208\" font-family=\"Linux libertine\" font-size=\"10.00\">(250, 64, 128) </text>\n",
       "<polygon fill=\"none\" stroke=\"black\" points=\"286,-2174.5 286,-2198.5 332,-2198.5 332,-2174.5 286,-2174.5\"/>\n",
       "<text text-anchor=\"start\" x=\"290.62\" y=\"-2184\" font-family=\"Linux libertine\" font-size=\"10.00\">output: </text>\n",
       "<polygon fill=\"none\" stroke=\"black\" points=\"332,-2174.5 332,-2198.5 408,-2198.5 408,-2174.5 332,-2174.5\"/>\n",
       "<text text-anchor=\"start\" x=\"336.62\" y=\"-2184\" font-family=\"Linux libertine\" font-size=\"10.00\">(250, 64, 512) </text>\n",
       "</g>\n",
       "<!-- 17&#45;&gt;18 -->\n",
       "<g id=\"edge22\" class=\"edge\">\n",
       "<title>17&#45;&gt;18</title>\n",
       "<path fill=\"none\" stroke=\"black\" d=\"M324.72,-2258.66C324.63,-2250.93 324.52,-2242.12 324.42,-2233.7\"/>\n",
       "<polygon fill=\"black\" stroke=\"black\" points=\"327.92,-2233.69 324.3,-2223.73 320.92,-2233.77 327.92,-2233.69\"/>\n",
       "</g>\n",
       "<!-- 19 -->\n",
       "<g id=\"node20\" class=\"node\">\n",
       "<title>19</title>\n",
       "<polygon fill=\"#c1ffc1\" stroke=\"none\" points=\"406,-2138.5 238,-2138.5 238,-2090.5 406,-2090.5 406,-2138.5\"/>\n",
       "<polygon fill=\"none\" stroke=\"black\" points=\"238,-2090.5 238,-2138.5 284,-2138.5 284,-2090.5 238,-2090.5\"/>\n",
       "<text text-anchor=\"start\" x=\"248.25\" y=\"-2119.25\" font-family=\"Linux libertine\" font-size=\"10.00\">GELU</text>\n",
       "<text text-anchor=\"start\" x=\"242.62\" y=\"-2105\" font-family=\"Linux libertine\" font-size=\"10.00\">depth:3</text>\n",
       "<polygon fill=\"none\" stroke=\"black\" points=\"284,-2114.5 284,-2138.5 330,-2138.5 330,-2114.5 284,-2114.5\"/>\n",
       "<text text-anchor=\"start\" x=\"293.5\" y=\"-2124\" font-family=\"Linux libertine\" font-size=\"10.00\">input:</text>\n",
       "<polygon fill=\"none\" stroke=\"black\" points=\"330,-2114.5 330,-2138.5 406,-2138.5 406,-2114.5 330,-2114.5\"/>\n",
       "<text text-anchor=\"start\" x=\"334.62\" y=\"-2124\" font-family=\"Linux libertine\" font-size=\"10.00\">(250, 64, 512) </text>\n",
       "<polygon fill=\"none\" stroke=\"black\" points=\"284,-2090.5 284,-2114.5 330,-2114.5 330,-2090.5 284,-2090.5\"/>\n",
       "<text text-anchor=\"start\" x=\"288.62\" y=\"-2100\" font-family=\"Linux libertine\" font-size=\"10.00\">output: </text>\n",
       "<polygon fill=\"none\" stroke=\"black\" points=\"330,-2090.5 330,-2114.5 406,-2114.5 406,-2090.5 330,-2090.5\"/>\n",
       "<text text-anchor=\"start\" x=\"334.62\" y=\"-2100\" font-family=\"Linux libertine\" font-size=\"10.00\">(250, 64, 512) </text>\n",
       "</g>\n",
       "<!-- 18&#45;&gt;19 -->\n",
       "<g id=\"edge23\" class=\"edge\">\n",
       "<title>18&#45;&gt;19</title>\n",
       "<path fill=\"none\" stroke=\"black\" d=\"M323.44,-2174.66C323.25,-2166.93 323.04,-2158.12 322.83,-2149.7\"/>\n",
       "<polygon fill=\"black\" stroke=\"black\" points=\"326.33,-2149.64 322.59,-2139.73 319.34,-2149.81 326.33,-2149.64\"/>\n",
       "</g>\n",
       "<!-- 20 -->\n",
       "<g id=\"node21\" class=\"node\">\n",
       "<title>20</title>\n",
       "<polygon fill=\"#c1ffc1\" stroke=\"none\" points=\"405,-2054.5 237,-2054.5 237,-2006.5 405,-2006.5 405,-2054.5\"/>\n",
       "<polygon fill=\"none\" stroke=\"black\" points=\"237,-2006.5 237,-2054.5 283,-2054.5 283,-2006.5 237,-2006.5\"/>\n",
       "<text text-anchor=\"start\" x=\"245.38\" y=\"-2035.25\" font-family=\"Linux libertine\" font-size=\"10.00\">Linear</text>\n",
       "<text text-anchor=\"start\" x=\"241.62\" y=\"-2021\" font-family=\"Linux libertine\" font-size=\"10.00\">depth:3</text>\n",
       "<polygon fill=\"none\" stroke=\"black\" points=\"283,-2030.5 283,-2054.5 329,-2054.5 329,-2030.5 283,-2030.5\"/>\n",
       "<text text-anchor=\"start\" x=\"292.5\" y=\"-2040\" font-family=\"Linux libertine\" font-size=\"10.00\">input:</text>\n",
       "<polygon fill=\"none\" stroke=\"black\" points=\"329,-2030.5 329,-2054.5 405,-2054.5 405,-2030.5 329,-2030.5\"/>\n",
       "<text text-anchor=\"start\" x=\"333.62\" y=\"-2040\" font-family=\"Linux libertine\" font-size=\"10.00\">(250, 64, 512) </text>\n",
       "<polygon fill=\"none\" stroke=\"black\" points=\"283,-2006.5 283,-2030.5 329,-2030.5 329,-2006.5 283,-2006.5\"/>\n",
       "<text text-anchor=\"start\" x=\"287.62\" y=\"-2016\" font-family=\"Linux libertine\" font-size=\"10.00\">output: </text>\n",
       "<polygon fill=\"none\" stroke=\"black\" points=\"329,-2006.5 329,-2030.5 405,-2030.5 405,-2006.5 329,-2006.5\"/>\n",
       "<text text-anchor=\"start\" x=\"333.62\" y=\"-2016\" font-family=\"Linux libertine\" font-size=\"10.00\">(250, 64, 128) </text>\n",
       "</g>\n",
       "<!-- 19&#45;&gt;20 -->\n",
       "<g id=\"edge24\" class=\"edge\">\n",
       "<title>19&#45;&gt;20</title>\n",
       "<path fill=\"none\" stroke=\"black\" d=\"M321.72,-2090.66C321.63,-2082.93 321.52,-2074.12 321.42,-2065.7\"/>\n",
       "<polygon fill=\"black\" stroke=\"black\" points=\"324.92,-2065.69 321.3,-2055.73 317.92,-2065.77 324.92,-2065.69\"/>\n",
       "</g>\n",
       "<!-- 21 -->\n",
       "<g id=\"node22\" class=\"node\">\n",
       "<title>21</title>\n",
       "<polygon fill=\"#c1ffc1\" stroke=\"none\" points=\"406.5,-1970.5 235.5,-1970.5 235.5,-1922.5 406.5,-1922.5 406.5,-1970.5\"/>\n",
       "<polygon fill=\"none\" stroke=\"black\" points=\"235.5,-1922.5 235.5,-1970.5 284.5,-1970.5 284.5,-1922.5 235.5,-1922.5\"/>\n",
       "<text text-anchor=\"start\" x=\"240.5\" y=\"-1951.25\" font-family=\"Linux libertine\" font-size=\"10.00\">Dropout</text>\n",
       "<text text-anchor=\"start\" x=\"241.62\" y=\"-1937\" font-family=\"Linux libertine\" font-size=\"10.00\">depth:3</text>\n",
       "<polygon fill=\"none\" stroke=\"black\" points=\"284.5,-1946.5 284.5,-1970.5 330.5,-1970.5 330.5,-1946.5 284.5,-1946.5\"/>\n",
       "<text text-anchor=\"start\" x=\"294\" y=\"-1956\" font-family=\"Linux libertine\" font-size=\"10.00\">input:</text>\n",
       "<polygon fill=\"none\" stroke=\"black\" points=\"330.5,-1946.5 330.5,-1970.5 406.5,-1970.5 406.5,-1946.5 330.5,-1946.5\"/>\n",
       "<text text-anchor=\"start\" x=\"335.12\" y=\"-1956\" font-family=\"Linux libertine\" font-size=\"10.00\">(250, 64, 128) </text>\n",
       "<polygon fill=\"none\" stroke=\"black\" points=\"284.5,-1922.5 284.5,-1946.5 330.5,-1946.5 330.5,-1922.5 284.5,-1922.5\"/>\n",
       "<text text-anchor=\"start\" x=\"289.12\" y=\"-1932\" font-family=\"Linux libertine\" font-size=\"10.00\">output: </text>\n",
       "<polygon fill=\"none\" stroke=\"black\" points=\"330.5,-1922.5 330.5,-1946.5 406.5,-1946.5 406.5,-1922.5 330.5,-1922.5\"/>\n",
       "<text text-anchor=\"start\" x=\"335.12\" y=\"-1932\" font-family=\"Linux libertine\" font-size=\"10.00\">(250, 64, 128) </text>\n",
       "</g>\n",
       "<!-- 20&#45;&gt;21 -->\n",
       "<g id=\"edge25\" class=\"edge\">\n",
       "<title>20&#45;&gt;21</title>\n",
       "<path fill=\"none\" stroke=\"black\" d=\"M321,-2006.66C321,-1998.93 321,-1990.12 321,-1981.7\"/>\n",
       "<polygon fill=\"black\" stroke=\"black\" points=\"324.5,-1981.73 321,-1971.73 317.5,-1981.73 324.5,-1981.73\"/>\n",
       "</g>\n",
       "<!-- 22 -->\n",
       "<g id=\"node23\" class=\"node\">\n",
       "<title>22</title>\n",
       "<polygon fill=\"#c1ffc1\" stroke=\"none\" points=\"406.5,-1886.5 235.5,-1886.5 235.5,-1838.5 406.5,-1838.5 406.5,-1886.5\"/>\n",
       "<polygon fill=\"none\" stroke=\"black\" points=\"235.5,-1838.5 235.5,-1886.5 284.5,-1886.5 284.5,-1838.5 235.5,-1838.5\"/>\n",
       "<text text-anchor=\"start\" x=\"240.5\" y=\"-1867.25\" font-family=\"Linux libertine\" font-size=\"10.00\">Dropout</text>\n",
       "<text text-anchor=\"start\" x=\"241.62\" y=\"-1853\" font-family=\"Linux libertine\" font-size=\"10.00\">depth:2</text>\n",
       "<polygon fill=\"none\" stroke=\"black\" points=\"284.5,-1862.5 284.5,-1886.5 330.5,-1886.5 330.5,-1862.5 284.5,-1862.5\"/>\n",
       "<text text-anchor=\"start\" x=\"294\" y=\"-1872\" font-family=\"Linux libertine\" font-size=\"10.00\">input:</text>\n",
       "<polygon fill=\"none\" stroke=\"black\" points=\"330.5,-1862.5 330.5,-1886.5 406.5,-1886.5 406.5,-1862.5 330.5,-1862.5\"/>\n",
       "<text text-anchor=\"start\" x=\"335.12\" y=\"-1872\" font-family=\"Linux libertine\" font-size=\"10.00\">(250, 64, 128) </text>\n",
       "<polygon fill=\"none\" stroke=\"black\" points=\"284.5,-1838.5 284.5,-1862.5 330.5,-1862.5 330.5,-1838.5 284.5,-1838.5\"/>\n",
       "<text text-anchor=\"start\" x=\"289.12\" y=\"-1848\" font-family=\"Linux libertine\" font-size=\"10.00\">output: </text>\n",
       "<polygon fill=\"none\" stroke=\"black\" points=\"330.5,-1838.5 330.5,-1862.5 406.5,-1862.5 406.5,-1838.5 330.5,-1838.5\"/>\n",
       "<text text-anchor=\"start\" x=\"335.12\" y=\"-1848\" font-family=\"Linux libertine\" font-size=\"10.00\">(250, 64, 128) </text>\n",
       "</g>\n",
       "<!-- 21&#45;&gt;22 -->\n",
       "<g id=\"edge26\" class=\"edge\">\n",
       "<title>21&#45;&gt;22</title>\n",
       "<path fill=\"none\" stroke=\"black\" d=\"M321,-1922.66C321,-1914.93 321,-1906.12 321,-1897.7\"/>\n",
       "<polygon fill=\"black\" stroke=\"black\" points=\"324.5,-1897.73 321,-1887.73 317.5,-1897.73 324.5,-1897.73\"/>\n",
       "</g>\n",
       "<!-- 22&#45;&gt;23 -->\n",
       "<g id=\"edge27\" class=\"edge\">\n",
       "<title>22&#45;&gt;23</title>\n",
       "<path fill=\"none\" stroke=\"black\" d=\"M304.29,-1838.66C298.11,-1830.22 290.99,-1820.49 284.34,-1811.39\"/>\n",
       "<polygon fill=\"black\" stroke=\"black\" points=\"287.25,-1809.44 278.52,-1803.44 281.6,-1813.58 287.25,-1809.44\"/>\n",
       "</g>\n",
       "<!-- 24 -->\n",
       "<g id=\"node25\" class=\"node\">\n",
       "<title>24</title>\n",
       "<polygon fill=\"#c1ffc1\" stroke=\"none\" points=\"252.5,-1718.5 67.5,-1718.5 67.5,-1670.5 252.5,-1670.5 252.5,-1718.5\"/>\n",
       "<polygon fill=\"none\" stroke=\"black\" points=\"67.5,-1670.5 67.5,-1718.5 130.5,-1718.5 130.5,-1670.5 67.5,-1670.5\"/>\n",
       "<text text-anchor=\"start\" x=\"72.38\" y=\"-1699.25\" font-family=\"Linux libertine\" font-size=\"10.00\">LayerNorm</text>\n",
       "<text text-anchor=\"start\" x=\"80.62\" y=\"-1685\" font-family=\"Linux libertine\" font-size=\"10.00\">depth:2</text>\n",
       "<polygon fill=\"none\" stroke=\"black\" points=\"130.5,-1694.5 130.5,-1718.5 176.5,-1718.5 176.5,-1694.5 130.5,-1694.5\"/>\n",
       "<text text-anchor=\"start\" x=\"140\" y=\"-1704\" font-family=\"Linux libertine\" font-size=\"10.00\">input:</text>\n",
       "<polygon fill=\"none\" stroke=\"black\" points=\"176.5,-1694.5 176.5,-1718.5 252.5,-1718.5 252.5,-1694.5 176.5,-1694.5\"/>\n",
       "<text text-anchor=\"start\" x=\"181.12\" y=\"-1704\" font-family=\"Linux libertine\" font-size=\"10.00\">(250, 64, 128) </text>\n",
       "<polygon fill=\"none\" stroke=\"black\" points=\"130.5,-1670.5 130.5,-1694.5 176.5,-1694.5 176.5,-1670.5 130.5,-1670.5\"/>\n",
       "<text text-anchor=\"start\" x=\"135.12\" y=\"-1680\" font-family=\"Linux libertine\" font-size=\"10.00\">output: </text>\n",
       "<polygon fill=\"none\" stroke=\"black\" points=\"176.5,-1670.5 176.5,-1694.5 252.5,-1694.5 252.5,-1670.5 176.5,-1670.5\"/>\n",
       "<text text-anchor=\"start\" x=\"181.12\" y=\"-1680\" font-family=\"Linux libertine\" font-size=\"10.00\">(250, 64, 128) </text>\n",
       "</g>\n",
       "<!-- 23&#45;&gt;24 -->\n",
       "<g id=\"edge28\" class=\"edge\">\n",
       "<title>23&#45;&gt;24</title>\n",
       "<path fill=\"none\" stroke=\"black\" d=\"M232.87,-1754.66C221.7,-1745.6 208.71,-1735.05 196.82,-1725.39\"/>\n",
       "<polygon fill=\"black\" stroke=\"black\" points=\"199.13,-1722.76 189.16,-1719.17 194.72,-1728.19 199.13,-1722.76\"/>\n",
       "</g>\n",
       "<!-- 25 -->\n",
       "<g id=\"node26\" class=\"node\">\n",
       "<title>25</title>\n",
       "<polygon fill=\"#c1ffc1\" stroke=\"none\" points=\"455.5,-1718.5 270.5,-1718.5 270.5,-1670.5 455.5,-1670.5 455.5,-1718.5\"/>\n",
       "<polygon fill=\"none\" stroke=\"black\" points=\"270.5,-1670.5 270.5,-1718.5 333.5,-1718.5 333.5,-1670.5 270.5,-1670.5\"/>\n",
       "<text text-anchor=\"start\" x=\"275.38\" y=\"-1699.25\" font-family=\"Linux libertine\" font-size=\"10.00\">LayerNorm</text>\n",
       "<text text-anchor=\"start\" x=\"283.62\" y=\"-1685\" font-family=\"Linux libertine\" font-size=\"10.00\">depth:2</text>\n",
       "<polygon fill=\"none\" stroke=\"black\" points=\"333.5,-1694.5 333.5,-1718.5 379.5,-1718.5 379.5,-1694.5 333.5,-1694.5\"/>\n",
       "<text text-anchor=\"start\" x=\"343\" y=\"-1704\" font-family=\"Linux libertine\" font-size=\"10.00\">input:</text>\n",
       "<polygon fill=\"none\" stroke=\"black\" points=\"379.5,-1694.5 379.5,-1718.5 455.5,-1718.5 455.5,-1694.5 379.5,-1694.5\"/>\n",
       "<text text-anchor=\"start\" x=\"384.12\" y=\"-1704\" font-family=\"Linux libertine\" font-size=\"10.00\">(250, 64, 128) </text>\n",
       "<polygon fill=\"none\" stroke=\"black\" points=\"333.5,-1670.5 333.5,-1694.5 379.5,-1694.5 379.5,-1670.5 333.5,-1670.5\"/>\n",
       "<text text-anchor=\"start\" x=\"338.12\" y=\"-1680\" font-family=\"Linux libertine\" font-size=\"10.00\">output: </text>\n",
       "<polygon fill=\"none\" stroke=\"black\" points=\"379.5,-1670.5 379.5,-1694.5 455.5,-1694.5 455.5,-1670.5 379.5,-1670.5\"/>\n",
       "<text text-anchor=\"start\" x=\"384.12\" y=\"-1680\" font-family=\"Linux libertine\" font-size=\"10.00\">(250, 64, 128) </text>\n",
       "</g>\n",
       "<!-- 23&#45;&gt;25 -->\n",
       "<g id=\"edge29\" class=\"edge\">\n",
       "<title>23&#45;&gt;25</title>\n",
       "<path fill=\"none\" stroke=\"black\" d=\"M289.41,-1754.66C300.69,-1745.6 313.81,-1735.05 325.82,-1725.39\"/>\n",
       "<polygon fill=\"black\" stroke=\"black\" points=\"327.96,-1728.16 333.56,-1719.17 323.57,-1722.71 327.96,-1728.16\"/>\n",
       "</g>\n",
       "<!-- 26 -->\n",
       "<g id=\"node27\" class=\"node\">\n",
       "<title>26</title>\n",
       "<polygon fill=\"#c1ffc1\" stroke=\"none\" points=\"658.5,-1718.5 473.5,-1718.5 473.5,-1670.5 658.5,-1670.5 658.5,-1718.5\"/>\n",
       "<polygon fill=\"none\" stroke=\"black\" points=\"473.5,-1670.5 473.5,-1718.5 536.5,-1718.5 536.5,-1670.5 473.5,-1670.5\"/>\n",
       "<text text-anchor=\"start\" x=\"478.38\" y=\"-1699.25\" font-family=\"Linux libertine\" font-size=\"10.00\">LayerNorm</text>\n",
       "<text text-anchor=\"start\" x=\"486.62\" y=\"-1685\" font-family=\"Linux libertine\" font-size=\"10.00\">depth:2</text>\n",
       "<polygon fill=\"none\" stroke=\"black\" points=\"536.5,-1694.5 536.5,-1718.5 582.5,-1718.5 582.5,-1694.5 536.5,-1694.5\"/>\n",
       "<text text-anchor=\"start\" x=\"546\" y=\"-1704\" font-family=\"Linux libertine\" font-size=\"10.00\">input:</text>\n",
       "<polygon fill=\"none\" stroke=\"black\" points=\"582.5,-1694.5 582.5,-1718.5 658.5,-1718.5 658.5,-1694.5 582.5,-1694.5\"/>\n",
       "<text text-anchor=\"start\" x=\"587.12\" y=\"-1704\" font-family=\"Linux libertine\" font-size=\"10.00\">(250, 64, 128) </text>\n",
       "<polygon fill=\"none\" stroke=\"black\" points=\"536.5,-1670.5 536.5,-1694.5 582.5,-1694.5 582.5,-1670.5 536.5,-1670.5\"/>\n",
       "<text text-anchor=\"start\" x=\"541.12\" y=\"-1680\" font-family=\"Linux libertine\" font-size=\"10.00\">output: </text>\n",
       "<polygon fill=\"none\" stroke=\"black\" points=\"582.5,-1670.5 582.5,-1694.5 658.5,-1694.5 658.5,-1670.5 582.5,-1670.5\"/>\n",
       "<text text-anchor=\"start\" x=\"587.12\" y=\"-1680\" font-family=\"Linux libertine\" font-size=\"10.00\">(250, 64, 128) </text>\n",
       "</g>\n",
       "<!-- 23&#45;&gt;26 -->\n",
       "<g id=\"edge30\" class=\"edge\">\n",
       "<title>23&#45;&gt;26</title>\n",
       "<path fill=\"none\" stroke=\"black\" d=\"M346.37,-1754.55C384.7,-1744.24 430.11,-1732.03 469.67,-1721.4\"/>\n",
       "<polygon fill=\"black\" stroke=\"black\" points=\"470.45,-1724.81 479.19,-1718.84 468.63,-1718.05 470.45,-1724.81\"/>\n",
       "</g>\n",
       "<!-- 29 -->\n",
       "<g id=\"node30\" class=\"node\">\n",
       "<title>29</title>\n",
       "<polygon fill=\"aliceblue\" stroke=\"none\" points=\"188,-1466.5 4,-1466.5 4,-1418.5 188,-1418.5 188,-1466.5\"/>\n",
       "<polygon fill=\"none\" stroke=\"black\" points=\"4,-1418.5 4,-1466.5 50,-1466.5 50,-1418.5 4,-1418.5\"/>\n",
       "<text text-anchor=\"start\" x=\"18.38\" y=\"-1447.25\" font-family=\"Linux libertine\" font-size=\"10.00\">add</text>\n",
       "<text text-anchor=\"start\" x=\"8.62\" y=\"-1433\" font-family=\"Linux libertine\" font-size=\"10.00\">depth:2</text>\n",
       "<polygon fill=\"none\" stroke=\"black\" points=\"50,-1442.5 50,-1466.5 96,-1466.5 96,-1442.5 50,-1442.5\"/>\n",
       "<text text-anchor=\"start\" x=\"59.5\" y=\"-1452\" font-family=\"Linux libertine\" font-size=\"10.00\">input:</text>\n",
       "<polygon fill=\"none\" stroke=\"black\" points=\"96,-1442.5 96,-1466.5 188,-1466.5 188,-1442.5 96,-1442.5\"/>\n",
       "<text text-anchor=\"start\" x=\"100.75\" y=\"-1452\" font-family=\"Linux libertine\" font-size=\"10.00\">2 x (250, 64, 128) </text>\n",
       "<polygon fill=\"none\" stroke=\"black\" points=\"50,-1418.5 50,-1442.5 96,-1442.5 96,-1418.5 50,-1418.5\"/>\n",
       "<text text-anchor=\"start\" x=\"54.62\" y=\"-1428\" font-family=\"Linux libertine\" font-size=\"10.00\">output: </text>\n",
       "<polygon fill=\"none\" stroke=\"black\" points=\"96,-1418.5 96,-1442.5 188,-1442.5 188,-1418.5 96,-1418.5\"/>\n",
       "<text text-anchor=\"start\" x=\"108.62\" y=\"-1428\" font-family=\"Linux libertine\" font-size=\"10.00\">(250, 64, 128) </text>\n",
       "</g>\n",
       "<!-- 23&#45;&gt;29 -->\n",
       "<g id=\"edge31\" class=\"edge\">\n",
       "<title>23&#45;&gt;29</title>\n",
       "<path fill=\"none\" stroke=\"black\" d=\"M169.25,-1761.91C122.26,-1751.86 72.02,-1737.17 58,-1718.5 3.63,-1646.08 49.54,-1531.83 77.82,-1476.16\"/>\n",
       "<polygon fill=\"black\" stroke=\"black\" points=\"80.81,-1477.98 82.33,-1467.5 74.61,-1474.75 80.81,-1477.98\"/>\n",
       "</g>\n",
       "<!-- 27 -->\n",
       "<g id=\"node28\" class=\"node\">\n",
       "<title>27</title>\n",
       "<polygon fill=\"aliceblue\" stroke=\"none\" points=\"470.5,-1634.5 129.5,-1634.5 129.5,-1586.5 470.5,-1586.5 470.5,-1634.5\"/>\n",
       "<polygon fill=\"none\" stroke=\"black\" points=\"129.5,-1586.5 129.5,-1634.5 278.5,-1634.5 278.5,-1586.5 129.5,-1586.5\"/>\n",
       "<text text-anchor=\"start\" x=\"134.25\" y=\"-1615.25\" font-family=\"Linux libertine\" font-size=\"10.00\">multi_head_attention_forward</text>\n",
       "<text text-anchor=\"start\" x=\"185.62\" y=\"-1601\" font-family=\"Linux libertine\" font-size=\"10.00\">depth:3</text>\n",
       "<polygon fill=\"none\" stroke=\"black\" points=\"278.5,-1610.5 278.5,-1634.5 324.5,-1634.5 324.5,-1610.5 278.5,-1610.5\"/>\n",
       "<text text-anchor=\"start\" x=\"288\" y=\"-1620\" font-family=\"Linux libertine\" font-size=\"10.00\">input:</text>\n",
       "<polygon fill=\"none\" stroke=\"black\" points=\"324.5,-1610.5 324.5,-1634.5 470.5,-1634.5 470.5,-1610.5 324.5,-1610.5\"/>\n",
       "<text text-anchor=\"start\" x=\"356.25\" y=\"-1620\" font-family=\"Linux libertine\" font-size=\"10.00\">3 x (250, 64, 128) </text>\n",
       "<polygon fill=\"none\" stroke=\"black\" points=\"278.5,-1586.5 278.5,-1610.5 324.5,-1610.5 324.5,-1586.5 278.5,-1586.5\"/>\n",
       "<text text-anchor=\"start\" x=\"283.12\" y=\"-1596\" font-family=\"Linux libertine\" font-size=\"10.00\">output: </text>\n",
       "<polygon fill=\"none\" stroke=\"black\" points=\"324.5,-1586.5 324.5,-1610.5 470.5,-1610.5 470.5,-1586.5 324.5,-1586.5\"/>\n",
       "<text text-anchor=\"start\" x=\"329.25\" y=\"-1596\" font-family=\"Linux libertine\" font-size=\"10.00\">(250, 64, 128), (64, 250, 250) </text>\n",
       "</g>\n",
       "<!-- 24&#45;&gt;27 -->\n",
       "<g id=\"edge32\" class=\"edge\">\n",
       "<title>24&#45;&gt;27</title>\n",
       "<path fill=\"none\" stroke=\"black\" d=\"M199,-1670.66C215.23,-1661.15 234.25,-1650.01 251.38,-1639.98\"/>\n",
       "<polygon fill=\"black\" stroke=\"black\" points=\"253.05,-1643.06 259.91,-1634.98 249.51,-1637.02 253.05,-1643.06\"/>\n",
       "</g>\n",
       "<!-- 25&#45;&gt;27 -->\n",
       "<g id=\"edge33\" class=\"edge\">\n",
       "<title>25&#45;&gt;27</title>\n",
       "<path fill=\"none\" stroke=\"black\" d=\"M345.45,-1670.66C338.9,-1662.13 331.33,-1652.28 324.28,-1643.1\"/>\n",
       "<polygon fill=\"black\" stroke=\"black\" points=\"327.24,-1641.22 318.38,-1635.42 321.69,-1645.48 327.24,-1641.22\"/>\n",
       "</g>\n",
       "<!-- 26&#45;&gt;27 -->\n",
       "<g id=\"edge34\" class=\"edge\">\n",
       "<title>26&#45;&gt;27</title>\n",
       "<path fill=\"none\" stroke=\"black\" d=\"M491.55,-1670.55C458.54,-1660.37 419.52,-1648.35 385.35,-1637.81\"/>\n",
       "<polygon fill=\"black\" stroke=\"black\" points=\"386.47,-1634.49 375.88,-1634.89 384.4,-1641.18 386.47,-1634.49\"/>\n",
       "</g>\n",
       "<!-- 28 -->\n",
       "<g id=\"node29\" class=\"node\">\n",
       "<title>28</title>\n",
       "<polygon fill=\"#c1ffc1\" stroke=\"none\" points=\"280.5,-1550.5 109.5,-1550.5 109.5,-1502.5 280.5,-1502.5 280.5,-1550.5\"/>\n",
       "<polygon fill=\"none\" stroke=\"black\" points=\"109.5,-1502.5 109.5,-1550.5 158.5,-1550.5 158.5,-1502.5 109.5,-1502.5\"/>\n",
       "<text text-anchor=\"start\" x=\"114.5\" y=\"-1531.25\" font-family=\"Linux libertine\" font-size=\"10.00\">Dropout</text>\n",
       "<text text-anchor=\"start\" x=\"115.62\" y=\"-1517\" font-family=\"Linux libertine\" font-size=\"10.00\">depth:2</text>\n",
       "<polygon fill=\"none\" stroke=\"black\" points=\"158.5,-1526.5 158.5,-1550.5 204.5,-1550.5 204.5,-1526.5 158.5,-1526.5\"/>\n",
       "<text text-anchor=\"start\" x=\"168\" y=\"-1536\" font-family=\"Linux libertine\" font-size=\"10.00\">input:</text>\n",
       "<polygon fill=\"none\" stroke=\"black\" points=\"204.5,-1526.5 204.5,-1550.5 280.5,-1550.5 280.5,-1526.5 204.5,-1526.5\"/>\n",
       "<text text-anchor=\"start\" x=\"209.12\" y=\"-1536\" font-family=\"Linux libertine\" font-size=\"10.00\">(250, 64, 128) </text>\n",
       "<polygon fill=\"none\" stroke=\"black\" points=\"158.5,-1502.5 158.5,-1526.5 204.5,-1526.5 204.5,-1502.5 158.5,-1502.5\"/>\n",
       "<text text-anchor=\"start\" x=\"163.12\" y=\"-1512\" font-family=\"Linux libertine\" font-size=\"10.00\">output: </text>\n",
       "<polygon fill=\"none\" stroke=\"black\" points=\"204.5,-1502.5 204.5,-1526.5 280.5,-1526.5 280.5,-1502.5 204.5,-1502.5\"/>\n",
       "<text text-anchor=\"start\" x=\"209.12\" y=\"-1512\" font-family=\"Linux libertine\" font-size=\"10.00\">(250, 64, 128) </text>\n",
       "</g>\n",
       "<!-- 27&#45;&gt;28 -->\n",
       "<g id=\"edge35\" class=\"edge\">\n",
       "<title>27&#45;&gt;28</title>\n",
       "<path fill=\"none\" stroke=\"black\" d=\"M270.75,-1586.66C259.03,-1577.51 245.38,-1566.84 232.91,-1557.11\"/>\n",
       "<polygon fill=\"black\" stroke=\"black\" points=\"235.32,-1554.55 225.28,-1551.15 231.01,-1560.06 235.32,-1554.55\"/>\n",
       "</g>\n",
       "<!-- 28&#45;&gt;29 -->\n",
       "<g id=\"edge36\" class=\"edge\">\n",
       "<title>28&#45;&gt;29</title>\n",
       "<path fill=\"none\" stroke=\"black\" d=\"M167.42,-1502.66C156.48,-1493.6 143.75,-1483.05 132.09,-1473.39\"/>\n",
       "<polygon fill=\"black\" stroke=\"black\" points=\"134.53,-1470.87 124.59,-1467.18 130.06,-1476.26 134.53,-1470.87\"/>\n",
       "</g>\n",
       "<!-- 30 -->\n",
       "<g id=\"node31\" class=\"node\">\n",
       "<title>30</title>\n",
       "<polygon fill=\"#c1ffc1\" stroke=\"none\" points=\"249.5,-1382.5 64.5,-1382.5 64.5,-1334.5 249.5,-1334.5 249.5,-1382.5\"/>\n",
       "<polygon fill=\"none\" stroke=\"black\" points=\"64.5,-1334.5 64.5,-1382.5 127.5,-1382.5 127.5,-1334.5 64.5,-1334.5\"/>\n",
       "<text text-anchor=\"start\" x=\"69.38\" y=\"-1363.25\" font-family=\"Linux libertine\" font-size=\"10.00\">LayerNorm</text>\n",
       "<text text-anchor=\"start\" x=\"77.62\" y=\"-1349\" font-family=\"Linux libertine\" font-size=\"10.00\">depth:2</text>\n",
       "<polygon fill=\"none\" stroke=\"black\" points=\"127.5,-1358.5 127.5,-1382.5 173.5,-1382.5 173.5,-1358.5 127.5,-1358.5\"/>\n",
       "<text text-anchor=\"start\" x=\"137\" y=\"-1368\" font-family=\"Linux libertine\" font-size=\"10.00\">input:</text>\n",
       "<polygon fill=\"none\" stroke=\"black\" points=\"173.5,-1358.5 173.5,-1382.5 249.5,-1382.5 249.5,-1358.5 173.5,-1358.5\"/>\n",
       "<text text-anchor=\"start\" x=\"178.12\" y=\"-1368\" font-family=\"Linux libertine\" font-size=\"10.00\">(250, 64, 128) </text>\n",
       "<polygon fill=\"none\" stroke=\"black\" points=\"127.5,-1334.5 127.5,-1358.5 173.5,-1358.5 173.5,-1334.5 127.5,-1334.5\"/>\n",
       "<text text-anchor=\"start\" x=\"132.12\" y=\"-1344\" font-family=\"Linux libertine\" font-size=\"10.00\">output: </text>\n",
       "<polygon fill=\"none\" stroke=\"black\" points=\"173.5,-1334.5 173.5,-1358.5 249.5,-1358.5 249.5,-1334.5 173.5,-1334.5\"/>\n",
       "<text text-anchor=\"start\" x=\"178.12\" y=\"-1344\" font-family=\"Linux libertine\" font-size=\"10.00\">(250, 64, 128) </text>\n",
       "</g>\n",
       "<!-- 29&#45;&gt;30 -->\n",
       "<g id=\"edge37\" class=\"edge\">\n",
       "<title>29&#45;&gt;30</title>\n",
       "<path fill=\"none\" stroke=\"black\" d=\"M112.99,-1418.66C119.27,-1410.22 126.51,-1400.49 133.28,-1391.39\"/>\n",
       "<polygon fill=\"black\" stroke=\"black\" points=\"136.04,-1393.55 139.2,-1383.43 130.42,-1389.37 136.04,-1393.55\"/>\n",
       "</g>\n",
       "<!-- 36 -->\n",
       "<g id=\"node37\" class=\"node\">\n",
       "<title>36</title>\n",
       "<polygon fill=\"aliceblue\" stroke=\"none\" points=\"185,-878.5 1,-878.5 1,-830.5 185,-830.5 185,-878.5\"/>\n",
       "<polygon fill=\"none\" stroke=\"black\" points=\"1,-830.5 1,-878.5 47,-878.5 47,-830.5 1,-830.5\"/>\n",
       "<text text-anchor=\"start\" x=\"15.38\" y=\"-859.25\" font-family=\"Linux libertine\" font-size=\"10.00\">add</text>\n",
       "<text text-anchor=\"start\" x=\"5.62\" y=\"-845\" font-family=\"Linux libertine\" font-size=\"10.00\">depth:2</text>\n",
       "<polygon fill=\"none\" stroke=\"black\" points=\"47,-854.5 47,-878.5 93,-878.5 93,-854.5 47,-854.5\"/>\n",
       "<text text-anchor=\"start\" x=\"56.5\" y=\"-864\" font-family=\"Linux libertine\" font-size=\"10.00\">input:</text>\n",
       "<polygon fill=\"none\" stroke=\"black\" points=\"93,-854.5 93,-878.5 185,-878.5 185,-854.5 93,-854.5\"/>\n",
       "<text text-anchor=\"start\" x=\"97.75\" y=\"-864\" font-family=\"Linux libertine\" font-size=\"10.00\">2 x (250, 64, 128) </text>\n",
       "<polygon fill=\"none\" stroke=\"black\" points=\"47,-830.5 47,-854.5 93,-854.5 93,-830.5 47,-830.5\"/>\n",
       "<text text-anchor=\"start\" x=\"51.62\" y=\"-840\" font-family=\"Linux libertine\" font-size=\"10.00\">output: </text>\n",
       "<polygon fill=\"none\" stroke=\"black\" points=\"93,-830.5 93,-854.5 185,-854.5 185,-830.5 93,-830.5\"/>\n",
       "<text text-anchor=\"start\" x=\"105.62\" y=\"-840\" font-family=\"Linux libertine\" font-size=\"10.00\">(250, 64, 128) </text>\n",
       "</g>\n",
       "<!-- 29&#45;&gt;36 -->\n",
       "<g id=\"edge38\" class=\"edge\">\n",
       "<title>29&#45;&gt;36</title>\n",
       "<path fill=\"none\" stroke=\"black\" d=\"M76.74,-1418.75C68.85,-1408.32 60.33,-1395.41 55,-1382.5 36.57,-1337.86 36,-1323.8 36,-1275.5 36,-1275.5 36,-1275.5 36,-1021.5 36,-972.95 40.48,-959.78 58,-914.5 61.45,-905.58 66.18,-896.44 71.05,-888.11\"/>\n",
       "<polygon fill=\"black\" stroke=\"black\" points=\"73.96,-890.06 76.19,-879.7 67.99,-886.41 73.96,-890.06\"/>\n",
       "</g>\n",
       "<!-- 31 -->\n",
       "<g id=\"node32\" class=\"node\">\n",
       "<title>31</title>\n",
       "<polygon fill=\"#c1ffc1\" stroke=\"none\" points=\"240,-1298.5 72,-1298.5 72,-1250.5 240,-1250.5 240,-1298.5\"/>\n",
       "<polygon fill=\"none\" stroke=\"black\" points=\"72,-1250.5 72,-1298.5 118,-1298.5 118,-1250.5 72,-1250.5\"/>\n",
       "<text text-anchor=\"start\" x=\"80.38\" y=\"-1279.25\" font-family=\"Linux libertine\" font-size=\"10.00\">Linear</text>\n",
       "<text text-anchor=\"start\" x=\"76.62\" y=\"-1265\" font-family=\"Linux libertine\" font-size=\"10.00\">depth:3</text>\n",
       "<polygon fill=\"none\" stroke=\"black\" points=\"118,-1274.5 118,-1298.5 164,-1298.5 164,-1274.5 118,-1274.5\"/>\n",
       "<text text-anchor=\"start\" x=\"127.5\" y=\"-1284\" font-family=\"Linux libertine\" font-size=\"10.00\">input:</text>\n",
       "<polygon fill=\"none\" stroke=\"black\" points=\"164,-1274.5 164,-1298.5 240,-1298.5 240,-1274.5 164,-1274.5\"/>\n",
       "<text text-anchor=\"start\" x=\"168.62\" y=\"-1284\" font-family=\"Linux libertine\" font-size=\"10.00\">(250, 64, 128) </text>\n",
       "<polygon fill=\"none\" stroke=\"black\" points=\"118,-1250.5 118,-1274.5 164,-1274.5 164,-1250.5 118,-1250.5\"/>\n",
       "<text text-anchor=\"start\" x=\"122.62\" y=\"-1260\" font-family=\"Linux libertine\" font-size=\"10.00\">output: </text>\n",
       "<polygon fill=\"none\" stroke=\"black\" points=\"164,-1250.5 164,-1274.5 240,-1274.5 240,-1250.5 164,-1250.5\"/>\n",
       "<text text-anchor=\"start\" x=\"168.62\" y=\"-1260\" font-family=\"Linux libertine\" font-size=\"10.00\">(250, 64, 512) </text>\n",
       "</g>\n",
       "<!-- 30&#45;&gt;31 -->\n",
       "<g id=\"edge39\" class=\"edge\">\n",
       "<title>30&#45;&gt;31</title>\n",
       "<path fill=\"none\" stroke=\"black\" d=\"M156.72,-1334.66C156.63,-1326.93 156.52,-1318.12 156.42,-1309.7\"/>\n",
       "<polygon fill=\"black\" stroke=\"black\" points=\"159.92,-1309.69 156.3,-1299.73 152.92,-1309.77 159.92,-1309.69\"/>\n",
       "</g>\n",
       "<!-- 32 -->\n",
       "<g id=\"node33\" class=\"node\">\n",
       "<title>32</title>\n",
       "<polygon fill=\"#c1ffc1\" stroke=\"none\" points=\"238,-1214.5 70,-1214.5 70,-1166.5 238,-1166.5 238,-1214.5\"/>\n",
       "<polygon fill=\"none\" stroke=\"black\" points=\"70,-1166.5 70,-1214.5 116,-1214.5 116,-1166.5 70,-1166.5\"/>\n",
       "<text text-anchor=\"start\" x=\"80.25\" y=\"-1195.25\" font-family=\"Linux libertine\" font-size=\"10.00\">GELU</text>\n",
       "<text text-anchor=\"start\" x=\"74.62\" y=\"-1181\" font-family=\"Linux libertine\" font-size=\"10.00\">depth:3</text>\n",
       "<polygon fill=\"none\" stroke=\"black\" points=\"116,-1190.5 116,-1214.5 162,-1214.5 162,-1190.5 116,-1190.5\"/>\n",
       "<text text-anchor=\"start\" x=\"125.5\" y=\"-1200\" font-family=\"Linux libertine\" font-size=\"10.00\">input:</text>\n",
       "<polygon fill=\"none\" stroke=\"black\" points=\"162,-1190.5 162,-1214.5 238,-1214.5 238,-1190.5 162,-1190.5\"/>\n",
       "<text text-anchor=\"start\" x=\"166.62\" y=\"-1200\" font-family=\"Linux libertine\" font-size=\"10.00\">(250, 64, 512) </text>\n",
       "<polygon fill=\"none\" stroke=\"black\" points=\"116,-1166.5 116,-1190.5 162,-1190.5 162,-1166.5 116,-1166.5\"/>\n",
       "<text text-anchor=\"start\" x=\"120.62\" y=\"-1176\" font-family=\"Linux libertine\" font-size=\"10.00\">output: </text>\n",
       "<polygon fill=\"none\" stroke=\"black\" points=\"162,-1166.5 162,-1190.5 238,-1190.5 238,-1166.5 162,-1166.5\"/>\n",
       "<text text-anchor=\"start\" x=\"166.62\" y=\"-1176\" font-family=\"Linux libertine\" font-size=\"10.00\">(250, 64, 512) </text>\n",
       "</g>\n",
       "<!-- 31&#45;&gt;32 -->\n",
       "<g id=\"edge40\" class=\"edge\">\n",
       "<title>31&#45;&gt;32</title>\n",
       "<path fill=\"none\" stroke=\"black\" d=\"M155.44,-1250.66C155.25,-1242.93 155.04,-1234.12 154.83,-1225.7\"/>\n",
       "<polygon fill=\"black\" stroke=\"black\" points=\"158.33,-1225.64 154.59,-1215.73 151.34,-1225.81 158.33,-1225.64\"/>\n",
       "</g>\n",
       "<!-- 33 -->\n",
       "<g id=\"node34\" class=\"node\">\n",
       "<title>33</title>\n",
       "<polygon fill=\"#c1ffc1\" stroke=\"none\" points=\"237,-1130.5 69,-1130.5 69,-1082.5 237,-1082.5 237,-1130.5\"/>\n",
       "<polygon fill=\"none\" stroke=\"black\" points=\"69,-1082.5 69,-1130.5 115,-1130.5 115,-1082.5 69,-1082.5\"/>\n",
       "<text text-anchor=\"start\" x=\"77.38\" y=\"-1111.25\" font-family=\"Linux libertine\" font-size=\"10.00\">Linear</text>\n",
       "<text text-anchor=\"start\" x=\"73.62\" y=\"-1097\" font-family=\"Linux libertine\" font-size=\"10.00\">depth:3</text>\n",
       "<polygon fill=\"none\" stroke=\"black\" points=\"115,-1106.5 115,-1130.5 161,-1130.5 161,-1106.5 115,-1106.5\"/>\n",
       "<text text-anchor=\"start\" x=\"124.5\" y=\"-1116\" font-family=\"Linux libertine\" font-size=\"10.00\">input:</text>\n",
       "<polygon fill=\"none\" stroke=\"black\" points=\"161,-1106.5 161,-1130.5 237,-1130.5 237,-1106.5 161,-1106.5\"/>\n",
       "<text text-anchor=\"start\" x=\"165.62\" y=\"-1116\" font-family=\"Linux libertine\" font-size=\"10.00\">(250, 64, 512) </text>\n",
       "<polygon fill=\"none\" stroke=\"black\" points=\"115,-1082.5 115,-1106.5 161,-1106.5 161,-1082.5 115,-1082.5\"/>\n",
       "<text text-anchor=\"start\" x=\"119.62\" y=\"-1092\" font-family=\"Linux libertine\" font-size=\"10.00\">output: </text>\n",
       "<polygon fill=\"none\" stroke=\"black\" points=\"161,-1082.5 161,-1106.5 237,-1106.5 237,-1082.5 161,-1082.5\"/>\n",
       "<text text-anchor=\"start\" x=\"165.62\" y=\"-1092\" font-family=\"Linux libertine\" font-size=\"10.00\">(250, 64, 128) </text>\n",
       "</g>\n",
       "<!-- 32&#45;&gt;33 -->\n",
       "<g id=\"edge41\" class=\"edge\">\n",
       "<title>32&#45;&gt;33</title>\n",
       "<path fill=\"none\" stroke=\"black\" d=\"M153.72,-1166.66C153.63,-1158.93 153.52,-1150.12 153.42,-1141.7\"/>\n",
       "<polygon fill=\"black\" stroke=\"black\" points=\"156.92,-1141.69 153.3,-1131.73 149.92,-1141.77 156.92,-1141.69\"/>\n",
       "</g>\n",
       "<!-- 34 -->\n",
       "<g id=\"node35\" class=\"node\">\n",
       "<title>34</title>\n",
       "<polygon fill=\"#c1ffc1\" stroke=\"none\" points=\"238.5,-1046.5 67.5,-1046.5 67.5,-998.5 238.5,-998.5 238.5,-1046.5\"/>\n",
       "<polygon fill=\"none\" stroke=\"black\" points=\"67.5,-998.5 67.5,-1046.5 116.5,-1046.5 116.5,-998.5 67.5,-998.5\"/>\n",
       "<text text-anchor=\"start\" x=\"72.5\" y=\"-1027.25\" font-family=\"Linux libertine\" font-size=\"10.00\">Dropout</text>\n",
       "<text text-anchor=\"start\" x=\"73.62\" y=\"-1013\" font-family=\"Linux libertine\" font-size=\"10.00\">depth:3</text>\n",
       "<polygon fill=\"none\" stroke=\"black\" points=\"116.5,-1022.5 116.5,-1046.5 162.5,-1046.5 162.5,-1022.5 116.5,-1022.5\"/>\n",
       "<text text-anchor=\"start\" x=\"126\" y=\"-1032\" font-family=\"Linux libertine\" font-size=\"10.00\">input:</text>\n",
       "<polygon fill=\"none\" stroke=\"black\" points=\"162.5,-1022.5 162.5,-1046.5 238.5,-1046.5 238.5,-1022.5 162.5,-1022.5\"/>\n",
       "<text text-anchor=\"start\" x=\"167.12\" y=\"-1032\" font-family=\"Linux libertine\" font-size=\"10.00\">(250, 64, 128) </text>\n",
       "<polygon fill=\"none\" stroke=\"black\" points=\"116.5,-998.5 116.5,-1022.5 162.5,-1022.5 162.5,-998.5 116.5,-998.5\"/>\n",
       "<text text-anchor=\"start\" x=\"121.12\" y=\"-1008\" font-family=\"Linux libertine\" font-size=\"10.00\">output: </text>\n",
       "<polygon fill=\"none\" stroke=\"black\" points=\"162.5,-998.5 162.5,-1022.5 238.5,-1022.5 238.5,-998.5 162.5,-998.5\"/>\n",
       "<text text-anchor=\"start\" x=\"167.12\" y=\"-1008\" font-family=\"Linux libertine\" font-size=\"10.00\">(250, 64, 128) </text>\n",
       "</g>\n",
       "<!-- 33&#45;&gt;34 -->\n",
       "<g id=\"edge42\" class=\"edge\">\n",
       "<title>33&#45;&gt;34</title>\n",
       "<path fill=\"none\" stroke=\"black\" d=\"M153,-1082.66C153,-1074.93 153,-1066.12 153,-1057.7\"/>\n",
       "<polygon fill=\"black\" stroke=\"black\" points=\"156.5,-1057.73 153,-1047.73 149.5,-1057.73 156.5,-1057.73\"/>\n",
       "</g>\n",
       "<!-- 35 -->\n",
       "<g id=\"node36\" class=\"node\">\n",
       "<title>35</title>\n",
       "<polygon fill=\"#c1ffc1\" stroke=\"none\" points=\"238.5,-962.5 67.5,-962.5 67.5,-914.5 238.5,-914.5 238.5,-962.5\"/>\n",
       "<polygon fill=\"none\" stroke=\"black\" points=\"67.5,-914.5 67.5,-962.5 116.5,-962.5 116.5,-914.5 67.5,-914.5\"/>\n",
       "<text text-anchor=\"start\" x=\"72.5\" y=\"-943.25\" font-family=\"Linux libertine\" font-size=\"10.00\">Dropout</text>\n",
       "<text text-anchor=\"start\" x=\"73.62\" y=\"-929\" font-family=\"Linux libertine\" font-size=\"10.00\">depth:2</text>\n",
       "<polygon fill=\"none\" stroke=\"black\" points=\"116.5,-938.5 116.5,-962.5 162.5,-962.5 162.5,-938.5 116.5,-938.5\"/>\n",
       "<text text-anchor=\"start\" x=\"126\" y=\"-948\" font-family=\"Linux libertine\" font-size=\"10.00\">input:</text>\n",
       "<polygon fill=\"none\" stroke=\"black\" points=\"162.5,-938.5 162.5,-962.5 238.5,-962.5 238.5,-938.5 162.5,-938.5\"/>\n",
       "<text text-anchor=\"start\" x=\"167.12\" y=\"-948\" font-family=\"Linux libertine\" font-size=\"10.00\">(250, 64, 128) </text>\n",
       "<polygon fill=\"none\" stroke=\"black\" points=\"116.5,-914.5 116.5,-938.5 162.5,-938.5 162.5,-914.5 116.5,-914.5\"/>\n",
       "<text text-anchor=\"start\" x=\"121.12\" y=\"-924\" font-family=\"Linux libertine\" font-size=\"10.00\">output: </text>\n",
       "<polygon fill=\"none\" stroke=\"black\" points=\"162.5,-914.5 162.5,-938.5 238.5,-938.5 238.5,-914.5 162.5,-914.5\"/>\n",
       "<text text-anchor=\"start\" x=\"167.12\" y=\"-924\" font-family=\"Linux libertine\" font-size=\"10.00\">(250, 64, 128) </text>\n",
       "</g>\n",
       "<!-- 34&#45;&gt;35 -->\n",
       "<g id=\"edge43\" class=\"edge\">\n",
       "<title>34&#45;&gt;35</title>\n",
       "<path fill=\"none\" stroke=\"black\" d=\"M153,-998.66C153,-990.93 153,-982.12 153,-973.7\"/>\n",
       "<polygon fill=\"black\" stroke=\"black\" points=\"156.5,-973.73 153,-963.73 149.5,-973.73 156.5,-973.73\"/>\n",
       "</g>\n",
       "<!-- 35&#45;&gt;36 -->\n",
       "<g id=\"edge44\" class=\"edge\">\n",
       "<title>35&#45;&gt;36</title>\n",
       "<path fill=\"none\" stroke=\"black\" d=\"M136.29,-914.66C130.11,-906.22 122.99,-896.49 116.34,-887.39\"/>\n",
       "<polygon fill=\"black\" stroke=\"black\" points=\"119.25,-885.44 110.52,-879.44 113.6,-889.58 119.25,-885.44\"/>\n",
       "</g>\n",
       "<!-- 37 -->\n",
       "<g id=\"node38\" class=\"node\">\n",
       "<title>37</title>\n",
       "<polygon fill=\"aliceblue\" stroke=\"none\" points=\"186,-794.5 0,-794.5 0,-746.5 186,-746.5 186,-794.5\"/>\n",
       "<polygon fill=\"none\" stroke=\"black\" points=\"0,-746.5 0,-794.5 64,-794.5 64,-746.5 0,-746.5\"/>\n",
       "<text text-anchor=\"start\" x=\"4.62\" y=\"-775.25\" font-family=\"Linux libertine\" font-size=\"10.00\">__getitem__</text>\n",
       "<text text-anchor=\"start\" x=\"13.62\" y=\"-761\" font-family=\"Linux libertine\" font-size=\"10.00\">depth:1</text>\n",
       "<polygon fill=\"none\" stroke=\"black\" points=\"64,-770.5 64,-794.5 110,-794.5 110,-770.5 64,-770.5\"/>\n",
       "<text text-anchor=\"start\" x=\"73.5\" y=\"-780\" font-family=\"Linux libertine\" font-size=\"10.00\">input:</text>\n",
       "<polygon fill=\"none\" stroke=\"black\" points=\"110,-770.5 110,-794.5 186,-794.5 186,-770.5 110,-770.5\"/>\n",
       "<text text-anchor=\"start\" x=\"114.62\" y=\"-780\" font-family=\"Linux libertine\" font-size=\"10.00\">(250, 64, 128) </text>\n",
       "<polygon fill=\"none\" stroke=\"black\" points=\"64,-746.5 64,-770.5 110,-770.5 110,-746.5 64,-746.5\"/>\n",
       "<text text-anchor=\"start\" x=\"68.62\" y=\"-756\" font-family=\"Linux libertine\" font-size=\"10.00\">output: </text>\n",
       "<polygon fill=\"none\" stroke=\"black\" points=\"110,-746.5 110,-770.5 186,-770.5 186,-746.5 110,-746.5\"/>\n",
       "<text text-anchor=\"start\" x=\"126.25\" y=\"-756\" font-family=\"Linux libertine\" font-size=\"10.00\">(64, 128) </text>\n",
       "</g>\n",
       "<!-- 36&#45;&gt;37 -->\n",
       "<g id=\"edge45\" class=\"edge\">\n",
       "<title>36&#45;&gt;37</title>\n",
       "<path fill=\"none\" stroke=\"black\" d=\"M93,-830.66C93,-822.93 93,-814.12 93,-805.7\"/>\n",
       "<polygon fill=\"black\" stroke=\"black\" points=\"96.5,-805.73 93,-795.73 89.5,-805.73 96.5,-805.73\"/>\n",
       "</g>\n",
       "<!-- 38 -->\n",
       "<g id=\"node39\" class=\"node\">\n",
       "<title>38</title>\n",
       "<polygon fill=\"#c1ffc1\" stroke=\"none\" points=\"165.5,-710.5 20.5,-710.5 20.5,-662.5 165.5,-662.5 165.5,-710.5\"/>\n",
       "<polygon fill=\"none\" stroke=\"black\" points=\"20.5,-662.5 20.5,-710.5 66.5,-710.5 66.5,-662.5 20.5,-662.5\"/>\n",
       "<text text-anchor=\"start\" x=\"28.88\" y=\"-691.25\" font-family=\"Linux libertine\" font-size=\"10.00\">Linear</text>\n",
       "<text text-anchor=\"start\" x=\"25.12\" y=\"-677\" font-family=\"Linux libertine\" font-size=\"10.00\">depth:1</text>\n",
       "<polygon fill=\"none\" stroke=\"black\" points=\"66.5,-686.5 66.5,-710.5 112.5,-710.5 112.5,-686.5 66.5,-686.5\"/>\n",
       "<text text-anchor=\"start\" x=\"76\" y=\"-696\" font-family=\"Linux libertine\" font-size=\"10.00\">input:</text>\n",
       "<polygon fill=\"none\" stroke=\"black\" points=\"112.5,-686.5 112.5,-710.5 165.5,-710.5 165.5,-686.5 112.5,-686.5\"/>\n",
       "<text text-anchor=\"start\" x=\"117.25\" y=\"-696\" font-family=\"Linux libertine\" font-size=\"10.00\">(64, 128) </text>\n",
       "<polygon fill=\"none\" stroke=\"black\" points=\"66.5,-662.5 66.5,-686.5 112.5,-686.5 112.5,-662.5 66.5,-662.5\"/>\n",
       "<text text-anchor=\"start\" x=\"71.12\" y=\"-672\" font-family=\"Linux libertine\" font-size=\"10.00\">output: </text>\n",
       "<polygon fill=\"none\" stroke=\"black\" points=\"112.5,-662.5 112.5,-686.5 165.5,-686.5 165.5,-662.5 112.5,-662.5\"/>\n",
       "<text text-anchor=\"start\" x=\"117.25\" y=\"-672\" font-family=\"Linux libertine\" font-size=\"10.00\">(64, 128) </text>\n",
       "</g>\n",
       "<!-- 37&#45;&gt;38 -->\n",
       "<g id=\"edge46\" class=\"edge\">\n",
       "<title>37&#45;&gt;38</title>\n",
       "<path fill=\"none\" stroke=\"black\" d=\"M93,-746.66C93,-738.93 93,-730.12 93,-721.7\"/>\n",
       "<polygon fill=\"black\" stroke=\"black\" points=\"96.5,-721.73 93,-711.73 89.5,-721.73 96.5,-721.73\"/>\n",
       "</g>\n",
       "<!-- 39 -->\n",
       "<g id=\"node40\" class=\"node\">\n",
       "<title>39</title>\n",
       "<polygon fill=\"#c1ffc1\" stroke=\"none\" points=\"165.5,-626.5 20.5,-626.5 20.5,-578.5 165.5,-578.5 165.5,-626.5\"/>\n",
       "<polygon fill=\"none\" stroke=\"black\" points=\"20.5,-578.5 20.5,-626.5 66.5,-626.5 66.5,-578.5 20.5,-578.5\"/>\n",
       "<text text-anchor=\"start\" x=\"28.88\" y=\"-607.25\" font-family=\"Linux libertine\" font-size=\"10.00\">Linear</text>\n",
       "<text text-anchor=\"start\" x=\"25.12\" y=\"-593\" font-family=\"Linux libertine\" font-size=\"10.00\">depth:1</text>\n",
       "<polygon fill=\"none\" stroke=\"black\" points=\"66.5,-602.5 66.5,-626.5 112.5,-626.5 112.5,-602.5 66.5,-602.5\"/>\n",
       "<text text-anchor=\"start\" x=\"76\" y=\"-612\" font-family=\"Linux libertine\" font-size=\"10.00\">input:</text>\n",
       "<polygon fill=\"none\" stroke=\"black\" points=\"112.5,-602.5 112.5,-626.5 165.5,-626.5 165.5,-602.5 112.5,-602.5\"/>\n",
       "<text text-anchor=\"start\" x=\"117.25\" y=\"-612\" font-family=\"Linux libertine\" font-size=\"10.00\">(64, 128) </text>\n",
       "<polygon fill=\"none\" stroke=\"black\" points=\"66.5,-578.5 66.5,-602.5 112.5,-602.5 112.5,-578.5 66.5,-578.5\"/>\n",
       "<text text-anchor=\"start\" x=\"71.12\" y=\"-588\" font-family=\"Linux libertine\" font-size=\"10.00\">output: </text>\n",
       "<polygon fill=\"none\" stroke=\"black\" points=\"112.5,-578.5 112.5,-602.5 165.5,-602.5 165.5,-578.5 112.5,-578.5\"/>\n",
       "<text text-anchor=\"start\" x=\"117.25\" y=\"-588\" font-family=\"Linux libertine\" font-size=\"10.00\">(64, 512) </text>\n",
       "</g>\n",
       "<!-- 38&#45;&gt;39 -->\n",
       "<g id=\"edge47\" class=\"edge\">\n",
       "<title>38&#45;&gt;39</title>\n",
       "<path fill=\"none\" stroke=\"black\" d=\"M93,-662.66C93,-654.93 93,-646.12 93,-637.7\"/>\n",
       "<polygon fill=\"black\" stroke=\"black\" points=\"96.5,-637.73 93,-627.73 89.5,-637.73 96.5,-637.73\"/>\n",
       "</g>\n",
       "<!-- 40 -->\n",
       "<g id=\"node41\" class=\"node\">\n",
       "<title>40</title>\n",
       "<polygon fill=\"#c1ffc1\" stroke=\"none\" points=\"165.5,-542.5 20.5,-542.5 20.5,-494.5 165.5,-494.5 165.5,-542.5\"/>\n",
       "<polygon fill=\"none\" stroke=\"black\" points=\"20.5,-494.5 20.5,-542.5 66.5,-542.5 66.5,-494.5 20.5,-494.5\"/>\n",
       "<text text-anchor=\"start\" x=\"31.12\" y=\"-523.25\" font-family=\"Linux libertine\" font-size=\"10.00\">ReLU</text>\n",
       "<text text-anchor=\"start\" x=\"25.12\" y=\"-509\" font-family=\"Linux libertine\" font-size=\"10.00\">depth:1</text>\n",
       "<polygon fill=\"none\" stroke=\"black\" points=\"66.5,-518.5 66.5,-542.5 112.5,-542.5 112.5,-518.5 66.5,-518.5\"/>\n",
       "<text text-anchor=\"start\" x=\"76\" y=\"-528\" font-family=\"Linux libertine\" font-size=\"10.00\">input:</text>\n",
       "<polygon fill=\"none\" stroke=\"black\" points=\"112.5,-518.5 112.5,-542.5 165.5,-542.5 165.5,-518.5 112.5,-518.5\"/>\n",
       "<text text-anchor=\"start\" x=\"117.25\" y=\"-528\" font-family=\"Linux libertine\" font-size=\"10.00\">(64, 512) </text>\n",
       "<polygon fill=\"none\" stroke=\"black\" points=\"66.5,-494.5 66.5,-518.5 112.5,-518.5 112.5,-494.5 66.5,-494.5\"/>\n",
       "<text text-anchor=\"start\" x=\"71.12\" y=\"-504\" font-family=\"Linux libertine\" font-size=\"10.00\">output: </text>\n",
       "<polygon fill=\"none\" stroke=\"black\" points=\"112.5,-494.5 112.5,-518.5 165.5,-518.5 165.5,-494.5 112.5,-494.5\"/>\n",
       "<text text-anchor=\"start\" x=\"117.25\" y=\"-504\" font-family=\"Linux libertine\" font-size=\"10.00\">(64, 512) </text>\n",
       "</g>\n",
       "<!-- 39&#45;&gt;40 -->\n",
       "<g id=\"edge48\" class=\"edge\">\n",
       "<title>39&#45;&gt;40</title>\n",
       "<path fill=\"none\" stroke=\"black\" d=\"M93,-578.66C93,-570.93 93,-562.12 93,-553.7\"/>\n",
       "<polygon fill=\"black\" stroke=\"black\" points=\"96.5,-553.73 93,-543.73 89.5,-553.73 96.5,-553.73\"/>\n",
       "</g>\n",
       "<!-- 41 -->\n",
       "<g id=\"node42\" class=\"node\">\n",
       "<title>41</title>\n",
       "<polygon fill=\"#c1ffc1\" stroke=\"none\" points=\"167,-458.5 19,-458.5 19,-410.5 167,-410.5 167,-458.5\"/>\n",
       "<polygon fill=\"none\" stroke=\"black\" points=\"19,-410.5 19,-458.5 68,-458.5 68,-410.5 19,-410.5\"/>\n",
       "<text text-anchor=\"start\" x=\"24\" y=\"-439.25\" font-family=\"Linux libertine\" font-size=\"10.00\">Dropout</text>\n",
       "<text text-anchor=\"start\" x=\"25.12\" y=\"-425\" font-family=\"Linux libertine\" font-size=\"10.00\">depth:1</text>\n",
       "<polygon fill=\"none\" stroke=\"black\" points=\"68,-434.5 68,-458.5 114,-458.5 114,-434.5 68,-434.5\"/>\n",
       "<text text-anchor=\"start\" x=\"77.5\" y=\"-444\" font-family=\"Linux libertine\" font-size=\"10.00\">input:</text>\n",
       "<polygon fill=\"none\" stroke=\"black\" points=\"114,-434.5 114,-458.5 167,-458.5 167,-434.5 114,-434.5\"/>\n",
       "<text text-anchor=\"start\" x=\"118.75\" y=\"-444\" font-family=\"Linux libertine\" font-size=\"10.00\">(64, 512) </text>\n",
       "<polygon fill=\"none\" stroke=\"black\" points=\"68,-410.5 68,-434.5 114,-434.5 114,-410.5 68,-410.5\"/>\n",
       "<text text-anchor=\"start\" x=\"72.62\" y=\"-420\" font-family=\"Linux libertine\" font-size=\"10.00\">output: </text>\n",
       "<polygon fill=\"none\" stroke=\"black\" points=\"114,-410.5 114,-434.5 167,-434.5 167,-410.5 114,-410.5\"/>\n",
       "<text text-anchor=\"start\" x=\"118.75\" y=\"-420\" font-family=\"Linux libertine\" font-size=\"10.00\">(64, 512) </text>\n",
       "</g>\n",
       "<!-- 40&#45;&gt;41 -->\n",
       "<g id=\"edge49\" class=\"edge\">\n",
       "<title>40&#45;&gt;41</title>\n",
       "<path fill=\"none\" stroke=\"black\" d=\"M93,-494.66C93,-486.93 93,-478.12 93,-469.7\"/>\n",
       "<polygon fill=\"black\" stroke=\"black\" points=\"96.5,-469.73 93,-459.73 89.5,-469.73 96.5,-469.73\"/>\n",
       "</g>\n",
       "<!-- 42 -->\n",
       "<g id=\"node43\" class=\"node\">\n",
       "<title>42</title>\n",
       "<polygon fill=\"#c1ffc1\" stroke=\"none\" points=\"165.5,-374.5 20.5,-374.5 20.5,-326.5 165.5,-326.5 165.5,-374.5\"/>\n",
       "<polygon fill=\"none\" stroke=\"black\" points=\"20.5,-326.5 20.5,-374.5 66.5,-374.5 66.5,-326.5 20.5,-326.5\"/>\n",
       "<text text-anchor=\"start\" x=\"28.88\" y=\"-355.25\" font-family=\"Linux libertine\" font-size=\"10.00\">Linear</text>\n",
       "<text text-anchor=\"start\" x=\"25.12\" y=\"-341\" font-family=\"Linux libertine\" font-size=\"10.00\">depth:1</text>\n",
       "<polygon fill=\"none\" stroke=\"black\" points=\"66.5,-350.5 66.5,-374.5 112.5,-374.5 112.5,-350.5 66.5,-350.5\"/>\n",
       "<text text-anchor=\"start\" x=\"76\" y=\"-360\" font-family=\"Linux libertine\" font-size=\"10.00\">input:</text>\n",
       "<polygon fill=\"none\" stroke=\"black\" points=\"112.5,-350.5 112.5,-374.5 165.5,-374.5 165.5,-350.5 112.5,-350.5\"/>\n",
       "<text text-anchor=\"start\" x=\"117.25\" y=\"-360\" font-family=\"Linux libertine\" font-size=\"10.00\">(64, 512) </text>\n",
       "<polygon fill=\"none\" stroke=\"black\" points=\"66.5,-326.5 66.5,-350.5 112.5,-350.5 112.5,-326.5 66.5,-326.5\"/>\n",
       "<text text-anchor=\"start\" x=\"71.12\" y=\"-336\" font-family=\"Linux libertine\" font-size=\"10.00\">output: </text>\n",
       "<polygon fill=\"none\" stroke=\"black\" points=\"112.5,-326.5 112.5,-350.5 165.5,-350.5 165.5,-326.5 112.5,-326.5\"/>\n",
       "<text text-anchor=\"start\" x=\"117.25\" y=\"-336\" font-family=\"Linux libertine\" font-size=\"10.00\">(64, 128) </text>\n",
       "</g>\n",
       "<!-- 41&#45;&gt;42 -->\n",
       "<g id=\"edge50\" class=\"edge\">\n",
       "<title>41&#45;&gt;42</title>\n",
       "<path fill=\"none\" stroke=\"black\" d=\"M93,-410.66C93,-402.93 93,-394.12 93,-385.7\"/>\n",
       "<polygon fill=\"black\" stroke=\"black\" points=\"96.5,-385.73 93,-375.73 89.5,-385.73 96.5,-385.73\"/>\n",
       "</g>\n",
       "<!-- 43 -->\n",
       "<g id=\"node44\" class=\"node\">\n",
       "<title>43</title>\n",
       "<polygon fill=\"#c1ffc1\" stroke=\"none\" points=\"165.5,-290.5 20.5,-290.5 20.5,-242.5 165.5,-242.5 165.5,-290.5\"/>\n",
       "<polygon fill=\"none\" stroke=\"black\" points=\"20.5,-242.5 20.5,-290.5 66.5,-290.5 66.5,-242.5 20.5,-242.5\"/>\n",
       "<text text-anchor=\"start\" x=\"31.12\" y=\"-271.25\" font-family=\"Linux libertine\" font-size=\"10.00\">ReLU</text>\n",
       "<text text-anchor=\"start\" x=\"25.12\" y=\"-257\" font-family=\"Linux libertine\" font-size=\"10.00\">depth:1</text>\n",
       "<polygon fill=\"none\" stroke=\"black\" points=\"66.5,-266.5 66.5,-290.5 112.5,-290.5 112.5,-266.5 66.5,-266.5\"/>\n",
       "<text text-anchor=\"start\" x=\"76\" y=\"-276\" font-family=\"Linux libertine\" font-size=\"10.00\">input:</text>\n",
       "<polygon fill=\"none\" stroke=\"black\" points=\"112.5,-266.5 112.5,-290.5 165.5,-290.5 165.5,-266.5 112.5,-266.5\"/>\n",
       "<text text-anchor=\"start\" x=\"117.25\" y=\"-276\" font-family=\"Linux libertine\" font-size=\"10.00\">(64, 128) </text>\n",
       "<polygon fill=\"none\" stroke=\"black\" points=\"66.5,-242.5 66.5,-266.5 112.5,-266.5 112.5,-242.5 66.5,-242.5\"/>\n",
       "<text text-anchor=\"start\" x=\"71.12\" y=\"-252\" font-family=\"Linux libertine\" font-size=\"10.00\">output: </text>\n",
       "<polygon fill=\"none\" stroke=\"black\" points=\"112.5,-242.5 112.5,-266.5 165.5,-266.5 165.5,-242.5 112.5,-242.5\"/>\n",
       "<text text-anchor=\"start\" x=\"117.25\" y=\"-252\" font-family=\"Linux libertine\" font-size=\"10.00\">(64, 128) </text>\n",
       "</g>\n",
       "<!-- 42&#45;&gt;43 -->\n",
       "<g id=\"edge51\" class=\"edge\">\n",
       "<title>42&#45;&gt;43</title>\n",
       "<path fill=\"none\" stroke=\"black\" d=\"M93,-326.66C93,-318.93 93,-310.12 93,-301.7\"/>\n",
       "<polygon fill=\"black\" stroke=\"black\" points=\"96.5,-301.73 93,-291.73 89.5,-301.73 96.5,-301.73\"/>\n",
       "</g>\n",
       "<!-- 44 -->\n",
       "<g id=\"node45\" class=\"node\">\n",
       "<title>44</title>\n",
       "<polygon fill=\"#c1ffc1\" stroke=\"none\" points=\"167,-206.5 19,-206.5 19,-158.5 167,-158.5 167,-206.5\"/>\n",
       "<polygon fill=\"none\" stroke=\"black\" points=\"19,-158.5 19,-206.5 68,-206.5 68,-158.5 19,-158.5\"/>\n",
       "<text text-anchor=\"start\" x=\"24\" y=\"-187.25\" font-family=\"Linux libertine\" font-size=\"10.00\">Dropout</text>\n",
       "<text text-anchor=\"start\" x=\"25.12\" y=\"-173\" font-family=\"Linux libertine\" font-size=\"10.00\">depth:1</text>\n",
       "<polygon fill=\"none\" stroke=\"black\" points=\"68,-182.5 68,-206.5 114,-206.5 114,-182.5 68,-182.5\"/>\n",
       "<text text-anchor=\"start\" x=\"77.5\" y=\"-192\" font-family=\"Linux libertine\" font-size=\"10.00\">input:</text>\n",
       "<polygon fill=\"none\" stroke=\"black\" points=\"114,-182.5 114,-206.5 167,-206.5 167,-182.5 114,-182.5\"/>\n",
       "<text text-anchor=\"start\" x=\"118.75\" y=\"-192\" font-family=\"Linux libertine\" font-size=\"10.00\">(64, 128) </text>\n",
       "<polygon fill=\"none\" stroke=\"black\" points=\"68,-158.5 68,-182.5 114,-182.5 114,-158.5 68,-158.5\"/>\n",
       "<text text-anchor=\"start\" x=\"72.62\" y=\"-168\" font-family=\"Linux libertine\" font-size=\"10.00\">output: </text>\n",
       "<polygon fill=\"none\" stroke=\"black\" points=\"114,-158.5 114,-182.5 167,-182.5 167,-158.5 114,-158.5\"/>\n",
       "<text text-anchor=\"start\" x=\"118.75\" y=\"-168\" font-family=\"Linux libertine\" font-size=\"10.00\">(64, 128) </text>\n",
       "</g>\n",
       "<!-- 43&#45;&gt;44 -->\n",
       "<g id=\"edge52\" class=\"edge\">\n",
       "<title>43&#45;&gt;44</title>\n",
       "<path fill=\"none\" stroke=\"black\" d=\"M93,-242.66C93,-234.93 93,-226.12 93,-217.7\"/>\n",
       "<polygon fill=\"black\" stroke=\"black\" points=\"96.5,-217.73 93,-207.73 89.5,-217.73 96.5,-217.73\"/>\n",
       "</g>\n",
       "<!-- 45 -->\n",
       "<g id=\"node46\" class=\"node\">\n",
       "<title>45</title>\n",
       "<polygon fill=\"#c1ffc1\" stroke=\"none\" points=\"165.5,-122.5 20.5,-122.5 20.5,-74.5 165.5,-74.5 165.5,-122.5\"/>\n",
       "<polygon fill=\"none\" stroke=\"black\" points=\"20.5,-74.5 20.5,-122.5 66.5,-122.5 66.5,-74.5 20.5,-74.5\"/>\n",
       "<text text-anchor=\"start\" x=\"28.88\" y=\"-103.25\" font-family=\"Linux libertine\" font-size=\"10.00\">Linear</text>\n",
       "<text text-anchor=\"start\" x=\"25.12\" y=\"-89\" font-family=\"Linux libertine\" font-size=\"10.00\">depth:1</text>\n",
       "<polygon fill=\"none\" stroke=\"black\" points=\"66.5,-98.5 66.5,-122.5 112.5,-122.5 112.5,-98.5 66.5,-98.5\"/>\n",
       "<text text-anchor=\"start\" x=\"76\" y=\"-108\" font-family=\"Linux libertine\" font-size=\"10.00\">input:</text>\n",
       "<polygon fill=\"none\" stroke=\"black\" points=\"112.5,-98.5 112.5,-122.5 165.5,-122.5 165.5,-98.5 112.5,-98.5\"/>\n",
       "<text text-anchor=\"start\" x=\"117.25\" y=\"-108\" font-family=\"Linux libertine\" font-size=\"10.00\">(64, 128) </text>\n",
       "<polygon fill=\"none\" stroke=\"black\" points=\"66.5,-74.5 66.5,-98.5 112.5,-98.5 112.5,-74.5 66.5,-74.5\"/>\n",
       "<text text-anchor=\"start\" x=\"71.12\" y=\"-84\" font-family=\"Linux libertine\" font-size=\"10.00\">output: </text>\n",
       "<polygon fill=\"none\" stroke=\"black\" points=\"112.5,-74.5 112.5,-98.5 165.5,-98.5 165.5,-74.5 112.5,-74.5\"/>\n",
       "<text text-anchor=\"start\" x=\"123.25\" y=\"-84\" font-family=\"Linux libertine\" font-size=\"10.00\">(64, 5) </text>\n",
       "</g>\n",
       "<!-- 44&#45;&gt;45 -->\n",
       "<g id=\"edge53\" class=\"edge\">\n",
       "<title>44&#45;&gt;45</title>\n",
       "<path fill=\"none\" stroke=\"black\" d=\"M93,-158.66C93,-150.93 93,-142.12 93,-133.7\"/>\n",
       "<polygon fill=\"black\" stroke=\"black\" points=\"96.5,-133.73 93,-123.73 89.5,-133.73 96.5,-133.73\"/>\n",
       "</g>\n",
       "<!-- 46 -->\n",
       "<g id=\"node47\" class=\"node\">\n",
       "<title>46</title>\n",
       "<polygon fill=\"lightyellow\" stroke=\"none\" points=\"150.25,-38.5 35.75,-38.5 35.75,0 150.25,0 150.25,-38.5\"/>\n",
       "<polygon fill=\"none\" stroke=\"black\" points=\"35.75,0 35.75,-38.5 111,-38.5 111,0 35.75,0\"/>\n",
       "<text text-anchor=\"start\" x=\"40.75\" y=\"-24\" font-family=\"Linux libertine\" font-size=\"10.00\">output&#45;tensor</text>\n",
       "<text text-anchor=\"start\" x=\"55\" y=\"-9.75\" font-family=\"Linux libertine\" font-size=\"10.00\">depth:0</text>\n",
       "<polygon fill=\"none\" stroke=\"black\" points=\"111,0 111,-38.5 150.25,-38.5 150.25,0 111,0\"/>\n",
       "<text text-anchor=\"start\" x=\"116\" y=\"-16.88\" font-family=\"Linux libertine\" font-size=\"10.00\">(64, 5)</text>\n",
       "</g>\n",
       "<!-- 45&#45;&gt;46 -->\n",
       "<g id=\"edge54\" class=\"edge\">\n",
       "<title>45&#45;&gt;46</title>\n",
       "<path fill=\"none\" stroke=\"black\" d=\"M93,-74.74C93,-66.97 93,-58.15 93,-49.92\"/>\n",
       "<polygon fill=\"black\" stroke=\"black\" points=\"96.5,-49.96 93,-39.96 89.5,-49.96 96.5,-49.96\"/>\n",
       "</g>\n",
       "</g>\n",
       "</svg>\n"
      ],
      "text/plain": [
       "<graphviz.graphs.Digraph at 0x7fb3bbacb590>"
      ]
     },
     "execution_count": 33,
     "metadata": {},
     "output_type": "execute_result"
    }
   ],
   "source": [
    "# device='meta' -> no memory is consumed for visualization\n",
    "model_graph = draw_graph(model, input_size=(BATCH_SIZE,1, 1000), device='meta')\n",
    "model_graph.visual_graph"
   ]
  },
  {
   "cell_type": "code",
   "execution_count": 22,
   "metadata": {},
   "outputs": [
    {
     "ename": "AttributeError",
     "evalue": "'list' object has no attribute 'text'",
     "output_type": "error",
     "traceback": [
      "\u001b[0;31m---------------------------------------------------------------------------\u001b[0m",
      "\u001b[0;31mAttributeError\u001b[0m                            Traceback (most recent call last)",
      "Cell \u001b[0;32mIn[22], line 3\u001b[0m\n\u001b[1;32m      1\u001b[0m \u001b[38;5;28;01mfrom\u001b[39;00m \u001b[38;5;21;01mtorchviz\u001b[39;00m \u001b[38;5;28;01mimport\u001b[39;00m make_dot\n\u001b[1;32m      2\u001b[0m batch \u001b[38;5;241m=\u001b[39m \u001b[38;5;28mnext\u001b[39m(\u001b[38;5;28miter\u001b[39m(test_loader))\n\u001b[0;32m----> 3\u001b[0m yhat \u001b[38;5;241m=\u001b[39m model(\u001b[43mbatch\u001b[49m\u001b[38;5;241;43m.\u001b[39;49m\u001b[43mtext\u001b[49m) \u001b[38;5;66;03m# Give dummy batch to forward().\u001b[39;00m\n\u001b[1;32m      4\u001b[0m make_dot(yhat,params\u001b[38;5;241m=\u001b[39m\u001b[38;5;28mdict\u001b[39m(model\u001b[38;5;241m.\u001b[39mnamed_parameters()))\n",
      "\u001b[0;31mAttributeError\u001b[0m: 'list' object has no attribute 'text'"
     ]
    }
   ],
   "source": [
    "from torchviz import make_dot\n",
    "batch = next(iter(test_loader))\n",
    "yhat = model(batch.text) # Give dummy batch to forward().\n",
    "make_dot(yhat,params=dict(model.named_parameters()))"
   ]
  },
  {
   "cell_type": "code",
   "execution_count": 16,
   "metadata": {},
   "outputs": [],
   "source": [
    "import torch\n",
    "import torch.nn as nn\n",
    "import torch.nn.functional as F\n",
    "class TransformerStem(nn.Module):\n",
    "    def __init__(self, in_channels=1, out_channels=16):\n",
    "        super().__init__()\n",
    "        self.conv1 = nn.Conv1d(in_channels, out_channels // 2, kernel_size=10, stride=2, bias=False, padding=4)\n",
    "        self.act1 = nn.GELU()\n",
    "        self.bn1 = nn.BatchNorm1d(out_channels // 2)\n",
    "\n",
    "        self.conv2 = nn.Conv1d(out_channels // 2, out_channels, kernel_size=3, stride=1, bias=False, padding=1)\n",
    "        self.act2 = nn.GELU()\n",
    "        self.bn2 = nn.BatchNorm1d(out_channels)\n",
    "\n",
    "        self.conv3 = nn.Conv1d(out_channels, out_channels, kernel_size=3, stride=2, bias=False, padding=1)\n",
    "        self.act3 = nn.GELU()\n",
    "        self.bn3 = nn.BatchNorm1d(out_channels)\n",
    "\n",
    "        self.init_weight()\n",
    "\n",
    "    def init_weight(self):\n",
    "        for m in self.modules():\n",
    "            if isinstance(m, nn.Conv1d):\n",
    "                nn.init.kaiming_normal_(m.weight)\n",
    "                if m.bias is not None:\n",
    "                    m.bias.data.zero_()\n",
    "            elif isinstance(m, nn.BatchNorm1d):\n",
    "                m.weight.data.fill_(1)\n",
    "                m.bias.data.zero_()\n",
    "\n",
    "    def forward(self, x):\n",
    "        x = self.bn1(self.act1(self.conv1(x)))\n",
    "        x = self.bn2(self.act2(self.conv2(x)))\n",
    "        x = self.bn3(self.act3(self.conv3(x)))\n",
    "        return x\n",
    "\n",
    "class TransformerBlock(nn.Module):\n",
    "    def __init__(self, dim, num_heads, mlp_ratio=4., qkv_bias=False, dropout=0.):\n",
    "        super().__init__()\n",
    "        self.norm1 = nn.LayerNorm(dim)\n",
    "        self.attn = nn.MultiheadAttention(dim, num_heads, dropout=dropout, bias=qkv_bias)\n",
    "        self.norm2 = nn.LayerNorm(dim)\n",
    "        self.mlp = nn.Sequential(\n",
    "            nn.Linear(dim, int(dim * mlp_ratio)),\n",
    "            nn.GELU(),\n",
    "            nn.Linear(int(dim * mlp_ratio), dim),\n",
    "            nn.Dropout(dropout)\n",
    "        )\n",
    "        self.dropout = nn.Dropout(dropout)\n",
    "\n",
    "    def forward(self, x):\n",
    "        x = x + self.dropout(self.attn(self.norm1(x), self.norm1(x), self.norm1(x))[0])\n",
    "        x = x + self.dropout(self.mlp(self.norm2(x)))\n",
    "        return x\n",
    "\n",
    "class ParallelTransformerModel(nn.Module):\n",
    "    def __init__(self, input_size: int, num_classes: int, \n",
    "                 transformer_dim: int = 128, num_heads: int = 4, \n",
    "                 transformer_depth: int = 2,\n",
    "                 fc_neurons: list = [512, 128],\n",
    "                 dropout: float = 0.3, activation: nn.Module = nn.ReLU()):\n",
    "        super(ParallelTransformerModel, self).__init__()\n",
    "\n",
    "        # Transformer\n",
    "        self.transformer_stem = TransformerStem(in_channels=1, out_channels=transformer_dim)\n",
    "        self.transformer_blocks = nn.ModuleList(\n",
    "            [TransformerBlock(dim=transformer_dim, num_heads=num_heads, dropout=dropout) for _ in range(transformer_depth)]\n",
    "        )\n",
    "        self.fc_transformer = nn.Linear(transformer_dim, 128)\n",
    "\n",
    "        # Fully connected layers for output\n",
    "        self.transformer_output_size = 128  # Size after the fc_transformer layer\n",
    "\n",
    "        self.fc_layers = nn.ModuleList()\n",
    "        self.fc_layers.append(nn.Linear(self.transformer_output_size, fc_neurons[0]))\n",
    "        for i in range(len(fc_neurons) - 1):\n",
    "            self.fc_layers.append(nn.Linear(fc_neurons[i], fc_neurons[i + 1]))\n",
    "        self.output_layer = nn.Linear(fc_neurons[-1], num_classes)\n",
    "\n",
    "        self.dropout = nn.Dropout(dropout)\n",
    "        self.activation = activation\n",
    "\n",
    "    def forward(self, x: torch.Tensor) -> torch.Tensor:\n",
    "        # Transformer path\n",
    "        x_transformer = self.transformer_stem(x)\n",
    "        x_transformer = x_transformer.permute(2, 0, 1)  # Adjust shape for Transformer\n",
    "        for block in self.transformer_blocks:\n",
    "            x_transformer = block(x_transformer)\n",
    "        x_transformer = x_transformer[-1]  # Take the last output of Transformer\n",
    "        x_transformer = self.fc_transformer(x_transformer)\n",
    "\n",
    "        # Fully connected layers\n",
    "        x = x_transformer\n",
    "        for fc in self.fc_layers:\n",
    "            x = self.activation(fc(x))\n",
    "            x = self.dropout(x)\n",
    "        \n",
    "        x = self.output_layer(x)\n",
    "        return x\n",
    "\n",
    "\n",
    "# Model parameters\n",
    "# Model parameters\n",
    "input_size = SEQ_LENGTH  # Use the sequence length provided by your dataset\n",
    "num_classes = 5  # Number of classes for classification\n",
    "conv_filters = [64, 128]  # Reduced number of filters to save memory\n",
    "transformer_dim = 128  # Smaller transformer dimension\n",
    "num_heads = 4  # Fewer attention heads\n",
    "transformer_depth = 2  # Fewer transformer layers\n",
    "fc_neurons = [512, 128]  # Reduced fully connected layer sizes\n",
    "dropout = 0.3  # Dropout rate\n",
    "\n",
    "# Instantiate the model\n",
    "\n",
    "# Instantiate the model\n",
    "model = ParallelTransformerModel(\n",
    "    input_size=input_size,\n",
    "    num_classes=num_classes,\n",
    "    transformer_dim=transformer_dim,\n",
    "    num_heads=num_heads,\n",
    "    transformer_depth=transformer_depth,\n",
    "    fc_neurons=fc_neurons,\n",
    "    dropout=dropout,\n",
    "    activation=nn.ReLU()\n",
    ").to(DEVICE)\n",
    "\n"
   ]
  },
  {
   "cell_type": "code",
   "execution_count": 17,
   "metadata": {},
   "outputs": [
    {
     "name": "stdout",
     "output_type": "stream",
     "text": [
      "Model size: 2.365 MB\n"
     ]
    },
    {
     "data": {
      "text/plain": [
       "ParallelTransformerModel(\n",
       "  (transformer_stem): TransformerStem(\n",
       "    (conv1): Conv1d(1, 64, kernel_size=(10,), stride=(2,), padding=(4,), bias=False)\n",
       "    (act1): GELU(approximate='none')\n",
       "    (bn1): BatchNorm1d(64, eps=1e-05, momentum=0.1, affine=True, track_running_stats=True)\n",
       "    (conv2): Conv1d(64, 128, kernel_size=(3,), stride=(1,), padding=(1,), bias=False)\n",
       "    (act2): GELU(approximate='none')\n",
       "    (bn2): BatchNorm1d(128, eps=1e-05, momentum=0.1, affine=True, track_running_stats=True)\n",
       "    (conv3): Conv1d(128, 128, kernel_size=(3,), stride=(2,), padding=(1,), bias=False)\n",
       "    (act3): GELU(approximate='none')\n",
       "    (bn3): BatchNorm1d(128, eps=1e-05, momentum=0.1, affine=True, track_running_stats=True)\n",
       "  )\n",
       "  (transformer_blocks): ModuleList(\n",
       "    (0-1): 2 x TransformerBlock(\n",
       "      (norm1): LayerNorm((128,), eps=1e-05, elementwise_affine=True)\n",
       "      (attn): MultiheadAttention(\n",
       "        (out_proj): NonDynamicallyQuantizableLinear(in_features=128, out_features=128, bias=False)\n",
       "      )\n",
       "      (norm2): LayerNorm((128,), eps=1e-05, elementwise_affine=True)\n",
       "      (mlp): Sequential(\n",
       "        (0): Linear(in_features=128, out_features=512, bias=True)\n",
       "        (1): GELU(approximate='none')\n",
       "        (2): Linear(in_features=512, out_features=128, bias=True)\n",
       "        (3): Dropout(p=0.3, inplace=False)\n",
       "      )\n",
       "      (dropout): Dropout(p=0.3, inplace=False)\n",
       "    )\n",
       "  )\n",
       "  (fc_transformer): Linear(in_features=128, out_features=128, bias=True)\n",
       "  (fc_layers): ModuleList(\n",
       "    (0): Linear(in_features=128, out_features=512, bias=True)\n",
       "    (1): Linear(in_features=512, out_features=128, bias=True)\n",
       "  )\n",
       "  (output_layer): Linear(in_features=128, out_features=5, bias=True)\n",
       "  (dropout): Dropout(p=0.3, inplace=False)\n",
       "  (activation): ReLU()\n",
       ")"
      ]
     },
     "execution_count": 17,
     "metadata": {},
     "output_type": "execute_result"
    }
   ],
   "source": [
    "print(f'Model size: {get_model_size(model):.3f} MB')\n",
    "model"
   ]
  },
  {
   "cell_type": "code",
   "execution_count": null,
   "metadata": {},
   "outputs": [
    {
     "name": "stdout",
     "output_type": "stream",
     "text": [
      "Model size: 2.270 MB\n"
     ]
    },
    {
     "data": {
      "text/plain": [
       "LSTM_Ieeg_Model(\n",
       "  (activation): ReLU()\n",
       "  (lstm): LSTM(1, 128, num_layers=2, batch_first=True, dropout=0.1)\n",
       "  (fc_layers): ModuleList(\n",
       "    (0): Linear(in_features=128, out_features=1024, bias=True)\n",
       "    (1): Linear(in_features=1024, out_features=256, bias=True)\n",
       "  )\n",
       "  (output_layer): Linear(in_features=256, out_features=5, bias=True)\n",
       "  (dropout_layer): Dropout(p=0.1, inplace=False)\n",
       ")"
      ]
     },
     "execution_count": 19,
     "metadata": {},
     "output_type": "execute_result"
    }
   ],
   "source": [
    "model = LSTM_Ieeg_Model(device=DEVICE,\n",
    "                        input_size=1, \n",
    "                        num_classes=NUM_CLASSES, \n",
    "                        lstm_layers=2, \n",
    "                        lstm_h_size=128,\n",
    "                        fc_neurons=[1024,256], \n",
    "                        bidirectional=False).to(DEVICE)\n",
    "print(f'Model size: {get_model_size(model):.3f} MB')\n",
    "model"
   ]
  },
  {
   "cell_type": "code",
   "execution_count": 18,
   "metadata": {},
   "outputs": [],
   "source": [
    "optimizer = optim.Adam(model.parameters(), lr = LEARNING_RATE)\n",
    "criterion =  nn.CrossEntropyLoss()  "
   ]
  },
  {
   "cell_type": "code",
   "execution_count": 19,
   "metadata": {},
   "outputs": [
    {
     "data": {
      "text/plain": [
       "<Experiment: artifact_location='mlflow-artifacts:/10', creation_time=1716929166769, experiment_id='10', last_update_time=1716929166769, lifecycle_stage='active', name='IEEG_Classification_TNN_CNN', tags={}>"
      ]
     },
     "execution_count": 19,
     "metadata": {},
     "output_type": "execute_result"
    }
   ],
   "source": [
    "mlflow.set_experiment(EXPERIMENT_NAME)"
   ]
  },
  {
   "cell_type": "code",
   "execution_count": 20,
   "metadata": {},
   "outputs": [
    {
     "name": "stderr",
     "output_type": "stream",
     "text": [
      "2024/05/28 18:05:47 INFO mlflow.system_metrics.system_metrics_monitor: Started monitoring system metrics.\n"
     ]
    },
    {
     "data": {
      "application/vnd.jupyter.widget-view+json": {
       "model_id": "1dbb42d7ee3f426d976e07c42db62157",
       "version_major": 2,
       "version_minor": 0
      },
      "text/plain": [
       "Epoch 1/10:   0%|          | 0/820 [00:00<?, ?batch/s]"
      ]
     },
     "metadata": {},
     "output_type": "display_data"
    },
    {
     "name": "stderr",
     "output_type": "stream",
     "text": [
      "/home/danielcrovo/anaconda3/envs/ieeg/lib/python3.12/site-packages/torch/autograd/graph.py:744: UserWarning: Plan failed with a cudnnException: CUDNN_BACKEND_EXECUTION_PLAN_DESCRIPTOR: cudnnFinalize Descriptor Failed cudnn_status: CUDNN_STATUS_NOT_SUPPORTED (Triggered internally at ../aten/src/ATen/native/cudnn/Conv_v8.cpp:919.)\n",
      "  return Variable._execution_engine.run_backward(  # Calls into the C++ engine to run the backward pass\n",
      "/home/danielcrovo/anaconda3/envs/ieeg/lib/python3.12/site-packages/torch/autograd/graph.py:744: UserWarning: Plan failed with a cudnnException: CUDNN_BACKEND_EXECUTION_PLAN_DESCRIPTOR: cudnnFinalize Descriptor Failed cudnn_status: CUDNN_STATUS_NOT_SUPPORTED (Triggered internally at ../aten/src/ATen/native/cudnn/Conv_v8.cpp:919.)\n",
      "  return Variable._execution_engine.run_backward(  # Calls into the C++ engine to run the backward pass\n"
     ]
    },
    {
     "data": {
      "application/vnd.jupyter.widget-view+json": {
       "model_id": "d83fdf098b44476d85e4d0f5faf476eb",
       "version_major": 2,
       "version_minor": 0
      },
      "text/plain": [
       "Epoch 2/10:   0%|          | 0/820 [00:00<?, ?batch/s]"
      ]
     },
     "metadata": {},
     "output_type": "display_data"
    },
    {
     "data": {
      "application/vnd.jupyter.widget-view+json": {
       "model_id": "7d3520a30c6d43f7a8e5a715a4951c2b",
       "version_major": 2,
       "version_minor": 0
      },
      "text/plain": [
       "Epoch 3/10:   0%|          | 0/820 [00:00<?, ?batch/s]"
      ]
     },
     "metadata": {},
     "output_type": "display_data"
    },
    {
     "data": {
      "application/vnd.jupyter.widget-view+json": {
       "model_id": "a0b6869af78843ed8efeb91175d37d80",
       "version_major": 2,
       "version_minor": 0
      },
      "text/plain": [
       "Epoch 4/10:   0%|          | 0/820 [00:00<?, ?batch/s]"
      ]
     },
     "metadata": {},
     "output_type": "display_data"
    },
    {
     "data": {
      "application/vnd.jupyter.widget-view+json": {
       "model_id": "b0118f66467646f7a8700807a4eb476e",
       "version_major": 2,
       "version_minor": 0
      },
      "text/plain": [
       "Epoch 5/10:   0%|          | 0/820 [00:00<?, ?batch/s]"
      ]
     },
     "metadata": {},
     "output_type": "display_data"
    },
    {
     "data": {
      "application/vnd.jupyter.widget-view+json": {
       "model_id": "872aaa509f8b4176bb043be4c76e2f86",
       "version_major": 2,
       "version_minor": 0
      },
      "text/plain": [
       "Epoch 6/10:   0%|          | 0/820 [00:00<?, ?batch/s]"
      ]
     },
     "metadata": {},
     "output_type": "display_data"
    },
    {
     "data": {
      "application/vnd.jupyter.widget-view+json": {
       "model_id": "a24eb99b8114461ba014d2916b8579fd",
       "version_major": 2,
       "version_minor": 0
      },
      "text/plain": [
       "Epoch 7/10:   0%|          | 0/820 [00:00<?, ?batch/s]"
      ]
     },
     "metadata": {},
     "output_type": "display_data"
    },
    {
     "data": {
      "application/vnd.jupyter.widget-view+json": {
       "model_id": "96bc4283b99f4222a1861e42d9ffa8f8",
       "version_major": 2,
       "version_minor": 0
      },
      "text/plain": [
       "Epoch 8/10:   0%|          | 0/820 [00:00<?, ?batch/s]"
      ]
     },
     "metadata": {},
     "output_type": "display_data"
    },
    {
     "data": {
      "application/vnd.jupyter.widget-view+json": {
       "model_id": "f56f9b609d3344b095aa17b00187a90a",
       "version_major": 2,
       "version_minor": 0
      },
      "text/plain": [
       "Epoch 9/10:   0%|          | 0/820 [00:00<?, ?batch/s]"
      ]
     },
     "metadata": {},
     "output_type": "display_data"
    },
    {
     "data": {
      "application/vnd.jupyter.widget-view+json": {
       "model_id": "32851656c6af4dbd87f6b564d6e5943a",
       "version_major": 2,
       "version_minor": 0
      },
      "text/plain": [
       "Epoch 10/10:   0%|          | 0/820 [00:00<?, ?batch/s]"
      ]
     },
     "metadata": {},
     "output_type": "display_data"
    },
    {
     "name": "stdout",
     "output_type": "stream",
     "text": [
      "Checkpoint saved successfully.\n"
     ]
    },
    {
     "data": {
      "application/vnd.jupyter.widget-view+json": {
       "model_id": "4c48cdc111574414aaa77e95095a166d",
       "version_major": 2,
       "version_minor": 0
      },
      "text/plain": [
       "Evaluating:   0%|          | 0/205 [00:00<?, ?batch/s]"
      ]
     },
     "metadata": {},
     "output_type": "display_data"
    },
    {
     "name": "stderr",
     "output_type": "stream",
     "text": [
      "/home/danielcrovo/anaconda3/envs/ieeg/lib/python3.12/site-packages/torch/nn/modules/conv.py:306: UserWarning: Plan failed with a cudnnException: CUDNN_BACKEND_EXECUTION_PLAN_DESCRIPTOR: cudnnFinalize Descriptor Failed cudnn_status: CUDNN_STATUS_NOT_SUPPORTED (Triggered internally at ../aten/src/ATen/native/cudnn/Conv_v8.cpp:919.)\n",
      "  return F.conv1d(input, weight, bias, self.stride,\n"
     ]
    },
    {
     "name": "stdout",
     "output_type": "stream",
     "text": [
      "Accuracy of the model on the test data: 0.97%\n",
      "Precision: 0.9706, Recall: 0.9704, F1 Score: 0.9701\n"
     ]
    },
    {
     "name": "stderr",
     "output_type": "stream",
     "text": [
      "2024/05/28 18:11:44 INFO mlflow.system_metrics.system_metrics_monitor: Stopping system metrics monitoring...\n",
      "2024/05/28 18:11:44 INFO mlflow.system_metrics.system_metrics_monitor: Successfully terminated system metrics monitoring!\n"
     ]
    }
   ],
   "source": [
    "\n",
    "# Train and Evaluate the Model with MLflow\n",
    "run_name = \"TNN\"\n",
    "with mlflow.start_run(run_name=run_name) as run:\n",
    "    # Log parameters\n",
    "    mlflow.log_param(\"epochs\", NUM_EPOCHS)\n",
    "    mlflow.log_param(\"batch_size\", BATCH_SIZE)\n",
    "    mlflow.log_param(\"learning_rate\", LEARNING_RATE)\n",
    "    mlflow.log_param(\"model\", \"LSTM\")\n",
    "    mlflow.log_param(\"input_size\", SEQ_LENGTH)\n",
    "    mlflow.log_param(\"num_classes\", NUM_CLASSES)\n",
    "    mlflow.log_dict(dataset.get_class_mapping(), \"class_mapping.json\")\n",
    "\n",
    "    # Train and Evaluate the Model\n",
    "    train_model(model, train_loader, optimizer, criterion, NUM_EPOCHS, DEVICE, \n",
    "                save_checkpoint_interval=10, checkpoint_dir=CHECKPOINTS_PATH, \n",
    "                model_name=\"LSTM\", early_stopping_patience=40, cnn=False)\n",
    "    evaluate_model(model, test_loader, dataset, DEVICE, img_path='../plots', run_name=run_name)\n",
    "\n",
    "    # Log the model\n",
    "    mlflow.pytorch.log_model(model, \"model_LSTM\")"
   ]
  },
  {
   "cell_type": "code",
   "execution_count": 14,
   "metadata": {},
   "outputs": [
    {
     "name": "stdout",
     "output_type": "stream",
     "text": [
      "Shape of inputs: torch.Size([64, 1, 5000])\n",
      "Shape of labels: torch.Size([64])\n"
     ]
    }
   ],
   "source": [
    "# Assuming you have already defined train_loader\n",
    "for inputs, labels in train_loader:\n",
    "    print(\"Shape of inputs:\", inputs.shape)\n",
    "    print(\"Shape of labels:\", labels.shape)\n",
    "    break  # Remove this line if you want to see shapes of more items\n",
    "\n"
   ]
  },
  {
   "cell_type": "markdown",
   "metadata": {},
   "source": [
    "# Hybrid model CNN + LSTM"
   ]
  },
  {
   "cell_type": "code",
   "execution_count": 14,
   "metadata": {},
   "outputs": [],
   "source": [
    "train_loader, test_loader, dataset = get_loaders(data_dir=DATA_DIR, batch_size=BATCH_SIZE, num_workers=NUM_WORKERS,\n",
    "                                        pin_memory=PIN_MEMORY, test_size=0.2, seq_length=SEQ_LENGTH, model_type=\"cnn\")"
   ]
  },
  {
   "cell_type": "code",
   "execution_count": 20,
   "metadata": {},
   "outputs": [
    {
     "name": "stdout",
     "output_type": "stream",
     "text": [
      "Model size: 81.943 MB\n"
     ]
    },
    {
     "data": {
      "text/plain": [
       "CNN_LSTM_Model(\n",
       "  (cnn_head): CNN_Head(\n",
       "    (conv_layers): ModuleList(\n",
       "      (0): Conv1d(1, 64, kernel_size=(3,), stride=(1,), padding=(1,))\n",
       "      (1): Conv1d(64, 128, kernel_size=(3,), stride=(1,), padding=(1,))\n",
       "      (2): Conv1d(128, 256, kernel_size=(3,), stride=(1,), padding=(1,))\n",
       "      (3): Conv1d(256, 512, kernel_size=(3,), stride=(1,), padding=(1,))\n",
       "    )\n",
       "    (bn_layers): ModuleList(\n",
       "      (0): BatchNorm1d(64, eps=1e-05, momentum=0.1, affine=True, track_running_stats=True)\n",
       "      (1): BatchNorm1d(128, eps=1e-05, momentum=0.1, affine=True, track_running_stats=True)\n",
       "      (2): BatchNorm1d(256, eps=1e-05, momentum=0.1, affine=True, track_running_stats=True)\n",
       "      (3): BatchNorm1d(512, eps=1e-05, momentum=0.1, affine=True, track_running_stats=True)\n",
       "    )\n",
       "    (activation): ReLU()\n",
       "    (dropout): Dropout(p=0.3, inplace=False)\n",
       "    (maxpool): MaxPool1d(kernel_size=2, stride=2, padding=0, dilation=1, ceil_mode=False)\n",
       "  )\n",
       "  (lstm): LSTM(512, 64, num_layers=4, batch_first=True)\n",
       "  (fc_layers): ModuleList(\n",
       "    (0): Linear(in_features=19968, out_features=1024, bias=True)\n",
       "    (1): Linear(in_features=1024, out_features=256, bias=True)\n",
       "  )\n",
       "  (output_layer): Linear(in_features=256, out_features=5, bias=True)\n",
       "  (dropout): Dropout(p=0.3, inplace=False)\n",
       "  (activation): ReLU()\n",
       ")"
      ]
     },
     "execution_count": 20,
     "metadata": {},
     "output_type": "execute_result"
    }
   ],
   "source": [
    "model = CNN_LSTM_Model(  input_size=SEQ_LENGTH, \n",
    "                        num_classes=NUM_CLASSES, ).to(DEVICE)\n",
    "print(f'Model size: {get_model_size(model):.3f} MB')\n",
    "model"
   ]
  },
  {
   "cell_type": "code",
   "execution_count": 16,
   "metadata": {},
   "outputs": [],
   "source": [
    "optimizer = optim.Adam(model.parameters(), lr = LEARNING_RATE)\n",
    "criterion =  nn.CrossEntropyLoss()  "
   ]
  },
  {
   "cell_type": "code",
   "execution_count": 17,
   "metadata": {},
   "outputs": [
    {
     "data": {
      "text/plain": [
       "<Experiment: artifact_location='mlflow-artifacts:/9', creation_time=1716795170067, experiment_id='9', last_update_time=1716795170067, lifecycle_stage='active', name='IEEG_Classification_Arch_CNN_Hybrid', tags={}>"
      ]
     },
     "execution_count": 17,
     "metadata": {},
     "output_type": "execute_result"
    }
   ],
   "source": [
    "mlflow.set_experiment(EXPERIMENT_NAME)"
   ]
  },
  {
   "cell_type": "code",
   "execution_count": 18,
   "metadata": {},
   "outputs": [
    {
     "name": "stderr",
     "output_type": "stream",
     "text": [
      "2024/05/27 08:02:36 INFO mlflow.system_metrics.system_metrics_monitor: Started monitoring system metrics.\n"
     ]
    },
    {
     "data": {
      "application/vnd.jupyter.widget-view+json": {
       "model_id": "664cea8b6109437a99c84ad45518550d",
       "version_major": 2,
       "version_minor": 0
      },
      "text/plain": [
       "Epoch 1/50:   0%|          | 0/164 [00:00<?, ?batch/s]"
      ]
     },
     "metadata": {},
     "output_type": "display_data"
    },
    {
     "data": {
      "application/vnd.jupyter.widget-view+json": {
       "model_id": "d7a53599ec664b3bb971da4a033f9bcf",
       "version_major": 2,
       "version_minor": 0
      },
      "text/plain": [
       "Epoch 2/50:   0%|          | 0/164 [00:00<?, ?batch/s]"
      ]
     },
     "metadata": {},
     "output_type": "display_data"
    },
    {
     "data": {
      "application/vnd.jupyter.widget-view+json": {
       "model_id": "806d21f350ef4f528eeefa2ce5ddc3a6",
       "version_major": 2,
       "version_minor": 0
      },
      "text/plain": [
       "Epoch 3/50:   0%|          | 0/164 [00:00<?, ?batch/s]"
      ]
     },
     "metadata": {},
     "output_type": "display_data"
    },
    {
     "data": {
      "application/vnd.jupyter.widget-view+json": {
       "model_id": "6f4ee79455a84cedb6e0517b64100740",
       "version_major": 2,
       "version_minor": 0
      },
      "text/plain": [
       "Epoch 4/50:   0%|          | 0/164 [00:00<?, ?batch/s]"
      ]
     },
     "metadata": {},
     "output_type": "display_data"
    },
    {
     "data": {
      "application/vnd.jupyter.widget-view+json": {
       "model_id": "ea965755afa7439e8f43260ba55e571d",
       "version_major": 2,
       "version_minor": 0
      },
      "text/plain": [
       "Epoch 5/50:   0%|          | 0/164 [00:00<?, ?batch/s]"
      ]
     },
     "metadata": {},
     "output_type": "display_data"
    },
    {
     "data": {
      "application/vnd.jupyter.widget-view+json": {
       "model_id": "3fa311cbed4442ffb2bec030de0790dc",
       "version_major": 2,
       "version_minor": 0
      },
      "text/plain": [
       "Epoch 6/50:   0%|          | 0/164 [00:00<?, ?batch/s]"
      ]
     },
     "metadata": {},
     "output_type": "display_data"
    },
    {
     "data": {
      "application/vnd.jupyter.widget-view+json": {
       "model_id": "da22bf638e6e40099296accf5a0de1b8",
       "version_major": 2,
       "version_minor": 0
      },
      "text/plain": [
       "Epoch 7/50:   0%|          | 0/164 [00:00<?, ?batch/s]"
      ]
     },
     "metadata": {},
     "output_type": "display_data"
    },
    {
     "data": {
      "application/vnd.jupyter.widget-view+json": {
       "model_id": "bfeb00cd75c94cff87812ae465966679",
       "version_major": 2,
       "version_minor": 0
      },
      "text/plain": [
       "Epoch 8/50:   0%|          | 0/164 [00:00<?, ?batch/s]"
      ]
     },
     "metadata": {},
     "output_type": "display_data"
    },
    {
     "data": {
      "application/vnd.jupyter.widget-view+json": {
       "model_id": "6fb984ca868e42b985026242142d0c23",
       "version_major": 2,
       "version_minor": 0
      },
      "text/plain": [
       "Epoch 9/50:   0%|          | 0/164 [00:00<?, ?batch/s]"
      ]
     },
     "metadata": {},
     "output_type": "display_data"
    },
    {
     "data": {
      "application/vnd.jupyter.widget-view+json": {
       "model_id": "0f2a1e785bf1453bb4ea4f680a435516",
       "version_major": 2,
       "version_minor": 0
      },
      "text/plain": [
       "Epoch 10/50:   0%|          | 0/164 [00:00<?, ?batch/s]"
      ]
     },
     "metadata": {},
     "output_type": "display_data"
    },
    {
     "name": "stdout",
     "output_type": "stream",
     "text": [
      "Checkpoint saved successfully.\n"
     ]
    },
    {
     "data": {
      "application/vnd.jupyter.widget-view+json": {
       "model_id": "1297b15e3b3049a9a1a9c1bdbbac16dd",
       "version_major": 2,
       "version_minor": 0
      },
      "text/plain": [
       "Epoch 11/50:   0%|          | 0/164 [00:00<?, ?batch/s]"
      ]
     },
     "metadata": {},
     "output_type": "display_data"
    },
    {
     "data": {
      "application/vnd.jupyter.widget-view+json": {
       "model_id": "f3197662734c49cda4fe8bcca3171355",
       "version_major": 2,
       "version_minor": 0
      },
      "text/plain": [
       "Epoch 12/50:   0%|          | 0/164 [00:00<?, ?batch/s]"
      ]
     },
     "metadata": {},
     "output_type": "display_data"
    },
    {
     "data": {
      "application/vnd.jupyter.widget-view+json": {
       "model_id": "39de627a50074ab889a8b585ee349895",
       "version_major": 2,
       "version_minor": 0
      },
      "text/plain": [
       "Epoch 13/50:   0%|          | 0/164 [00:00<?, ?batch/s]"
      ]
     },
     "metadata": {},
     "output_type": "display_data"
    },
    {
     "data": {
      "application/vnd.jupyter.widget-view+json": {
       "model_id": "85873c64aba94f05aadf0ef1cbdc0514",
       "version_major": 2,
       "version_minor": 0
      },
      "text/plain": [
       "Epoch 14/50:   0%|          | 0/164 [00:00<?, ?batch/s]"
      ]
     },
     "metadata": {},
     "output_type": "display_data"
    },
    {
     "data": {
      "application/vnd.jupyter.widget-view+json": {
       "model_id": "e83a70c10c324ca0bdbe12096b7e1dea",
       "version_major": 2,
       "version_minor": 0
      },
      "text/plain": [
       "Epoch 15/50:   0%|          | 0/164 [00:00<?, ?batch/s]"
      ]
     },
     "metadata": {},
     "output_type": "display_data"
    },
    {
     "data": {
      "application/vnd.jupyter.widget-view+json": {
       "model_id": "7a054f62c00f4335bb564b6a4f75173b",
       "version_major": 2,
       "version_minor": 0
      },
      "text/plain": [
       "Epoch 16/50:   0%|          | 0/164 [00:00<?, ?batch/s]"
      ]
     },
     "metadata": {},
     "output_type": "display_data"
    },
    {
     "data": {
      "application/vnd.jupyter.widget-view+json": {
       "model_id": "766fe8159b7f4c53ac702dfeb3386721",
       "version_major": 2,
       "version_minor": 0
      },
      "text/plain": [
       "Epoch 17/50:   0%|          | 0/164 [00:00<?, ?batch/s]"
      ]
     },
     "metadata": {},
     "output_type": "display_data"
    },
    {
     "data": {
      "application/vnd.jupyter.widget-view+json": {
       "model_id": "32001663c9ef4983bba757759004d307",
       "version_major": 2,
       "version_minor": 0
      },
      "text/plain": [
       "Epoch 18/50:   0%|          | 0/164 [00:00<?, ?batch/s]"
      ]
     },
     "metadata": {},
     "output_type": "display_data"
    },
    {
     "data": {
      "application/vnd.jupyter.widget-view+json": {
       "model_id": "ead185cbbabe4e5eb22e6dc401966549",
       "version_major": 2,
       "version_minor": 0
      },
      "text/plain": [
       "Epoch 19/50:   0%|          | 0/164 [00:00<?, ?batch/s]"
      ]
     },
     "metadata": {},
     "output_type": "display_data"
    },
    {
     "data": {
      "application/vnd.jupyter.widget-view+json": {
       "model_id": "e1d2842a136647eea982a442898337ce",
       "version_major": 2,
       "version_minor": 0
      },
      "text/plain": [
       "Epoch 20/50:   0%|          | 0/164 [00:00<?, ?batch/s]"
      ]
     },
     "metadata": {},
     "output_type": "display_data"
    },
    {
     "name": "stdout",
     "output_type": "stream",
     "text": [
      "Checkpoint saved successfully.\n"
     ]
    },
    {
     "data": {
      "application/vnd.jupyter.widget-view+json": {
       "model_id": "44960f749e68440986535fb0f82080c4",
       "version_major": 2,
       "version_minor": 0
      },
      "text/plain": [
       "Epoch 21/50:   0%|          | 0/164 [00:00<?, ?batch/s]"
      ]
     },
     "metadata": {},
     "output_type": "display_data"
    },
    {
     "data": {
      "application/vnd.jupyter.widget-view+json": {
       "model_id": "edc146fd63ed4363bd0aac02db998722",
       "version_major": 2,
       "version_minor": 0
      },
      "text/plain": [
       "Epoch 22/50:   0%|          | 0/164 [00:00<?, ?batch/s]"
      ]
     },
     "metadata": {},
     "output_type": "display_data"
    },
    {
     "data": {
      "application/vnd.jupyter.widget-view+json": {
       "model_id": "884b8261588145508cde2b7c96f18989",
       "version_major": 2,
       "version_minor": 0
      },
      "text/plain": [
       "Epoch 23/50:   0%|          | 0/164 [00:00<?, ?batch/s]"
      ]
     },
     "metadata": {},
     "output_type": "display_data"
    },
    {
     "data": {
      "application/vnd.jupyter.widget-view+json": {
       "model_id": "f7b111131f6a40fe8e377ccecbbe46ff",
       "version_major": 2,
       "version_minor": 0
      },
      "text/plain": [
       "Epoch 24/50:   0%|          | 0/164 [00:00<?, ?batch/s]"
      ]
     },
     "metadata": {},
     "output_type": "display_data"
    },
    {
     "data": {
      "application/vnd.jupyter.widget-view+json": {
       "model_id": "6ac336e0e5f74276a6eaed9c9adc5f8b",
       "version_major": 2,
       "version_minor": 0
      },
      "text/plain": [
       "Epoch 25/50:   0%|          | 0/164 [00:00<?, ?batch/s]"
      ]
     },
     "metadata": {},
     "output_type": "display_data"
    },
    {
     "data": {
      "application/vnd.jupyter.widget-view+json": {
       "model_id": "4847663edc8242ceacd7224e67703c8d",
       "version_major": 2,
       "version_minor": 0
      },
      "text/plain": [
       "Epoch 26/50:   0%|          | 0/164 [00:00<?, ?batch/s]"
      ]
     },
     "metadata": {},
     "output_type": "display_data"
    },
    {
     "data": {
      "application/vnd.jupyter.widget-view+json": {
       "model_id": "1ac70aac9974434aba2f45070f59ee43",
       "version_major": 2,
       "version_minor": 0
      },
      "text/plain": [
       "Epoch 27/50:   0%|          | 0/164 [00:00<?, ?batch/s]"
      ]
     },
     "metadata": {},
     "output_type": "display_data"
    },
    {
     "data": {
      "application/vnd.jupyter.widget-view+json": {
       "model_id": "be139b58f5684253883e83d0b5dc60f4",
       "version_major": 2,
       "version_minor": 0
      },
      "text/plain": [
       "Epoch 28/50:   0%|          | 0/164 [00:00<?, ?batch/s]"
      ]
     },
     "metadata": {},
     "output_type": "display_data"
    },
    {
     "data": {
      "application/vnd.jupyter.widget-view+json": {
       "model_id": "bdda8a26cf334353a916742dfb20ce54",
       "version_major": 2,
       "version_minor": 0
      },
      "text/plain": [
       "Epoch 29/50:   0%|          | 0/164 [00:00<?, ?batch/s]"
      ]
     },
     "metadata": {},
     "output_type": "display_data"
    },
    {
     "data": {
      "application/vnd.jupyter.widget-view+json": {
       "model_id": "8f9e7d5dc3bd440c97b312853c7843df",
       "version_major": 2,
       "version_minor": 0
      },
      "text/plain": [
       "Epoch 30/50:   0%|          | 0/164 [00:00<?, ?batch/s]"
      ]
     },
     "metadata": {},
     "output_type": "display_data"
    },
    {
     "name": "stdout",
     "output_type": "stream",
     "text": [
      "Checkpoint saved successfully.\n"
     ]
    },
    {
     "data": {
      "application/vnd.jupyter.widget-view+json": {
       "model_id": "b6e3efd5c6b04a4591e81eb471640779",
       "version_major": 2,
       "version_minor": 0
      },
      "text/plain": [
       "Epoch 31/50:   0%|          | 0/164 [00:00<?, ?batch/s]"
      ]
     },
     "metadata": {},
     "output_type": "display_data"
    },
    {
     "data": {
      "application/vnd.jupyter.widget-view+json": {
       "model_id": "e0f2a4d32d544514822b0d50edcedc6d",
       "version_major": 2,
       "version_minor": 0
      },
      "text/plain": [
       "Epoch 32/50:   0%|          | 0/164 [00:00<?, ?batch/s]"
      ]
     },
     "metadata": {},
     "output_type": "display_data"
    },
    {
     "data": {
      "application/vnd.jupyter.widget-view+json": {
       "model_id": "c0709d73c5aa4ddcb579f8294aae0160",
       "version_major": 2,
       "version_minor": 0
      },
      "text/plain": [
       "Epoch 33/50:   0%|          | 0/164 [00:00<?, ?batch/s]"
      ]
     },
     "metadata": {},
     "output_type": "display_data"
    },
    {
     "data": {
      "application/vnd.jupyter.widget-view+json": {
       "model_id": "9753f0f5aa3e40cc87ae5528410f2ae3",
       "version_major": 2,
       "version_minor": 0
      },
      "text/plain": [
       "Epoch 34/50:   0%|          | 0/164 [00:00<?, ?batch/s]"
      ]
     },
     "metadata": {},
     "output_type": "display_data"
    },
    {
     "data": {
      "application/vnd.jupyter.widget-view+json": {
       "model_id": "5fcf58ac752d49eda87add453b93c880",
       "version_major": 2,
       "version_minor": 0
      },
      "text/plain": [
       "Epoch 35/50:   0%|          | 0/164 [00:00<?, ?batch/s]"
      ]
     },
     "metadata": {},
     "output_type": "display_data"
    },
    {
     "data": {
      "application/vnd.jupyter.widget-view+json": {
       "model_id": "7d8095eab66842e8a9f94293a81dccef",
       "version_major": 2,
       "version_minor": 0
      },
      "text/plain": [
       "Epoch 36/50:   0%|          | 0/164 [00:00<?, ?batch/s]"
      ]
     },
     "metadata": {},
     "output_type": "display_data"
    },
    {
     "data": {
      "application/vnd.jupyter.widget-view+json": {
       "model_id": "7794fb8d21de4cf5a7de7fc2f098786d",
       "version_major": 2,
       "version_minor": 0
      },
      "text/plain": [
       "Epoch 37/50:   0%|          | 0/164 [00:00<?, ?batch/s]"
      ]
     },
     "metadata": {},
     "output_type": "display_data"
    },
    {
     "data": {
      "application/vnd.jupyter.widget-view+json": {
       "model_id": "b551a62d866c430a80a470392d9ad090",
       "version_major": 2,
       "version_minor": 0
      },
      "text/plain": [
       "Epoch 38/50:   0%|          | 0/164 [00:00<?, ?batch/s]"
      ]
     },
     "metadata": {},
     "output_type": "display_data"
    },
    {
     "data": {
      "application/vnd.jupyter.widget-view+json": {
       "model_id": "ef340b42ba8440e79333ed07dd58952c",
       "version_major": 2,
       "version_minor": 0
      },
      "text/plain": [
       "Epoch 39/50:   0%|          | 0/164 [00:00<?, ?batch/s]"
      ]
     },
     "metadata": {},
     "output_type": "display_data"
    },
    {
     "data": {
      "application/vnd.jupyter.widget-view+json": {
       "model_id": "122f4d5d39b1470e956572ebd3b662d4",
       "version_major": 2,
       "version_minor": 0
      },
      "text/plain": [
       "Epoch 40/50:   0%|          | 0/164 [00:00<?, ?batch/s]"
      ]
     },
     "metadata": {},
     "output_type": "display_data"
    },
    {
     "name": "stdout",
     "output_type": "stream",
     "text": [
      "Checkpoint saved successfully.\n"
     ]
    },
    {
     "data": {
      "application/vnd.jupyter.widget-view+json": {
       "model_id": "9058d0625e06493e89da622e436a64e9",
       "version_major": 2,
       "version_minor": 0
      },
      "text/plain": [
       "Epoch 41/50:   0%|          | 0/164 [00:00<?, ?batch/s]"
      ]
     },
     "metadata": {},
     "output_type": "display_data"
    },
    {
     "data": {
      "application/vnd.jupyter.widget-view+json": {
       "model_id": "25817c942e79479a9471207adff2181c",
       "version_major": 2,
       "version_minor": 0
      },
      "text/plain": [
       "Epoch 42/50:   0%|          | 0/164 [00:00<?, ?batch/s]"
      ]
     },
     "metadata": {},
     "output_type": "display_data"
    },
    {
     "data": {
      "application/vnd.jupyter.widget-view+json": {
       "model_id": "e529e0ea681b4b2d9bfa4453fa60aef3",
       "version_major": 2,
       "version_minor": 0
      },
      "text/plain": [
       "Epoch 43/50:   0%|          | 0/164 [00:00<?, ?batch/s]"
      ]
     },
     "metadata": {},
     "output_type": "display_data"
    },
    {
     "data": {
      "application/vnd.jupyter.widget-view+json": {
       "model_id": "970547bfa9ae4d8f8a9edeaf2afe57d8",
       "version_major": 2,
       "version_minor": 0
      },
      "text/plain": [
       "Epoch 44/50:   0%|          | 0/164 [00:00<?, ?batch/s]"
      ]
     },
     "metadata": {},
     "output_type": "display_data"
    },
    {
     "data": {
      "application/vnd.jupyter.widget-view+json": {
       "model_id": "7e79134e41134cb2841fced674ea4f9c",
       "version_major": 2,
       "version_minor": 0
      },
      "text/plain": [
       "Epoch 45/50:   0%|          | 0/164 [00:00<?, ?batch/s]"
      ]
     },
     "metadata": {},
     "output_type": "display_data"
    },
    {
     "data": {
      "application/vnd.jupyter.widget-view+json": {
       "model_id": "daa7823d77d9491f9918d2774ad7ba07",
       "version_major": 2,
       "version_minor": 0
      },
      "text/plain": [
       "Epoch 46/50:   0%|          | 0/164 [00:00<?, ?batch/s]"
      ]
     },
     "metadata": {},
     "output_type": "display_data"
    },
    {
     "data": {
      "application/vnd.jupyter.widget-view+json": {
       "model_id": "db1942700225427195bbea7b2cef4442",
       "version_major": 2,
       "version_minor": 0
      },
      "text/plain": [
       "Epoch 47/50:   0%|          | 0/164 [00:00<?, ?batch/s]"
      ]
     },
     "metadata": {},
     "output_type": "display_data"
    },
    {
     "data": {
      "application/vnd.jupyter.widget-view+json": {
       "model_id": "b09156b619a74bcd86de75b7d8e05ff6",
       "version_major": 2,
       "version_minor": 0
      },
      "text/plain": [
       "Epoch 48/50:   0%|          | 0/164 [00:00<?, ?batch/s]"
      ]
     },
     "metadata": {},
     "output_type": "display_data"
    },
    {
     "data": {
      "application/vnd.jupyter.widget-view+json": {
       "model_id": "421a1a9b24e04bfe9d09a524ee80b748",
       "version_major": 2,
       "version_minor": 0
      },
      "text/plain": [
       "Epoch 49/50:   0%|          | 0/164 [00:00<?, ?batch/s]"
      ]
     },
     "metadata": {},
     "output_type": "display_data"
    },
    {
     "name": "stdout",
     "output_type": "stream",
     "text": [
      "Early stopping at epoch 49\n"
     ]
    },
    {
     "data": {
      "application/vnd.jupyter.widget-view+json": {
       "model_id": "3286e37da1514c28beac16497d81baaa",
       "version_major": 2,
       "version_minor": 0
      },
      "text/plain": [
       "Evaluating:   0%|          | 0/41 [00:00<?, ?batch/s]"
      ]
     },
     "metadata": {},
     "output_type": "display_data"
    },
    {
     "name": "stdout",
     "output_type": "stream",
     "text": [
      "Accuracy of the model on the test data: 0.94%\n",
      "Precision: 0.9397, Recall: 0.9360, F1 Score: 0.9341\n"
     ]
    },
    {
     "name": "stderr",
     "output_type": "stream",
     "text": [
      "2024/05/27 08:10:46 INFO mlflow.system_metrics.system_metrics_monitor: Stopping system metrics monitoring...\n",
      "2024/05/27 08:10:46 INFO mlflow.system_metrics.system_metrics_monitor: Successfully terminated system metrics monitoring!\n"
     ]
    }
   ],
   "source": [
    "\n",
    "# Train and Evaluate the Model with MLflow\n",
    "run_name = \"CNN_LSTM_Experiment\"\n",
    "with mlflow.start_run(run_name=run_name) as run:\n",
    "    # Log parameters\n",
    "    mlflow.log_param(\"epochs\", NUM_EPOCHS)\n",
    "    mlflow.log_param(\"batch_size\", BATCH_SIZE)\n",
    "    mlflow.log_param(\"learning_rate\", LEARNING_RATE)\n",
    "    mlflow.log_param(\"model\", \"CNN_LSTM\")\n",
    "    mlflow.log_param(\"input_size\", SEQ_LENGTH)\n",
    "    mlflow.log_param(\"num_classes\", NUM_CLASSES)\n",
    "    mlflow.log_dict(dataset.get_class_mapping(), \"class_mapping.json\")\n",
    "\n",
    "    # Train and Evaluate the Model\n",
    "    train_model(model, train_loader, optimizer, criterion, NUM_EPOCHS, DEVICE, \n",
    "                save_checkpoint_interval=10, checkpoint_dir=CHECKPOINTS_PATH, \n",
    "                model_name=\"CNN_LSTM\", early_stopping_patience=10, cnn=False)\n",
    "    evaluate_model(model, test_loader, dataset, DEVICE, img_path='../plots', run_name=run_name)\n",
    "\n",
    "    # Log the model\n",
    "    mlflow.pytorch.log_model(model, \"model_CNN_LSTM\")"
   ]
  },
  {
   "cell_type": "markdown",
   "metadata": {},
   "source": [
    "# Parallel CNN LSTM"
   ]
  },
  {
   "cell_type": "code",
   "execution_count": 8,
   "metadata": {},
   "outputs": [],
   "source": [
    "train_loader, test_loader, dataset = get_loaders(data_dir=DATA_DIR, batch_size=BATCH_SIZE, num_workers=NUM_WORKERS,\n",
    "                                        pin_memory=PIN_MEMORY, test_size=0.2, seq_length=SEQ_LENGTH, model_type=\"cnn\")"
   ]
  },
  {
   "cell_type": "code",
   "execution_count": 21,
   "metadata": {},
   "outputs": [
    {
     "name": "stdout",
     "output_type": "stream",
     "text": [
      "Model size: 627.849 MB\n"
     ]
    },
    {
     "data": {
      "text/plain": [
       "ParallelCNNLSTMModel(\n",
       "  (cnn_head): CNN_Head(\n",
       "    (conv_layers): ModuleList(\n",
       "      (0): Conv1d(1, 64, kernel_size=(3,), stride=(1,), padding=(1,))\n",
       "      (1): Conv1d(64, 128, kernel_size=(3,), stride=(1,), padding=(1,))\n",
       "      (2): Conv1d(128, 256, kernel_size=(3,), stride=(1,), padding=(1,))\n",
       "      (3): Conv1d(256, 512, kernel_size=(3,), stride=(1,), padding=(1,))\n",
       "    )\n",
       "    (bn_layers): ModuleList(\n",
       "      (0): BatchNorm1d(64, eps=1e-05, momentum=0.1, affine=True, track_running_stats=True)\n",
       "      (1): BatchNorm1d(128, eps=1e-05, momentum=0.1, affine=True, track_running_stats=True)\n",
       "      (2): BatchNorm1d(256, eps=1e-05, momentum=0.1, affine=True, track_running_stats=True)\n",
       "      (3): BatchNorm1d(512, eps=1e-05, momentum=0.1, affine=True, track_running_stats=True)\n",
       "    )\n",
       "    (activation): ReLU()\n",
       "    (dropout): Dropout(p=0.3, inplace=False)\n",
       "    (maxpool): MaxPool1d(kernel_size=2, stride=2, padding=0, dilation=1, ceil_mode=False)\n",
       "  )\n",
       "  (lstm): LSTM(1, 64, num_layers=3, batch_first=True)\n",
       "  (fc_lstm): Linear(in_features=64, out_features=128, bias=True)\n",
       "  (fc_layers): ModuleList(\n",
       "    (0): Linear(in_features=159872, out_features=1024, bias=True)\n",
       "    (1): Linear(in_features=1024, out_features=256, bias=True)\n",
       "  )\n",
       "  (output_layer): Linear(in_features=256, out_features=5, bias=True)\n",
       "  (dropout): Dropout(p=0.3, inplace=False)\n",
       "  (activation): ReLU()\n",
       ")"
      ]
     },
     "execution_count": 21,
     "metadata": {},
     "output_type": "execute_result"
    }
   ],
   "source": [
    "model = ParallelCNNLSTMModel(input_size=SEQ_LENGTH, \n",
    "                            num_classes=NUM_CLASSES,\n",
    "                            input_size_lstm=1,\n",
    "                            # conv_filters=[64,128,256],\n",
    "                            # fc_neurons=[1024,128],\n",
    "                            # lstm_hidden_size=64,\n",
    "                            lstm_num_layers=3\n",
    "                        ).to(DEVICE)\n",
    "print(f'Model size: {get_model_size(model):.3f} MB')\n",
    "model"
   ]
  },
  {
   "cell_type": "code",
   "execution_count": 10,
   "metadata": {},
   "outputs": [],
   "source": [
    "optimizer = optim.Adam(model.parameters(), lr = LEARNING_RATE)\n",
    "criterion =  nn.CrossEntropyLoss() "
   ]
  },
  {
   "cell_type": "code",
   "execution_count": 11,
   "metadata": {},
   "outputs": [
    {
     "data": {
      "text/plain": [
       "<Experiment: artifact_location='mlflow-artifacts:/9', creation_time=1716795170067, experiment_id='9', last_update_time=1716795170067, lifecycle_stage='active', name='IEEG_Classification_Arch_CNN_Hybrid', tags={}>"
      ]
     },
     "execution_count": 11,
     "metadata": {},
     "output_type": "execute_result"
    }
   ],
   "source": [
    "mlflow.set_experiment(EXPERIMENT_NAME)"
   ]
  },
  {
   "cell_type": "code",
   "execution_count": 12,
   "metadata": {},
   "outputs": [
    {
     "name": "stderr",
     "output_type": "stream",
     "text": [
      "2024/05/27 02:39:53 INFO mlflow.system_metrics.system_metrics_monitor: Started monitoring system metrics.\n"
     ]
    },
    {
     "data": {
      "application/vnd.jupyter.widget-view+json": {
       "model_id": "ac15099e0fad46138183605baf227c62",
       "version_major": 2,
       "version_minor": 0
      },
      "text/plain": [
       "Epoch 1/50:   0%|          | 0/164 [00:00<?, ?batch/s]"
      ]
     },
     "metadata": {},
     "output_type": "display_data"
    },
    {
     "data": {
      "application/vnd.jupyter.widget-view+json": {
       "model_id": "111af4dec956424d8b17e71e7bfb379d",
       "version_major": 2,
       "version_minor": 0
      },
      "text/plain": [
       "Epoch 2/50:   0%|          | 0/164 [00:00<?, ?batch/s]"
      ]
     },
     "metadata": {},
     "output_type": "display_data"
    },
    {
     "data": {
      "application/vnd.jupyter.widget-view+json": {
       "model_id": "ccbcb221c58145288010b5d39818d6c3",
       "version_major": 2,
       "version_minor": 0
      },
      "text/plain": [
       "Epoch 3/50:   0%|          | 0/164 [00:00<?, ?batch/s]"
      ]
     },
     "metadata": {},
     "output_type": "display_data"
    },
    {
     "data": {
      "application/vnd.jupyter.widget-view+json": {
       "model_id": "389ca3b487c442a28da5016af640c685",
       "version_major": 2,
       "version_minor": 0
      },
      "text/plain": [
       "Epoch 4/50:   0%|          | 0/164 [00:00<?, ?batch/s]"
      ]
     },
     "metadata": {},
     "output_type": "display_data"
    },
    {
     "data": {
      "application/vnd.jupyter.widget-view+json": {
       "model_id": "3019978855c7491893b1d90769a4b227",
       "version_major": 2,
       "version_minor": 0
      },
      "text/plain": [
       "Epoch 5/50:   0%|          | 0/164 [00:00<?, ?batch/s]"
      ]
     },
     "metadata": {},
     "output_type": "display_data"
    },
    {
     "data": {
      "application/vnd.jupyter.widget-view+json": {
       "model_id": "b859a6c6602448cea0808c37b1a9875b",
       "version_major": 2,
       "version_minor": 0
      },
      "text/plain": [
       "Epoch 6/50:   0%|          | 0/164 [00:00<?, ?batch/s]"
      ]
     },
     "metadata": {},
     "output_type": "display_data"
    },
    {
     "data": {
      "application/vnd.jupyter.widget-view+json": {
       "model_id": "c6aee062b5d04cfc81f2e73923d11344",
       "version_major": 2,
       "version_minor": 0
      },
      "text/plain": [
       "Epoch 7/50:   0%|          | 0/164 [00:00<?, ?batch/s]"
      ]
     },
     "metadata": {},
     "output_type": "display_data"
    },
    {
     "data": {
      "application/vnd.jupyter.widget-view+json": {
       "model_id": "6443bb4e4327462db78a0fcf2b2ac523",
       "version_major": 2,
       "version_minor": 0
      },
      "text/plain": [
       "Epoch 8/50:   0%|          | 0/164 [00:00<?, ?batch/s]"
      ]
     },
     "metadata": {},
     "output_type": "display_data"
    },
    {
     "data": {
      "application/vnd.jupyter.widget-view+json": {
       "model_id": "c081b62f6501439baab0c46f6a12cac9",
       "version_major": 2,
       "version_minor": 0
      },
      "text/plain": [
       "Epoch 9/50:   0%|          | 0/164 [00:00<?, ?batch/s]"
      ]
     },
     "metadata": {},
     "output_type": "display_data"
    },
    {
     "data": {
      "application/vnd.jupyter.widget-view+json": {
       "model_id": "451d09f6745d4e819400a3e222c6fa0c",
       "version_major": 2,
       "version_minor": 0
      },
      "text/plain": [
       "Epoch 10/50:   0%|          | 0/164 [00:00<?, ?batch/s]"
      ]
     },
     "metadata": {},
     "output_type": "display_data"
    },
    {
     "name": "stdout",
     "output_type": "stream",
     "text": [
      "Checkpoint saved successfully.\n"
     ]
    },
    {
     "data": {
      "application/vnd.jupyter.widget-view+json": {
       "model_id": "ba632f0458f44474a06398473650c662",
       "version_major": 2,
       "version_minor": 0
      },
      "text/plain": [
       "Epoch 11/50:   0%|          | 0/164 [00:00<?, ?batch/s]"
      ]
     },
     "metadata": {},
     "output_type": "display_data"
    },
    {
     "data": {
      "application/vnd.jupyter.widget-view+json": {
       "model_id": "f6a8702406ba420299125d4a76bc84bb",
       "version_major": 2,
       "version_minor": 0
      },
      "text/plain": [
       "Epoch 12/50:   0%|          | 0/164 [00:00<?, ?batch/s]"
      ]
     },
     "metadata": {},
     "output_type": "display_data"
    },
    {
     "data": {
      "application/vnd.jupyter.widget-view+json": {
       "model_id": "c37d74b268574f12ba0ed5552347c679",
       "version_major": 2,
       "version_minor": 0
      },
      "text/plain": [
       "Epoch 13/50:   0%|          | 0/164 [00:00<?, ?batch/s]"
      ]
     },
     "metadata": {},
     "output_type": "display_data"
    },
    {
     "data": {
      "application/vnd.jupyter.widget-view+json": {
       "model_id": "b5b431d466974973bc7cc671381bb2d9",
       "version_major": 2,
       "version_minor": 0
      },
      "text/plain": [
       "Epoch 14/50:   0%|          | 0/164 [00:00<?, ?batch/s]"
      ]
     },
     "metadata": {},
     "output_type": "display_data"
    },
    {
     "data": {
      "application/vnd.jupyter.widget-view+json": {
       "model_id": "1c3e409001ba4f108c02edd1ba923a9d",
       "version_major": 2,
       "version_minor": 0
      },
      "text/plain": [
       "Epoch 15/50:   0%|          | 0/164 [00:00<?, ?batch/s]"
      ]
     },
     "metadata": {},
     "output_type": "display_data"
    },
    {
     "data": {
      "application/vnd.jupyter.widget-view+json": {
       "model_id": "4e1c35a8e01d474fa2772c4029a4c5ec",
       "version_major": 2,
       "version_minor": 0
      },
      "text/plain": [
       "Epoch 16/50:   0%|          | 0/164 [00:00<?, ?batch/s]"
      ]
     },
     "metadata": {},
     "output_type": "display_data"
    },
    {
     "data": {
      "application/vnd.jupyter.widget-view+json": {
       "model_id": "d71181219121421daa68f92fc6231977",
       "version_major": 2,
       "version_minor": 0
      },
      "text/plain": [
       "Epoch 17/50:   0%|          | 0/164 [00:00<?, ?batch/s]"
      ]
     },
     "metadata": {},
     "output_type": "display_data"
    },
    {
     "data": {
      "application/vnd.jupyter.widget-view+json": {
       "model_id": "03c57d858f2f413bbf155fe3c57f23e8",
       "version_major": 2,
       "version_minor": 0
      },
      "text/plain": [
       "Epoch 18/50:   0%|          | 0/164 [00:00<?, ?batch/s]"
      ]
     },
     "metadata": {},
     "output_type": "display_data"
    },
    {
     "data": {
      "application/vnd.jupyter.widget-view+json": {
       "model_id": "f107a53a415a437bb48f802595ab9852",
       "version_major": 2,
       "version_minor": 0
      },
      "text/plain": [
       "Epoch 19/50:   0%|          | 0/164 [00:00<?, ?batch/s]"
      ]
     },
     "metadata": {},
     "output_type": "display_data"
    },
    {
     "data": {
      "application/vnd.jupyter.widget-view+json": {
       "model_id": "2798085076f544b6b6da108599842da3",
       "version_major": 2,
       "version_minor": 0
      },
      "text/plain": [
       "Epoch 20/50:   0%|          | 0/164 [00:00<?, ?batch/s]"
      ]
     },
     "metadata": {},
     "output_type": "display_data"
    },
    {
     "name": "stdout",
     "output_type": "stream",
     "text": [
      "Checkpoint saved successfully.\n"
     ]
    },
    {
     "data": {
      "application/vnd.jupyter.widget-view+json": {
       "model_id": "6a71f45266ce44349f82bb11869319ab",
       "version_major": 2,
       "version_minor": 0
      },
      "text/plain": [
       "Epoch 21/50:   0%|          | 0/164 [00:00<?, ?batch/s]"
      ]
     },
     "metadata": {},
     "output_type": "display_data"
    },
    {
     "data": {
      "application/vnd.jupyter.widget-view+json": {
       "model_id": "e4968d56376647fc889d797b9455229d",
       "version_major": 2,
       "version_minor": 0
      },
      "text/plain": [
       "Epoch 22/50:   0%|          | 0/164 [00:00<?, ?batch/s]"
      ]
     },
     "metadata": {},
     "output_type": "display_data"
    },
    {
     "data": {
      "application/vnd.jupyter.widget-view+json": {
       "model_id": "8b43c60a17cb40f2930aab050aea2bda",
       "version_major": 2,
       "version_minor": 0
      },
      "text/plain": [
       "Epoch 23/50:   0%|          | 0/164 [00:00<?, ?batch/s]"
      ]
     },
     "metadata": {},
     "output_type": "display_data"
    },
    {
     "data": {
      "application/vnd.jupyter.widget-view+json": {
       "model_id": "e3cccf8eb54d4f8d82760096ece4995c",
       "version_major": 2,
       "version_minor": 0
      },
      "text/plain": [
       "Epoch 24/50:   0%|          | 0/164 [00:00<?, ?batch/s]"
      ]
     },
     "metadata": {},
     "output_type": "display_data"
    },
    {
     "data": {
      "application/vnd.jupyter.widget-view+json": {
       "model_id": "fa52af765788455998e93372012ae42c",
       "version_major": 2,
       "version_minor": 0
      },
      "text/plain": [
       "Epoch 25/50:   0%|          | 0/164 [00:00<?, ?batch/s]"
      ]
     },
     "metadata": {},
     "output_type": "display_data"
    },
    {
     "data": {
      "application/vnd.jupyter.widget-view+json": {
       "model_id": "f70e614149ea4b26b4e6273bb18a2d61",
       "version_major": 2,
       "version_minor": 0
      },
      "text/plain": [
       "Epoch 26/50:   0%|          | 0/164 [00:00<?, ?batch/s]"
      ]
     },
     "metadata": {},
     "output_type": "display_data"
    },
    {
     "data": {
      "application/vnd.jupyter.widget-view+json": {
       "model_id": "eafa127ecc674998a664cb68cbe00cdd",
       "version_major": 2,
       "version_minor": 0
      },
      "text/plain": [
       "Epoch 27/50:   0%|          | 0/164 [00:00<?, ?batch/s]"
      ]
     },
     "metadata": {},
     "output_type": "display_data"
    },
    {
     "data": {
      "application/vnd.jupyter.widget-view+json": {
       "model_id": "8c26f36c34104808a09c05476f36455b",
       "version_major": 2,
       "version_minor": 0
      },
      "text/plain": [
       "Epoch 28/50:   0%|          | 0/164 [00:00<?, ?batch/s]"
      ]
     },
     "metadata": {},
     "output_type": "display_data"
    },
    {
     "data": {
      "application/vnd.jupyter.widget-view+json": {
       "model_id": "2043599b83d9455d98aeb7f29a2967bb",
       "version_major": 2,
       "version_minor": 0
      },
      "text/plain": [
       "Epoch 29/50:   0%|          | 0/164 [00:00<?, ?batch/s]"
      ]
     },
     "metadata": {},
     "output_type": "display_data"
    },
    {
     "data": {
      "application/vnd.jupyter.widget-view+json": {
       "model_id": "df120e593f824637917e66c73d2cb88b",
       "version_major": 2,
       "version_minor": 0
      },
      "text/plain": [
       "Epoch 30/50:   0%|          | 0/164 [00:00<?, ?batch/s]"
      ]
     },
     "metadata": {},
     "output_type": "display_data"
    },
    {
     "name": "stdout",
     "output_type": "stream",
     "text": [
      "Checkpoint saved successfully.\n"
     ]
    },
    {
     "data": {
      "application/vnd.jupyter.widget-view+json": {
       "model_id": "595c1c7466464ffaa4538ca92200e9a9",
       "version_major": 2,
       "version_minor": 0
      },
      "text/plain": [
       "Epoch 31/50:   0%|          | 0/164 [00:00<?, ?batch/s]"
      ]
     },
     "metadata": {},
     "output_type": "display_data"
    },
    {
     "data": {
      "application/vnd.jupyter.widget-view+json": {
       "model_id": "9e2495f1e4864badb12fc03c5647d8fc",
       "version_major": 2,
       "version_minor": 0
      },
      "text/plain": [
       "Epoch 32/50:   0%|          | 0/164 [00:00<?, ?batch/s]"
      ]
     },
     "metadata": {},
     "output_type": "display_data"
    },
    {
     "data": {
      "application/vnd.jupyter.widget-view+json": {
       "model_id": "4524e34d671c4711b53e6c99d5bf38ad",
       "version_major": 2,
       "version_minor": 0
      },
      "text/plain": [
       "Epoch 33/50:   0%|          | 0/164 [00:00<?, ?batch/s]"
      ]
     },
     "metadata": {},
     "output_type": "display_data"
    },
    {
     "data": {
      "application/vnd.jupyter.widget-view+json": {
       "model_id": "03b7cb75bbfc4680b93e84378102b263",
       "version_major": 2,
       "version_minor": 0
      },
      "text/plain": [
       "Epoch 34/50:   0%|          | 0/164 [00:00<?, ?batch/s]"
      ]
     },
     "metadata": {},
     "output_type": "display_data"
    },
    {
     "data": {
      "application/vnd.jupyter.widget-view+json": {
       "model_id": "406292a372e645a095b796aad022406d",
       "version_major": 2,
       "version_minor": 0
      },
      "text/plain": [
       "Epoch 35/50:   0%|          | 0/164 [00:00<?, ?batch/s]"
      ]
     },
     "metadata": {},
     "output_type": "display_data"
    },
    {
     "data": {
      "application/vnd.jupyter.widget-view+json": {
       "model_id": "52597459e6cc4b1bb66eb39a06b3cc65",
       "version_major": 2,
       "version_minor": 0
      },
      "text/plain": [
       "Epoch 36/50:   0%|          | 0/164 [00:00<?, ?batch/s]"
      ]
     },
     "metadata": {},
     "output_type": "display_data"
    },
    {
     "data": {
      "application/vnd.jupyter.widget-view+json": {
       "model_id": "1c037e17800c437598e874b631329980",
       "version_major": 2,
       "version_minor": 0
      },
      "text/plain": [
       "Epoch 37/50:   0%|          | 0/164 [00:00<?, ?batch/s]"
      ]
     },
     "metadata": {},
     "output_type": "display_data"
    },
    {
     "data": {
      "application/vnd.jupyter.widget-view+json": {
       "model_id": "e3023abeb92a4c3394d79d65e118c2bf",
       "version_major": 2,
       "version_minor": 0
      },
      "text/plain": [
       "Epoch 38/50:   0%|          | 0/164 [00:00<?, ?batch/s]"
      ]
     },
     "metadata": {},
     "output_type": "display_data"
    },
    {
     "data": {
      "application/vnd.jupyter.widget-view+json": {
       "model_id": "a034d8b6ae614360b7b63e5c02a3dbfe",
       "version_major": 2,
       "version_minor": 0
      },
      "text/plain": [
       "Epoch 39/50:   0%|          | 0/164 [00:00<?, ?batch/s]"
      ]
     },
     "metadata": {},
     "output_type": "display_data"
    },
    {
     "data": {
      "application/vnd.jupyter.widget-view+json": {
       "model_id": "405dd479ac99454ebcf5e83c333500a4",
       "version_major": 2,
       "version_minor": 0
      },
      "text/plain": [
       "Epoch 40/50:   0%|          | 0/164 [00:00<?, ?batch/s]"
      ]
     },
     "metadata": {},
     "output_type": "display_data"
    },
    {
     "name": "stdout",
     "output_type": "stream",
     "text": [
      "Checkpoint saved successfully.\n"
     ]
    },
    {
     "data": {
      "application/vnd.jupyter.widget-view+json": {
       "model_id": "40df1f58bd6d433bb02e6ebc0fe1b61c",
       "version_major": 2,
       "version_minor": 0
      },
      "text/plain": [
       "Epoch 41/50:   0%|          | 0/164 [00:00<?, ?batch/s]"
      ]
     },
     "metadata": {},
     "output_type": "display_data"
    },
    {
     "data": {
      "application/vnd.jupyter.widget-view+json": {
       "model_id": "de11cc7e08da4a24b59bef38b747859f",
       "version_major": 2,
       "version_minor": 0
      },
      "text/plain": [
       "Epoch 42/50:   0%|          | 0/164 [00:00<?, ?batch/s]"
      ]
     },
     "metadata": {},
     "output_type": "display_data"
    },
    {
     "data": {
      "application/vnd.jupyter.widget-view+json": {
       "model_id": "d4dec1ef7b654be29ae1a7c723702e55",
       "version_major": 2,
       "version_minor": 0
      },
      "text/plain": [
       "Epoch 43/50:   0%|          | 0/164 [00:00<?, ?batch/s]"
      ]
     },
     "metadata": {},
     "output_type": "display_data"
    },
    {
     "data": {
      "application/vnd.jupyter.widget-view+json": {
       "model_id": "d0ed554964f64c29a3235e4be709f2f7",
       "version_major": 2,
       "version_minor": 0
      },
      "text/plain": [
       "Epoch 44/50:   0%|          | 0/164 [00:00<?, ?batch/s]"
      ]
     },
     "metadata": {},
     "output_type": "display_data"
    },
    {
     "data": {
      "application/vnd.jupyter.widget-view+json": {
       "model_id": "6161744041c74ba9bb3f1b90b0335ed6",
       "version_major": 2,
       "version_minor": 0
      },
      "text/plain": [
       "Epoch 45/50:   0%|          | 0/164 [00:00<?, ?batch/s]"
      ]
     },
     "metadata": {},
     "output_type": "display_data"
    },
    {
     "data": {
      "application/vnd.jupyter.widget-view+json": {
       "model_id": "51fd5d97e7fd4476a18570e34485684a",
       "version_major": 2,
       "version_minor": 0
      },
      "text/plain": [
       "Epoch 46/50:   0%|          | 0/164 [00:00<?, ?batch/s]"
      ]
     },
     "metadata": {},
     "output_type": "display_data"
    },
    {
     "data": {
      "application/vnd.jupyter.widget-view+json": {
       "model_id": "b70eb1c7e31b460e962865176f2c5874",
       "version_major": 2,
       "version_minor": 0
      },
      "text/plain": [
       "Epoch 47/50:   0%|          | 0/164 [00:00<?, ?batch/s]"
      ]
     },
     "metadata": {},
     "output_type": "display_data"
    },
    {
     "data": {
      "application/vnd.jupyter.widget-view+json": {
       "model_id": "57a52c7937bf4484819420713da25249",
       "version_major": 2,
       "version_minor": 0
      },
      "text/plain": [
       "Epoch 48/50:   0%|          | 0/164 [00:00<?, ?batch/s]"
      ]
     },
     "metadata": {},
     "output_type": "display_data"
    },
    {
     "data": {
      "application/vnd.jupyter.widget-view+json": {
       "model_id": "360d277fddef43078159d0b4113e08a8",
       "version_major": 2,
       "version_minor": 0
      },
      "text/plain": [
       "Epoch 49/50:   0%|          | 0/164 [00:00<?, ?batch/s]"
      ]
     },
     "metadata": {},
     "output_type": "display_data"
    },
    {
     "data": {
      "application/vnd.jupyter.widget-view+json": {
       "model_id": "1cf6f20d7d7e46f6abcf76fb26598b22",
       "version_major": 2,
       "version_minor": 0
      },
      "text/plain": [
       "Epoch 50/50:   0%|          | 0/164 [00:00<?, ?batch/s]"
      ]
     },
     "metadata": {},
     "output_type": "display_data"
    },
    {
     "name": "stdout",
     "output_type": "stream",
     "text": [
      "Checkpoint saved successfully.\n"
     ]
    },
    {
     "data": {
      "application/vnd.jupyter.widget-view+json": {
       "model_id": "c02573113df24337a53c4e1b8db01422",
       "version_major": 2,
       "version_minor": 0
      },
      "text/plain": [
       "Evaluating:   0%|          | 0/41 [00:00<?, ?batch/s]"
      ]
     },
     "metadata": {},
     "output_type": "display_data"
    },
    {
     "name": "stderr",
     "output_type": "stream",
     "text": [
      "/home/danielcrovo/anaconda3/envs/ieeg/lib/python3.12/site-packages/torch/nn/modules/conv.py:306: UserWarning: Plan failed with a cudnnException: CUDNN_BACKEND_EXECUTION_PLAN_DESCRIPTOR: cudnnFinalize Descriptor Failed cudnn_status: CUDNN_STATUS_NOT_SUPPORTED (Triggered internally at ../aten/src/ATen/native/cudnn/Conv_v8.cpp:919.)\n",
      "  return F.conv1d(input, weight, bias, self.stride,\n"
     ]
    },
    {
     "name": "stdout",
     "output_type": "stream",
     "text": [
      "Accuracy of the model on the test data: 0.95%\n",
      "Precision: 0.9488, Recall: 0.9470, F1 Score: 0.9462\n"
     ]
    },
    {
     "name": "stderr",
     "output_type": "stream",
     "text": [
      "2024/05/27 03:04:53 INFO mlflow.system_metrics.system_metrics_monitor: Stopping system metrics monitoring...\n",
      "2024/05/27 03:04:53 INFO mlflow.system_metrics.system_metrics_monitor: Successfully terminated system metrics monitoring!\n"
     ]
    }
   ],
   "source": [
    "\n",
    "# Train and Evaluate the Model with MLflow\n",
    "run_name = \"P_CNN_LSTM_Experiment\"\n",
    "with mlflow.start_run(run_name=run_name) as run:\n",
    "    # Log parameters\n",
    "    mlflow.log_param(\"epochs\", NUM_EPOCHS)\n",
    "    mlflow.log_param(\"batch_size\", BATCH_SIZE)\n",
    "    mlflow.log_param(\"learning_rate\", LEARNING_RATE)\n",
    "    mlflow.log_param(\"model\", \"P_CNN_LSTM\")\n",
    "    mlflow.log_param(\"input_size\", SEQ_LENGTH)\n",
    "    mlflow.log_param(\"num_classes\", NUM_CLASSES)\n",
    "    mlflow.log_dict(dataset.get_class_mapping(), \"class_mapping.json\")\n",
    "\n",
    "    # Train and Evaluate the Model\n",
    "    train_model(model, train_loader, optimizer, criterion, NUM_EPOCHS, DEVICE, \n",
    "                save_checkpoint_interval=10, checkpoint_dir=CHECKPOINTS_PATH, \n",
    "                model_name=\"P_CNN_LSTM\", early_stopping_patience=10, cnn=False)\n",
    "    evaluate_model(model, test_loader, dataset, DEVICE, img_path='../plots', run_name=run_name)\n",
    "\n",
    "    # Log the model\n",
    "    mlflow.pytorch.log_model(model, \"model_P_CNN_LSTM\")"
   ]
  },
  {
   "cell_type": "markdown",
   "metadata": {},
   "source": [
    "# LSTM + CNN"
   ]
  },
  {
   "cell_type": "code",
   "execution_count": 9,
   "metadata": {},
   "outputs": [],
   "source": [
    "train_loader, test_loader, dataset = get_loaders(data_dir=DATA_DIR, batch_size=BATCH_SIZE, num_workers=NUM_WORKERS,\n",
    "                                        pin_memory=PIN_MEMORY, test_size=0.2, seq_length=SEQ_LENGTH, model_type=\"seq\")"
   ]
  },
  {
   "cell_type": "code",
   "execution_count": 22,
   "metadata": {},
   "outputs": [
    {
     "name": "stdout",
     "output_type": "stream",
     "text": [
      "Model size: 627.475 MB\n"
     ]
    },
    {
     "data": {
      "text/plain": [
       "LSTM_CNN(\n",
       "  (lstm): LSTM(1, 64, num_layers=4, batch_first=True)\n",
       "  (cnn): Sequential(\n",
       "    (0): Conv1d(64, 64, kernel_size=(3,), stride=(1,), padding=(1,))\n",
       "    (1): ReLU()\n",
       "    (2): MaxPool1d(kernel_size=2, stride=2, padding=0, dilation=1, ceil_mode=False)\n",
       "    (3): Conv1d(64, 128, kernel_size=(3,), stride=(1,), padding=(1,))\n",
       "    (4): ReLU()\n",
       "    (5): MaxPool1d(kernel_size=2, stride=2, padding=0, dilation=1, ceil_mode=False)\n",
       "    (6): Conv1d(128, 256, kernel_size=(3,), stride=(1,), padding=(1,))\n",
       "    (7): ReLU()\n",
       "    (8): MaxPool1d(kernel_size=2, stride=2, padding=0, dilation=1, ceil_mode=False)\n",
       "    (9): Conv1d(256, 512, kernel_size=(3,), stride=(1,), padding=(1,))\n",
       "    (10): ReLU()\n",
       "    (11): MaxPool1d(kernel_size=2, stride=2, padding=0, dilation=1, ceil_mode=False)\n",
       "  )\n",
       "  (flatten): Flatten(start_dim=1, end_dim=-1)\n",
       "  (fc): Sequential(\n",
       "    (0): Linear(in_features=159744, out_features=1024, bias=True)\n",
       "    (1): ReLU()\n",
       "    (2): Dropout(p=0.3, inplace=False)\n",
       "    (3): Linear(in_features=1024, out_features=256, bias=True)\n",
       "    (4): ReLU()\n",
       "    (5): Dropout(p=0.3, inplace=False)\n",
       "    (6): Linear(in_features=256, out_features=5, bias=True)\n",
       "  )\n",
       "  (dropout): Dropout(p=0.3, inplace=False)\n",
       "  (activation): ReLU()\n",
       ")"
      ]
     },
     "execution_count": 22,
     "metadata": {},
     "output_type": "execute_result"
    }
   ],
   "source": [
    "model = LSTM_CNN(input_size=1,\n",
    "                   seq_length=SEQ_LENGTH, \n",
    "                 hidden_size=64,\n",
    "                 num_layers=4, \n",
    "                num_classes=NUM_CLASSES,\n",
    "                ).to(DEVICE)\n",
    "print(f'Model size: {get_model_size(model):.3f} MB')\n",
    "model"
   ]
  },
  {
   "cell_type": "code",
   "execution_count": 11,
   "metadata": {},
   "outputs": [],
   "source": [
    "optimizer = optim.Adam(model.parameters(), lr = LEARNING_RATE)\n",
    "criterion =  nn.CrossEntropyLoss() "
   ]
  },
  {
   "cell_type": "code",
   "execution_count": 12,
   "metadata": {},
   "outputs": [
    {
     "data": {
      "text/plain": [
       "<Experiment: artifact_location='mlflow-artifacts:/9', creation_time=1716795170067, experiment_id='9', last_update_time=1716795170067, lifecycle_stage='active', name='IEEG_Classification_Arch_CNN_Hybrid', tags={}>"
      ]
     },
     "execution_count": 12,
     "metadata": {},
     "output_type": "execute_result"
    }
   ],
   "source": [
    "mlflow.set_experiment(EXPERIMENT_NAME)"
   ]
  },
  {
   "cell_type": "code",
   "execution_count": 13,
   "metadata": {},
   "outputs": [
    {
     "name": "stderr",
     "output_type": "stream",
     "text": [
      "2024/05/27 03:26:48 INFO mlflow.system_metrics.system_metrics_monitor: Started monitoring system metrics.\n"
     ]
    },
    {
     "data": {
      "application/vnd.jupyter.widget-view+json": {
       "model_id": "18b7aab2860140b1b32f37762377c541",
       "version_major": 2,
       "version_minor": 0
      },
      "text/plain": [
       "Epoch 1/50:   0%|          | 0/164 [00:00<?, ?batch/s]"
      ]
     },
     "metadata": {},
     "output_type": "display_data"
    },
    {
     "data": {
      "application/vnd.jupyter.widget-view+json": {
       "model_id": "ce8a8d950b684b6395817ec1136d671d",
       "version_major": 2,
       "version_minor": 0
      },
      "text/plain": [
       "Epoch 2/50:   0%|          | 0/164 [00:00<?, ?batch/s]"
      ]
     },
     "metadata": {},
     "output_type": "display_data"
    },
    {
     "data": {
      "application/vnd.jupyter.widget-view+json": {
       "model_id": "92e4241e64134ff88cb18eb7a409bfa3",
       "version_major": 2,
       "version_minor": 0
      },
      "text/plain": [
       "Epoch 3/50:   0%|          | 0/164 [00:00<?, ?batch/s]"
      ]
     },
     "metadata": {},
     "output_type": "display_data"
    },
    {
     "data": {
      "application/vnd.jupyter.widget-view+json": {
       "model_id": "5681e964369b4f0290646f5ca7574b92",
       "version_major": 2,
       "version_minor": 0
      },
      "text/plain": [
       "Epoch 4/50:   0%|          | 0/164 [00:00<?, ?batch/s]"
      ]
     },
     "metadata": {},
     "output_type": "display_data"
    },
    {
     "data": {
      "application/vnd.jupyter.widget-view+json": {
       "model_id": "b8199cebac7b4b6493df6d61f7f8a9d8",
       "version_major": 2,
       "version_minor": 0
      },
      "text/plain": [
       "Epoch 5/50:   0%|          | 0/164 [00:00<?, ?batch/s]"
      ]
     },
     "metadata": {},
     "output_type": "display_data"
    },
    {
     "data": {
      "application/vnd.jupyter.widget-view+json": {
       "model_id": "cd105a6fdbe34d1ab99d8de982d2d51b",
       "version_major": 2,
       "version_minor": 0
      },
      "text/plain": [
       "Epoch 6/50:   0%|          | 0/164 [00:00<?, ?batch/s]"
      ]
     },
     "metadata": {},
     "output_type": "display_data"
    },
    {
     "data": {
      "application/vnd.jupyter.widget-view+json": {
       "model_id": "93b8e3a772f442f1bf214a33b520c972",
       "version_major": 2,
       "version_minor": 0
      },
      "text/plain": [
       "Epoch 7/50:   0%|          | 0/164 [00:00<?, ?batch/s]"
      ]
     },
     "metadata": {},
     "output_type": "display_data"
    },
    {
     "data": {
      "application/vnd.jupyter.widget-view+json": {
       "model_id": "5a086e6f7d1d43d0a306feb7aebc378f",
       "version_major": 2,
       "version_minor": 0
      },
      "text/plain": [
       "Epoch 8/50:   0%|          | 0/164 [00:00<?, ?batch/s]"
      ]
     },
     "metadata": {},
     "output_type": "display_data"
    },
    {
     "data": {
      "application/vnd.jupyter.widget-view+json": {
       "model_id": "766b4ea6a26e401b9707263f67ef6db7",
       "version_major": 2,
       "version_minor": 0
      },
      "text/plain": [
       "Epoch 9/50:   0%|          | 0/164 [00:00<?, ?batch/s]"
      ]
     },
     "metadata": {},
     "output_type": "display_data"
    },
    {
     "data": {
      "application/vnd.jupyter.widget-view+json": {
       "model_id": "5a4b1fd252224f6f934debec1e742487",
       "version_major": 2,
       "version_minor": 0
      },
      "text/plain": [
       "Epoch 10/50:   0%|          | 0/164 [00:00<?, ?batch/s]"
      ]
     },
     "metadata": {},
     "output_type": "display_data"
    },
    {
     "name": "stdout",
     "output_type": "stream",
     "text": [
      "Checkpoint saved successfully.\n"
     ]
    },
    {
     "data": {
      "application/vnd.jupyter.widget-view+json": {
       "model_id": "9a734a30a3214d56b44d91adfb1e96a5",
       "version_major": 2,
       "version_minor": 0
      },
      "text/plain": [
       "Epoch 11/50:   0%|          | 0/164 [00:00<?, ?batch/s]"
      ]
     },
     "metadata": {},
     "output_type": "display_data"
    },
    {
     "data": {
      "application/vnd.jupyter.widget-view+json": {
       "model_id": "72198d1656914e949b7721b4b104bab3",
       "version_major": 2,
       "version_minor": 0
      },
      "text/plain": [
       "Epoch 12/50:   0%|          | 0/164 [00:00<?, ?batch/s]"
      ]
     },
     "metadata": {},
     "output_type": "display_data"
    },
    {
     "data": {
      "application/vnd.jupyter.widget-view+json": {
       "model_id": "3a3c92622f4a408c8882546617770122",
       "version_major": 2,
       "version_minor": 0
      },
      "text/plain": [
       "Epoch 13/50:   0%|          | 0/164 [00:00<?, ?batch/s]"
      ]
     },
     "metadata": {},
     "output_type": "display_data"
    },
    {
     "data": {
      "application/vnd.jupyter.widget-view+json": {
       "model_id": "793e5075c24a41e8b6ab157d4b3b47af",
       "version_major": 2,
       "version_minor": 0
      },
      "text/plain": [
       "Epoch 14/50:   0%|          | 0/164 [00:00<?, ?batch/s]"
      ]
     },
     "metadata": {},
     "output_type": "display_data"
    },
    {
     "data": {
      "application/vnd.jupyter.widget-view+json": {
       "model_id": "81f78a10ecd04ff8bd5fbc9a1643b7de",
       "version_major": 2,
       "version_minor": 0
      },
      "text/plain": [
       "Epoch 15/50:   0%|          | 0/164 [00:00<?, ?batch/s]"
      ]
     },
     "metadata": {},
     "output_type": "display_data"
    },
    {
     "data": {
      "application/vnd.jupyter.widget-view+json": {
       "model_id": "37331617ac774cfe87d05dba66c3b0ea",
       "version_major": 2,
       "version_minor": 0
      },
      "text/plain": [
       "Epoch 16/50:   0%|          | 0/164 [00:00<?, ?batch/s]"
      ]
     },
     "metadata": {},
     "output_type": "display_data"
    },
    {
     "data": {
      "application/vnd.jupyter.widget-view+json": {
       "model_id": "28a55abcd65b4886baf212ae2bf51a2e",
       "version_major": 2,
       "version_minor": 0
      },
      "text/plain": [
       "Epoch 17/50:   0%|          | 0/164 [00:00<?, ?batch/s]"
      ]
     },
     "metadata": {},
     "output_type": "display_data"
    },
    {
     "data": {
      "application/vnd.jupyter.widget-view+json": {
       "model_id": "f232c2719b294a0aade439bfaca69935",
       "version_major": 2,
       "version_minor": 0
      },
      "text/plain": [
       "Epoch 18/50:   0%|          | 0/164 [00:00<?, ?batch/s]"
      ]
     },
     "metadata": {},
     "output_type": "display_data"
    },
    {
     "data": {
      "application/vnd.jupyter.widget-view+json": {
       "model_id": "99a8e5b29d7a4c71abab6d564e2c0923",
       "version_major": 2,
       "version_minor": 0
      },
      "text/plain": [
       "Epoch 19/50:   0%|          | 0/164 [00:00<?, ?batch/s]"
      ]
     },
     "metadata": {},
     "output_type": "display_data"
    },
    {
     "data": {
      "application/vnd.jupyter.widget-view+json": {
       "model_id": "e726e88879584a1f8aa4bca9b6238051",
       "version_major": 2,
       "version_minor": 0
      },
      "text/plain": [
       "Epoch 20/50:   0%|          | 0/164 [00:00<?, ?batch/s]"
      ]
     },
     "metadata": {},
     "output_type": "display_data"
    },
    {
     "name": "stdout",
     "output_type": "stream",
     "text": [
      "Checkpoint saved successfully.\n"
     ]
    },
    {
     "data": {
      "application/vnd.jupyter.widget-view+json": {
       "model_id": "c5fffce0314d47cdae76e254b202ef9e",
       "version_major": 2,
       "version_minor": 0
      },
      "text/plain": [
       "Epoch 21/50:   0%|          | 0/164 [00:00<?, ?batch/s]"
      ]
     },
     "metadata": {},
     "output_type": "display_data"
    },
    {
     "data": {
      "application/vnd.jupyter.widget-view+json": {
       "model_id": "8439447955604c6bacaf14982b039dde",
       "version_major": 2,
       "version_minor": 0
      },
      "text/plain": [
       "Epoch 22/50:   0%|          | 0/164 [00:00<?, ?batch/s]"
      ]
     },
     "metadata": {},
     "output_type": "display_data"
    },
    {
     "data": {
      "application/vnd.jupyter.widget-view+json": {
       "model_id": "0165e1a25de947adb09bc347a69edffc",
       "version_major": 2,
       "version_minor": 0
      },
      "text/plain": [
       "Epoch 23/50:   0%|          | 0/164 [00:00<?, ?batch/s]"
      ]
     },
     "metadata": {},
     "output_type": "display_data"
    },
    {
     "data": {
      "application/vnd.jupyter.widget-view+json": {
       "model_id": "842dd93db6e84d98a84f6b61cad4291d",
       "version_major": 2,
       "version_minor": 0
      },
      "text/plain": [
       "Epoch 24/50:   0%|          | 0/164 [00:00<?, ?batch/s]"
      ]
     },
     "metadata": {},
     "output_type": "display_data"
    },
    {
     "data": {
      "application/vnd.jupyter.widget-view+json": {
       "model_id": "778ef4aae528467493b7cc31a05670ce",
       "version_major": 2,
       "version_minor": 0
      },
      "text/plain": [
       "Epoch 25/50:   0%|          | 0/164 [00:00<?, ?batch/s]"
      ]
     },
     "metadata": {},
     "output_type": "display_data"
    },
    {
     "data": {
      "application/vnd.jupyter.widget-view+json": {
       "model_id": "fb97c44447c549dda5a6adfde89dee72",
       "version_major": 2,
       "version_minor": 0
      },
      "text/plain": [
       "Epoch 26/50:   0%|          | 0/164 [00:00<?, ?batch/s]"
      ]
     },
     "metadata": {},
     "output_type": "display_data"
    },
    {
     "data": {
      "application/vnd.jupyter.widget-view+json": {
       "model_id": "c0dcc7de0e3747cc8c7a59a24e4f5899",
       "version_major": 2,
       "version_minor": 0
      },
      "text/plain": [
       "Epoch 27/50:   0%|          | 0/164 [00:00<?, ?batch/s]"
      ]
     },
     "metadata": {},
     "output_type": "display_data"
    },
    {
     "data": {
      "application/vnd.jupyter.widget-view+json": {
       "model_id": "1a56ab12d41f40aab6e84b108d736789",
       "version_major": 2,
       "version_minor": 0
      },
      "text/plain": [
       "Epoch 28/50:   0%|          | 0/164 [00:00<?, ?batch/s]"
      ]
     },
     "metadata": {},
     "output_type": "display_data"
    },
    {
     "data": {
      "application/vnd.jupyter.widget-view+json": {
       "model_id": "cc420a9f5d964563ba3bee27ba8dbd3a",
       "version_major": 2,
       "version_minor": 0
      },
      "text/plain": [
       "Epoch 29/50:   0%|          | 0/164 [00:00<?, ?batch/s]"
      ]
     },
     "metadata": {},
     "output_type": "display_data"
    },
    {
     "data": {
      "application/vnd.jupyter.widget-view+json": {
       "model_id": "d29f2ec611ef411d9cffbae61d1124ed",
       "version_major": 2,
       "version_minor": 0
      },
      "text/plain": [
       "Epoch 30/50:   0%|          | 0/164 [00:00<?, ?batch/s]"
      ]
     },
     "metadata": {},
     "output_type": "display_data"
    },
    {
     "name": "stdout",
     "output_type": "stream",
     "text": [
      "Checkpoint saved successfully.\n"
     ]
    },
    {
     "data": {
      "application/vnd.jupyter.widget-view+json": {
       "model_id": "8fc0407a1e4248af8b538244f81feaaa",
       "version_major": 2,
       "version_minor": 0
      },
      "text/plain": [
       "Epoch 31/50:   0%|          | 0/164 [00:00<?, ?batch/s]"
      ]
     },
     "metadata": {},
     "output_type": "display_data"
    },
    {
     "data": {
      "application/vnd.jupyter.widget-view+json": {
       "model_id": "496d1e9ca7344414a447f345f5d6f16e",
       "version_major": 2,
       "version_minor": 0
      },
      "text/plain": [
       "Epoch 32/50:   0%|          | 0/164 [00:00<?, ?batch/s]"
      ]
     },
     "metadata": {},
     "output_type": "display_data"
    },
    {
     "data": {
      "application/vnd.jupyter.widget-view+json": {
       "model_id": "7a1497a31f78452a820067b1a71beb88",
       "version_major": 2,
       "version_minor": 0
      },
      "text/plain": [
       "Epoch 33/50:   0%|          | 0/164 [00:00<?, ?batch/s]"
      ]
     },
     "metadata": {},
     "output_type": "display_data"
    },
    {
     "data": {
      "application/vnd.jupyter.widget-view+json": {
       "model_id": "13c9861ed40840b988e189b41fff903e",
       "version_major": 2,
       "version_minor": 0
      },
      "text/plain": [
       "Epoch 34/50:   0%|          | 0/164 [00:00<?, ?batch/s]"
      ]
     },
     "metadata": {},
     "output_type": "display_data"
    },
    {
     "data": {
      "application/vnd.jupyter.widget-view+json": {
       "model_id": "686cef8af85e4d92856df606c776bdd6",
       "version_major": 2,
       "version_minor": 0
      },
      "text/plain": [
       "Epoch 35/50:   0%|          | 0/164 [00:00<?, ?batch/s]"
      ]
     },
     "metadata": {},
     "output_type": "display_data"
    },
    {
     "data": {
      "application/vnd.jupyter.widget-view+json": {
       "model_id": "225e2af068814b1482d9e7a45dfdec5e",
       "version_major": 2,
       "version_minor": 0
      },
      "text/plain": [
       "Epoch 36/50:   0%|          | 0/164 [00:00<?, ?batch/s]"
      ]
     },
     "metadata": {},
     "output_type": "display_data"
    },
    {
     "data": {
      "application/vnd.jupyter.widget-view+json": {
       "model_id": "5147f7e499854302b9f8577b11ebbeda",
       "version_major": 2,
       "version_minor": 0
      },
      "text/plain": [
       "Epoch 37/50:   0%|          | 0/164 [00:00<?, ?batch/s]"
      ]
     },
     "metadata": {},
     "output_type": "display_data"
    },
    {
     "data": {
      "application/vnd.jupyter.widget-view+json": {
       "model_id": "688ad3b65b4d499b8421e2bdcf6c18d9",
       "version_major": 2,
       "version_minor": 0
      },
      "text/plain": [
       "Epoch 38/50:   0%|          | 0/164 [00:00<?, ?batch/s]"
      ]
     },
     "metadata": {},
     "output_type": "display_data"
    },
    {
     "data": {
      "application/vnd.jupyter.widget-view+json": {
       "model_id": "fd037ffc825941b99539ebf20e941e55",
       "version_major": 2,
       "version_minor": 0
      },
      "text/plain": [
       "Epoch 39/50:   0%|          | 0/164 [00:00<?, ?batch/s]"
      ]
     },
     "metadata": {},
     "output_type": "display_data"
    },
    {
     "data": {
      "application/vnd.jupyter.widget-view+json": {
       "model_id": "cbb2724e1dc04716acdc775a3fa1912f",
       "version_major": 2,
       "version_minor": 0
      },
      "text/plain": [
       "Epoch 40/50:   0%|          | 0/164 [00:00<?, ?batch/s]"
      ]
     },
     "metadata": {},
     "output_type": "display_data"
    },
    {
     "name": "stdout",
     "output_type": "stream",
     "text": [
      "Checkpoint saved successfully.\n"
     ]
    },
    {
     "data": {
      "application/vnd.jupyter.widget-view+json": {
       "model_id": "d7b15d06d69f49bc830574fb420819f0",
       "version_major": 2,
       "version_minor": 0
      },
      "text/plain": [
       "Epoch 41/50:   0%|          | 0/164 [00:00<?, ?batch/s]"
      ]
     },
     "metadata": {},
     "output_type": "display_data"
    },
    {
     "data": {
      "application/vnd.jupyter.widget-view+json": {
       "model_id": "8c6e01a53ed849848a4ba66c4e24e10b",
       "version_major": 2,
       "version_minor": 0
      },
      "text/plain": [
       "Epoch 42/50:   0%|          | 0/164 [00:00<?, ?batch/s]"
      ]
     },
     "metadata": {},
     "output_type": "display_data"
    },
    {
     "data": {
      "application/vnd.jupyter.widget-view+json": {
       "model_id": "6aa591823ee84551aebb6264a0bbb243",
       "version_major": 2,
       "version_minor": 0
      },
      "text/plain": [
       "Epoch 43/50:   0%|          | 0/164 [00:00<?, ?batch/s]"
      ]
     },
     "metadata": {},
     "output_type": "display_data"
    },
    {
     "name": "stdout",
     "output_type": "stream",
     "text": [
      "Early stopping at epoch 43\n"
     ]
    },
    {
     "data": {
      "application/vnd.jupyter.widget-view+json": {
       "model_id": "821337a09d394284a9f8b8869d49eb10",
       "version_major": 2,
       "version_minor": 0
      },
      "text/plain": [
       "Evaluating:   0%|          | 0/41 [00:00<?, ?batch/s]"
      ]
     },
     "metadata": {},
     "output_type": "display_data"
    },
    {
     "name": "stderr",
     "output_type": "stream",
     "text": [
      "/home/danielcrovo/anaconda3/envs/ieeg/lib/python3.12/site-packages/torch/nn/modules/conv.py:306: UserWarning: Plan failed with a cudnnException: CUDNN_BACKEND_EXECUTION_PLAN_DESCRIPTOR: cudnnFinalize Descriptor Failed cudnn_status: CUDNN_STATUS_NOT_SUPPORTED (Triggered internally at ../aten/src/ATen/native/cudnn/Conv_v8.cpp:919.)\n",
      "  return F.conv1d(input, weight, bias, self.stride,\n"
     ]
    },
    {
     "name": "stdout",
     "output_type": "stream",
     "text": [
      "Accuracy of the model on the test data: 0.87%\n",
      "Precision: 0.8562, Recall: 0.8666, F1 Score: 0.8562\n"
     ]
    },
    {
     "name": "stderr",
     "output_type": "stream",
     "text": [
      "2024/05/27 03:50:31 INFO mlflow.system_metrics.system_metrics_monitor: Stopping system metrics monitoring...\n",
      "2024/05/27 03:50:31 INFO mlflow.system_metrics.system_metrics_monitor: Successfully terminated system metrics monitoring!\n"
     ]
    }
   ],
   "source": [
    "\n",
    "# Train and Evaluate the Model with MLflow\n",
    "run_name = \"LSTM_CNN_Experiment\"\n",
    "with mlflow.start_run(run_name=run_name) as run:\n",
    "    # Log parameters\n",
    "    mlflow.log_param(\"epochs\", NUM_EPOCHS)\n",
    "    mlflow.log_param(\"batch_size\", BATCH_SIZE)\n",
    "    mlflow.log_param(\"learning_rate\", LEARNING_RATE)\n",
    "    mlflow.log_param(\"model\", \"LSTM\")\n",
    "    mlflow.log_param(\"input_size\", SEQ_LENGTH)\n",
    "    mlflow.log_param(\"num_classes\", NUM_CLASSES)\n",
    "    mlflow.log_dict(dataset.get_class_mapping(), \"class_mapping.json\")\n",
    "\n",
    "    # Train and Evaluate the Model\n",
    "    train_model(model, train_loader, optimizer, criterion, NUM_EPOCHS, DEVICE, \n",
    "                save_checkpoint_interval=10, checkpoint_dir=CHECKPOINTS_PATH, \n",
    "                model_name=\"LSTM_CNN\", early_stopping_patience=10, cnn=False)\n",
    "    evaluate_model(model, test_loader, dataset, DEVICE, img_path='../plots', run_name=run_name)\n",
    "\n",
    "    # Log the model\n",
    "    mlflow.pytorch.log_model(model, \"model_LSTM_CNN\")"
   ]
  },
  {
   "cell_type": "code",
   "execution_count": null,
   "metadata": {},
   "outputs": [],
   "source": []
  }
 ],
 "metadata": {
  "kernelspec": {
   "display_name": "ieeg",
   "language": "python",
   "name": "python3"
  },
  "language_info": {
   "codemirror_mode": {
    "name": "ipython",
    "version": 3
   },
   "file_extension": ".py",
   "mimetype": "text/x-python",
   "name": "python",
   "nbconvert_exporter": "python",
   "pygments_lexer": "ipython3",
   "version": "3.12.3"
  }
 },
 "nbformat": 4,
 "nbformat_minor": 2
}
