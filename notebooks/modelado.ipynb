{
 "cells": [
  {
   "cell_type": "markdown",
   "metadata": {},
   "source": [
    "### Modelado "
   ]
  },
  {
   "cell_type": "markdown",
   "metadata": {},
   "source": [
    "1. Se visualizarán las matrices ya normalizadas: "
   ]
  },
  {
   "cell_type": "code",
   "execution_count": 1,
   "metadata": {},
   "outputs": [],
   "source": [
    "import os\n",
    "import pandas as pd\n",
    "import numpy as np\n",
    "import matplotlib.pyplot as plt"
   ]
  },
  {
   "cell_type": "code",
   "execution_count": 2,
   "metadata": {},
   "outputs": [],
   "source": [
    "def load_data_matrix(file_path):\n",
    "    \"\"\"\n",
    "    Carga una matriz de datos desde un archivo CSV y extrae la etiqueta del nombre completo del archivo.\n",
    "\n",
    "    Parameters:\n",
    "    - file_path (str): La ruta al archivo CSV.\n",
    "\n",
    "    Returns:\n",
    "    - tuple:\n",
    "        - np.ndarray: Matriz de datos cargada.\n",
    "        - str: La etiqueta extraída del nombre completo del archivo.\n",
    "    \"\"\"\n",
    "    # Cargar datos desde el archivo CSV\n",
    "    df = pd.read_csv(file_path)\n",
    "\n",
    "    # Extraer la etiqueta del nombre completo del archivo, sin la extensión .csv\n",
    "    label = os.path.basename(file_path).split('_')[0]\n",
    "\n",
    "    return df.values, label\n"
   ]
  },
  {
   "cell_type": "code",
   "execution_count": 3,
   "metadata": {},
   "outputs": [],
   "source": [
    "file_path = r'C:\\Users\\franc\\Downloads\\saved_matrix\\saved_matrix_normalize\\CA_15o14006.csv'\n",
    "df, label = load_data_matrix(file_path)"
   ]
  },
  {
   "cell_type": "code",
   "execution_count": 4,
   "metadata": {},
   "outputs": [],
   "source": [
    "import numpy as np\n",
    "import matplotlib.pyplot as plt\n",
    "from ipywidgets import interact, IntSlider\n",
    "import math\n",
    "\n",
    "def plot_data_matrix(data_matrix, title=\"Data Matrix\"):\n",
    "    \"\"\"\n",
    "    Grafica una matriz de datos donde cada columna es un segmento de la función,\n",
    "    mostrando hasta 5 segmentos por gráfica y permitiendo interactividad con widgets.\n",
    "\n",
    "    Parameters:\n",
    "    - data_matrix (np.ndarray): La matriz de datos a graficar.\n",
    "    - title (str): Título del gráfico.\n",
    "\n",
    "    Outputs:\n",
    "    - None\n",
    "    \"\"\"\n",
    "    num_segments = data_matrix.shape[1]\n",
    "    num_plots = math.ceil(num_segments / 5)  # Calcula el número necesario de gráficos\n",
    "\n",
    "    def plot_subset(page=0):\n",
    "        plt.figure(figsize=(15, 8))  # Aumentar el tamaño de la gráfica\n",
    "        start = page * 5\n",
    "        end = min(start + 5, num_segments)\n",
    "        for i in range(start, end):\n",
    "            plt.plot(data_matrix[:, i], label=f'Segment {i+1}')\n",
    "        plt.title(f\"{title} - Page {page+1}\")\n",
    "        plt.xlabel('Time Points')\n",
    "        plt.ylabel('Amplitude')\n",
    "        plt.legend()\n",
    "        plt.grid(True)\n",
    "        plt.show()\n",
    "\n",
    "    # Crear un slider interactivo para navegar entre las diferentes páginas de gráficos\n",
    "    interact(plot_subset, page=IntSlider(min=0, max=num_plots-1, step=1, value=0, description=\"Page\"))\n",
    "\n",
    "# Configurando el entorno de matplotlib para interactividad\n",
    "%matplotlib widget"
   ]
  },
  {
   "cell_type": "code",
   "execution_count": 23,
   "metadata": {},
   "outputs": [
    {
     "name": "stdout",
     "output_type": "stream",
     "text": [
      "Requirement already satisfied: jupyterlab in c:\\users\\franc\\anaconda3\\lib\\site-packages (3.3.2)\n",
      "Requirement already satisfied: ipympl in c:\\users\\franc\\anaconda3\\lib\\site-packages (0.9.4)\n",
      "Requirement already satisfied: ipython in c:\\users\\franc\\anaconda3\\lib\\site-packages (from jupyterlab) (8.2.0)\n",
      "Requirement already satisfied: tornado>=6.1.0 in c:\\users\\franc\\anaconda3\\lib\\site-packages (from jupyterlab) (6.1)\n",
      "Requirement already satisfied: packaging in c:\\users\\franc\\anaconda3\\lib\\site-packages (from jupyterlab) (21.3)\n",
      "Requirement already satisfied: jupyterlab-server~=2.10 in c:\\users\\franc\\anaconda3\\lib\\site-packages (from jupyterlab) (2.10.3)\n",
      "Requirement already satisfied: jinja2>=2.1 in c:\\users\\franc\\anaconda3\\lib\\site-packages (from jupyterlab) (3.1.3)\n",
      "Requirement already satisfied: jupyter-server~=1.4 in c:\\users\\franc\\anaconda3\\lib\\site-packages (from jupyterlab) (1.13.5)\n",
      "Requirement already satisfied: nbclassic~=0.2 in c:\\users\\franc\\anaconda3\\lib\\site-packages (from jupyterlab) (0.3.5)\n",
      "Requirement already satisfied: jupyter-core in c:\\users\\franc\\anaconda3\\lib\\site-packages (from jupyterlab) (4.9.2)\n",
      "Requirement already satisfied: matplotlib<4,>=3.4.0 in c:\\users\\franc\\anaconda3\\lib\\site-packages (from ipympl) (3.5.1)\n",
      "Requirement already satisfied: ipython-genutils in c:\\users\\franc\\anaconda3\\lib\\site-packages (from ipympl) (0.2.0)\n",
      "Requirement already satisfied: numpy in c:\\users\\franc\\anaconda3\\lib\\site-packages (from ipympl) (1.22.4)\n",
      "Requirement already satisfied: traitlets<6 in c:\\users\\franc\\anaconda3\\lib\\site-packages (from ipympl) (5.1.1)\n",
      "Requirement already satisfied: ipywidgets<9,>=7.6.0 in c:\\users\\franc\\anaconda3\\lib\\site-packages (from ipympl) (7.6.5)\n",
      "Requirement already satisfied: pillow in c:\\users\\franc\\anaconda3\\lib\\site-packages (from ipympl) (9.0.1)\n",
      "Requirement already satisfied: matplotlib-inline in c:\\users\\franc\\anaconda3\\lib\\site-packages (from ipython->jupyterlab) (0.1.2)\n",
      "Requirement already satisfied: pickleshare in c:\\users\\franc\\anaconda3\\lib\\site-packages (from ipython->jupyterlab) (0.7.5)\n",
      "Requirement already satisfied: jedi>=0.16 in c:\\users\\franc\\anaconda3\\lib\\site-packages (from ipython->jupyterlab) (0.18.1)\n",
      "Requirement already satisfied: stack-data in c:\\users\\franc\\anaconda3\\lib\\site-packages (from ipython->jupyterlab) (0.2.0)\n",
      "Requirement already satisfied: pygments>=2.4.0 in c:\\users\\franc\\anaconda3\\lib\\site-packages (from ipython->jupyterlab) (2.11.2)\n",
      "Requirement already satisfied: backcall in c:\\users\\franc\\anaconda3\\lib\\site-packages (from ipython->jupyterlab) (0.2.0)\n",
      "Requirement already satisfied: setuptools>=18.5 in c:\\users\\franc\\anaconda3\\lib\\site-packages (from ipython->jupyterlab) (61.2.0)\n",
      "Requirement already satisfied: colorama in c:\\users\\franc\\anaconda3\\lib\\site-packages (from ipython->jupyterlab) (0.4.6)\n",
      "Requirement already satisfied: decorator in c:\\users\\franc\\anaconda3\\lib\\site-packages (from ipython->jupyterlab) (5.1.1)\n",
      "Requirement already satisfied: prompt-toolkit!=3.0.0,!=3.0.1,<3.1.0,>=2.0.0 in c:\\users\\franc\\anaconda3\\lib\\site-packages (from ipython->jupyterlab) (3.0.20)\n",
      "Requirement already satisfied: jupyterlab-widgets>=1.0.0 in c:\\users\\franc\\anaconda3\\lib\\site-packages (from ipywidgets<9,>=7.6.0->ipympl) (1.0.0)\n",
      "Requirement already satisfied: ipykernel>=4.5.1 in c:\\users\\franc\\anaconda3\\lib\\site-packages (from ipywidgets<9,>=7.6.0->ipympl) (6.9.1)\n",
      "Requirement already satisfied: widgetsnbextension~=3.5.0 in c:\\users\\franc\\anaconda3\\lib\\site-packages (from ipywidgets<9,>=7.6.0->ipympl) (3.5.2)\n",
      "Requirement already satisfied: nbformat>=4.2.0 in c:\\users\\franc\\anaconda3\\lib\\site-packages (from ipywidgets<9,>=7.6.0->ipympl) (5.3.0)\n",
      "Requirement already satisfied: jupyter-client<8.0 in c:\\users\\franc\\anaconda3\\lib\\site-packages (from ipykernel>=4.5.1->ipywidgets<9,>=7.6.0->ipympl) (6.1.12)\n",
      "Requirement already satisfied: debugpy<2.0,>=1.0.0 in c:\\users\\franc\\anaconda3\\lib\\site-packages (from ipykernel>=4.5.1->ipywidgets<9,>=7.6.0->ipympl) (1.5.1)\n",
      "Requirement already satisfied: nest-asyncio in c:\\users\\franc\\anaconda3\\lib\\site-packages (from ipykernel>=4.5.1->ipywidgets<9,>=7.6.0->ipympl) (1.5.5)\n",
      "Requirement already satisfied: parso<0.9.0,>=0.8.0 in c:\\users\\franc\\anaconda3\\lib\\site-packages (from jedi>=0.16->ipython->jupyterlab) (0.8.3)\n",
      "Requirement already satisfied: MarkupSafe>=2.0 in c:\\users\\franc\\anaconda3\\lib\\site-packages (from jinja2>=2.1->jupyterlab) (2.1.5)\n",
      "Requirement already satisfied: pyzmq>=13 in c:\\users\\franc\\anaconda3\\lib\\site-packages (from jupyter-client<8.0->ipykernel>=4.5.1->ipywidgets<9,>=7.6.0->ipympl) (22.3.0)\n",
      "Requirement already satisfied: python-dateutil>=2.1 in c:\\users\\franc\\anaconda3\\lib\\site-packages (from jupyter-client<8.0->ipykernel>=4.5.1->ipywidgets<9,>=7.6.0->ipympl) (2.8.2)\n",
      "Requirement already satisfied: pywin32>=1.0 in c:\\users\\franc\\anaconda3\\lib\\site-packages (from jupyter-core->jupyterlab) (302)\n",
      "Requirement already satisfied: anyio<4,>=3.1.0 in c:\\users\\franc\\anaconda3\\lib\\site-packages (from jupyter-server~=1.4->jupyterlab) (3.5.0)\n",
      "Requirement already satisfied: prometheus-client in c:\\users\\franc\\anaconda3\\lib\\site-packages (from jupyter-server~=1.4->jupyterlab) (0.13.1)\n",
      "Requirement already satisfied: argon2-cffi in c:\\users\\franc\\anaconda3\\lib\\site-packages (from jupyter-server~=1.4->jupyterlab) (21.3.0)\n",
      "Requirement already satisfied: nbconvert in c:\\users\\franc\\anaconda3\\lib\\site-packages (from jupyter-server~=1.4->jupyterlab) (6.4.4)\n",
      "Requirement already satisfied: Send2Trash in c:\\users\\franc\\anaconda3\\lib\\site-packages (from jupyter-server~=1.4->jupyterlab) (1.8.0)\n",
      "Requirement already satisfied: websocket-client in c:\\users\\franc\\anaconda3\\lib\\site-packages (from jupyter-server~=1.4->jupyterlab) (0.58.0)\n",
      "Requirement already satisfied: terminado>=0.8.3 in c:\\users\\franc\\anaconda3\\lib\\site-packages (from jupyter-server~=1.4->jupyterlab) (0.13.1)\n",
      "Collecting pywinpty<2\n",
      "  Downloading pywinpty-1.1.6-cp39-none-win_amd64.whl (1.4 MB)\n",
      "Requirement already satisfied: sniffio>=1.1 in c:\\users\\franc\\anaconda3\\lib\\site-packages (from anyio<4,>=3.1.0->jupyter-server~=1.4->jupyterlab) (1.2.0)\n",
      "Requirement already satisfied: idna>=2.8 in c:\\users\\franc\\anaconda3\\lib\\site-packages (from anyio<4,>=3.1.0->jupyter-server~=1.4->jupyterlab) (3.3)\n",
      "Requirement already satisfied: jsonschema>=3.0.1 in c:\\users\\franc\\anaconda3\\lib\\site-packages (from jupyterlab-server~=2.10->jupyterlab) (4.4.0)\n",
      "Requirement already satisfied: entrypoints>=0.2.2 in c:\\users\\franc\\anaconda3\\lib\\site-packages (from jupyterlab-server~=2.10->jupyterlab) (0.4)\n",
      "Requirement already satisfied: babel in c:\\users\\franc\\anaconda3\\lib\\site-packages (from jupyterlab-server~=2.10->jupyterlab) (2.9.1)\n",
      "Requirement already satisfied: json5 in c:\\users\\franc\\anaconda3\\lib\\site-packages (from jupyterlab-server~=2.10->jupyterlab) (0.9.6)\n",
      "Requirement already satisfied: requests in c:\\users\\franc\\anaconda3\\lib\\site-packages (from jupyterlab-server~=2.10->jupyterlab) (2.27.1)\n",
      "Requirement already satisfied: attrs>=17.4.0 in c:\\users\\franc\\anaconda3\\lib\\site-packages (from jsonschema>=3.0.1->jupyterlab-server~=2.10->jupyterlab) (21.4.0)\n",
      "Requirement already satisfied: pyrsistent!=0.17.0,!=0.17.1,!=0.17.2,>=0.14.0 in c:\\users\\franc\\anaconda3\\lib\\site-packages (from jsonschema>=3.0.1->jupyterlab-server~=2.10->jupyterlab) (0.18.0)\n",
      "Requirement already satisfied: cycler>=0.10 in c:\\users\\franc\\anaconda3\\lib\\site-packages (from matplotlib<4,>=3.4.0->ipympl) (0.11.0)\n",
      "Requirement already satisfied: pyparsing>=2.2.1 in c:\\users\\franc\\anaconda3\\lib\\site-packages (from matplotlib<4,>=3.4.0->ipympl) (3.0.4)\n",
      "Requirement already satisfied: fonttools>=4.22.0 in c:\\users\\franc\\anaconda3\\lib\\site-packages (from matplotlib<4,>=3.4.0->ipympl) (4.25.0)\n",
      "Requirement already satisfied: kiwisolver>=1.0.1 in c:\\users\\franc\\anaconda3\\lib\\site-packages (from matplotlib<4,>=3.4.0->ipympl) (1.3.2)\n",
      "Requirement already satisfied: notebook<7 in c:\\users\\franc\\anaconda3\\lib\\site-packages (from nbclassic~=0.2->jupyterlab) (6.4.8)\n",
      "Requirement already satisfied: fastjsonschema in c:\\users\\franc\\anaconda3\\lib\\site-packages (from nbformat>=4.2.0->ipywidgets<9,>=7.6.0->ipympl) (2.15.1)\n",
      "Requirement already satisfied: wcwidth in c:\\users\\franc\\anaconda3\\lib\\site-packages (from prompt-toolkit!=3.0.0,!=3.0.1,<3.1.0,>=2.0.0->ipython->jupyterlab) (0.2.5)\n",
      "Requirement already satisfied: six>=1.5 in c:\\users\\franc\\anaconda3\\lib\\site-packages (from python-dateutil>=2.1->jupyter-client<8.0->ipykernel>=4.5.1->ipywidgets<9,>=7.6.0->ipympl) (1.16.0)\n",
      "Requirement already satisfied: argon2-cffi-bindings in c:\\users\\franc\\anaconda3\\lib\\site-packages (from argon2-cffi->jupyter-server~=1.4->jupyterlab) (21.2.0)\n",
      "Requirement already satisfied: cffi>=1.0.1 in c:\\users\\franc\\anaconda3\\lib\\site-packages (from argon2-cffi-bindings->argon2-cffi->jupyter-server~=1.4->jupyterlab) (1.15.0)\n",
      "Requirement already satisfied: pycparser in c:\\users\\franc\\anaconda3\\lib\\site-packages (from cffi>=1.0.1->argon2-cffi-bindings->argon2-cffi->jupyter-server~=1.4->jupyterlab) (2.21)\n",
      "Requirement already satisfied: pytz>=2015.7 in c:\\users\\franc\\anaconda3\\lib\\site-packages (from babel->jupyterlab-server~=2.10->jupyterlab) (2021.3)\n",
      "Requirement already satisfied: mistune<2,>=0.8.1 in c:\\users\\franc\\anaconda3\\lib\\site-packages (from nbconvert->jupyter-server~=1.4->jupyterlab) (0.8.4)\n",
      "Requirement already satisfied: nbclient<0.6.0,>=0.5.0 in c:\\users\\franc\\anaconda3\\lib\\site-packages (from nbconvert->jupyter-server~=1.4->jupyterlab) (0.5.13)\n",
      "Requirement already satisfied: bleach in c:\\users\\franc\\anaconda3\\lib\\site-packages (from nbconvert->jupyter-server~=1.4->jupyterlab) (4.1.0)\n",
      "Requirement already satisfied: pandocfilters>=1.4.1 in c:\\users\\franc\\anaconda3\\lib\\site-packages (from nbconvert->jupyter-server~=1.4->jupyterlab) (1.5.0)\n",
      "Requirement already satisfied: defusedxml in c:\\users\\franc\\anaconda3\\lib\\site-packages (from nbconvert->jupyter-server~=1.4->jupyterlab) (0.7.1)\n",
      "Requirement already satisfied: testpath in c:\\users\\franc\\anaconda3\\lib\\site-packages (from nbconvert->jupyter-server~=1.4->jupyterlab) (0.5.0)\n",
      "Requirement already satisfied: beautifulsoup4 in c:\\users\\franc\\anaconda3\\lib\\site-packages (from nbconvert->jupyter-server~=1.4->jupyterlab) (4.11.1)\n",
      "Requirement already satisfied: jupyterlab-pygments in c:\\users\\franc\\anaconda3\\lib\\site-packages (from nbconvert->jupyter-server~=1.4->jupyterlab) (0.1.2)\n",
      "Requirement already satisfied: soupsieve>1.2 in c:\\users\\franc\\anaconda3\\lib\\site-packages (from beautifulsoup4->nbconvert->jupyter-server~=1.4->jupyterlab) (2.3.1)\n",
      "Requirement already satisfied: webencodings in c:\\users\\franc\\anaconda3\\lib\\site-packages (from bleach->nbconvert->jupyter-server~=1.4->jupyterlab) (0.5.1)\n",
      "Requirement already satisfied: certifi>=2017.4.17 in c:\\users\\franc\\anaconda3\\lib\\site-packages (from requests->jupyterlab-server~=2.10->jupyterlab) (2021.10.8)\n",
      "Requirement already satisfied: charset-normalizer~=2.0.0 in c:\\users\\franc\\anaconda3\\lib\\site-packages (from requests->jupyterlab-server~=2.10->jupyterlab) (2.0.4)\n",
      "Requirement already satisfied: urllib3<1.27,>=1.21.1 in c:\\users\\franc\\anaconda3\\lib\\site-packages (from requests->jupyterlab-server~=2.10->jupyterlab) (1.26.9)\n",
      "Requirement already satisfied: pure-eval in c:\\users\\franc\\anaconda3\\lib\\site-packages (from stack-data->ipython->jupyterlab) (0.2.2)\n",
      "Requirement already satisfied: executing in c:\\users\\franc\\anaconda3\\lib\\site-packages (from stack-data->ipython->jupyterlab) (0.8.3)\n",
      "Requirement already satisfied: asttokens in c:\\users\\franc\\anaconda3\\lib\\site-packages (from stack-data->ipython->jupyterlab) (2.0.5)\n",
      "Installing collected packages: pywinpty\n",
      "  Attempting uninstall: pywinpty\n",
      "    Found existing installation: pywinpty 2.0.2\n",
      "    Uninstalling pywinpty-2.0.2:\n",
      "      Successfully uninstalled pywinpty-2.0.2\n",
      "Successfully installed pywinpty-1.1.6\n"
     ]
    }
   ],
   "source": [
    "# !pip install jupyterlab ipympl\n"
   ]
  },
  {
   "cell_type": "code",
   "execution_count": 24,
   "metadata": {},
   "outputs": [
    {
     "name": "stdout",
     "output_type": "stream",
     "text": [
      "An error occurred.\n",
      "ValueError: Please install Node.js and npm before continuing installation. You may be able to install Node.js from your package manager, from conda, or directly from the Node.js website (https://nodejs.org).\n",
      "See the log file for details:  C:\\Users\\franc\\AppData\\Local\\Temp\\jupyterlab-debug-ie2p5owy.log\n"
     ]
    }
   ],
   "source": [
    "# !jupyter labextension install @jupyter-widgets/jupyterlab-manager jupyter-matplotlib"
   ]
  },
  {
   "cell_type": "code",
   "execution_count": 5,
   "metadata": {},
   "outputs": [
    {
     "data": {
      "application/vnd.jupyter.widget-view+json": {
       "model_id": "a776a1baaed34d56901e43261f58b4f5",
       "version_major": 2,
       "version_minor": 0
      },
      "text/plain": [
       "interactive(children=(IntSlider(value=0, description='Page', max=11), Output()), _dom_classes=('widget-interac…"
      ]
     },
     "metadata": {},
     "output_type": "display_data"
    }
   ],
   "source": [
    "plot_data_matrix(df, title=\"Data Matrix\")"
   ]
  },
  {
   "cell_type": "code",
   "execution_count": 6,
   "metadata": {},
   "outputs": [],
   "source": [
    "from sklearn.model_selection import train_test_split\n",
    "\n",
    "def prepare_train_test_data(directory_path, test_size=0.2):\n",
    "    \"\"\"\n",
    "    Prepara los datos de entrenamiento y prueba a partir de los archivos en un directorio.\n",
    "\n",
    "    Parameters:\n",
    "    - directory_path (str): Ruta del directorio que contiene los archivos CSV.\n",
    "    - test_size (float): Proporción del conjunto de prueba.\n",
    "\n",
    "    Returns:\n",
    "    - tuple: Cuatro elementos (X_train, X_test, y_train, y_test).\n",
    "    \"\"\"\n",
    "    X, y = [], []\n",
    "    for filename in os.listdir(directory_path):\n",
    "        if filename.endswith('.csv'):\n",
    "            label = filename.split('_')[0]  # Asumiendo que la etiqueta está al inicio del nombre del archivo\n",
    "            file_path = os.path.join(directory_path, filename)\n",
    "            data_matrix = load_data_matrix(file_path)\n",
    "            X.append(data_matrix)\n",
    "            y.append(label)\n",
    "    \n",
    "    X = np.array(X)\n",
    "    y = np.array(y)\n",
    "\n",
    "    return train_test_split(X, y, test_size=test_size, random_state=42)\n"
   ]
  },
  {
   "cell_type": "code",
   "execution_count": 7,
   "metadata": {},
   "outputs": [],
   "source": [
    "directory_path = r'C:\\Users\\franc\\Downloads\\saved_matrix\\saved_matrix_normalize'"
   ]
  },
  {
   "cell_type": "code",
   "execution_count": 10,
   "metadata": {},
   "outputs": [
    {
     "name": "stderr",
     "output_type": "stream",
     "text": [
      "C:\\Users\\franc\\AppData\\Local\\Temp\\ipykernel_5128\\1163801982.py:23: VisibleDeprecationWarning: Creating an ndarray from ragged nested sequences (which is a list-or-tuple of lists-or-tuples-or ndarrays with different lengths or shapes) is deprecated. If you meant to do this, you must specify 'dtype=object' when creating the ndarray.\n",
      "  X = np.array(X)\n"
     ]
    }
   ],
   "source": [
    "X_train, X_test, y_train, y_test = prepare_train_test_data(directory_path, test_size=0.2)"
   ]
  },
  {
   "cell_type": "code",
   "execution_count": 17,
   "metadata": {},
   "outputs": [],
   "source": [
    "# Asumiendo que X_train y X_test necesitan ser transformados\n",
    "X_train_lstm = np.expand_dims(X_train, axis=-1)  # Agrega una nueva dimensión al final para las características\n",
    "X_test_lstm = np.expand_dims(X_test, axis=-1)    # Igual para X_test\n",
    "\n",
    "# Ahora, X_train y X_test deberían tener la forma (num_samples, num_timesteps, 1)"
   ]
  },
  {
   "cell_type": "code",
   "execution_count": 18,
   "metadata": {},
   "outputs": [],
   "source": [
    "input_shape = X_train_lstm.shape[1:]"
   ]
  },
  {
   "cell_type": "code",
   "execution_count": 15,
   "metadata": {},
   "outputs": [],
   "source": [
    "from tensorflow.keras.models import Sequential\n",
    "from tensorflow.keras.layers import LSTM, GRU, SimpleRNN, Dense, TimeDistributed\n",
    "from tensorflow.keras.metrics import Recall, Precision, F1Score\n",
    "\n",
    "def build_lstm_model(input_shape):\n",
    "    \"\"\"\n",
    "    Construye y retorna un modelo LSTM.\n",
    "\n",
    "    Parameters:\n",
    "    - input_shape (tuple): Forma de los datos de entrada (timesteps, features).\n",
    "\n",
    "    Returns:\n",
    "    - tensorflow.keras.Model: El modelo LSTM compilado.\n",
    "    \"\"\"\n",
    "    model = Sequential([\n",
    "        LSTM(50, return_sequences=True, input_shape=input_shape),\n",
    "        LSTM(50),\n",
    "        Dense(1, activation='sigmoid')\n",
    "    ])\n",
    "    model.compile(optimizer='adam', loss='binary_crossentropy', metrics=['accuracy', Recall(), Precision(), F1Score()])\n",
    "    return model"
   ]
  },
  {
   "cell_type": "code",
   "execution_count": 19,
   "metadata": {},
   "outputs": [
    {
     "ename": "ValueError",
     "evalue": "Failed to convert a NumPy array to a Tensor (Unsupported object type numpy.ndarray).",
     "output_type": "error",
     "traceback": [
      "\u001b[1;31m---------------------------------------------------------------------------\u001b[0m",
      "\u001b[1;31mValueError\u001b[0m                                Traceback (most recent call last)",
      "Input \u001b[1;32mIn [19]\u001b[0m, in \u001b[0;36m<cell line: 5>\u001b[1;34m()\u001b[0m\n\u001b[0;32m      2\u001b[0m model_lstm \u001b[38;5;241m=\u001b[39m build_lstm_model(input_shape)\n\u001b[0;32m      4\u001b[0m \u001b[38;5;66;03m# Entrenar el modelo\u001b[39;00m\n\u001b[1;32m----> 5\u001b[0m \u001b[43mmodel_lstm\u001b[49m\u001b[38;5;241;43m.\u001b[39;49m\u001b[43mfit\u001b[49m\u001b[43m(\u001b[49m\u001b[43mX_train\u001b[49m\u001b[43m,\u001b[49m\u001b[43m \u001b[49m\u001b[43my_train\u001b[49m\u001b[43m,\u001b[49m\u001b[43m \u001b[49m\u001b[43mepochs\u001b[49m\u001b[38;5;241;43m=\u001b[39;49m\u001b[38;5;241;43m10\u001b[39;49m\u001b[43m,\u001b[49m\u001b[43m \u001b[49m\u001b[43mbatch_size\u001b[49m\u001b[38;5;241;43m=\u001b[39;49m\u001b[38;5;241;43m32\u001b[39;49m\u001b[43m,\u001b[49m\u001b[43m \u001b[49m\u001b[43mvalidation_data\u001b[49m\u001b[38;5;241;43m=\u001b[39;49m\u001b[43m(\u001b[49m\u001b[43mX_test\u001b[49m\u001b[43m,\u001b[49m\u001b[43m \u001b[49m\u001b[43my_test\u001b[49m\u001b[43m)\u001b[49m\u001b[43m)\u001b[49m\n",
      "File \u001b[1;32mc:\\Users\\franc\\anaconda3\\lib\\site-packages\\keras\\src\\utils\\traceback_utils.py:70\u001b[0m, in \u001b[0;36mfilter_traceback.<locals>.error_handler\u001b[1;34m(*args, **kwargs)\u001b[0m\n\u001b[0;32m     67\u001b[0m     filtered_tb \u001b[38;5;241m=\u001b[39m _process_traceback_frames(e\u001b[38;5;241m.\u001b[39m__traceback__)\n\u001b[0;32m     68\u001b[0m     \u001b[38;5;66;03m# To get the full stack trace, call:\u001b[39;00m\n\u001b[0;32m     69\u001b[0m     \u001b[38;5;66;03m# `tf.debugging.disable_traceback_filtering()`\u001b[39;00m\n\u001b[1;32m---> 70\u001b[0m     \u001b[38;5;28;01mraise\u001b[39;00m e\u001b[38;5;241m.\u001b[39mwith_traceback(filtered_tb) \u001b[38;5;28;01mfrom\u001b[39;00m \u001b[38;5;28mNone\u001b[39m\n\u001b[0;32m     71\u001b[0m \u001b[38;5;28;01mfinally\u001b[39;00m:\n\u001b[0;32m     72\u001b[0m     \u001b[38;5;28;01mdel\u001b[39;00m filtered_tb\n",
      "File \u001b[1;32mc:\\Users\\franc\\anaconda3\\lib\\site-packages\\tensorflow\\python\\framework\\constant_op.py:98\u001b[0m, in \u001b[0;36mconvert_to_eager_tensor\u001b[1;34m(value, ctx, dtype)\u001b[0m\n\u001b[0;32m     96\u001b[0m     dtype \u001b[38;5;241m=\u001b[39m dtypes\u001b[38;5;241m.\u001b[39mas_dtype(dtype)\u001b[38;5;241m.\u001b[39mas_datatype_enum\n\u001b[0;32m     97\u001b[0m ctx\u001b[38;5;241m.\u001b[39mensure_initialized()\n\u001b[1;32m---> 98\u001b[0m \u001b[38;5;28;01mreturn\u001b[39;00m \u001b[43mops\u001b[49m\u001b[38;5;241;43m.\u001b[39;49m\u001b[43mEagerTensor\u001b[49m\u001b[43m(\u001b[49m\u001b[43mvalue\u001b[49m\u001b[43m,\u001b[49m\u001b[43m \u001b[49m\u001b[43mctx\u001b[49m\u001b[38;5;241;43m.\u001b[39;49m\u001b[43mdevice_name\u001b[49m\u001b[43m,\u001b[49m\u001b[43m \u001b[49m\u001b[43mdtype\u001b[49m\u001b[43m)\u001b[49m\n",
      "\u001b[1;31mValueError\u001b[0m: Failed to convert a NumPy array to a Tensor (Unsupported object type numpy.ndarray)."
     ]
    }
   ],
   "source": [
    "# Construir el modelo LSTM\n",
    "model_lstm = build_lstm_model(input_shape)\n",
    "\n",
    "# Entrenar el modelo\n",
    "model_lstm.fit(X_train, y_train, epochs=10, batch_size=32, validation_data=(X_test, y_test))"
   ]
  },
  {
   "cell_type": "code",
   "execution_count": 12,
   "metadata": {},
   "outputs": [],
   "source": [
    "\n",
    "\n",
    "def build_gru_model(input_shape):\n",
    "    \"\"\"\n",
    "    Construye y retorna un modelo GRU.\n",
    "\n",
    "    Parameters:\n",
    "    - input_shape (tuple): Forma de los datos de entrada (timesteps, features).\n",
    "\n",
    "    Returns:\n",
    "    - tensorflow.keras.Model: El modelo GRU compilado.\n",
    "    \"\"\"\n",
    "    model = Sequential([\n",
    "        GRU(50, return_sequences=True, input_shape=input_shape),\n",
    "        GRU(50),\n",
    "        Dense(1, activation='sigmoid')\n",
    "    ])\n",
    "    model.compile(optimizer='adam', loss='binary_crossentropy', metrics=['accuracy', Recall(), Precision(), F1Score()])\n",
    "    return model\n",
    "\n",
    "def build_rnn_model(input_shape):\n",
    "    \"\"\"\n",
    "    Construye y retorna un modelo RNN simple.\n",
    "\n",
    "    Parameters:\n",
    "    - input_shape (tuple): Forma de los datos de entrada (timesteps, features).\n",
    "\n",
    "    Returns:\n",
    "    - tensorflow.keras.Model: El modelo RNN compilado.\n",
    "    \"\"\"\n",
    "    model = Sequential([\n",
    "        SimpleRNN(50, return_sequences=True, input_shape=input_shape),\n",
    "        SimpleRNN(50),\n",
    "        Dense(1, activation='sigmoid')\n",
    "    ])\n",
    "    model.compile(optimizer='adam', loss='binary_crossentropy', metrics=['accuracy', Recall(), Precision(), F1Score()])\n",
    "    return model\n"
   ]
  },
  {
   "cell_type": "code",
   "execution_count": null,
   "metadata": {},
   "outputs": [],
   "source": []
  }
 ],
 "metadata": {
  "kernelspec": {
   "display_name": "base",
   "language": "python",
   "name": "python3"
  },
  "language_info": {
   "codemirror_mode": {
    "name": "ipython",
    "version": 3
   },
   "file_extension": ".py",
   "mimetype": "text/x-python",
   "name": "python",
   "nbconvert_exporter": "python",
   "pygments_lexer": "ipython3",
   "version": "3.9.12"
  }
 },
 "nbformat": 4,
 "nbformat_minor": 2
}
