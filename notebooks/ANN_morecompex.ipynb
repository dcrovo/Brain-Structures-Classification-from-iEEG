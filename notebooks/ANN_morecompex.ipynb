{
 "cells": [
  {
   "cell_type": "code",
   "execution_count": 1,
   "metadata": {},
   "outputs": [],
   "source": [
    "import mlflow\n",
    "import mlflow.pytorch\n",
    "import torch\n",
    "import torch.nn as nn\n",
    "import torch.optim as optim\n",
    "from sklearn.metrics import precision_recall_fscore_support, accuracy_score, confusion_matrix\n",
    "from sklearn.model_selection import StratifiedShuffleSplit\n",
    "import matplotlib.pyplot as plt\n",
    "import seaborn as sns\n",
    "import pandas as pd\n",
    "import numpy as np\n",
    "from torch.utils.data import Dataset, DataLoader, Subset\n",
    "from tqdm.notebook import tqdm\n",
    "import os\n",
    "from sklearn.preprocessing import LabelEncoder\n",
    "import torch\n",
    "import math "
   ]
  },
  {
   "cell_type": "code",
   "execution_count": 2,
   "metadata": {},
   "outputs": [
    {
     "name": "stdout",
     "output_type": "stream",
     "text": [
      "tracking uri: http://mlflow:5000\n"
     ]
    }
   ],
   "source": [
    "mlflow.set_tracking_uri(\"http://mlflow:5000\")\n",
    "\n",
    "print('tracking uri:', mlflow.get_tracking_uri())"
   ]
  },
  {
   "cell_type": "markdown",
   "metadata": {},
   "source": [
    "# More Complex ANN"
   ]
  },
  {
   "cell_type": "code",
   "execution_count": 66,
   "metadata": {},
   "outputs": [],
   "source": [
    "# Configuration\n",
    "DATA_DIR = '../data/data_normalized_exp2'\n",
    "SEQ_LENGTH = 5000\n",
    "BATCH_SIZE = 64\n",
    "NUM_EPOCHS = 200\n",
    "LEARNING_RATE = 0.0005\n",
    "EXPERIMENT_NAME = \"IEEG_Classification_Baseline\"\n",
    "RUN_NAME = \"ANN-MoreComplex_NO_Response\"\n",
    "DEVICE = torch.device(\"cuda\" if torch.cuda.is_available() else \"cpu\")\n",
    "INPUT_SIZE = SEQ_LENGTH"
   ]
  },
  {
   "cell_type": "code",
   "execution_count": 9,
   "metadata": {},
   "outputs": [],
   "source": [
    "class IeegDataset(Dataset):\n",
    "    def __init__(self, data_dir, seq_length=5000):\n",
    "        self.data_dir = data_dir\n",
    "        self.signals = os.listdir(self.data_dir)\n",
    "        self.seq_length = seq_length\n",
    "        self.data = []\n",
    "        self.labels = []\n",
    "        \n",
    "        self.classes = [f.split('_')[0] for f in self.signals]\n",
    "\n",
    "        self.label_encoder = LabelEncoder()\n",
    "        self.label_encoder.fit(self.classes)\n",
    "\n",
    "        for file in self.signals:\n",
    "            file_path = os.path.join(data_dir, file)\n",
    "            df = pd.read_csv(file_path)\n",
    "\n",
    "            for column in df.columns: \n",
    "                for idx in range(0,math.floor(df.shape[0]/self.seq_length)):\n",
    "                    # signal_1 = test[column].values[i*5000:i*5000+5000]\n",
    "\n",
    "                    signal_window = df[column].values[idx*self.seq_length:idx*self.seq_length+self.seq_length]\n",
    "\n",
    "    \n",
    "                    class_label = self.label_encoder.transform([file.split('_')[0]])\n",
    "                    self.data.append(signal_window)\n",
    "                    self.labels.append(class_label)\n",
    "        \n",
    "        self.data = torch.tensor(self.data, dtype=torch.float32)\n",
    "        self.labels = torch.tensor(self.labels, dtype=torch.long)\n",
    "\n",
    "    def __len__(self):\n",
    "        return(len(self.data))\n",
    "    def __getitem__(self, index) -> torch.tensor:\n",
    "        return self.data[index] , self.labels[index]\n",
    "    def get_class_mapping(self):\n",
    "        return {i: class_name for i, class_name in enumerate(self.label_encoder.classes_)}"
   ]
  },
  {
   "cell_type": "code",
   "execution_count": 26,
   "metadata": {},
   "outputs": [],
   "source": [
    "# Define Model\n",
    "class Deep_ANN(nn.Module):\n",
    "    def __init__(self, input_size, num_classes):\n",
    "        super(Deep_ANN, self).__init__()\n",
    "        self.fc1 = nn.Linear(input_size, 2048)\n",
    "        self.fc2 = nn.Linear(2048, 1024)\n",
    "        self.fc3 = nn.Linear(1024, 256)\n",
    "        self.fc4 = nn.Linear(256, 64)\n",
    "        self.fc5 = nn.Linear(64, num_classes)\n",
    "        self.relu = nn.ReLU()\n",
    "        self.dropout = nn.Dropout(0.1)\n",
    "        \n",
    "    def forward(self, x):\n",
    "        x = self.relu(self.fc1(x))\n",
    "        x = self.dropout(x)\n",
    "        x = self.relu(self.fc2(x))\n",
    "        x = self.dropout(x)\n",
    "        x = self.relu(self.fc3(x))\n",
    "        x = self.dropout(x)\n",
    "        x = self.relu(self.fc4(x))\n",
    "        x = self.dropout(x)\n",
    "        x = self.fc5(x)\n",
    "        return x"
   ]
  },
  {
   "cell_type": "code",
   "execution_count": 10,
   "metadata": {},
   "outputs": [],
   "source": [
    "# Data Loaders and Partitioning\n",
    "def create_data_loaders(dataset, batch_size):\n",
    "    labels = np.array([dataset[i][1].item() for i in range(len(dataset))])\n",
    "    sss = StratifiedShuffleSplit(n_splits=1, test_size=0.2, random_state=42)\n",
    "    train_index, test_index = next(sss.split(np.zeros(len(labels)), labels))\n",
    "\n",
    "    train_dataset = Subset(dataset, train_index)\n",
    "    test_dataset = Subset(dataset, test_index)\n",
    "\n",
    "    train_loader = DataLoader(train_dataset, batch_size=batch_size, shuffle=True)\n",
    "    test_loader = DataLoader(test_dataset, batch_size=batch_size, shuffle=False)\n",
    "\n",
    "    return train_loader, test_loader"
   ]
  },
  {
   "cell_type": "code",
   "execution_count": 11,
   "metadata": {},
   "outputs": [],
   "source": [
    "# Plotting Functions\n",
    "def plot_pie_chart(counts, class_names, title):\n",
    "    fig, ax = plt.subplots()\n",
    "    ax.pie(counts, labels=class_names, autopct='%1.1f%%', startangle=90, counterclock=False)\n",
    "    ax.axis('equal')\n",
    "    plt.title(title)\n",
    "    return fig"
   ]
  },
  {
   "cell_type": "code",
   "execution_count": 21,
   "metadata": {},
   "outputs": [],
   "source": [
    "# Training Function\n",
    "def train_model(model, train_loader, optimizer, criterion, num_epochs, device):\n",
    "    model.train()\n",
    "    for epoch in range(num_epochs):\n",
    "        running_loss = 0.0\n",
    "        y_true_train = []\n",
    "        y_pred_train = []\n",
    "\n",
    "        progress_bar = tqdm(train_loader, desc=f\"Epoch {epoch+1}/{num_epochs}\", unit=\"batch\")\n",
    "        for inputs, labels in progress_bar:\n",
    "            inputs, labels = inputs.to(device), labels.to(device)\n",
    "\n",
    "            optimizer.zero_grad()\n",
    "            outputs = model(inputs)\n",
    "            loss = criterion(outputs, labels.squeeze())\n",
    "            loss.backward()\n",
    "            optimizer.step()\n",
    "            running_loss += loss.item()\n",
    "\n",
    "            _, predicted = torch.max(outputs, 1)\n",
    "            y_true_train.extend(labels.squeeze().cpu().numpy())\n",
    "            y_pred_train.extend(predicted.cpu().numpy())\n",
    "\n",
    "            avg_loss = running_loss / len(train_loader)\n",
    "            train_accuracy = accuracy_score(y_true_train, y_pred_train)\n",
    "            precision, recall, f1, _ = precision_recall_fscore_support(y_true_train, y_pred_train, average='weighted', zero_division=0)\n",
    "\n",
    "            progress_bar.set_postfix(loss=avg_loss, accuracy=train_accuracy, precision=precision, recall=recall, f1=f1)\n",
    "\n",
    "        mlflow.log_metric(\"train_loss\", avg_loss, step=epoch)\n",
    "        mlflow.log_metric(\"train_accuracy\", train_accuracy, step=epoch)\n",
    "        mlflow.log_metric(\"train_precision\", precision, step=epoch)\n",
    "        mlflow.log_metric(\"train_recall\", recall, step=epoch)\n",
    "        mlflow.log_metric(\"train_f1\", f1, step=epoch)\n",
    "\n",
    "# Evaluation Function\n",
    "def evaluate_model(model, test_loader, dataset, device, img_path, run_name):\n",
    "    model.eval()\n",
    "    y_true_test = []\n",
    "    y_pred_test = []\n",
    "\n",
    "    with torch.no_grad():\n",
    "        for inputs, labels in tqdm(test_loader, desc=\"Evaluating\", unit=\"batch\"):\n",
    "            inputs, labels = inputs.to(device), labels.to(device)\n",
    "            outputs = model(inputs)\n",
    "            _, predicted = torch.max(outputs, 1)\n",
    "            y_true_test.extend(labels.squeeze().cpu().numpy())\n",
    "            y_pred_test.extend(predicted.cpu().numpy())\n",
    "\n",
    "    test_accuracy = accuracy_score(y_true_test, y_pred_test)\n",
    "    precision, recall, f1, _ = precision_recall_fscore_support(y_true_test, y_pred_test, average='weighted', zero_division=0)\n",
    "\n",
    "    print(f'Accuracy of the model on the test data: {test_accuracy:.2f}%')\n",
    "    print(f'Precision: {precision:.4f}, Recall: {recall:.4f}, F1 Score: {f1:.4f}')\n",
    "\n",
    "    mlflow.log_metric(\"test_accuracy\", test_accuracy)\n",
    "    mlflow.log_metric(\"test_precision\", precision)\n",
    "    mlflow.log_metric(\"test_recall\", recall)\n",
    "    mlflow.log_metric(\"test_f1\", f1)\n",
    "\n",
    "    # Confusion matrix\n",
    "    cm = confusion_matrix(y_true_test, y_pred_test)\n",
    "    cm_df = pd.DataFrame(cm, index=dataset.label_encoder.classes_, columns=dataset.label_encoder.classes_)\n",
    "\n",
    "    plt.figure(figsize=(10, 7))\n",
    "    sns.heatmap(cm_df, annot=True, fmt='d', cmap='Blues')\n",
    "    plt.ylabel('Actual')\n",
    "    plt.xlabel('Predicted')\n",
    "    plt.title('Confusion Matrix')\n",
    "    img_file = os.path.join(img_path, f\"confusion_matrix_{run_name}.png\")\n",
    "    plt.savefig(img_file)\n",
    "    mlflow.log_artifact(img_file)\n",
    "    plt.close()"
   ]
  },
  {
   "cell_type": "code",
   "execution_count": 11,
   "metadata": {},
   "outputs": [
    {
     "name": "stderr",
     "output_type": "stream",
     "text": [
      "/tmp/ipykernel_22/485794265.py:29: UserWarning: Creating a tensor from a list of numpy.ndarrays is extremely slow. Please consider converting the list to a single numpy.ndarray with numpy.array() before converting to a tensor. (Triggered internally at ../torch/csrc/utils/tensor_new.cpp:274.)\n",
      "  self.data = torch.tensor(self.data, dtype=torch.float32)\n"
     ]
    }
   ],
   "source": [
    "dataset = IeegDataset(DATA_DIR, SEQ_LENGTH)\n",
    "train_loader, test_loader = create_data_loaders(dataset, BATCH_SIZE)\n",
    "NUM_CLASSES = len(dataset.label_encoder.classes_)\n",
    "\n"
   ]
  },
  {
   "cell_type": "code",
   "execution_count": 27,
   "metadata": {},
   "outputs": [
    {
     "data": {
      "text/plain": [
       "Deep_ANN(\n",
       "  (fc1): Linear(in_features=5000, out_features=2048, bias=True)\n",
       "  (fc2): Linear(in_features=2048, out_features=1024, bias=True)\n",
       "  (fc3): Linear(in_features=1024, out_features=256, bias=True)\n",
       "  (fc4): Linear(in_features=256, out_features=64, bias=True)\n",
       "  (fc5): Linear(in_features=64, out_features=5, bias=True)\n",
       "  (relu): ReLU()\n",
       "  (dropout): Dropout(p=0.1, inplace=False)\n",
       ")"
      ]
     },
     "execution_count": 27,
     "metadata": {},
     "output_type": "execute_result"
    }
   ],
   "source": [
    "model = Deep_ANN(INPUT_SIZE, NUM_CLASSES).to(DEVICE)\n",
    "\n",
    "criterion = nn.CrossEntropyLoss()\n",
    "optimizer = optim.Adam(model.parameters(), lr=LEARNING_RATE)\n",
    "model"
   ]
  },
  {
   "cell_type": "code",
   "execution_count": 28,
   "metadata": {},
   "outputs": [
    {
     "name": "stdout",
     "output_type": "stream",
     "text": [
      "Training in: cuda\n"
     ]
    },
    {
     "data": {
      "application/vnd.jupyter.widget-view+json": {
       "model_id": "296104fa2b8c4f559fb26248c103e9d6",
       "version_major": 2,
       "version_minor": 0
      },
      "text/plain": [
       "Epoch 1/200:   0%|          | 0/82 [00:00<?, ?batch/s]"
      ]
     },
     "metadata": {},
     "output_type": "display_data"
    },
    {
     "data": {
      "application/vnd.jupyter.widget-view+json": {
       "model_id": "8c58603bd20349f59cfbcbc7c87ff382",
       "version_major": 2,
       "version_minor": 0
      },
      "text/plain": [
       "Epoch 2/200:   0%|          | 0/82 [00:00<?, ?batch/s]"
      ]
     },
     "metadata": {},
     "output_type": "display_data"
    },
    {
     "data": {
      "application/vnd.jupyter.widget-view+json": {
       "model_id": "0076f9b3f0704400b2f6050444fe74b9",
       "version_major": 2,
       "version_minor": 0
      },
      "text/plain": [
       "Epoch 3/200:   0%|          | 0/82 [00:00<?, ?batch/s]"
      ]
     },
     "metadata": {},
     "output_type": "display_data"
    },
    {
     "data": {
      "application/vnd.jupyter.widget-view+json": {
       "model_id": "6a623976960a48aa81dd9f4f5a40a77b",
       "version_major": 2,
       "version_minor": 0
      },
      "text/plain": [
       "Epoch 4/200:   0%|          | 0/82 [00:00<?, ?batch/s]"
      ]
     },
     "metadata": {},
     "output_type": "display_data"
    },
    {
     "data": {
      "application/vnd.jupyter.widget-view+json": {
       "model_id": "a2d8aa06c49044ebacc9f1288f9a0234",
       "version_major": 2,
       "version_minor": 0
      },
      "text/plain": [
       "Epoch 5/200:   0%|          | 0/82 [00:00<?, ?batch/s]"
      ]
     },
     "metadata": {},
     "output_type": "display_data"
    },
    {
     "data": {
      "application/vnd.jupyter.widget-view+json": {
       "model_id": "dbdbc4ac3e2649a09007e6deb5458966",
       "version_major": 2,
       "version_minor": 0
      },
      "text/plain": [
       "Epoch 6/200:   0%|          | 0/82 [00:00<?, ?batch/s]"
      ]
     },
     "metadata": {},
     "output_type": "display_data"
    },
    {
     "data": {
      "application/vnd.jupyter.widget-view+json": {
       "model_id": "1fba89f0c8794140a6d8e6361c56ec59",
       "version_major": 2,
       "version_minor": 0
      },
      "text/plain": [
       "Epoch 7/200:   0%|          | 0/82 [00:00<?, ?batch/s]"
      ]
     },
     "metadata": {},
     "output_type": "display_data"
    },
    {
     "data": {
      "application/vnd.jupyter.widget-view+json": {
       "model_id": "c9c6d41ea1cd495b8cb13080bf963e65",
       "version_major": 2,
       "version_minor": 0
      },
      "text/plain": [
       "Epoch 8/200:   0%|          | 0/82 [00:00<?, ?batch/s]"
      ]
     },
     "metadata": {},
     "output_type": "display_data"
    },
    {
     "data": {
      "application/vnd.jupyter.widget-view+json": {
       "model_id": "074860f4ccce4c62b11fd99bd2e3245b",
       "version_major": 2,
       "version_minor": 0
      },
      "text/plain": [
       "Epoch 9/200:   0%|          | 0/82 [00:00<?, ?batch/s]"
      ]
     },
     "metadata": {},
     "output_type": "display_data"
    },
    {
     "data": {
      "application/vnd.jupyter.widget-view+json": {
       "model_id": "be47e0b0c34e4871bfe300871d3911ac",
       "version_major": 2,
       "version_minor": 0
      },
      "text/plain": [
       "Epoch 10/200:   0%|          | 0/82 [00:00<?, ?batch/s]"
      ]
     },
     "metadata": {},
     "output_type": "display_data"
    },
    {
     "data": {
      "application/vnd.jupyter.widget-view+json": {
       "model_id": "626ba5dd8a424fef8668910a0a7969d6",
       "version_major": 2,
       "version_minor": 0
      },
      "text/plain": [
       "Epoch 11/200:   0%|          | 0/82 [00:00<?, ?batch/s]"
      ]
     },
     "metadata": {},
     "output_type": "display_data"
    },
    {
     "data": {
      "application/vnd.jupyter.widget-view+json": {
       "model_id": "2c3900430eae4b28a75c43eb910ae45f",
       "version_major": 2,
       "version_minor": 0
      },
      "text/plain": [
       "Epoch 12/200:   0%|          | 0/82 [00:00<?, ?batch/s]"
      ]
     },
     "metadata": {},
     "output_type": "display_data"
    },
    {
     "data": {
      "application/vnd.jupyter.widget-view+json": {
       "model_id": "d74971e429f74db4a7936e86f1330add",
       "version_major": 2,
       "version_minor": 0
      },
      "text/plain": [
       "Epoch 13/200:   0%|          | 0/82 [00:00<?, ?batch/s]"
      ]
     },
     "metadata": {},
     "output_type": "display_data"
    },
    {
     "data": {
      "application/vnd.jupyter.widget-view+json": {
       "model_id": "7e14d49407a341439838567807a028f8",
       "version_major": 2,
       "version_minor": 0
      },
      "text/plain": [
       "Epoch 14/200:   0%|          | 0/82 [00:00<?, ?batch/s]"
      ]
     },
     "metadata": {},
     "output_type": "display_data"
    },
    {
     "data": {
      "application/vnd.jupyter.widget-view+json": {
       "model_id": "acb0f4b71cd94beebdced684755b53fc",
       "version_major": 2,
       "version_minor": 0
      },
      "text/plain": [
       "Epoch 15/200:   0%|          | 0/82 [00:00<?, ?batch/s]"
      ]
     },
     "metadata": {},
     "output_type": "display_data"
    },
    {
     "data": {
      "application/vnd.jupyter.widget-view+json": {
       "model_id": "bcaf4e960a6847609937abcc5c24b690",
       "version_major": 2,
       "version_minor": 0
      },
      "text/plain": [
       "Epoch 16/200:   0%|          | 0/82 [00:00<?, ?batch/s]"
      ]
     },
     "metadata": {},
     "output_type": "display_data"
    },
    {
     "data": {
      "application/vnd.jupyter.widget-view+json": {
       "model_id": "ef193756a4644e2c8b06b94e8ad7c9f1",
       "version_major": 2,
       "version_minor": 0
      },
      "text/plain": [
       "Epoch 17/200:   0%|          | 0/82 [00:00<?, ?batch/s]"
      ]
     },
     "metadata": {},
     "output_type": "display_data"
    },
    {
     "data": {
      "application/vnd.jupyter.widget-view+json": {
       "model_id": "34c3943b77f94982b4ae47419ddbcd04",
       "version_major": 2,
       "version_minor": 0
      },
      "text/plain": [
       "Epoch 18/200:   0%|          | 0/82 [00:00<?, ?batch/s]"
      ]
     },
     "metadata": {},
     "output_type": "display_data"
    },
    {
     "data": {
      "application/vnd.jupyter.widget-view+json": {
       "model_id": "3414ab3dad414cc18baeb12d7676161c",
       "version_major": 2,
       "version_minor": 0
      },
      "text/plain": [
       "Epoch 19/200:   0%|          | 0/82 [00:00<?, ?batch/s]"
      ]
     },
     "metadata": {},
     "output_type": "display_data"
    },
    {
     "data": {
      "application/vnd.jupyter.widget-view+json": {
       "model_id": "7f0b7c411e5b45f5ac17e0babd93aa97",
       "version_major": 2,
       "version_minor": 0
      },
      "text/plain": [
       "Epoch 20/200:   0%|          | 0/82 [00:00<?, ?batch/s]"
      ]
     },
     "metadata": {},
     "output_type": "display_data"
    },
    {
     "data": {
      "application/vnd.jupyter.widget-view+json": {
       "model_id": "be08f25952634740b815c2895db5b1b0",
       "version_major": 2,
       "version_minor": 0
      },
      "text/plain": [
       "Epoch 21/200:   0%|          | 0/82 [00:00<?, ?batch/s]"
      ]
     },
     "metadata": {},
     "output_type": "display_data"
    },
    {
     "data": {
      "application/vnd.jupyter.widget-view+json": {
       "model_id": "e4d06c077409414c9b0879dd833368f2",
       "version_major": 2,
       "version_minor": 0
      },
      "text/plain": [
       "Epoch 22/200:   0%|          | 0/82 [00:00<?, ?batch/s]"
      ]
     },
     "metadata": {},
     "output_type": "display_data"
    },
    {
     "data": {
      "application/vnd.jupyter.widget-view+json": {
       "model_id": "467aef51b3ef4a5baec883df4af3e4d6",
       "version_major": 2,
       "version_minor": 0
      },
      "text/plain": [
       "Epoch 23/200:   0%|          | 0/82 [00:00<?, ?batch/s]"
      ]
     },
     "metadata": {},
     "output_type": "display_data"
    },
    {
     "data": {
      "application/vnd.jupyter.widget-view+json": {
       "model_id": "b1530d92eb5a4bde8aeb3b095f9941b4",
       "version_major": 2,
       "version_minor": 0
      },
      "text/plain": [
       "Epoch 24/200:   0%|          | 0/82 [00:00<?, ?batch/s]"
      ]
     },
     "metadata": {},
     "output_type": "display_data"
    },
    {
     "data": {
      "application/vnd.jupyter.widget-view+json": {
       "model_id": "81ca18ee53bf4f9c98ca747b9146b0e4",
       "version_major": 2,
       "version_minor": 0
      },
      "text/plain": [
       "Epoch 25/200:   0%|          | 0/82 [00:00<?, ?batch/s]"
      ]
     },
     "metadata": {},
     "output_type": "display_data"
    },
    {
     "data": {
      "application/vnd.jupyter.widget-view+json": {
       "model_id": "68bae1f4cb5f4b59939eb9ff14740eed",
       "version_major": 2,
       "version_minor": 0
      },
      "text/plain": [
       "Epoch 26/200:   0%|          | 0/82 [00:00<?, ?batch/s]"
      ]
     },
     "metadata": {},
     "output_type": "display_data"
    },
    {
     "data": {
      "application/vnd.jupyter.widget-view+json": {
       "model_id": "a4ec93664e9d4fcda18171d6eeae98e7",
       "version_major": 2,
       "version_minor": 0
      },
      "text/plain": [
       "Epoch 27/200:   0%|          | 0/82 [00:00<?, ?batch/s]"
      ]
     },
     "metadata": {},
     "output_type": "display_data"
    },
    {
     "data": {
      "application/vnd.jupyter.widget-view+json": {
       "model_id": "87379fb5195842ec81c697016a499548",
       "version_major": 2,
       "version_minor": 0
      },
      "text/plain": [
       "Epoch 28/200:   0%|          | 0/82 [00:00<?, ?batch/s]"
      ]
     },
     "metadata": {},
     "output_type": "display_data"
    },
    {
     "data": {
      "application/vnd.jupyter.widget-view+json": {
       "model_id": "e8f085d59a4c4fcfad45fc5e7b79caf4",
       "version_major": 2,
       "version_minor": 0
      },
      "text/plain": [
       "Epoch 29/200:   0%|          | 0/82 [00:00<?, ?batch/s]"
      ]
     },
     "metadata": {},
     "output_type": "display_data"
    },
    {
     "data": {
      "application/vnd.jupyter.widget-view+json": {
       "model_id": "740fcd1acbdc4172b888f8c5cfd59ae8",
       "version_major": 2,
       "version_minor": 0
      },
      "text/plain": [
       "Epoch 30/200:   0%|          | 0/82 [00:00<?, ?batch/s]"
      ]
     },
     "metadata": {},
     "output_type": "display_data"
    },
    {
     "data": {
      "application/vnd.jupyter.widget-view+json": {
       "model_id": "b611b0cecbd24cffabada69ababa55e3",
       "version_major": 2,
       "version_minor": 0
      },
      "text/plain": [
       "Epoch 31/200:   0%|          | 0/82 [00:00<?, ?batch/s]"
      ]
     },
     "metadata": {},
     "output_type": "display_data"
    },
    {
     "data": {
      "application/vnd.jupyter.widget-view+json": {
       "model_id": "c21bd71c704e4bc0806f86f82e4a697e",
       "version_major": 2,
       "version_minor": 0
      },
      "text/plain": [
       "Epoch 32/200:   0%|          | 0/82 [00:00<?, ?batch/s]"
      ]
     },
     "metadata": {},
     "output_type": "display_data"
    },
    {
     "data": {
      "application/vnd.jupyter.widget-view+json": {
       "model_id": "bc3a0c9501844938840764d3e2278b5b",
       "version_major": 2,
       "version_minor": 0
      },
      "text/plain": [
       "Epoch 33/200:   0%|          | 0/82 [00:00<?, ?batch/s]"
      ]
     },
     "metadata": {},
     "output_type": "display_data"
    },
    {
     "data": {
      "application/vnd.jupyter.widget-view+json": {
       "model_id": "7b659c9d19a34dbe964ff23ef13c3e7c",
       "version_major": 2,
       "version_minor": 0
      },
      "text/plain": [
       "Epoch 34/200:   0%|          | 0/82 [00:00<?, ?batch/s]"
      ]
     },
     "metadata": {},
     "output_type": "display_data"
    },
    {
     "data": {
      "application/vnd.jupyter.widget-view+json": {
       "model_id": "caf7c14388084ed193979556abc42b49",
       "version_major": 2,
       "version_minor": 0
      },
      "text/plain": [
       "Epoch 35/200:   0%|          | 0/82 [00:00<?, ?batch/s]"
      ]
     },
     "metadata": {},
     "output_type": "display_data"
    },
    {
     "data": {
      "application/vnd.jupyter.widget-view+json": {
       "model_id": "0b007e140c694d87bcbbc304d822b927",
       "version_major": 2,
       "version_minor": 0
      },
      "text/plain": [
       "Epoch 36/200:   0%|          | 0/82 [00:00<?, ?batch/s]"
      ]
     },
     "metadata": {},
     "output_type": "display_data"
    },
    {
     "data": {
      "application/vnd.jupyter.widget-view+json": {
       "model_id": "7053f36acc424a2d8edbc8ae12a14186",
       "version_major": 2,
       "version_minor": 0
      },
      "text/plain": [
       "Epoch 37/200:   0%|          | 0/82 [00:00<?, ?batch/s]"
      ]
     },
     "metadata": {},
     "output_type": "display_data"
    },
    {
     "data": {
      "application/vnd.jupyter.widget-view+json": {
       "model_id": "a361840699dc49ccaaf28627af32a048",
       "version_major": 2,
       "version_minor": 0
      },
      "text/plain": [
       "Epoch 38/200:   0%|          | 0/82 [00:00<?, ?batch/s]"
      ]
     },
     "metadata": {},
     "output_type": "display_data"
    },
    {
     "data": {
      "application/vnd.jupyter.widget-view+json": {
       "model_id": "ef71140a028a4af995b65c53678347c0",
       "version_major": 2,
       "version_minor": 0
      },
      "text/plain": [
       "Epoch 39/200:   0%|          | 0/82 [00:00<?, ?batch/s]"
      ]
     },
     "metadata": {},
     "output_type": "display_data"
    },
    {
     "data": {
      "application/vnd.jupyter.widget-view+json": {
       "model_id": "e750f305666f40b88cf1b59f468383b8",
       "version_major": 2,
       "version_minor": 0
      },
      "text/plain": [
       "Epoch 40/200:   0%|          | 0/82 [00:00<?, ?batch/s]"
      ]
     },
     "metadata": {},
     "output_type": "display_data"
    },
    {
     "data": {
      "application/vnd.jupyter.widget-view+json": {
       "model_id": "ae633eff0d2747ad9c43bdc8816ac592",
       "version_major": 2,
       "version_minor": 0
      },
      "text/plain": [
       "Epoch 41/200:   0%|          | 0/82 [00:00<?, ?batch/s]"
      ]
     },
     "metadata": {},
     "output_type": "display_data"
    },
    {
     "data": {
      "application/vnd.jupyter.widget-view+json": {
       "model_id": "0c8d646280e14538aace73825b8486fa",
       "version_major": 2,
       "version_minor": 0
      },
      "text/plain": [
       "Epoch 42/200:   0%|          | 0/82 [00:00<?, ?batch/s]"
      ]
     },
     "metadata": {},
     "output_type": "display_data"
    },
    {
     "data": {
      "application/vnd.jupyter.widget-view+json": {
       "model_id": "2531a6f632554a93b398de799d396568",
       "version_major": 2,
       "version_minor": 0
      },
      "text/plain": [
       "Epoch 43/200:   0%|          | 0/82 [00:00<?, ?batch/s]"
      ]
     },
     "metadata": {},
     "output_type": "display_data"
    },
    {
     "data": {
      "application/vnd.jupyter.widget-view+json": {
       "model_id": "0298cc7ee1d04a84a3a43adbad54e32a",
       "version_major": 2,
       "version_minor": 0
      },
      "text/plain": [
       "Epoch 44/200:   0%|          | 0/82 [00:00<?, ?batch/s]"
      ]
     },
     "metadata": {},
     "output_type": "display_data"
    },
    {
     "data": {
      "application/vnd.jupyter.widget-view+json": {
       "model_id": "45963e1474ad4b30882e9581cdb0c033",
       "version_major": 2,
       "version_minor": 0
      },
      "text/plain": [
       "Epoch 45/200:   0%|          | 0/82 [00:00<?, ?batch/s]"
      ]
     },
     "metadata": {},
     "output_type": "display_data"
    },
    {
     "data": {
      "application/vnd.jupyter.widget-view+json": {
       "model_id": "f3ac859e023845308105472b0e1168a7",
       "version_major": 2,
       "version_minor": 0
      },
      "text/plain": [
       "Epoch 46/200:   0%|          | 0/82 [00:00<?, ?batch/s]"
      ]
     },
     "metadata": {},
     "output_type": "display_data"
    },
    {
     "data": {
      "application/vnd.jupyter.widget-view+json": {
       "model_id": "34f457eaabf149c990edf091de11705b",
       "version_major": 2,
       "version_minor": 0
      },
      "text/plain": [
       "Epoch 47/200:   0%|          | 0/82 [00:00<?, ?batch/s]"
      ]
     },
     "metadata": {},
     "output_type": "display_data"
    },
    {
     "data": {
      "application/vnd.jupyter.widget-view+json": {
       "model_id": "9629bd32d3944c368f61c96894495b0c",
       "version_major": 2,
       "version_minor": 0
      },
      "text/plain": [
       "Epoch 48/200:   0%|          | 0/82 [00:00<?, ?batch/s]"
      ]
     },
     "metadata": {},
     "output_type": "display_data"
    },
    {
     "data": {
      "application/vnd.jupyter.widget-view+json": {
       "model_id": "48a6728ba45248a4b05895111bb83a8f",
       "version_major": 2,
       "version_minor": 0
      },
      "text/plain": [
       "Epoch 49/200:   0%|          | 0/82 [00:00<?, ?batch/s]"
      ]
     },
     "metadata": {},
     "output_type": "display_data"
    },
    {
     "data": {
      "application/vnd.jupyter.widget-view+json": {
       "model_id": "e8bc13fd6df74c93929e869061880621",
       "version_major": 2,
       "version_minor": 0
      },
      "text/plain": [
       "Epoch 50/200:   0%|          | 0/82 [00:00<?, ?batch/s]"
      ]
     },
     "metadata": {},
     "output_type": "display_data"
    },
    {
     "data": {
      "application/vnd.jupyter.widget-view+json": {
       "model_id": "0f4d36b291aa421d939082baf98fb12c",
       "version_major": 2,
       "version_minor": 0
      },
      "text/plain": [
       "Epoch 51/200:   0%|          | 0/82 [00:00<?, ?batch/s]"
      ]
     },
     "metadata": {},
     "output_type": "display_data"
    },
    {
     "data": {
      "application/vnd.jupyter.widget-view+json": {
       "model_id": "15774a1d59f34d8da582f18f1a8b0fea",
       "version_major": 2,
       "version_minor": 0
      },
      "text/plain": [
       "Epoch 52/200:   0%|          | 0/82 [00:00<?, ?batch/s]"
      ]
     },
     "metadata": {},
     "output_type": "display_data"
    },
    {
     "data": {
      "application/vnd.jupyter.widget-view+json": {
       "model_id": "a0c6692adbca4a578fe87951867afffc",
       "version_major": 2,
       "version_minor": 0
      },
      "text/plain": [
       "Epoch 53/200:   0%|          | 0/82 [00:00<?, ?batch/s]"
      ]
     },
     "metadata": {},
     "output_type": "display_data"
    },
    {
     "data": {
      "application/vnd.jupyter.widget-view+json": {
       "model_id": "56163570322547dcbc4e83b49cf2fbf0",
       "version_major": 2,
       "version_minor": 0
      },
      "text/plain": [
       "Epoch 54/200:   0%|          | 0/82 [00:00<?, ?batch/s]"
      ]
     },
     "metadata": {},
     "output_type": "display_data"
    },
    {
     "data": {
      "application/vnd.jupyter.widget-view+json": {
       "model_id": "58363629db2e4a1584b04c124cdb3633",
       "version_major": 2,
       "version_minor": 0
      },
      "text/plain": [
       "Epoch 55/200:   0%|          | 0/82 [00:00<?, ?batch/s]"
      ]
     },
     "metadata": {},
     "output_type": "display_data"
    },
    {
     "data": {
      "application/vnd.jupyter.widget-view+json": {
       "model_id": "c53986401e63434892b734838fb47342",
       "version_major": 2,
       "version_minor": 0
      },
      "text/plain": [
       "Epoch 56/200:   0%|          | 0/82 [00:00<?, ?batch/s]"
      ]
     },
     "metadata": {},
     "output_type": "display_data"
    },
    {
     "data": {
      "application/vnd.jupyter.widget-view+json": {
       "model_id": "e94b4d7799bc43b1890594be64185406",
       "version_major": 2,
       "version_minor": 0
      },
      "text/plain": [
       "Epoch 57/200:   0%|          | 0/82 [00:00<?, ?batch/s]"
      ]
     },
     "metadata": {},
     "output_type": "display_data"
    },
    {
     "data": {
      "application/vnd.jupyter.widget-view+json": {
       "model_id": "9ff962a902ba4c46abffe0574a22a5fb",
       "version_major": 2,
       "version_minor": 0
      },
      "text/plain": [
       "Epoch 58/200:   0%|          | 0/82 [00:00<?, ?batch/s]"
      ]
     },
     "metadata": {},
     "output_type": "display_data"
    },
    {
     "data": {
      "application/vnd.jupyter.widget-view+json": {
       "model_id": "46ac5d666f7e492f9183ff2596d1aa9b",
       "version_major": 2,
       "version_minor": 0
      },
      "text/plain": [
       "Epoch 59/200:   0%|          | 0/82 [00:00<?, ?batch/s]"
      ]
     },
     "metadata": {},
     "output_type": "display_data"
    },
    {
     "data": {
      "application/vnd.jupyter.widget-view+json": {
       "model_id": "d7ad27c3a99044119e2f520dc3f731cd",
       "version_major": 2,
       "version_minor": 0
      },
      "text/plain": [
       "Epoch 60/200:   0%|          | 0/82 [00:00<?, ?batch/s]"
      ]
     },
     "metadata": {},
     "output_type": "display_data"
    },
    {
     "data": {
      "application/vnd.jupyter.widget-view+json": {
       "model_id": "19d9bb1c634043048c4bc6d44abda699",
       "version_major": 2,
       "version_minor": 0
      },
      "text/plain": [
       "Epoch 61/200:   0%|          | 0/82 [00:00<?, ?batch/s]"
      ]
     },
     "metadata": {},
     "output_type": "display_data"
    },
    {
     "data": {
      "application/vnd.jupyter.widget-view+json": {
       "model_id": "8b2e58284e4f464b8f462867e1656c91",
       "version_major": 2,
       "version_minor": 0
      },
      "text/plain": [
       "Epoch 62/200:   0%|          | 0/82 [00:00<?, ?batch/s]"
      ]
     },
     "metadata": {},
     "output_type": "display_data"
    },
    {
     "data": {
      "application/vnd.jupyter.widget-view+json": {
       "model_id": "060643b962d04de69fb217d02e5f6ddb",
       "version_major": 2,
       "version_minor": 0
      },
      "text/plain": [
       "Epoch 63/200:   0%|          | 0/82 [00:00<?, ?batch/s]"
      ]
     },
     "metadata": {},
     "output_type": "display_data"
    },
    {
     "data": {
      "application/vnd.jupyter.widget-view+json": {
       "model_id": "32a37672efac4aa5a78c61475c604d68",
       "version_major": 2,
       "version_minor": 0
      },
      "text/plain": [
       "Epoch 64/200:   0%|          | 0/82 [00:00<?, ?batch/s]"
      ]
     },
     "metadata": {},
     "output_type": "display_data"
    },
    {
     "data": {
      "application/vnd.jupyter.widget-view+json": {
       "model_id": "0b8e37b144c249d3818b03400638cb83",
       "version_major": 2,
       "version_minor": 0
      },
      "text/plain": [
       "Epoch 65/200:   0%|          | 0/82 [00:00<?, ?batch/s]"
      ]
     },
     "metadata": {},
     "output_type": "display_data"
    },
    {
     "data": {
      "application/vnd.jupyter.widget-view+json": {
       "model_id": "edbf57aac29d42a39c6594f3110d06e2",
       "version_major": 2,
       "version_minor": 0
      },
      "text/plain": [
       "Epoch 66/200:   0%|          | 0/82 [00:00<?, ?batch/s]"
      ]
     },
     "metadata": {},
     "output_type": "display_data"
    },
    {
     "data": {
      "application/vnd.jupyter.widget-view+json": {
       "model_id": "c94aaa2e41924a548fbed5b3367dfaaf",
       "version_major": 2,
       "version_minor": 0
      },
      "text/plain": [
       "Epoch 67/200:   0%|          | 0/82 [00:00<?, ?batch/s]"
      ]
     },
     "metadata": {},
     "output_type": "display_data"
    },
    {
     "data": {
      "application/vnd.jupyter.widget-view+json": {
       "model_id": "96b4e90381c2468a86e742652b957229",
       "version_major": 2,
       "version_minor": 0
      },
      "text/plain": [
       "Epoch 68/200:   0%|          | 0/82 [00:00<?, ?batch/s]"
      ]
     },
     "metadata": {},
     "output_type": "display_data"
    },
    {
     "data": {
      "application/vnd.jupyter.widget-view+json": {
       "model_id": "2b979cc6ecd74d20adb572e42b02a0e5",
       "version_major": 2,
       "version_minor": 0
      },
      "text/plain": [
       "Epoch 69/200:   0%|          | 0/82 [00:00<?, ?batch/s]"
      ]
     },
     "metadata": {},
     "output_type": "display_data"
    },
    {
     "data": {
      "application/vnd.jupyter.widget-view+json": {
       "model_id": "0ca52c9dfbb14e40a88a3343b1b37a95",
       "version_major": 2,
       "version_minor": 0
      },
      "text/plain": [
       "Epoch 70/200:   0%|          | 0/82 [00:00<?, ?batch/s]"
      ]
     },
     "metadata": {},
     "output_type": "display_data"
    },
    {
     "data": {
      "application/vnd.jupyter.widget-view+json": {
       "model_id": "db6dc264130e464b95ddc4bd4bf52706",
       "version_major": 2,
       "version_minor": 0
      },
      "text/plain": [
       "Epoch 71/200:   0%|          | 0/82 [00:00<?, ?batch/s]"
      ]
     },
     "metadata": {},
     "output_type": "display_data"
    },
    {
     "data": {
      "application/vnd.jupyter.widget-view+json": {
       "model_id": "a5750e1f8fdc4ffd9eba0f9a8e1ccf2a",
       "version_major": 2,
       "version_minor": 0
      },
      "text/plain": [
       "Epoch 72/200:   0%|          | 0/82 [00:00<?, ?batch/s]"
      ]
     },
     "metadata": {},
     "output_type": "display_data"
    },
    {
     "data": {
      "application/vnd.jupyter.widget-view+json": {
       "model_id": "35ff640f30b84aadba816ab8ff8172a8",
       "version_major": 2,
       "version_minor": 0
      },
      "text/plain": [
       "Epoch 73/200:   0%|          | 0/82 [00:00<?, ?batch/s]"
      ]
     },
     "metadata": {},
     "output_type": "display_data"
    },
    {
     "data": {
      "application/vnd.jupyter.widget-view+json": {
       "model_id": "49e2e81f9c2f459c8d118860fa7c1174",
       "version_major": 2,
       "version_minor": 0
      },
      "text/plain": [
       "Epoch 74/200:   0%|          | 0/82 [00:00<?, ?batch/s]"
      ]
     },
     "metadata": {},
     "output_type": "display_data"
    },
    {
     "data": {
      "application/vnd.jupyter.widget-view+json": {
       "model_id": "c5b4cca0de2c4d5e99855b0ec34958c4",
       "version_major": 2,
       "version_minor": 0
      },
      "text/plain": [
       "Epoch 75/200:   0%|          | 0/82 [00:00<?, ?batch/s]"
      ]
     },
     "metadata": {},
     "output_type": "display_data"
    },
    {
     "data": {
      "application/vnd.jupyter.widget-view+json": {
       "model_id": "055627463f864d24a03efca91ef5f41e",
       "version_major": 2,
       "version_minor": 0
      },
      "text/plain": [
       "Epoch 76/200:   0%|          | 0/82 [00:00<?, ?batch/s]"
      ]
     },
     "metadata": {},
     "output_type": "display_data"
    },
    {
     "data": {
      "application/vnd.jupyter.widget-view+json": {
       "model_id": "596b556734824739800aea244b0b0d11",
       "version_major": 2,
       "version_minor": 0
      },
      "text/plain": [
       "Epoch 77/200:   0%|          | 0/82 [00:00<?, ?batch/s]"
      ]
     },
     "metadata": {},
     "output_type": "display_data"
    },
    {
     "data": {
      "application/vnd.jupyter.widget-view+json": {
       "model_id": "fa6b54ae61e64eb8983603e51eb13fa5",
       "version_major": 2,
       "version_minor": 0
      },
      "text/plain": [
       "Epoch 78/200:   0%|          | 0/82 [00:00<?, ?batch/s]"
      ]
     },
     "metadata": {},
     "output_type": "display_data"
    },
    {
     "data": {
      "application/vnd.jupyter.widget-view+json": {
       "model_id": "cc75fa65d96d43ee9e10eec7409cf7b5",
       "version_major": 2,
       "version_minor": 0
      },
      "text/plain": [
       "Epoch 79/200:   0%|          | 0/82 [00:00<?, ?batch/s]"
      ]
     },
     "metadata": {},
     "output_type": "display_data"
    },
    {
     "data": {
      "application/vnd.jupyter.widget-view+json": {
       "model_id": "cfc9c4e1065e46f38a15342d15cb298b",
       "version_major": 2,
       "version_minor": 0
      },
      "text/plain": [
       "Epoch 80/200:   0%|          | 0/82 [00:00<?, ?batch/s]"
      ]
     },
     "metadata": {},
     "output_type": "display_data"
    },
    {
     "data": {
      "application/vnd.jupyter.widget-view+json": {
       "model_id": "227580a863194632ac13972ab843ef1c",
       "version_major": 2,
       "version_minor": 0
      },
      "text/plain": [
       "Epoch 81/200:   0%|          | 0/82 [00:00<?, ?batch/s]"
      ]
     },
     "metadata": {},
     "output_type": "display_data"
    },
    {
     "data": {
      "application/vnd.jupyter.widget-view+json": {
       "model_id": "eb4bd525220d4fa18092c4cca2ddbbd8",
       "version_major": 2,
       "version_minor": 0
      },
      "text/plain": [
       "Epoch 82/200:   0%|          | 0/82 [00:00<?, ?batch/s]"
      ]
     },
     "metadata": {},
     "output_type": "display_data"
    },
    {
     "data": {
      "application/vnd.jupyter.widget-view+json": {
       "model_id": "d8809a298a4346d1b16a684fbd01154e",
       "version_major": 2,
       "version_minor": 0
      },
      "text/plain": [
       "Epoch 83/200:   0%|          | 0/82 [00:00<?, ?batch/s]"
      ]
     },
     "metadata": {},
     "output_type": "display_data"
    },
    {
     "data": {
      "application/vnd.jupyter.widget-view+json": {
       "model_id": "46400bbaaaf541449ec6d33acd8b9972",
       "version_major": 2,
       "version_minor": 0
      },
      "text/plain": [
       "Epoch 84/200:   0%|          | 0/82 [00:00<?, ?batch/s]"
      ]
     },
     "metadata": {},
     "output_type": "display_data"
    },
    {
     "data": {
      "application/vnd.jupyter.widget-view+json": {
       "model_id": "4b506083a71e47bdbb192a8cb195e254",
       "version_major": 2,
       "version_minor": 0
      },
      "text/plain": [
       "Epoch 85/200:   0%|          | 0/82 [00:00<?, ?batch/s]"
      ]
     },
     "metadata": {},
     "output_type": "display_data"
    },
    {
     "data": {
      "application/vnd.jupyter.widget-view+json": {
       "model_id": "879d7ad097ab4362972206bd7970015e",
       "version_major": 2,
       "version_minor": 0
      },
      "text/plain": [
       "Epoch 86/200:   0%|          | 0/82 [00:00<?, ?batch/s]"
      ]
     },
     "metadata": {},
     "output_type": "display_data"
    },
    {
     "data": {
      "application/vnd.jupyter.widget-view+json": {
       "model_id": "fdd7308b72844b5187c176ea813dfe25",
       "version_major": 2,
       "version_minor": 0
      },
      "text/plain": [
       "Epoch 87/200:   0%|          | 0/82 [00:00<?, ?batch/s]"
      ]
     },
     "metadata": {},
     "output_type": "display_data"
    },
    {
     "data": {
      "application/vnd.jupyter.widget-view+json": {
       "model_id": "786db437017a4ea588a360600ca38668",
       "version_major": 2,
       "version_minor": 0
      },
      "text/plain": [
       "Epoch 88/200:   0%|          | 0/82 [00:00<?, ?batch/s]"
      ]
     },
     "metadata": {},
     "output_type": "display_data"
    },
    {
     "data": {
      "application/vnd.jupyter.widget-view+json": {
       "model_id": "9f73390067674f08b7d5d82b83ce9547",
       "version_major": 2,
       "version_minor": 0
      },
      "text/plain": [
       "Epoch 89/200:   0%|          | 0/82 [00:00<?, ?batch/s]"
      ]
     },
     "metadata": {},
     "output_type": "display_data"
    },
    {
     "data": {
      "application/vnd.jupyter.widget-view+json": {
       "model_id": "0512e5a8b5494b8c9ce3f9f3fd21e2da",
       "version_major": 2,
       "version_minor": 0
      },
      "text/plain": [
       "Epoch 90/200:   0%|          | 0/82 [00:00<?, ?batch/s]"
      ]
     },
     "metadata": {},
     "output_type": "display_data"
    },
    {
     "data": {
      "application/vnd.jupyter.widget-view+json": {
       "model_id": "69ad229d621940d0abe87aecbf6f14dc",
       "version_major": 2,
       "version_minor": 0
      },
      "text/plain": [
       "Epoch 91/200:   0%|          | 0/82 [00:00<?, ?batch/s]"
      ]
     },
     "metadata": {},
     "output_type": "display_data"
    },
    {
     "data": {
      "application/vnd.jupyter.widget-view+json": {
       "model_id": "cfef62d143064787aa9edbcbed630a21",
       "version_major": 2,
       "version_minor": 0
      },
      "text/plain": [
       "Epoch 92/200:   0%|          | 0/82 [00:00<?, ?batch/s]"
      ]
     },
     "metadata": {},
     "output_type": "display_data"
    },
    {
     "data": {
      "application/vnd.jupyter.widget-view+json": {
       "model_id": "7146d43882cc4f778b2584fe42669cf7",
       "version_major": 2,
       "version_minor": 0
      },
      "text/plain": [
       "Epoch 93/200:   0%|          | 0/82 [00:00<?, ?batch/s]"
      ]
     },
     "metadata": {},
     "output_type": "display_data"
    },
    {
     "data": {
      "application/vnd.jupyter.widget-view+json": {
       "model_id": "ef45a56d7f83414b89af979eaebbae91",
       "version_major": 2,
       "version_minor": 0
      },
      "text/plain": [
       "Epoch 94/200:   0%|          | 0/82 [00:00<?, ?batch/s]"
      ]
     },
     "metadata": {},
     "output_type": "display_data"
    },
    {
     "data": {
      "application/vnd.jupyter.widget-view+json": {
       "model_id": "5ed882757675462d84eb3393631d24a3",
       "version_major": 2,
       "version_minor": 0
      },
      "text/plain": [
       "Epoch 95/200:   0%|          | 0/82 [00:00<?, ?batch/s]"
      ]
     },
     "metadata": {},
     "output_type": "display_data"
    },
    {
     "data": {
      "application/vnd.jupyter.widget-view+json": {
       "model_id": "6a6915f5fd3b4c7c9acedef2f9e55a5c",
       "version_major": 2,
       "version_minor": 0
      },
      "text/plain": [
       "Epoch 96/200:   0%|          | 0/82 [00:00<?, ?batch/s]"
      ]
     },
     "metadata": {},
     "output_type": "display_data"
    },
    {
     "data": {
      "application/vnd.jupyter.widget-view+json": {
       "model_id": "42f2faef7f554055b2e9d205d30c049b",
       "version_major": 2,
       "version_minor": 0
      },
      "text/plain": [
       "Epoch 97/200:   0%|          | 0/82 [00:00<?, ?batch/s]"
      ]
     },
     "metadata": {},
     "output_type": "display_data"
    },
    {
     "data": {
      "application/vnd.jupyter.widget-view+json": {
       "model_id": "95ced42f7e7343a0928073448582c650",
       "version_major": 2,
       "version_minor": 0
      },
      "text/plain": [
       "Epoch 98/200:   0%|          | 0/82 [00:00<?, ?batch/s]"
      ]
     },
     "metadata": {},
     "output_type": "display_data"
    },
    {
     "data": {
      "application/vnd.jupyter.widget-view+json": {
       "model_id": "911dcae3379c40e1bb6542227556e540",
       "version_major": 2,
       "version_minor": 0
      },
      "text/plain": [
       "Epoch 99/200:   0%|          | 0/82 [00:00<?, ?batch/s]"
      ]
     },
     "metadata": {},
     "output_type": "display_data"
    },
    {
     "data": {
      "application/vnd.jupyter.widget-view+json": {
       "model_id": "82f19373364e4922b3247a39fb57dcd0",
       "version_major": 2,
       "version_minor": 0
      },
      "text/plain": [
       "Epoch 100/200:   0%|          | 0/82 [00:00<?, ?batch/s]"
      ]
     },
     "metadata": {},
     "output_type": "display_data"
    },
    {
     "data": {
      "application/vnd.jupyter.widget-view+json": {
       "model_id": "c53f93fd02c74ecab95ccc5a3c65c4bd",
       "version_major": 2,
       "version_minor": 0
      },
      "text/plain": [
       "Epoch 101/200:   0%|          | 0/82 [00:00<?, ?batch/s]"
      ]
     },
     "metadata": {},
     "output_type": "display_data"
    },
    {
     "data": {
      "application/vnd.jupyter.widget-view+json": {
       "model_id": "e2f7eafd6ea04a819bdc33549eb0cefd",
       "version_major": 2,
       "version_minor": 0
      },
      "text/plain": [
       "Epoch 102/200:   0%|          | 0/82 [00:00<?, ?batch/s]"
      ]
     },
     "metadata": {},
     "output_type": "display_data"
    },
    {
     "data": {
      "application/vnd.jupyter.widget-view+json": {
       "model_id": "8a1ea0007263428287335466a161d189",
       "version_major": 2,
       "version_minor": 0
      },
      "text/plain": [
       "Epoch 103/200:   0%|          | 0/82 [00:00<?, ?batch/s]"
      ]
     },
     "metadata": {},
     "output_type": "display_data"
    },
    {
     "data": {
      "application/vnd.jupyter.widget-view+json": {
       "model_id": "850cccba719546ba8de57734f2ec4c49",
       "version_major": 2,
       "version_minor": 0
      },
      "text/plain": [
       "Epoch 104/200:   0%|          | 0/82 [00:00<?, ?batch/s]"
      ]
     },
     "metadata": {},
     "output_type": "display_data"
    },
    {
     "data": {
      "application/vnd.jupyter.widget-view+json": {
       "model_id": "4e3b7c09863b40bb932354e29e823625",
       "version_major": 2,
       "version_minor": 0
      },
      "text/plain": [
       "Epoch 105/200:   0%|          | 0/82 [00:00<?, ?batch/s]"
      ]
     },
     "metadata": {},
     "output_type": "display_data"
    },
    {
     "data": {
      "application/vnd.jupyter.widget-view+json": {
       "model_id": "f46401fd31794760b819db4b4ebbee4f",
       "version_major": 2,
       "version_minor": 0
      },
      "text/plain": [
       "Epoch 106/200:   0%|          | 0/82 [00:00<?, ?batch/s]"
      ]
     },
     "metadata": {},
     "output_type": "display_data"
    },
    {
     "data": {
      "application/vnd.jupyter.widget-view+json": {
       "model_id": "b9093918f8e94966a1078e0c8dab4c18",
       "version_major": 2,
       "version_minor": 0
      },
      "text/plain": [
       "Epoch 107/200:   0%|          | 0/82 [00:00<?, ?batch/s]"
      ]
     },
     "metadata": {},
     "output_type": "display_data"
    },
    {
     "data": {
      "application/vnd.jupyter.widget-view+json": {
       "model_id": "1a3a4fbb16f94e0cae22f86e702469bd",
       "version_major": 2,
       "version_minor": 0
      },
      "text/plain": [
       "Epoch 108/200:   0%|          | 0/82 [00:00<?, ?batch/s]"
      ]
     },
     "metadata": {},
     "output_type": "display_data"
    },
    {
     "data": {
      "application/vnd.jupyter.widget-view+json": {
       "model_id": "f11a4fa207a24ca0beb0a6882a606e56",
       "version_major": 2,
       "version_minor": 0
      },
      "text/plain": [
       "Epoch 109/200:   0%|          | 0/82 [00:00<?, ?batch/s]"
      ]
     },
     "metadata": {},
     "output_type": "display_data"
    },
    {
     "data": {
      "application/vnd.jupyter.widget-view+json": {
       "model_id": "e3dae71c60404443b072af290cf57992",
       "version_major": 2,
       "version_minor": 0
      },
      "text/plain": [
       "Epoch 110/200:   0%|          | 0/82 [00:00<?, ?batch/s]"
      ]
     },
     "metadata": {},
     "output_type": "display_data"
    },
    {
     "data": {
      "application/vnd.jupyter.widget-view+json": {
       "model_id": "e94fbe5e6093478486657e49b42ababc",
       "version_major": 2,
       "version_minor": 0
      },
      "text/plain": [
       "Epoch 111/200:   0%|          | 0/82 [00:00<?, ?batch/s]"
      ]
     },
     "metadata": {},
     "output_type": "display_data"
    },
    {
     "data": {
      "application/vnd.jupyter.widget-view+json": {
       "model_id": "bdbc8139a15044ea91c62805a494eb47",
       "version_major": 2,
       "version_minor": 0
      },
      "text/plain": [
       "Epoch 112/200:   0%|          | 0/82 [00:00<?, ?batch/s]"
      ]
     },
     "metadata": {},
     "output_type": "display_data"
    },
    {
     "data": {
      "application/vnd.jupyter.widget-view+json": {
       "model_id": "d2d8d4d14a834b12a8b33bece9931ef4",
       "version_major": 2,
       "version_minor": 0
      },
      "text/plain": [
       "Epoch 113/200:   0%|          | 0/82 [00:00<?, ?batch/s]"
      ]
     },
     "metadata": {},
     "output_type": "display_data"
    },
    {
     "data": {
      "application/vnd.jupyter.widget-view+json": {
       "model_id": "133a6c557f2648869f1bb3695458e639",
       "version_major": 2,
       "version_minor": 0
      },
      "text/plain": [
       "Epoch 114/200:   0%|          | 0/82 [00:00<?, ?batch/s]"
      ]
     },
     "metadata": {},
     "output_type": "display_data"
    },
    {
     "data": {
      "application/vnd.jupyter.widget-view+json": {
       "model_id": "259d94077e364c63862bb61c0d66bea3",
       "version_major": 2,
       "version_minor": 0
      },
      "text/plain": [
       "Epoch 115/200:   0%|          | 0/82 [00:00<?, ?batch/s]"
      ]
     },
     "metadata": {},
     "output_type": "display_data"
    },
    {
     "data": {
      "application/vnd.jupyter.widget-view+json": {
       "model_id": "a32e1f33a41a4fe5b8c68f1661fcd54b",
       "version_major": 2,
       "version_minor": 0
      },
      "text/plain": [
       "Epoch 116/200:   0%|          | 0/82 [00:00<?, ?batch/s]"
      ]
     },
     "metadata": {},
     "output_type": "display_data"
    },
    {
     "data": {
      "application/vnd.jupyter.widget-view+json": {
       "model_id": "878373f8b1bd48919fe40d41f1fe4c58",
       "version_major": 2,
       "version_minor": 0
      },
      "text/plain": [
       "Epoch 117/200:   0%|          | 0/82 [00:00<?, ?batch/s]"
      ]
     },
     "metadata": {},
     "output_type": "display_data"
    },
    {
     "data": {
      "application/vnd.jupyter.widget-view+json": {
       "model_id": "77fb32b8469943d8a7472d59e59bc211",
       "version_major": 2,
       "version_minor": 0
      },
      "text/plain": [
       "Epoch 118/200:   0%|          | 0/82 [00:00<?, ?batch/s]"
      ]
     },
     "metadata": {},
     "output_type": "display_data"
    },
    {
     "data": {
      "application/vnd.jupyter.widget-view+json": {
       "model_id": "73d2068f15e647c08482a4bf3ccad0d3",
       "version_major": 2,
       "version_minor": 0
      },
      "text/plain": [
       "Epoch 119/200:   0%|          | 0/82 [00:00<?, ?batch/s]"
      ]
     },
     "metadata": {},
     "output_type": "display_data"
    },
    {
     "data": {
      "application/vnd.jupyter.widget-view+json": {
       "model_id": "06a68a7864d74403b0b39e481b79c550",
       "version_major": 2,
       "version_minor": 0
      },
      "text/plain": [
       "Epoch 120/200:   0%|          | 0/82 [00:00<?, ?batch/s]"
      ]
     },
     "metadata": {},
     "output_type": "display_data"
    },
    {
     "data": {
      "application/vnd.jupyter.widget-view+json": {
       "model_id": "e2ca8cf728214e8e9a6055777b1e92b5",
       "version_major": 2,
       "version_minor": 0
      },
      "text/plain": [
       "Epoch 121/200:   0%|          | 0/82 [00:00<?, ?batch/s]"
      ]
     },
     "metadata": {},
     "output_type": "display_data"
    },
    {
     "data": {
      "application/vnd.jupyter.widget-view+json": {
       "model_id": "5c49ceea73354312b17d2d3531789224",
       "version_major": 2,
       "version_minor": 0
      },
      "text/plain": [
       "Epoch 122/200:   0%|          | 0/82 [00:00<?, ?batch/s]"
      ]
     },
     "metadata": {},
     "output_type": "display_data"
    },
    {
     "data": {
      "application/vnd.jupyter.widget-view+json": {
       "model_id": "6223c0f9ed8c461299bcc3fafd1a2dac",
       "version_major": 2,
       "version_minor": 0
      },
      "text/plain": [
       "Epoch 123/200:   0%|          | 0/82 [00:00<?, ?batch/s]"
      ]
     },
     "metadata": {},
     "output_type": "display_data"
    },
    {
     "data": {
      "application/vnd.jupyter.widget-view+json": {
       "model_id": "724c0fd029664217a739a2c8d6ac7318",
       "version_major": 2,
       "version_minor": 0
      },
      "text/plain": [
       "Epoch 124/200:   0%|          | 0/82 [00:00<?, ?batch/s]"
      ]
     },
     "metadata": {},
     "output_type": "display_data"
    },
    {
     "data": {
      "application/vnd.jupyter.widget-view+json": {
       "model_id": "b8a26bd72c234022b4f808c2c2199ef4",
       "version_major": 2,
       "version_minor": 0
      },
      "text/plain": [
       "Epoch 125/200:   0%|          | 0/82 [00:00<?, ?batch/s]"
      ]
     },
     "metadata": {},
     "output_type": "display_data"
    },
    {
     "data": {
      "application/vnd.jupyter.widget-view+json": {
       "model_id": "540238c41d7243889031422cf4f9071d",
       "version_major": 2,
       "version_minor": 0
      },
      "text/plain": [
       "Epoch 126/200:   0%|          | 0/82 [00:00<?, ?batch/s]"
      ]
     },
     "metadata": {},
     "output_type": "display_data"
    },
    {
     "data": {
      "application/vnd.jupyter.widget-view+json": {
       "model_id": "c2a0cdfe8c9e486fa624bc29a9dac6a5",
       "version_major": 2,
       "version_minor": 0
      },
      "text/plain": [
       "Epoch 127/200:   0%|          | 0/82 [00:00<?, ?batch/s]"
      ]
     },
     "metadata": {},
     "output_type": "display_data"
    },
    {
     "data": {
      "application/vnd.jupyter.widget-view+json": {
       "model_id": "2c1b284cef4d4f1198240fcc222a45eb",
       "version_major": 2,
       "version_minor": 0
      },
      "text/plain": [
       "Epoch 128/200:   0%|          | 0/82 [00:00<?, ?batch/s]"
      ]
     },
     "metadata": {},
     "output_type": "display_data"
    },
    {
     "data": {
      "application/vnd.jupyter.widget-view+json": {
       "model_id": "0330e72a0c17457b978f9b04b5958913",
       "version_major": 2,
       "version_minor": 0
      },
      "text/plain": [
       "Epoch 129/200:   0%|          | 0/82 [00:00<?, ?batch/s]"
      ]
     },
     "metadata": {},
     "output_type": "display_data"
    },
    {
     "data": {
      "application/vnd.jupyter.widget-view+json": {
       "model_id": "eae239c178374ef8bedd408c2eeb82f4",
       "version_major": 2,
       "version_minor": 0
      },
      "text/plain": [
       "Epoch 130/200:   0%|          | 0/82 [00:00<?, ?batch/s]"
      ]
     },
     "metadata": {},
     "output_type": "display_data"
    },
    {
     "data": {
      "application/vnd.jupyter.widget-view+json": {
       "model_id": "457768f8f0a94b33a2ca7a378e8d8891",
       "version_major": 2,
       "version_minor": 0
      },
      "text/plain": [
       "Epoch 131/200:   0%|          | 0/82 [00:00<?, ?batch/s]"
      ]
     },
     "metadata": {},
     "output_type": "display_data"
    },
    {
     "data": {
      "application/vnd.jupyter.widget-view+json": {
       "model_id": "d89163ca5ec14ae7b90dc46dd3b4e62d",
       "version_major": 2,
       "version_minor": 0
      },
      "text/plain": [
       "Epoch 132/200:   0%|          | 0/82 [00:00<?, ?batch/s]"
      ]
     },
     "metadata": {},
     "output_type": "display_data"
    },
    {
     "data": {
      "application/vnd.jupyter.widget-view+json": {
       "model_id": "ba85bca76d574ff29a082b9a16aa1285",
       "version_major": 2,
       "version_minor": 0
      },
      "text/plain": [
       "Epoch 133/200:   0%|          | 0/82 [00:00<?, ?batch/s]"
      ]
     },
     "metadata": {},
     "output_type": "display_data"
    },
    {
     "data": {
      "application/vnd.jupyter.widget-view+json": {
       "model_id": "9a618f3863f14fac8e7826341948f6d6",
       "version_major": 2,
       "version_minor": 0
      },
      "text/plain": [
       "Epoch 134/200:   0%|          | 0/82 [00:00<?, ?batch/s]"
      ]
     },
     "metadata": {},
     "output_type": "display_data"
    },
    {
     "data": {
      "application/vnd.jupyter.widget-view+json": {
       "model_id": "1d1ece7620f14376974e436b5c7df1f1",
       "version_major": 2,
       "version_minor": 0
      },
      "text/plain": [
       "Epoch 135/200:   0%|          | 0/82 [00:00<?, ?batch/s]"
      ]
     },
     "metadata": {},
     "output_type": "display_data"
    },
    {
     "data": {
      "application/vnd.jupyter.widget-view+json": {
       "model_id": "3dc8eacdc653478b89ddf17010ef60f6",
       "version_major": 2,
       "version_minor": 0
      },
      "text/plain": [
       "Epoch 136/200:   0%|          | 0/82 [00:00<?, ?batch/s]"
      ]
     },
     "metadata": {},
     "output_type": "display_data"
    },
    {
     "data": {
      "application/vnd.jupyter.widget-view+json": {
       "model_id": "8589638ca7e44bffbd93770c70759c86",
       "version_major": 2,
       "version_minor": 0
      },
      "text/plain": [
       "Epoch 137/200:   0%|          | 0/82 [00:00<?, ?batch/s]"
      ]
     },
     "metadata": {},
     "output_type": "display_data"
    },
    {
     "data": {
      "application/vnd.jupyter.widget-view+json": {
       "model_id": "106894e8ae7447f2be8bc57c03f400ff",
       "version_major": 2,
       "version_minor": 0
      },
      "text/plain": [
       "Epoch 138/200:   0%|          | 0/82 [00:00<?, ?batch/s]"
      ]
     },
     "metadata": {},
     "output_type": "display_data"
    },
    {
     "data": {
      "application/vnd.jupyter.widget-view+json": {
       "model_id": "3ba6b19d9a22423b98d5a83e56aefddf",
       "version_major": 2,
       "version_minor": 0
      },
      "text/plain": [
       "Epoch 139/200:   0%|          | 0/82 [00:00<?, ?batch/s]"
      ]
     },
     "metadata": {},
     "output_type": "display_data"
    },
    {
     "data": {
      "application/vnd.jupyter.widget-view+json": {
       "model_id": "73b459af687247c59b92407d73c9a294",
       "version_major": 2,
       "version_minor": 0
      },
      "text/plain": [
       "Epoch 140/200:   0%|          | 0/82 [00:00<?, ?batch/s]"
      ]
     },
     "metadata": {},
     "output_type": "display_data"
    },
    {
     "data": {
      "application/vnd.jupyter.widget-view+json": {
       "model_id": "56e9a01ceb5542999af9e99e699e0833",
       "version_major": 2,
       "version_minor": 0
      },
      "text/plain": [
       "Epoch 141/200:   0%|          | 0/82 [00:00<?, ?batch/s]"
      ]
     },
     "metadata": {},
     "output_type": "display_data"
    },
    {
     "data": {
      "application/vnd.jupyter.widget-view+json": {
       "model_id": "6e45404b26214adbbebaa27964c5f45e",
       "version_major": 2,
       "version_minor": 0
      },
      "text/plain": [
       "Epoch 142/200:   0%|          | 0/82 [00:00<?, ?batch/s]"
      ]
     },
     "metadata": {},
     "output_type": "display_data"
    },
    {
     "data": {
      "application/vnd.jupyter.widget-view+json": {
       "model_id": "cddd50b3971f473caa7dec62d624f8cb",
       "version_major": 2,
       "version_minor": 0
      },
      "text/plain": [
       "Epoch 143/200:   0%|          | 0/82 [00:00<?, ?batch/s]"
      ]
     },
     "metadata": {},
     "output_type": "display_data"
    },
    {
     "data": {
      "application/vnd.jupyter.widget-view+json": {
       "model_id": "b6e6461183984c5b943e811b0ec9e490",
       "version_major": 2,
       "version_minor": 0
      },
      "text/plain": [
       "Epoch 144/200:   0%|          | 0/82 [00:00<?, ?batch/s]"
      ]
     },
     "metadata": {},
     "output_type": "display_data"
    },
    {
     "data": {
      "application/vnd.jupyter.widget-view+json": {
       "model_id": "b71ac9922637409aaf17f43cfd1819e0",
       "version_major": 2,
       "version_minor": 0
      },
      "text/plain": [
       "Epoch 145/200:   0%|          | 0/82 [00:00<?, ?batch/s]"
      ]
     },
     "metadata": {},
     "output_type": "display_data"
    },
    {
     "data": {
      "application/vnd.jupyter.widget-view+json": {
       "model_id": "fdaf6f45088f446fa4f49b4591b1c6ed",
       "version_major": 2,
       "version_minor": 0
      },
      "text/plain": [
       "Epoch 146/200:   0%|          | 0/82 [00:00<?, ?batch/s]"
      ]
     },
     "metadata": {},
     "output_type": "display_data"
    },
    {
     "data": {
      "application/vnd.jupyter.widget-view+json": {
       "model_id": "44385d341e914062a107d2f63068a581",
       "version_major": 2,
       "version_minor": 0
      },
      "text/plain": [
       "Epoch 147/200:   0%|          | 0/82 [00:00<?, ?batch/s]"
      ]
     },
     "metadata": {},
     "output_type": "display_data"
    },
    {
     "data": {
      "application/vnd.jupyter.widget-view+json": {
       "model_id": "2890db7848ff4a9dbfa81a033d207817",
       "version_major": 2,
       "version_minor": 0
      },
      "text/plain": [
       "Epoch 148/200:   0%|          | 0/82 [00:00<?, ?batch/s]"
      ]
     },
     "metadata": {},
     "output_type": "display_data"
    },
    {
     "data": {
      "application/vnd.jupyter.widget-view+json": {
       "model_id": "467003b948124b6e825a1e70c071e750",
       "version_major": 2,
       "version_minor": 0
      },
      "text/plain": [
       "Epoch 149/200:   0%|          | 0/82 [00:00<?, ?batch/s]"
      ]
     },
     "metadata": {},
     "output_type": "display_data"
    },
    {
     "data": {
      "application/vnd.jupyter.widget-view+json": {
       "model_id": "4d5e3b33a0a34a9b9012fa5ab18d0ec5",
       "version_major": 2,
       "version_minor": 0
      },
      "text/plain": [
       "Epoch 150/200:   0%|          | 0/82 [00:00<?, ?batch/s]"
      ]
     },
     "metadata": {},
     "output_type": "display_data"
    },
    {
     "data": {
      "application/vnd.jupyter.widget-view+json": {
       "model_id": "2aafc2c984724d45999f40b8395956ba",
       "version_major": 2,
       "version_minor": 0
      },
      "text/plain": [
       "Epoch 151/200:   0%|          | 0/82 [00:00<?, ?batch/s]"
      ]
     },
     "metadata": {},
     "output_type": "display_data"
    },
    {
     "data": {
      "application/vnd.jupyter.widget-view+json": {
       "model_id": "72dff846a3f4448d82edd9a62aa86359",
       "version_major": 2,
       "version_minor": 0
      },
      "text/plain": [
       "Epoch 152/200:   0%|          | 0/82 [00:00<?, ?batch/s]"
      ]
     },
     "metadata": {},
     "output_type": "display_data"
    },
    {
     "data": {
      "application/vnd.jupyter.widget-view+json": {
       "model_id": "8c3b157fe53947aca5ae68032794ec92",
       "version_major": 2,
       "version_minor": 0
      },
      "text/plain": [
       "Epoch 153/200:   0%|          | 0/82 [00:00<?, ?batch/s]"
      ]
     },
     "metadata": {},
     "output_type": "display_data"
    },
    {
     "data": {
      "application/vnd.jupyter.widget-view+json": {
       "model_id": "ddc405c4d8cf4b1884ccf55918c5e7f5",
       "version_major": 2,
       "version_minor": 0
      },
      "text/plain": [
       "Epoch 154/200:   0%|          | 0/82 [00:00<?, ?batch/s]"
      ]
     },
     "metadata": {},
     "output_type": "display_data"
    },
    {
     "data": {
      "application/vnd.jupyter.widget-view+json": {
       "model_id": "d91fd17b5cea43548d4b4216dff9b45b",
       "version_major": 2,
       "version_minor": 0
      },
      "text/plain": [
       "Epoch 155/200:   0%|          | 0/82 [00:00<?, ?batch/s]"
      ]
     },
     "metadata": {},
     "output_type": "display_data"
    },
    {
     "data": {
      "application/vnd.jupyter.widget-view+json": {
       "model_id": "0d1eacc5d963431abf80a6df2ff9c92f",
       "version_major": 2,
       "version_minor": 0
      },
      "text/plain": [
       "Epoch 156/200:   0%|          | 0/82 [00:00<?, ?batch/s]"
      ]
     },
     "metadata": {},
     "output_type": "display_data"
    },
    {
     "data": {
      "application/vnd.jupyter.widget-view+json": {
       "model_id": "b71e9190c47d4eb9936b44044656a983",
       "version_major": 2,
       "version_minor": 0
      },
      "text/plain": [
       "Epoch 157/200:   0%|          | 0/82 [00:00<?, ?batch/s]"
      ]
     },
     "metadata": {},
     "output_type": "display_data"
    },
    {
     "data": {
      "application/vnd.jupyter.widget-view+json": {
       "model_id": "bf308e17ed064145885fb799a4b9c393",
       "version_major": 2,
       "version_minor": 0
      },
      "text/plain": [
       "Epoch 158/200:   0%|          | 0/82 [00:00<?, ?batch/s]"
      ]
     },
     "metadata": {},
     "output_type": "display_data"
    },
    {
     "data": {
      "application/vnd.jupyter.widget-view+json": {
       "model_id": "76202c63717141fe907fecc07dfa8989",
       "version_major": 2,
       "version_minor": 0
      },
      "text/plain": [
       "Epoch 159/200:   0%|          | 0/82 [00:00<?, ?batch/s]"
      ]
     },
     "metadata": {},
     "output_type": "display_data"
    },
    {
     "data": {
      "application/vnd.jupyter.widget-view+json": {
       "model_id": "a98af434a5fa4a138f54788ca5682733",
       "version_major": 2,
       "version_minor": 0
      },
      "text/plain": [
       "Epoch 160/200:   0%|          | 0/82 [00:00<?, ?batch/s]"
      ]
     },
     "metadata": {},
     "output_type": "display_data"
    },
    {
     "data": {
      "application/vnd.jupyter.widget-view+json": {
       "model_id": "e08192d4e81d4961819cc6ce50800c67",
       "version_major": 2,
       "version_minor": 0
      },
      "text/plain": [
       "Epoch 161/200:   0%|          | 0/82 [00:00<?, ?batch/s]"
      ]
     },
     "metadata": {},
     "output_type": "display_data"
    },
    {
     "data": {
      "application/vnd.jupyter.widget-view+json": {
       "model_id": "82c196557191440faac0b3944ab3f7b3",
       "version_major": 2,
       "version_minor": 0
      },
      "text/plain": [
       "Epoch 162/200:   0%|          | 0/82 [00:00<?, ?batch/s]"
      ]
     },
     "metadata": {},
     "output_type": "display_data"
    },
    {
     "data": {
      "application/vnd.jupyter.widget-view+json": {
       "model_id": "2aaf23ac1a3043868f4d2d9d7b4fa4db",
       "version_major": 2,
       "version_minor": 0
      },
      "text/plain": [
       "Epoch 163/200:   0%|          | 0/82 [00:00<?, ?batch/s]"
      ]
     },
     "metadata": {},
     "output_type": "display_data"
    },
    {
     "data": {
      "application/vnd.jupyter.widget-view+json": {
       "model_id": "c287285125684e71bc8e417eb655cede",
       "version_major": 2,
       "version_minor": 0
      },
      "text/plain": [
       "Epoch 164/200:   0%|          | 0/82 [00:00<?, ?batch/s]"
      ]
     },
     "metadata": {},
     "output_type": "display_data"
    },
    {
     "data": {
      "application/vnd.jupyter.widget-view+json": {
       "model_id": "4f26c7e7f4ad4e10bfbf2128136cb56f",
       "version_major": 2,
       "version_minor": 0
      },
      "text/plain": [
       "Epoch 165/200:   0%|          | 0/82 [00:00<?, ?batch/s]"
      ]
     },
     "metadata": {},
     "output_type": "display_data"
    },
    {
     "data": {
      "application/vnd.jupyter.widget-view+json": {
       "model_id": "d4876d09ec944aad80545fbd31679e8b",
       "version_major": 2,
       "version_minor": 0
      },
      "text/plain": [
       "Epoch 166/200:   0%|          | 0/82 [00:00<?, ?batch/s]"
      ]
     },
     "metadata": {},
     "output_type": "display_data"
    },
    {
     "data": {
      "application/vnd.jupyter.widget-view+json": {
       "model_id": "e0d42f78872c4c0c9163733e9ca72f98",
       "version_major": 2,
       "version_minor": 0
      },
      "text/plain": [
       "Epoch 167/200:   0%|          | 0/82 [00:00<?, ?batch/s]"
      ]
     },
     "metadata": {},
     "output_type": "display_data"
    },
    {
     "data": {
      "application/vnd.jupyter.widget-view+json": {
       "model_id": "ea152a92dcad42758be0910ffd34255b",
       "version_major": 2,
       "version_minor": 0
      },
      "text/plain": [
       "Epoch 168/200:   0%|          | 0/82 [00:00<?, ?batch/s]"
      ]
     },
     "metadata": {},
     "output_type": "display_data"
    },
    {
     "data": {
      "application/vnd.jupyter.widget-view+json": {
       "model_id": "ed476111a7d24c1394bca42c644f3fe8",
       "version_major": 2,
       "version_minor": 0
      },
      "text/plain": [
       "Epoch 169/200:   0%|          | 0/82 [00:00<?, ?batch/s]"
      ]
     },
     "metadata": {},
     "output_type": "display_data"
    },
    {
     "data": {
      "application/vnd.jupyter.widget-view+json": {
       "model_id": "675c5a1635c847008133ef8c5653f4ad",
       "version_major": 2,
       "version_minor": 0
      },
      "text/plain": [
       "Epoch 170/200:   0%|          | 0/82 [00:00<?, ?batch/s]"
      ]
     },
     "metadata": {},
     "output_type": "display_data"
    },
    {
     "data": {
      "application/vnd.jupyter.widget-view+json": {
       "model_id": "d1d7a52d72284ec09cd52ff12f32b549",
       "version_major": 2,
       "version_minor": 0
      },
      "text/plain": [
       "Epoch 171/200:   0%|          | 0/82 [00:00<?, ?batch/s]"
      ]
     },
     "metadata": {},
     "output_type": "display_data"
    },
    {
     "data": {
      "application/vnd.jupyter.widget-view+json": {
       "model_id": "37d1ac063a674abc921786f98d235d3c",
       "version_major": 2,
       "version_minor": 0
      },
      "text/plain": [
       "Epoch 172/200:   0%|          | 0/82 [00:00<?, ?batch/s]"
      ]
     },
     "metadata": {},
     "output_type": "display_data"
    },
    {
     "data": {
      "application/vnd.jupyter.widget-view+json": {
       "model_id": "31415f97f94a4058952ad176ae8f09b4",
       "version_major": 2,
       "version_minor": 0
      },
      "text/plain": [
       "Epoch 173/200:   0%|          | 0/82 [00:00<?, ?batch/s]"
      ]
     },
     "metadata": {},
     "output_type": "display_data"
    },
    {
     "data": {
      "application/vnd.jupyter.widget-view+json": {
       "model_id": "519caeab2c9a4ed19408b38196f25fdf",
       "version_major": 2,
       "version_minor": 0
      },
      "text/plain": [
       "Epoch 174/200:   0%|          | 0/82 [00:00<?, ?batch/s]"
      ]
     },
     "metadata": {},
     "output_type": "display_data"
    },
    {
     "data": {
      "application/vnd.jupyter.widget-view+json": {
       "model_id": "e6ee4a619bda44cdbe42eec7a837a86d",
       "version_major": 2,
       "version_minor": 0
      },
      "text/plain": [
       "Epoch 175/200:   0%|          | 0/82 [00:00<?, ?batch/s]"
      ]
     },
     "metadata": {},
     "output_type": "display_data"
    },
    {
     "data": {
      "application/vnd.jupyter.widget-view+json": {
       "model_id": "9dffb399672f4b6f9e011bfcd46a0a11",
       "version_major": 2,
       "version_minor": 0
      },
      "text/plain": [
       "Epoch 176/200:   0%|          | 0/82 [00:00<?, ?batch/s]"
      ]
     },
     "metadata": {},
     "output_type": "display_data"
    },
    {
     "data": {
      "application/vnd.jupyter.widget-view+json": {
       "model_id": "78ce306566c74f2cbf69e8715d0ea736",
       "version_major": 2,
       "version_minor": 0
      },
      "text/plain": [
       "Epoch 177/200:   0%|          | 0/82 [00:00<?, ?batch/s]"
      ]
     },
     "metadata": {},
     "output_type": "display_data"
    },
    {
     "data": {
      "application/vnd.jupyter.widget-view+json": {
       "model_id": "5ed83293abfe47649a75d1e62d85fa7f",
       "version_major": 2,
       "version_minor": 0
      },
      "text/plain": [
       "Epoch 178/200:   0%|          | 0/82 [00:00<?, ?batch/s]"
      ]
     },
     "metadata": {},
     "output_type": "display_data"
    },
    {
     "data": {
      "application/vnd.jupyter.widget-view+json": {
       "model_id": "ee39dc2e7c0544acb2734b387f395c2e",
       "version_major": 2,
       "version_minor": 0
      },
      "text/plain": [
       "Epoch 179/200:   0%|          | 0/82 [00:00<?, ?batch/s]"
      ]
     },
     "metadata": {},
     "output_type": "display_data"
    },
    {
     "data": {
      "application/vnd.jupyter.widget-view+json": {
       "model_id": "497a4dcb7a5f498d8a9f3521d5955ead",
       "version_major": 2,
       "version_minor": 0
      },
      "text/plain": [
       "Epoch 180/200:   0%|          | 0/82 [00:00<?, ?batch/s]"
      ]
     },
     "metadata": {},
     "output_type": "display_data"
    },
    {
     "data": {
      "application/vnd.jupyter.widget-view+json": {
       "model_id": "15c55bf27dba4b8e88483e3945b1cdf9",
       "version_major": 2,
       "version_minor": 0
      },
      "text/plain": [
       "Epoch 181/200:   0%|          | 0/82 [00:00<?, ?batch/s]"
      ]
     },
     "metadata": {},
     "output_type": "display_data"
    },
    {
     "data": {
      "application/vnd.jupyter.widget-view+json": {
       "model_id": "3ac9d454aefc49b9b2bc850be28e3327",
       "version_major": 2,
       "version_minor": 0
      },
      "text/plain": [
       "Epoch 182/200:   0%|          | 0/82 [00:00<?, ?batch/s]"
      ]
     },
     "metadata": {},
     "output_type": "display_data"
    },
    {
     "data": {
      "application/vnd.jupyter.widget-view+json": {
       "model_id": "38edd049139b475394f9e640769089c4",
       "version_major": 2,
       "version_minor": 0
      },
      "text/plain": [
       "Epoch 183/200:   0%|          | 0/82 [00:00<?, ?batch/s]"
      ]
     },
     "metadata": {},
     "output_type": "display_data"
    },
    {
     "data": {
      "application/vnd.jupyter.widget-view+json": {
       "model_id": "936b93c7fa7d41f18b5ec51a6227d24a",
       "version_major": 2,
       "version_minor": 0
      },
      "text/plain": [
       "Epoch 184/200:   0%|          | 0/82 [00:00<?, ?batch/s]"
      ]
     },
     "metadata": {},
     "output_type": "display_data"
    },
    {
     "data": {
      "application/vnd.jupyter.widget-view+json": {
       "model_id": "0f200bc171544883839b6c29dd6deaed",
       "version_major": 2,
       "version_minor": 0
      },
      "text/plain": [
       "Epoch 185/200:   0%|          | 0/82 [00:00<?, ?batch/s]"
      ]
     },
     "metadata": {},
     "output_type": "display_data"
    },
    {
     "data": {
      "application/vnd.jupyter.widget-view+json": {
       "model_id": "f274933303924d57a678a8662966348b",
       "version_major": 2,
       "version_minor": 0
      },
      "text/plain": [
       "Epoch 186/200:   0%|          | 0/82 [00:00<?, ?batch/s]"
      ]
     },
     "metadata": {},
     "output_type": "display_data"
    },
    {
     "data": {
      "application/vnd.jupyter.widget-view+json": {
       "model_id": "74f5c2e9e67d4f108ed8a074cec4439b",
       "version_major": 2,
       "version_minor": 0
      },
      "text/plain": [
       "Epoch 187/200:   0%|          | 0/82 [00:00<?, ?batch/s]"
      ]
     },
     "metadata": {},
     "output_type": "display_data"
    },
    {
     "data": {
      "application/vnd.jupyter.widget-view+json": {
       "model_id": "11968ec6e2f54145bb8f808230f3e5f5",
       "version_major": 2,
       "version_minor": 0
      },
      "text/plain": [
       "Epoch 188/200:   0%|          | 0/82 [00:00<?, ?batch/s]"
      ]
     },
     "metadata": {},
     "output_type": "display_data"
    },
    {
     "data": {
      "application/vnd.jupyter.widget-view+json": {
       "model_id": "53010c7e6eb748c6bce30eca9cf0f6de",
       "version_major": 2,
       "version_minor": 0
      },
      "text/plain": [
       "Epoch 189/200:   0%|          | 0/82 [00:00<?, ?batch/s]"
      ]
     },
     "metadata": {},
     "output_type": "display_data"
    },
    {
     "data": {
      "application/vnd.jupyter.widget-view+json": {
       "model_id": "86796144c8c44bfc867488d0e46d21f8",
       "version_major": 2,
       "version_minor": 0
      },
      "text/plain": [
       "Epoch 190/200:   0%|          | 0/82 [00:00<?, ?batch/s]"
      ]
     },
     "metadata": {},
     "output_type": "display_data"
    },
    {
     "data": {
      "application/vnd.jupyter.widget-view+json": {
       "model_id": "f636b37cb192411e8a7b421968b9ea01",
       "version_major": 2,
       "version_minor": 0
      },
      "text/plain": [
       "Epoch 191/200:   0%|          | 0/82 [00:00<?, ?batch/s]"
      ]
     },
     "metadata": {},
     "output_type": "display_data"
    },
    {
     "data": {
      "application/vnd.jupyter.widget-view+json": {
       "model_id": "d619d8c88dcb426c915f8d5335bcea5c",
       "version_major": 2,
       "version_minor": 0
      },
      "text/plain": [
       "Epoch 192/200:   0%|          | 0/82 [00:00<?, ?batch/s]"
      ]
     },
     "metadata": {},
     "output_type": "display_data"
    },
    {
     "data": {
      "application/vnd.jupyter.widget-view+json": {
       "model_id": "b109f8888c974d55894d2965afd70b83",
       "version_major": 2,
       "version_minor": 0
      },
      "text/plain": [
       "Epoch 193/200:   0%|          | 0/82 [00:00<?, ?batch/s]"
      ]
     },
     "metadata": {},
     "output_type": "display_data"
    },
    {
     "data": {
      "application/vnd.jupyter.widget-view+json": {
       "model_id": "7d3b714d367c4688a50271089e897fc3",
       "version_major": 2,
       "version_minor": 0
      },
      "text/plain": [
       "Epoch 194/200:   0%|          | 0/82 [00:00<?, ?batch/s]"
      ]
     },
     "metadata": {},
     "output_type": "display_data"
    },
    {
     "data": {
      "application/vnd.jupyter.widget-view+json": {
       "model_id": "807ebfb5debc4f6b9fc370427c49f5e5",
       "version_major": 2,
       "version_minor": 0
      },
      "text/plain": [
       "Epoch 195/200:   0%|          | 0/82 [00:00<?, ?batch/s]"
      ]
     },
     "metadata": {},
     "output_type": "display_data"
    },
    {
     "data": {
      "application/vnd.jupyter.widget-view+json": {
       "model_id": "410beb433b864f9c9674c3b80f8ec70e",
       "version_major": 2,
       "version_minor": 0
      },
      "text/plain": [
       "Epoch 196/200:   0%|          | 0/82 [00:00<?, ?batch/s]"
      ]
     },
     "metadata": {},
     "output_type": "display_data"
    },
    {
     "data": {
      "application/vnd.jupyter.widget-view+json": {
       "model_id": "1388bd58cc63469c9b679b53ca22df98",
       "version_major": 2,
       "version_minor": 0
      },
      "text/plain": [
       "Epoch 197/200:   0%|          | 0/82 [00:00<?, ?batch/s]"
      ]
     },
     "metadata": {},
     "output_type": "display_data"
    },
    {
     "data": {
      "application/vnd.jupyter.widget-view+json": {
       "model_id": "22d66577a93247199ae684eb979952a3",
       "version_major": 2,
       "version_minor": 0
      },
      "text/plain": [
       "Epoch 198/200:   0%|          | 0/82 [00:00<?, ?batch/s]"
      ]
     },
     "metadata": {},
     "output_type": "display_data"
    },
    {
     "data": {
      "application/vnd.jupyter.widget-view+json": {
       "model_id": "d9371e875c6a45f18759715f3aeaab9d",
       "version_major": 2,
       "version_minor": 0
      },
      "text/plain": [
       "Epoch 199/200:   0%|          | 0/82 [00:00<?, ?batch/s]"
      ]
     },
     "metadata": {},
     "output_type": "display_data"
    },
    {
     "data": {
      "application/vnd.jupyter.widget-view+json": {
       "model_id": "238077040976410cae1bf67490fd7561",
       "version_major": 2,
       "version_minor": 0
      },
      "text/plain": [
       "Epoch 200/200:   0%|          | 0/82 [00:00<?, ?batch/s]"
      ]
     },
     "metadata": {},
     "output_type": "display_data"
    },
    {
     "data": {
      "application/vnd.jupyter.widget-view+json": {
       "model_id": "12bdc0d1759e445f8f19f18068b03c54",
       "version_major": 2,
       "version_minor": 0
      },
      "text/plain": [
       "Evaluating:   0%|          | 0/21 [00:00<?, ?batch/s]"
      ]
     },
     "metadata": {},
     "output_type": "display_data"
    },
    {
     "name": "stdout",
     "output_type": "stream",
     "text": [
      "Accuracy of the model on the test data: 0.69%\n",
      "Precision: 0.6838, Recall: 0.6908, F1 Score: 0.6861\n"
     ]
    },
    {
     "name": "stderr",
     "output_type": "stream",
     "text": [
      "/usr/local/lib/python3.10/site-packages/_distutils_hack/__init__.py:18: UserWarning: Distutils was imported before Setuptools, but importing Setuptools also replaces the `distutils` module in `sys.modules`. This may lead to undesirable behaviors or errors. To avoid these issues, avoid using distutils directly, ensure that setuptools is installed in the traditional way (e.g. not an editable install), and/or make sure that setuptools is always imported before distutils.\n",
      "  warnings.warn(\n",
      "/usr/local/lib/python3.10/site-packages/_distutils_hack/__init__.py:33: UserWarning: Setuptools is replacing distutils.\n",
      "  warnings.warn(\"Setuptools is replacing distutils.\")\n"
     ]
    }
   ],
   "source": [
    "# Train and evaluate the model while tracking with MLflow\n",
    "# Ensure the experiment is created or active\n",
    "experiment = mlflow.get_experiment_by_name(EXPERIMENT_NAME)\n",
    "if experiment is None:\n",
    "    experiment_id = mlflow.create_experiment(EXPERIMENT_NAME)\n",
    "else:\n",
    "    experiment_id = experiment.experiment_id\n",
    "    if experiment.lifecycle_stage == 'deleted':\n",
    "        mlflow.tracking.MlflowClient().restore_experiment(experiment_id)\n",
    "\n",
    "# Start MLflow experiment\n",
    "mlflow.set_experiment(EXPERIMENT_NAME)\n",
    "with mlflow.start_run(run_name=RUN_NAME) as run:\n",
    "    # Log parameters\n",
    "    mlflow.log_param(\"epochs\", NUM_EPOCHS)\n",
    "    mlflow.log_param(\"batch_size\", BATCH_SIZE)\n",
    "    mlflow.log_param(\"learning_rate\", LEARNING_RATE)\n",
    "    mlflow.log_param(\"model\", \"Deep_ANN\")\n",
    "    mlflow.log_param(\"input_size\", INPUT_SIZE)\n",
    "    mlflow.log_param(\"num_classes\", NUM_CLASSES)\n",
    "    mlflow.log_param(\"dropout\", 0.1)\n",
    "\n",
    "    mlflow.log_dict(dataset.get_class_mapping(), \"class_mapping.json\")\n",
    "\n",
    "    print(\"Training in: {}\".format(DEVICE))\n",
    "    train_model(model, train_loader, optimizer, criterion, NUM_EPOCHS, device=DEVICE)\n",
    "    evaluate_model(model, test_loader, dataset,  DEVICE, img_path='../plots', run_name=RUN_NAME)\n",
    "\n",
    "    # Log the model\n",
    "    mlflow.pytorch.log_model(model, \"model\")"
   ]
  },
  {
   "cell_type": "code",
   "execution_count": null,
   "metadata": {},
   "outputs": [],
   "source": []
  },
  {
   "cell_type": "markdown",
   "metadata": {},
   "source": [
    "# CONV + BiLSTM "
   ]
  },
  {
   "cell_type": "code",
   "execution_count": 77,
   "metadata": {},
   "outputs": [],
   "source": [
    "torch.cuda.empty_cache()"
   ]
  },
  {
   "cell_type": "code",
   "execution_count": 51,
   "metadata": {},
   "outputs": [],
   "source": [
    "# Configuration\n",
    "DATA_DIR = '../data/data_normalized_exp2'\n",
    "SEQ_LENGTH = 5000\n",
    "BATCH_SIZE = 32\n",
    "NUM_EPOCHS = 40\n",
    "LEARNING_RATE = 0.00005\n",
    "EXPERIMENT_NAME = \"IEEG_Classification_CONV+BiLSTM\"\n",
    "RUN_NAME = \"CONV+BiLSTM_First\"\n",
    "DEVICE = torch.device(\"cuda\" if torch.cuda.is_available() else \"cpu\")\n",
    "INPUT_SIZE = SEQ_LENGTH"
   ]
  },
  {
   "cell_type": "code",
   "execution_count": 12,
   "metadata": {},
   "outputs": [
    {
     "name": "stderr",
     "output_type": "stream",
     "text": [
      "/tmp/ipykernel_23/485794265.py:29: UserWarning: Creating a tensor from a list of numpy.ndarrays is extremely slow. Please consider converting the list to a single numpy.ndarray with numpy.array() before converting to a tensor. (Triggered internally at ../torch/csrc/utils/tensor_new.cpp:274.)\n",
      "  self.data = torch.tensor(self.data, dtype=torch.float32)\n"
     ]
    }
   ],
   "source": [
    "dataset = IeegDataset(DATA_DIR, SEQ_LENGTH)\n",
    "train_loader, test_loader = create_data_loaders(dataset, BATCH_SIZE)\n",
    "NUM_CLASSES = len(dataset.label_encoder.classes_)\n"
   ]
  },
  {
   "cell_type": "code",
   "execution_count": 38,
   "metadata": {},
   "outputs": [],
   "source": [
    "import torch\n",
    "import torch.nn as nn\n",
    "\n",
    "class ConvBlock(nn.Module):\n",
    "    def __init__(self, input_channels, conv_neurons):\n",
    "        super(ConvBlock, self).__init__()\n",
    "        self.conv_layers = nn.ModuleList()\n",
    "        in_channels = input_channels\n",
    "\n",
    "        for out_channels in conv_neurons:\n",
    "            self.conv_layers.append(nn.Conv1d(in_channels, out_channels, kernel_size=3, padding=1))\n",
    "            in_channels = out_channels\n",
    "        \n",
    "        self.relu = nn.ReLU()\n",
    "        self.pool = nn.MaxPool1d(kernel_size=2, stride=2)\n",
    "        \n",
    "    def forward(self, x):\n",
    "        for conv in self.conv_layers:\n",
    "            x = self.pool(self.relu(conv(x)))\n",
    "        return x\n",
    "\n",
    "class ConvBiLSTM(nn.Module):\n",
    "    def __init__(self, input_channels, input_size, conv_neurons, hidden_size, num_layers, num_classes):\n",
    "        super(ConvBiLSTM, self).__init__()\n",
    "        self.conv_block = ConvBlock(input_channels, conv_neurons)\n",
    "        \n",
    "        # Calculate the output size after the convolutional block\n",
    "        conv_output_size = input_size // (2**len(conv_neurons))  # Pooling reduces the size by 2 per layer\n",
    "        lstm_input_size = conv_neurons[-1] * conv_output_size  # Number of channels from the last conv layer\n",
    "        \n",
    "        self.bilstm = nn.LSTM(input_size=lstm_input_size, hidden_size=hidden_size, num_layers=num_layers, \n",
    "                              bidirectional=False, batch_first=True)\n",
    "        self.fc = nn.Linear(hidden_size * 2, num_classes)  # 2 for bidirectional\n",
    "        \n",
    "    def forward(self, x):\n",
    "        x = self.conv_block(x)\n",
    "        \n",
    "        # Flatten the output of the conv_block correctly\n",
    "        x = x.permute(0, 2, 1)  # Change from (batch_size, channels, seq_length) to (batch_size, seq_length, channels)\n",
    "        x = x.contiguous().view(x.size(0), -1, x.size(2) * x.size(1))  # Ensure the shape matches LSTM input requirements\n",
    "        \n",
    "        # Apply biLSTM\n",
    "        x, _ = self.bilstm(x)\n",
    "        \n",
    "        # Only take the output of the last LSTM cell\n",
    "        x = self.fc(x[:, -1, :])\n",
    "        return x\n",
    "\n",
    "# Example usage\n",
    "input_channels = 1  # Number of input channels, e.g., 1 for single-channel iEEG signals\n",
    "input_size = 5000  # Sequence length\n",
    "conv_neurons = [64, 64]  # Number of neurons for each conv layer\n",
    "hidden_size = 64  # Hidden size for LSTM\n",
    "num_layers = 4  # Number of LSTM layers\n",
    "num_classes = 5  # Number of output classes\n",
    "\n"
   ]
  },
  {
   "cell_type": "markdown",
   "metadata": {},
   "source": [
    "# OTHER MODEL"
   ]
  },
  {
   "cell_type": "code",
   "execution_count": 46,
   "metadata": {},
   "outputs": [],
   "source": [
    "import torch\n",
    "import math\n",
    "import numpy as np\n",
    "import torch.nn as nn\n",
    "import torch.nn.functional as F\n",
    "from timm.models.layers import DropPath\n",
    "\n",
    "\n",
    "\n",
    "class TransformerStem(nn.Module):\n",
    "    def __init__(self, in_channels=1, out_channels=16):\n",
    "        super().__init__()\n",
    "\n",
    "        self.conv1 = nn.Conv1d(in_channels, out_channels//2, kernel_size=10, stride=2, bias=False, padding=4)\n",
    "        self.act1 = nn.GELU()\n",
    "        self.bn1 =  nn.BatchNorm1d(out_channels//2)\n",
    "\n",
    "        self.conv2 = nn.Conv1d(out_channels//2, out_channels, kernel_size=3, stride=1, bias=False,padding=1)\n",
    "        self.act2 = nn.GELU()\n",
    "        self.bn2 =  nn.BatchNorm1d(out_channels)\n",
    "\n",
    "        self.conv3 = nn.Conv1d(out_channels, out_channels, kernel_size=3, stride=2, bias=False,padding=1)\n",
    "        self.act3 = nn.GELU()\n",
    "        self.bn3 =  nn.BatchNorm1d(out_channels)\n",
    "\n",
    "        self.init_weight()\n",
    "\n",
    "    def init_weight(self):\n",
    "        for m in self.modules():\n",
    "            if isinstance(m, nn.Conv1d):\n",
    "                nn.init.kaiming_normal_(m.weight)\n",
    "                if m.bias is not None:\n",
    "                    m.bias.data.zero_()\n",
    "            elif isinstance(m, nn.BatchNorm1d):\n",
    "                m.weight.data.fill_(1)\n",
    "                m.bias.data.zero_()\n",
    "\n",
    "    def forward(self, x):\n",
    "        x = self.bn1(self.act1(self.conv1(x)))\n",
    "        x = self.bn2(self.act2(self.conv2(x)))\n",
    "        x = self.bn3(self.act3(self.conv3(x)))\n",
    "\n",
    "        return x\n",
    "\n",
    "def _make_divisible(v, divisor, min_value=None):\n",
    "    if min_value is None:\n",
    "        min_value = divisor\n",
    "    new_v = max(min_value, int(v + divisor / 2) // divisor * divisor)\n",
    "    if new_v < 0.9 * v:\n",
    "        new_v += divisor\n",
    "    return new_v\n",
    "\n",
    "class SELayer(nn.Module):\n",
    "    def __init__(self, inp, oup, reduction=4):\n",
    "        super(SELayer, self).__init__()\n",
    "        self.avg_pool = nn.AdaptiveAvgPool1d(1)\n",
    "        self.fc = nn.Sequential(\n",
    "                nn.Linear(oup, _make_divisible(inp // reduction, 8)),\n",
    "                nn.SiLU(),\n",
    "                nn.Linear(_make_divisible(inp // reduction, 8), oup),\n",
    "                nn.Sigmoid()\n",
    "        )\n",
    " \n",
    "    def forward(self, x):\n",
    "        b, c, _ = x.size()\n",
    "        y = self.avg_pool(x).view(b, c)\n",
    "        y = self.fc(y).view(b, c, 1)\n",
    "        return x * y\n",
    "\n",
    "\n",
    "class MBConv(nn.Module):\n",
    "    def __init__(self, in_channels, out_channels, stride, expand_ratio, fused):\n",
    "        super(MBConv, self).__init__()\n",
    "        assert stride in [1, 2]\n",
    "        hidden_dim = round(in_channels * expand_ratio)\n",
    "        self.identity = stride == 1 and in_channels == out_channels\n",
    "        if fused:\n",
    "            self.conv = nn.Sequential(\n",
    "                # Fused-MBConv\n",
    "                nn.Conv1d(in_channels, hidden_dim, 3, stride, 1, bias=False),\n",
    "                nn.BatchNorm1d(hidden_dim),\n",
    "                nn.SiLU(),\n",
    "                SELayer(in_channels, hidden_dim),\n",
    "                # pw-linear\n",
    "                nn.Conv1d(hidden_dim, out_channels, 1, 1, 0, bias=False),\n",
    "                nn.BatchNorm1d(out_channels),\n",
    "            )\n",
    "        else:\n",
    "             self.conv = nn.Sequential(\n",
    "                nn.Conv1d(in_channels, hidden_dim, 1, 1, 0, bias=False),\n",
    "                nn.BatchNorm1d(hidden_dim),\n",
    "                nn.SiLU(),\n",
    "                nn.Conv1d(hidden_dim, hidden_dim, 3, stride, 1, groups=hidden_dim, bias=False),\n",
    "                nn.BatchNorm1d(hidden_dim),\n",
    "                nn.SiLU(),\n",
    "                SELayer(in_channels, hidden_dim),\n",
    "                nn.Conv1d(hidden_dim, out_channels, 1, 1, 0, bias=False),\n",
    "                nn.BatchNorm1d(out_channels),\n",
    "            )\n",
    " \n",
    "    def forward(self, x):\n",
    "        if self.identity:\n",
    "            return x + self.conv(x)\n",
    "        else:\n",
    "            return self.conv(x)\n",
    "\n",
    "\n",
    "class ConvEmbedding(nn.Module):\n",
    "    def __init__(self,in_channels,out_channels,depths,stage=1):\n",
    "        super(ConvEmbedding, self).__init__()\n",
    "        self.stage = stage\n",
    "        \n",
    "        self.mbconvs = nn.ModuleList()\n",
    "        if self.stage == 1:\n",
    "            self.mbconvs.append(MBConv(in_channels,out_channels,stride=2, expand_ratio=2, fused=True))\n",
    "            self.mbconvs.append(MBConv(out_channels,out_channels,stride=1, expand_ratio=2, fused=True))\n",
    "        else:\n",
    "            self.mbconvs.append(MBConv(in_channels,out_channels,stride=2, expand_ratio=2, fused=False))\n",
    "            for _ in range(depths-1):\n",
    "                self.mbconvs.append(MBConv(out_channels,out_channels,stride=1, expand_ratio=2, fused=False))\n",
    "\n",
    "        self.norm = nn.LayerNorm(out_channels)\n",
    "        self.proj = nn.Conv1d(out_channels, out_channels, 1, 1, 0, bias=False)\n",
    "\n",
    "    def forward(self, x):\n",
    "        for _, mbconvs in enumerate(self.mbconvs):\n",
    "            x = mbconvs(x)\n",
    "        x = self.norm(self.proj(x).transpose(1,2)).transpose(1,2)\n",
    "    \n",
    "        return x\n",
    "\n",
    "\n",
    "class Mlp(nn.Module):\n",
    "    def __init__(self, in_features, hidden_features=None, out_features=None, act_layer=nn.GELU, drop=0.):\n",
    "        super().__init__()\n",
    "        out_features = in_features\n",
    "        hidden_features = hidden_features or in_features\n",
    "        self.fc1 = nn.Linear(in_features, hidden_features)\n",
    "        self.act = act_layer()\n",
    "        self.fc2 = nn.Linear(hidden_features, out_features)\n",
    "        self.drop = nn.Dropout(drop)\n",
    "\n",
    "    def forward(self, x):\n",
    "        x = self.fc1(x)\n",
    "        x = self.act(x)\n",
    "        x = self.drop(x)\n",
    "        x = self.fc2(x)\n",
    "        x = self.drop(x)\n",
    "        return x\n",
    "\n",
    "\n",
    "def conv_separable(in_channels, out_channels, stride):\n",
    "        return nn.Sequential(\n",
    "            nn.Conv1d(in_channels, in_channels, kernel_size=3, stride=stride, padding=1, groups=in_channels, bias=False),\n",
    "            nn.BatchNorm1d(in_channels),\n",
    "            nn.Conv1d(in_channels, out_channels, kernel_size=1, stride=1, padding=0, bias=False),\n",
    "            nn.BatchNorm1d(out_channels)\n",
    "        )\n",
    "\n",
    "\n",
    "class DWCONV(nn.Module):\n",
    "\n",
    "    def __init__(self, in_channels, out_channels, stride = 1):\n",
    "        super(DWCONV, self).__init__()\n",
    "        self.conv1 = nn.Conv1d(in_channels, out_channels, kernel_size = 3,\n",
    "            stride = stride, padding = 1, groups = in_channels, bias = False)\n",
    "        self.gelu1 = nn.ReLU() \n",
    "        self.bn1 = nn.BatchNorm1d(out_channels)\n",
    "        self.init_weight()\n",
    "\n",
    "    def init_weight(self):\n",
    "        for m in self.modules():\n",
    "            if isinstance(m, nn.Conv2d):\n",
    "                nn.init.kaiming_normal_(m.weight)\n",
    "                if m.bias is not None:\n",
    "                    m.bias.data.zero_()\n",
    "            elif isinstance(m, nn.BatchNorm2d):\n",
    "                m.weight.data.fill_(1)\n",
    "                m.bias.data.zero_()\n",
    "\n",
    "    def forward(self, x):\n",
    "        x = self.conv1(x)\n",
    "        x = self.gelu1(x)\n",
    "        result = self.bn1(x)\n",
    "        return result\n",
    "\n",
    "class LIL(nn.Module):\n",
    "\n",
    "    def __init__(self, in_channels, out_channels):\n",
    "        super(LIL, self).__init__()\n",
    "        self.DWConv = DWCONV(in_channels, out_channels)\n",
    "\n",
    "    def forward(self, x):\n",
    "        result = self.DWConv(x) + x\n",
    "        return result\n",
    "\n",
    "class RFFN(nn.Module):\n",
    "\n",
    "    def __init__(self, in_channels, R):\n",
    "        super(RFFN, self).__init__()\n",
    "        exp_channels = int(in_channels * R)\n",
    "        self.conv1 = nn.Sequential(\n",
    "            nn.Conv1d(in_channels, exp_channels, kernel_size = 1),\n",
    "            nn.BatchNorm1d(exp_channels),\n",
    "            nn.ReLU()\n",
    "        )\n",
    "\n",
    "        self.dwconv = nn.Sequential(\n",
    "            DWCONV(exp_channels, exp_channels),\n",
    "            nn.BatchNorm1d(exp_channels),\n",
    "            nn.ReLU()\n",
    "        )\n",
    "\n",
    "        self.conv2 = nn.Sequential(\n",
    "            nn.Conv1d(exp_channels, in_channels, 1),\n",
    "            nn.BatchNorm1d(in_channels)\n",
    "        )\n",
    "\n",
    "    def forward(self, x):\n",
    "        result = x + self.conv2(self.dwconv(self.conv1(x)))\n",
    "        return result\n",
    "\n",
    "\n",
    "class DANE(nn.Module):\n",
    "    def __init__(self, channel, reduction=16):\n",
    "        super(DANE, self).__init__()\n",
    "        self.channel = channel\n",
    "        self.fc_spatial = nn.Sequential(\n",
    "            nn.LayerNorm(channel),\n",
    "            nn.Linear(channel, 1, bias=False),\n",
    "        )\n",
    "        self.avg_pool = nn.AdaptiveAvgPool1d(1)\n",
    "        self.fc_channel = nn.Sequential(\n",
    "            nn.Linear(channel, channel // reduction, bias=False),\n",
    "            nn.SiLU(inplace=True),\n",
    "            nn.LayerNorm(channel//reduction),\n",
    "            nn.Linear(channel // reduction, channel, bias=False),\n",
    "        )\n",
    "        self.sigmoid = nn.Sigmoid()\n",
    "\n",
    "    def forward(self, x_channel,x_spatial):\n",
    "        #B L C\n",
    "        x_spatial_mask = self.fc_spatial(x_spatial.transpose(1,2)).transpose(1,2) # B 1 L\n",
    "        x_channel_mask = self.fc_channel(self.avg_pool(x_channel).transpose(1,2)).transpose(1,2) # B C 1\n",
    "        x_mask = self.sigmoid(x_spatial_mask.expand_as(x_spatial) + x_channel_mask.expand_as(x_spatial))\n",
    "        return x_spatial * x_mask + x_channel * (1 - x_mask)\n",
    "\n",
    "\n",
    "\n",
    "class ConvBlock(nn.Module):\n",
    "\n",
    "    def __init__(self, inplanes, stride, groups=1,norm_layer=nn.BatchNorm1d):\n",
    "        super(ConvBlock, self).__init__()\n",
    "        self.inplanes=inplanes\n",
    "        self.stride = stride\n",
    "        self.conv1x1_1 = nn.Sequential(nn.Conv1d(inplanes,inplanes,kernel_size=1,stride=1,padding=0,groups=groups,bias=False),\n",
    "                                        norm_layer(inplanes),\n",
    "                                        nn.SiLU(inplace=True),\n",
    "                                        nn.Conv1d(inplanes,inplanes,kernel_size=3,stride=1,padding=1,groups=inplanes,bias=False),\n",
    "                                        norm_layer(inplanes),\n",
    "                                        nn.SiLU(inplace=True),\n",
    "                                        nn.Conv1d(inplanes,inplanes,kernel_size=3,stride=1,padding=1,groups=inplanes,bias=False),\n",
    "                                        norm_layer(inplanes),\n",
    "                                        nn.SiLU(inplace=True)\n",
    "                                        )\n",
    "\n",
    "        self.conv1 = nn.Sequential(nn.Conv1d(inplanes,inplanes,kernel_size=3,stride=stride,padding=1,groups=inplanes,bias=False),\n",
    "                                    norm_layer(inplanes),\n",
    "                                    nn.SiLU(inplace=True)\n",
    "                                    )\n",
    "        self.conv1x1_2 = nn.Sequential(nn.Conv1d(inplanes,inplanes,kernel_size=1,stride=1,padding=0,groups=groups,bias=False),\n",
    "                                        norm_layer(inplanes),\n",
    "                                        nn.SiLU(inplace=True)\n",
    "                                        )\n",
    "\n",
    "    def forward(self, x):\n",
    "        out = self.conv1x1_1(x)\n",
    "        x_out = out\n",
    "        out = self.conv1(out)\n",
    "        out = self.conv1x1_2(out)\n",
    "        return x_out,out\n",
    "\n",
    "\n",
    "class SMHSA(nn.Module):\n",
    "\n",
    "    def __init__(self, channels, d_k, d_v, stride, heads, dropout,qkv_bias=False,attn_drop=0., proj_drop=0.):\n",
    "        super(SMHSA, self).__init__()\n",
    "        self.dwconv_k = DWCONV(channels, channels, stride = stride)\n",
    "        self.dwconv_v = DWCONV(channels, channels, stride = stride)\n",
    "        self.fc_q = nn.Linear(channels, heads * d_k, bias=qkv_bias)\n",
    "        self.fc_k = nn.Linear(channels, heads * d_k, bias=qkv_bias)\n",
    "        self.fc_v = nn.Linear(channels, heads * d_v, bias=qkv_bias)\n",
    "        self.fc_o = nn.Linear(heads * d_k, channels)\n",
    "\n",
    "        self.channels = channels\n",
    "        self.d_k = d_k\n",
    "        self.d_v = d_v\n",
    "        self.stride = stride\n",
    "        self.heads = heads\n",
    "        self.dropout = dropout\n",
    "        self.scaled_factor = self.d_k ** -0.5\n",
    "        self.num_patches = (self.d_k // self.stride) ** 2\n",
    "\n",
    "        self.attn_drop = nn.Dropout(attn_drop)\n",
    "        self.proj_drop = nn.Dropout(proj_drop)\n",
    "\n",
    "    def forward(self, x):\n",
    "        b, c, l = x.shape\n",
    "\n",
    "        x_reshape = x.permute(0, 2, 1) \n",
    "\n",
    "        # Get q, k, v\n",
    "        q = self.fc_q(x_reshape)\n",
    "        q = q.view(b, l, self.heads, self.d_k).permute(0, 2, 1, 3).contiguous()  \n",
    "\n",
    "        k = self.dwconv_k(x)\n",
    "        k_b, k_c, k_l = k.shape\n",
    "        k = k.view(k_b, k_c, k_l).permute(0, 2, 1).contiguous()\n",
    "        k = self.fc_k(k)\n",
    "        k = k.view(k_b, k_l, self.heads, self.d_k).permute(0, 2, 1, 3).contiguous()  \n",
    "\n",
    "        v = self.dwconv_v(x)\n",
    "        v_b, v_c, v_l = v.shape\n",
    "        v = v.view(v_b, v_c, v_l).permute(0, 2, 1).contiguous()\n",
    "        v = self.fc_v(v)\n",
    "        v = v.view(v_b, v_l, self.heads, self.d_v).permute(0, 2, 1, 3).contiguous() \n",
    "\n",
    "        attn = torch.einsum('... i d, ... j d -> ... i j', q, k) * self.scaled_factor\n",
    "        attn = torch.softmax(attn, dim = -1) \n",
    "\n",
    "        attn = self.attn_drop(attn)\n",
    "\n",
    "        result = torch.matmul(attn, v).permute(0, 2, 1, 3)\n",
    "        result = result.contiguous().view(b, l, self.heads * self.d_v)\n",
    "        result = self.fc_o(result).view(b, self.channels, -1)\n",
    "        result = self.proj_drop(result)\n",
    "        return result\n",
    "\n",
    "\n",
    "\n",
    "class MyFormerBlock(nn.Module):\n",
    "    def __init__(self,dim,d_k,num_heads, stride,mlp_ratio=4., \n",
    "                 qkv_bias=True, drop=0., attn_drop=0., drop_path=0.,\n",
    "                 act_layer=nn.GELU, norm_layer=nn.LayerNorm,R=1):\n",
    "        super(MyFormerBlock,self).__init__()  \n",
    "\n",
    "        self.dim = dim\n",
    "        self.num_heads = num_heads\n",
    "        self.mlp_ratio = mlp_ratio\n",
    "        \n",
    "        self.norm1 = norm_layer(dim)\n",
    "        self.attn = SMHSA(dim, d_k, d_k, stride, num_heads, 0.0, qkv_bias=qkv_bias,attn_drop=attn_drop, proj_drop=drop)\n",
    "\n",
    "        self.ffn = RFFN(dim, R)\n",
    "\n",
    "        self.select = DANE(channel = dim)\n",
    "\n",
    "        mlp_hidden_dim = int(dim * mlp_ratio)\n",
    "        self.mlp = Mlp(in_features=dim, hidden_features=mlp_hidden_dim, act_layer=act_layer, drop=drop)\n",
    "        self.drop_path = DropPath(drop_path) if drop_path > 0. else nn.Identity()\n",
    "        self.norm2 = norm_layer(dim)\n",
    "\n",
    "    def forward(self,x,x_downsample):\n",
    "        x = self.norm1(x.transpose(1,2)).transpose(1,2)\n",
    "        x = self.attn(x)\n",
    "        x = self.ffn(x)\n",
    "        x = self.select(x, x_downsample)\n",
    "        x = x + self.drop_path(self.mlp(self.norm2(x.transpose(1,2)))).transpose(1,2)\n",
    "        return x\n",
    "\n",
    "\n",
    "class BasicLayer(nn.Module):\n",
    "    def __init__(self, dim, d_k, depth, num_heads,stride,mlp_ratio=4., qkv_bias=True, drop=0., attn_drop=0.,\n",
    "                 drop_path=0.,norm_layer=nn.LayerNorm,pe=True):\n",
    "        super(BasicLayer,self).__init__()    \n",
    "        self.dim = dim\n",
    "        self.depth = depth\n",
    "        self.pe = pe\n",
    "\n",
    "        self.convlayer = ConvBlock(inplanes=dim,stride = 2)\n",
    "        self.maxpool = nn.MaxPool1d(kernel_size = 3, stride = 2, padding = 1)\n",
    "        self.multiresolution_con = conv_separable(2 * dim, dim, 1)\n",
    "\n",
    "        if self.pe:\n",
    "            self.lil = LIL(self.dim, self.dim)\n",
    "\n",
    "        # build transformer encoders\n",
    "        self.blocks = nn.ModuleList([\n",
    "                    MyFormerBlock(dim=dim, d_k=d_k,\n",
    "                                 num_heads=num_heads,\n",
    "                                 stride=stride, \n",
    "                                 mlp_ratio=mlp_ratio,\n",
    "                                 qkv_bias=qkv_bias, \n",
    "                                 drop=drop, attn_drop=attn_drop,\n",
    "                                 drop_path=drop_path[i] if isinstance(drop_path, list) else drop_path,\n",
    "                                 norm_layer=norm_layer)\n",
    "                    for i in range(depth)])\n",
    "\n",
    "\n",
    "    def forward(self,x):\n",
    "        x_spatial, x_inter = self.convlayer(x)\n",
    "        x_pool = self.maxpool(x)\n",
    "\n",
    "        L = x_spatial.shape[2]\n",
    "        pad_input = (L % 2 == 1)\n",
    "        if pad_input:\n",
    "            x_spatial = F.pad(x_spatial, (0, L % 2))\n",
    "\n",
    "        x0 = x_spatial[:, :, 0::2] \n",
    "        x1 = x_spatial[:, :, 1::2]  \n",
    "        x_spatial = torch.cat([x0, x1], 1)  \n",
    "        x_spatial = self.multiresolution_con(x_spatial) \n",
    "        x = x_pool + x_inter\n",
    "\n",
    "        if self.pe:\n",
    "            x = self.lil(x)\n",
    "\n",
    "        for blk in self.blocks:\n",
    "            x = blk(x, x_spatial)\n",
    "\n",
    "        return x\n",
    "\n",
    "\n",
    "\n",
    "class IEEGHCT(nn.Module):\n",
    "    def __init__(self,in_channels=1,\n",
    "                num_classes=3,  # The number of classes for recognition.\n",
    "                ce_depths=4, # MBConvs numbers of Convolutional Embeddind \n",
    "                embed_dim=8,\n",
    "                d_k=32,\n",
    "                num_heads=[1, 2, 4, 8], # The number of heads in different stages.\n",
    "                strides = [4, 4, 2, 2], # SMHSA\n",
    "                depths=[1, 2, 4, 8],  # The number of blocks in each stage.\n",
    "                mlp_ratio=4, # The MLP expansion rate.\n",
    "                qkv_bias=False,  # Whether adding bias to qkv.\n",
    "                drop_rate=0.,  # Dropout rate.\n",
    "                attn_drop_rate=0.,  # Dropout rate on attention values.\n",
    "                norm_layer=nn.LayerNorm,  # The norm layer.\n",
    "                pe=True, # Positional Embedding, LIL\n",
    "                ):\n",
    "        super(IEEGHCT,self).__init__()\n",
    "\n",
    "        self.num_classes = num_classes\n",
    "        self.depths = depths\n",
    "        self.num_layers = len(depths)\n",
    "        self.embed_dim = embed_dim\n",
    "        self.pe = pe\n",
    "        self.mlp_ratio = mlp_ratio\n",
    "\n",
    "        self.pos_drop = nn.Dropout(p=drop_rate)\n",
    "\n",
    "        # Stem layer\n",
    "        self.stem = TransformerStem(in_channels, embed_dim)\n",
    "\n",
    "        # CE Blocks\n",
    "        self.conv_embeds = nn.ModuleList()\n",
    "        for i in range(len(depths)):\n",
    "            self.conv_embeds.append(ConvEmbedding(embed_dim * 2 ** i,embed_dim * 2 ** (i+1), depths=ce_depths,stage=i+1))\n",
    "\n",
    "        # Transformer Blocks\n",
    "        self.layers = nn.ModuleList()\n",
    "        for k in range(self.num_layers):\n",
    "            layer = BasicLayer(dim=embed_dim * 2 ** (k+1),d_k=d_k,\n",
    "                                depth=depths[k],\n",
    "                                num_heads=num_heads[k],\n",
    "                                stride=strides[k],\n",
    "                                mlp_ratio=mlp_ratio,\n",
    "                                qkv_bias=qkv_bias,\n",
    "                                drop=drop_rate,\n",
    "                                attn_drop=attn_drop_rate,\n",
    "                                norm_layer=norm_layer\n",
    "                                )\n",
    "            self.layers.append(layer)\n",
    "\n",
    "        self.norm = norm_layer(embed_dim * 2 ** len(depths))\n",
    "        self.avgpool = nn.AdaptiveAvgPool1d(1)\n",
    "        self.head = nn.Linear(embed_dim * 2 ** len(depths), num_classes) if num_classes > 0 else nn.Identity()\n",
    "\n",
    "\n",
    "    def forward_features(self, x):\n",
    "        x = self.stem(x)\n",
    "        x = self.pos_drop(x)\n",
    "\n",
    "        for i in range(self.num_layers):\n",
    "            x = self.conv_embeds[i](x)\n",
    "            x = self.layers[i](x)\n",
    "\n",
    "        x = self.norm(x.transpose(1,2)).transpose(1,2)\n",
    "        return x  \n",
    "\n",
    "\n",
    "    def forward(self, x):\n",
    "        x = self.forward_features(x)  \n",
    "        x = self.avgpool(x)  \n",
    "        x = torch.flatten(x, 1)\n",
    "        x = self.head(x)\n",
    "\n",
    "        return x\n",
    "\n"
   ]
  },
  {
   "cell_type": "code",
   "execution_count": 47,
   "metadata": {},
   "outputs": [
    {
     "data": {
      "text/plain": [
       "IEEGHCT(\n",
       "  (pos_drop): Dropout(p=0.0, inplace=False)\n",
       "  (stem): TransformerStem(\n",
       "    (conv1): Conv1d(1, 4, kernel_size=(10,), stride=(2,), padding=(4,), bias=False)\n",
       "    (act1): GELU(approximate='none')\n",
       "    (bn1): BatchNorm1d(4, eps=1e-05, momentum=0.1, affine=True, track_running_stats=True)\n",
       "    (conv2): Conv1d(4, 8, kernel_size=(3,), stride=(1,), padding=(1,), bias=False)\n",
       "    (act2): GELU(approximate='none')\n",
       "    (bn2): BatchNorm1d(8, eps=1e-05, momentum=0.1, affine=True, track_running_stats=True)\n",
       "    (conv3): Conv1d(8, 8, kernel_size=(3,), stride=(2,), padding=(1,), bias=False)\n",
       "    (act3): GELU(approximate='none')\n",
       "    (bn3): BatchNorm1d(8, eps=1e-05, momentum=0.1, affine=True, track_running_stats=True)\n",
       "  )\n",
       "  (conv_embeds): ModuleList(\n",
       "    (0): ConvEmbedding(\n",
       "      (mbconvs): ModuleList(\n",
       "        (0): MBConv(\n",
       "          (conv): Sequential(\n",
       "            (0): Conv1d(8, 16, kernel_size=(3,), stride=(2,), padding=(1,), bias=False)\n",
       "            (1): BatchNorm1d(16, eps=1e-05, momentum=0.1, affine=True, track_running_stats=True)\n",
       "            (2): SiLU()\n",
       "            (3): SELayer(\n",
       "              (avg_pool): AdaptiveAvgPool1d(output_size=1)\n",
       "              (fc): Sequential(\n",
       "                (0): Linear(in_features=16, out_features=8, bias=True)\n",
       "                (1): SiLU()\n",
       "                (2): Linear(in_features=8, out_features=16, bias=True)\n",
       "                (3): Sigmoid()\n",
       "              )\n",
       "            )\n",
       "            (4): Conv1d(16, 16, kernel_size=(1,), stride=(1,), bias=False)\n",
       "            (5): BatchNorm1d(16, eps=1e-05, momentum=0.1, affine=True, track_running_stats=True)\n",
       "          )\n",
       "        )\n",
       "        (1): MBConv(\n",
       "          (conv): Sequential(\n",
       "            (0): Conv1d(16, 32, kernel_size=(3,), stride=(1,), padding=(1,), bias=False)\n",
       "            (1): BatchNorm1d(32, eps=1e-05, momentum=0.1, affine=True, track_running_stats=True)\n",
       "            (2): SiLU()\n",
       "            (3): SELayer(\n",
       "              (avg_pool): AdaptiveAvgPool1d(output_size=1)\n",
       "              (fc): Sequential(\n",
       "                (0): Linear(in_features=32, out_features=8, bias=True)\n",
       "                (1): SiLU()\n",
       "                (2): Linear(in_features=8, out_features=32, bias=True)\n",
       "                (3): Sigmoid()\n",
       "              )\n",
       "            )\n",
       "            (4): Conv1d(32, 16, kernel_size=(1,), stride=(1,), bias=False)\n",
       "            (5): BatchNorm1d(16, eps=1e-05, momentum=0.1, affine=True, track_running_stats=True)\n",
       "          )\n",
       "        )\n",
       "      )\n",
       "      (norm): LayerNorm((16,), eps=1e-05, elementwise_affine=True)\n",
       "      (proj): Conv1d(16, 16, kernel_size=(1,), stride=(1,), bias=False)\n",
       "    )\n",
       "    (1): ConvEmbedding(\n",
       "      (mbconvs): ModuleList(\n",
       "        (0): MBConv(\n",
       "          (conv): Sequential(\n",
       "            (0): Conv1d(16, 32, kernel_size=(1,), stride=(1,), bias=False)\n",
       "            (1): BatchNorm1d(32, eps=1e-05, momentum=0.1, affine=True, track_running_stats=True)\n",
       "            (2): SiLU()\n",
       "            (3): Conv1d(32, 32, kernel_size=(3,), stride=(2,), padding=(1,), groups=32, bias=False)\n",
       "            (4): BatchNorm1d(32, eps=1e-05, momentum=0.1, affine=True, track_running_stats=True)\n",
       "            (5): SiLU()\n",
       "            (6): SELayer(\n",
       "              (avg_pool): AdaptiveAvgPool1d(output_size=1)\n",
       "              (fc): Sequential(\n",
       "                (0): Linear(in_features=32, out_features=8, bias=True)\n",
       "                (1): SiLU()\n",
       "                (2): Linear(in_features=8, out_features=32, bias=True)\n",
       "                (3): Sigmoid()\n",
       "              )\n",
       "            )\n",
       "            (7): Conv1d(32, 32, kernel_size=(1,), stride=(1,), bias=False)\n",
       "            (8): BatchNorm1d(32, eps=1e-05, momentum=0.1, affine=True, track_running_stats=True)\n",
       "          )\n",
       "        )\n",
       "        (1-3): 3 x MBConv(\n",
       "          (conv): Sequential(\n",
       "            (0): Conv1d(32, 64, kernel_size=(1,), stride=(1,), bias=False)\n",
       "            (1): BatchNorm1d(64, eps=1e-05, momentum=0.1, affine=True, track_running_stats=True)\n",
       "            (2): SiLU()\n",
       "            (3): Conv1d(64, 64, kernel_size=(3,), stride=(1,), padding=(1,), groups=64, bias=False)\n",
       "            (4): BatchNorm1d(64, eps=1e-05, momentum=0.1, affine=True, track_running_stats=True)\n",
       "            (5): SiLU()\n",
       "            (6): SELayer(\n",
       "              (avg_pool): AdaptiveAvgPool1d(output_size=1)\n",
       "              (fc): Sequential(\n",
       "                (0): Linear(in_features=64, out_features=8, bias=True)\n",
       "                (1): SiLU()\n",
       "                (2): Linear(in_features=8, out_features=64, bias=True)\n",
       "                (3): Sigmoid()\n",
       "              )\n",
       "            )\n",
       "            (7): Conv1d(64, 32, kernel_size=(1,), stride=(1,), bias=False)\n",
       "            (8): BatchNorm1d(32, eps=1e-05, momentum=0.1, affine=True, track_running_stats=True)\n",
       "          )\n",
       "        )\n",
       "      )\n",
       "      (norm): LayerNorm((32,), eps=1e-05, elementwise_affine=True)\n",
       "      (proj): Conv1d(32, 32, kernel_size=(1,), stride=(1,), bias=False)\n",
       "    )\n",
       "    (2): ConvEmbedding(\n",
       "      (mbconvs): ModuleList(\n",
       "        (0): MBConv(\n",
       "          (conv): Sequential(\n",
       "            (0): Conv1d(32, 64, kernel_size=(1,), stride=(1,), bias=False)\n",
       "            (1): BatchNorm1d(64, eps=1e-05, momentum=0.1, affine=True, track_running_stats=True)\n",
       "            (2): SiLU()\n",
       "            (3): Conv1d(64, 64, kernel_size=(3,), stride=(2,), padding=(1,), groups=64, bias=False)\n",
       "            (4): BatchNorm1d(64, eps=1e-05, momentum=0.1, affine=True, track_running_stats=True)\n",
       "            (5): SiLU()\n",
       "            (6): SELayer(\n",
       "              (avg_pool): AdaptiveAvgPool1d(output_size=1)\n",
       "              (fc): Sequential(\n",
       "                (0): Linear(in_features=64, out_features=8, bias=True)\n",
       "                (1): SiLU()\n",
       "                (2): Linear(in_features=8, out_features=64, bias=True)\n",
       "                (3): Sigmoid()\n",
       "              )\n",
       "            )\n",
       "            (7): Conv1d(64, 64, kernel_size=(1,), stride=(1,), bias=False)\n",
       "            (8): BatchNorm1d(64, eps=1e-05, momentum=0.1, affine=True, track_running_stats=True)\n",
       "          )\n",
       "        )\n",
       "        (1-3): 3 x MBConv(\n",
       "          (conv): Sequential(\n",
       "            (0): Conv1d(64, 128, kernel_size=(1,), stride=(1,), bias=False)\n",
       "            (1): BatchNorm1d(128, eps=1e-05, momentum=0.1, affine=True, track_running_stats=True)\n",
       "            (2): SiLU()\n",
       "            (3): Conv1d(128, 128, kernel_size=(3,), stride=(1,), padding=(1,), groups=128, bias=False)\n",
       "            (4): BatchNorm1d(128, eps=1e-05, momentum=0.1, affine=True, track_running_stats=True)\n",
       "            (5): SiLU()\n",
       "            (6): SELayer(\n",
       "              (avg_pool): AdaptiveAvgPool1d(output_size=1)\n",
       "              (fc): Sequential(\n",
       "                (0): Linear(in_features=128, out_features=16, bias=True)\n",
       "                (1): SiLU()\n",
       "                (2): Linear(in_features=16, out_features=128, bias=True)\n",
       "                (3): Sigmoid()\n",
       "              )\n",
       "            )\n",
       "            (7): Conv1d(128, 64, kernel_size=(1,), stride=(1,), bias=False)\n",
       "            (8): BatchNorm1d(64, eps=1e-05, momentum=0.1, affine=True, track_running_stats=True)\n",
       "          )\n",
       "        )\n",
       "      )\n",
       "      (norm): LayerNorm((64,), eps=1e-05, elementwise_affine=True)\n",
       "      (proj): Conv1d(64, 64, kernel_size=(1,), stride=(1,), bias=False)\n",
       "    )\n",
       "    (3): ConvEmbedding(\n",
       "      (mbconvs): ModuleList(\n",
       "        (0): MBConv(\n",
       "          (conv): Sequential(\n",
       "            (0): Conv1d(64, 128, kernel_size=(1,), stride=(1,), bias=False)\n",
       "            (1): BatchNorm1d(128, eps=1e-05, momentum=0.1, affine=True, track_running_stats=True)\n",
       "            (2): SiLU()\n",
       "            (3): Conv1d(128, 128, kernel_size=(3,), stride=(2,), padding=(1,), groups=128, bias=False)\n",
       "            (4): BatchNorm1d(128, eps=1e-05, momentum=0.1, affine=True, track_running_stats=True)\n",
       "            (5): SiLU()\n",
       "            (6): SELayer(\n",
       "              (avg_pool): AdaptiveAvgPool1d(output_size=1)\n",
       "              (fc): Sequential(\n",
       "                (0): Linear(in_features=128, out_features=16, bias=True)\n",
       "                (1): SiLU()\n",
       "                (2): Linear(in_features=16, out_features=128, bias=True)\n",
       "                (3): Sigmoid()\n",
       "              )\n",
       "            )\n",
       "            (7): Conv1d(128, 128, kernel_size=(1,), stride=(1,), bias=False)\n",
       "            (8): BatchNorm1d(128, eps=1e-05, momentum=0.1, affine=True, track_running_stats=True)\n",
       "          )\n",
       "        )\n",
       "        (1-3): 3 x MBConv(\n",
       "          (conv): Sequential(\n",
       "            (0): Conv1d(128, 256, kernel_size=(1,), stride=(1,), bias=False)\n",
       "            (1): BatchNorm1d(256, eps=1e-05, momentum=0.1, affine=True, track_running_stats=True)\n",
       "            (2): SiLU()\n",
       "            (3): Conv1d(256, 256, kernel_size=(3,), stride=(1,), padding=(1,), groups=256, bias=False)\n",
       "            (4): BatchNorm1d(256, eps=1e-05, momentum=0.1, affine=True, track_running_stats=True)\n",
       "            (5): SiLU()\n",
       "            (6): SELayer(\n",
       "              (avg_pool): AdaptiveAvgPool1d(output_size=1)\n",
       "              (fc): Sequential(\n",
       "                (0): Linear(in_features=256, out_features=32, bias=True)\n",
       "                (1): SiLU()\n",
       "                (2): Linear(in_features=32, out_features=256, bias=True)\n",
       "                (3): Sigmoid()\n",
       "              )\n",
       "            )\n",
       "            (7): Conv1d(256, 128, kernel_size=(1,), stride=(1,), bias=False)\n",
       "            (8): BatchNorm1d(128, eps=1e-05, momentum=0.1, affine=True, track_running_stats=True)\n",
       "          )\n",
       "        )\n",
       "      )\n",
       "      (norm): LayerNorm((128,), eps=1e-05, elementwise_affine=True)\n",
       "      (proj): Conv1d(128, 128, kernel_size=(1,), stride=(1,), bias=False)\n",
       "    )\n",
       "  )\n",
       "  (layers): ModuleList(\n",
       "    (0): BasicLayer(\n",
       "      (convlayer): ConvBlock(\n",
       "        (conv1x1_1): Sequential(\n",
       "          (0): Conv1d(16, 16, kernel_size=(1,), stride=(1,), bias=False)\n",
       "          (1): BatchNorm1d(16, eps=1e-05, momentum=0.1, affine=True, track_running_stats=True)\n",
       "          (2): SiLU(inplace=True)\n",
       "          (3): Conv1d(16, 16, kernel_size=(3,), stride=(1,), padding=(1,), groups=16, bias=False)\n",
       "          (4): BatchNorm1d(16, eps=1e-05, momentum=0.1, affine=True, track_running_stats=True)\n",
       "          (5): SiLU(inplace=True)\n",
       "          (6): Conv1d(16, 16, kernel_size=(3,), stride=(1,), padding=(1,), groups=16, bias=False)\n",
       "          (7): BatchNorm1d(16, eps=1e-05, momentum=0.1, affine=True, track_running_stats=True)\n",
       "          (8): SiLU(inplace=True)\n",
       "        )\n",
       "        (conv1): Sequential(\n",
       "          (0): Conv1d(16, 16, kernel_size=(3,), stride=(2,), padding=(1,), groups=16, bias=False)\n",
       "          (1): BatchNorm1d(16, eps=1e-05, momentum=0.1, affine=True, track_running_stats=True)\n",
       "          (2): SiLU(inplace=True)\n",
       "        )\n",
       "        (conv1x1_2): Sequential(\n",
       "          (0): Conv1d(16, 16, kernel_size=(1,), stride=(1,), bias=False)\n",
       "          (1): BatchNorm1d(16, eps=1e-05, momentum=0.1, affine=True, track_running_stats=True)\n",
       "          (2): SiLU(inplace=True)\n",
       "        )\n",
       "      )\n",
       "      (maxpool): MaxPool1d(kernel_size=3, stride=2, padding=1, dilation=1, ceil_mode=False)\n",
       "      (multiresolution_con): Sequential(\n",
       "        (0): Conv1d(32, 32, kernel_size=(3,), stride=(1,), padding=(1,), groups=32, bias=False)\n",
       "        (1): BatchNorm1d(32, eps=1e-05, momentum=0.1, affine=True, track_running_stats=True)\n",
       "        (2): Conv1d(32, 16, kernel_size=(1,), stride=(1,), bias=False)\n",
       "        (3): BatchNorm1d(16, eps=1e-05, momentum=0.1, affine=True, track_running_stats=True)\n",
       "      )\n",
       "      (lil): LIL(\n",
       "        (DWConv): DWCONV(\n",
       "          (conv1): Conv1d(16, 16, kernel_size=(3,), stride=(1,), padding=(1,), groups=16, bias=False)\n",
       "          (gelu1): ReLU()\n",
       "          (bn1): BatchNorm1d(16, eps=1e-05, momentum=0.1, affine=True, track_running_stats=True)\n",
       "        )\n",
       "      )\n",
       "      (blocks): ModuleList(\n",
       "        (0): MyFormerBlock(\n",
       "          (norm1): LayerNorm((16,), eps=1e-05, elementwise_affine=True)\n",
       "          (attn): SMHSA(\n",
       "            (dwconv_k): DWCONV(\n",
       "              (conv1): Conv1d(16, 16, kernel_size=(3,), stride=(4,), padding=(1,), groups=16, bias=False)\n",
       "              (gelu1): ReLU()\n",
       "              (bn1): BatchNorm1d(16, eps=1e-05, momentum=0.1, affine=True, track_running_stats=True)\n",
       "            )\n",
       "            (dwconv_v): DWCONV(\n",
       "              (conv1): Conv1d(16, 16, kernel_size=(3,), stride=(4,), padding=(1,), groups=16, bias=False)\n",
       "              (gelu1): ReLU()\n",
       "              (bn1): BatchNorm1d(16, eps=1e-05, momentum=0.1, affine=True, track_running_stats=True)\n",
       "            )\n",
       "            (fc_q): Linear(in_features=16, out_features=32, bias=False)\n",
       "            (fc_k): Linear(in_features=16, out_features=32, bias=False)\n",
       "            (fc_v): Linear(in_features=16, out_features=32, bias=False)\n",
       "            (fc_o): Linear(in_features=32, out_features=16, bias=True)\n",
       "            (attn_drop): Dropout(p=0.0, inplace=False)\n",
       "            (proj_drop): Dropout(p=0.0, inplace=False)\n",
       "          )\n",
       "          (ffn): RFFN(\n",
       "            (conv1): Sequential(\n",
       "              (0): Conv1d(16, 16, kernel_size=(1,), stride=(1,))\n",
       "              (1): BatchNorm1d(16, eps=1e-05, momentum=0.1, affine=True, track_running_stats=True)\n",
       "              (2): ReLU()\n",
       "            )\n",
       "            (dwconv): Sequential(\n",
       "              (0): DWCONV(\n",
       "                (conv1): Conv1d(16, 16, kernel_size=(3,), stride=(1,), padding=(1,), groups=16, bias=False)\n",
       "                (gelu1): ReLU()\n",
       "                (bn1): BatchNorm1d(16, eps=1e-05, momentum=0.1, affine=True, track_running_stats=True)\n",
       "              )\n",
       "              (1): BatchNorm1d(16, eps=1e-05, momentum=0.1, affine=True, track_running_stats=True)\n",
       "              (2): ReLU()\n",
       "            )\n",
       "            (conv2): Sequential(\n",
       "              (0): Conv1d(16, 16, kernel_size=(1,), stride=(1,))\n",
       "              (1): BatchNorm1d(16, eps=1e-05, momentum=0.1, affine=True, track_running_stats=True)\n",
       "            )\n",
       "          )\n",
       "          (select): DANE(\n",
       "            (fc_spatial): Sequential(\n",
       "              (0): LayerNorm((16,), eps=1e-05, elementwise_affine=True)\n",
       "              (1): Linear(in_features=16, out_features=1, bias=False)\n",
       "            )\n",
       "            (avg_pool): AdaptiveAvgPool1d(output_size=1)\n",
       "            (fc_channel): Sequential(\n",
       "              (0): Linear(in_features=16, out_features=1, bias=False)\n",
       "              (1): SiLU(inplace=True)\n",
       "              (2): LayerNorm((1,), eps=1e-05, elementwise_affine=True)\n",
       "              (3): Linear(in_features=1, out_features=16, bias=False)\n",
       "            )\n",
       "            (sigmoid): Sigmoid()\n",
       "          )\n",
       "          (mlp): Mlp(\n",
       "            (fc1): Linear(in_features=16, out_features=64, bias=True)\n",
       "            (act): GELU(approximate='none')\n",
       "            (fc2): Linear(in_features=64, out_features=16, bias=True)\n",
       "            (drop): Dropout(p=0.0, inplace=False)\n",
       "          )\n",
       "          (drop_path): Identity()\n",
       "          (norm2): LayerNorm((16,), eps=1e-05, elementwise_affine=True)\n",
       "        )\n",
       "      )\n",
       "    )\n",
       "    (1): BasicLayer(\n",
       "      (convlayer): ConvBlock(\n",
       "        (conv1x1_1): Sequential(\n",
       "          (0): Conv1d(32, 32, kernel_size=(1,), stride=(1,), bias=False)\n",
       "          (1): BatchNorm1d(32, eps=1e-05, momentum=0.1, affine=True, track_running_stats=True)\n",
       "          (2): SiLU(inplace=True)\n",
       "          (3): Conv1d(32, 32, kernel_size=(3,), stride=(1,), padding=(1,), groups=32, bias=False)\n",
       "          (4): BatchNorm1d(32, eps=1e-05, momentum=0.1, affine=True, track_running_stats=True)\n",
       "          (5): SiLU(inplace=True)\n",
       "          (6): Conv1d(32, 32, kernel_size=(3,), stride=(1,), padding=(1,), groups=32, bias=False)\n",
       "          (7): BatchNorm1d(32, eps=1e-05, momentum=0.1, affine=True, track_running_stats=True)\n",
       "          (8): SiLU(inplace=True)\n",
       "        )\n",
       "        (conv1): Sequential(\n",
       "          (0): Conv1d(32, 32, kernel_size=(3,), stride=(2,), padding=(1,), groups=32, bias=False)\n",
       "          (1): BatchNorm1d(32, eps=1e-05, momentum=0.1, affine=True, track_running_stats=True)\n",
       "          (2): SiLU(inplace=True)\n",
       "        )\n",
       "        (conv1x1_2): Sequential(\n",
       "          (0): Conv1d(32, 32, kernel_size=(1,), stride=(1,), bias=False)\n",
       "          (1): BatchNorm1d(32, eps=1e-05, momentum=0.1, affine=True, track_running_stats=True)\n",
       "          (2): SiLU(inplace=True)\n",
       "        )\n",
       "      )\n",
       "      (maxpool): MaxPool1d(kernel_size=3, stride=2, padding=1, dilation=1, ceil_mode=False)\n",
       "      (multiresolution_con): Sequential(\n",
       "        (0): Conv1d(64, 64, kernel_size=(3,), stride=(1,), padding=(1,), groups=64, bias=False)\n",
       "        (1): BatchNorm1d(64, eps=1e-05, momentum=0.1, affine=True, track_running_stats=True)\n",
       "        (2): Conv1d(64, 32, kernel_size=(1,), stride=(1,), bias=False)\n",
       "        (3): BatchNorm1d(32, eps=1e-05, momentum=0.1, affine=True, track_running_stats=True)\n",
       "      )\n",
       "      (lil): LIL(\n",
       "        (DWConv): DWCONV(\n",
       "          (conv1): Conv1d(32, 32, kernel_size=(3,), stride=(1,), padding=(1,), groups=32, bias=False)\n",
       "          (gelu1): ReLU()\n",
       "          (bn1): BatchNorm1d(32, eps=1e-05, momentum=0.1, affine=True, track_running_stats=True)\n",
       "        )\n",
       "      )\n",
       "      (blocks): ModuleList(\n",
       "        (0-1): 2 x MyFormerBlock(\n",
       "          (norm1): LayerNorm((32,), eps=1e-05, elementwise_affine=True)\n",
       "          (attn): SMHSA(\n",
       "            (dwconv_k): DWCONV(\n",
       "              (conv1): Conv1d(32, 32, kernel_size=(3,), stride=(4,), padding=(1,), groups=32, bias=False)\n",
       "              (gelu1): ReLU()\n",
       "              (bn1): BatchNorm1d(32, eps=1e-05, momentum=0.1, affine=True, track_running_stats=True)\n",
       "            )\n",
       "            (dwconv_v): DWCONV(\n",
       "              (conv1): Conv1d(32, 32, kernel_size=(3,), stride=(4,), padding=(1,), groups=32, bias=False)\n",
       "              (gelu1): ReLU()\n",
       "              (bn1): BatchNorm1d(32, eps=1e-05, momentum=0.1, affine=True, track_running_stats=True)\n",
       "            )\n",
       "            (fc_q): Linear(in_features=32, out_features=64, bias=False)\n",
       "            (fc_k): Linear(in_features=32, out_features=64, bias=False)\n",
       "            (fc_v): Linear(in_features=32, out_features=64, bias=False)\n",
       "            (fc_o): Linear(in_features=64, out_features=32, bias=True)\n",
       "            (attn_drop): Dropout(p=0.0, inplace=False)\n",
       "            (proj_drop): Dropout(p=0.0, inplace=False)\n",
       "          )\n",
       "          (ffn): RFFN(\n",
       "            (conv1): Sequential(\n",
       "              (0): Conv1d(32, 32, kernel_size=(1,), stride=(1,))\n",
       "              (1): BatchNorm1d(32, eps=1e-05, momentum=0.1, affine=True, track_running_stats=True)\n",
       "              (2): ReLU()\n",
       "            )\n",
       "            (dwconv): Sequential(\n",
       "              (0): DWCONV(\n",
       "                (conv1): Conv1d(32, 32, kernel_size=(3,), stride=(1,), padding=(1,), groups=32, bias=False)\n",
       "                (gelu1): ReLU()\n",
       "                (bn1): BatchNorm1d(32, eps=1e-05, momentum=0.1, affine=True, track_running_stats=True)\n",
       "              )\n",
       "              (1): BatchNorm1d(32, eps=1e-05, momentum=0.1, affine=True, track_running_stats=True)\n",
       "              (2): ReLU()\n",
       "            )\n",
       "            (conv2): Sequential(\n",
       "              (0): Conv1d(32, 32, kernel_size=(1,), stride=(1,))\n",
       "              (1): BatchNorm1d(32, eps=1e-05, momentum=0.1, affine=True, track_running_stats=True)\n",
       "            )\n",
       "          )\n",
       "          (select): DANE(\n",
       "            (fc_spatial): Sequential(\n",
       "              (0): LayerNorm((32,), eps=1e-05, elementwise_affine=True)\n",
       "              (1): Linear(in_features=32, out_features=1, bias=False)\n",
       "            )\n",
       "            (avg_pool): AdaptiveAvgPool1d(output_size=1)\n",
       "            (fc_channel): Sequential(\n",
       "              (0): Linear(in_features=32, out_features=2, bias=False)\n",
       "              (1): SiLU(inplace=True)\n",
       "              (2): LayerNorm((2,), eps=1e-05, elementwise_affine=True)\n",
       "              (3): Linear(in_features=2, out_features=32, bias=False)\n",
       "            )\n",
       "            (sigmoid): Sigmoid()\n",
       "          )\n",
       "          (mlp): Mlp(\n",
       "            (fc1): Linear(in_features=32, out_features=128, bias=True)\n",
       "            (act): GELU(approximate='none')\n",
       "            (fc2): Linear(in_features=128, out_features=32, bias=True)\n",
       "            (drop): Dropout(p=0.0, inplace=False)\n",
       "          )\n",
       "          (drop_path): Identity()\n",
       "          (norm2): LayerNorm((32,), eps=1e-05, elementwise_affine=True)\n",
       "        )\n",
       "      )\n",
       "    )\n",
       "    (2): BasicLayer(\n",
       "      (convlayer): ConvBlock(\n",
       "        (conv1x1_1): Sequential(\n",
       "          (0): Conv1d(64, 64, kernel_size=(1,), stride=(1,), bias=False)\n",
       "          (1): BatchNorm1d(64, eps=1e-05, momentum=0.1, affine=True, track_running_stats=True)\n",
       "          (2): SiLU(inplace=True)\n",
       "          (3): Conv1d(64, 64, kernel_size=(3,), stride=(1,), padding=(1,), groups=64, bias=False)\n",
       "          (4): BatchNorm1d(64, eps=1e-05, momentum=0.1, affine=True, track_running_stats=True)\n",
       "          (5): SiLU(inplace=True)\n",
       "          (6): Conv1d(64, 64, kernel_size=(3,), stride=(1,), padding=(1,), groups=64, bias=False)\n",
       "          (7): BatchNorm1d(64, eps=1e-05, momentum=0.1, affine=True, track_running_stats=True)\n",
       "          (8): SiLU(inplace=True)\n",
       "        )\n",
       "        (conv1): Sequential(\n",
       "          (0): Conv1d(64, 64, kernel_size=(3,), stride=(2,), padding=(1,), groups=64, bias=False)\n",
       "          (1): BatchNorm1d(64, eps=1e-05, momentum=0.1, affine=True, track_running_stats=True)\n",
       "          (2): SiLU(inplace=True)\n",
       "        )\n",
       "        (conv1x1_2): Sequential(\n",
       "          (0): Conv1d(64, 64, kernel_size=(1,), stride=(1,), bias=False)\n",
       "          (1): BatchNorm1d(64, eps=1e-05, momentum=0.1, affine=True, track_running_stats=True)\n",
       "          (2): SiLU(inplace=True)\n",
       "        )\n",
       "      )\n",
       "      (maxpool): MaxPool1d(kernel_size=3, stride=2, padding=1, dilation=1, ceil_mode=False)\n",
       "      (multiresolution_con): Sequential(\n",
       "        (0): Conv1d(128, 128, kernel_size=(3,), stride=(1,), padding=(1,), groups=128, bias=False)\n",
       "        (1): BatchNorm1d(128, eps=1e-05, momentum=0.1, affine=True, track_running_stats=True)\n",
       "        (2): Conv1d(128, 64, kernel_size=(1,), stride=(1,), bias=False)\n",
       "        (3): BatchNorm1d(64, eps=1e-05, momentum=0.1, affine=True, track_running_stats=True)\n",
       "      )\n",
       "      (lil): LIL(\n",
       "        (DWConv): DWCONV(\n",
       "          (conv1): Conv1d(64, 64, kernel_size=(3,), stride=(1,), padding=(1,), groups=64, bias=False)\n",
       "          (gelu1): ReLU()\n",
       "          (bn1): BatchNorm1d(64, eps=1e-05, momentum=0.1, affine=True, track_running_stats=True)\n",
       "        )\n",
       "      )\n",
       "      (blocks): ModuleList(\n",
       "        (0-3): 4 x MyFormerBlock(\n",
       "          (norm1): LayerNorm((64,), eps=1e-05, elementwise_affine=True)\n",
       "          (attn): SMHSA(\n",
       "            (dwconv_k): DWCONV(\n",
       "              (conv1): Conv1d(64, 64, kernel_size=(3,), stride=(2,), padding=(1,), groups=64, bias=False)\n",
       "              (gelu1): ReLU()\n",
       "              (bn1): BatchNorm1d(64, eps=1e-05, momentum=0.1, affine=True, track_running_stats=True)\n",
       "            )\n",
       "            (dwconv_v): DWCONV(\n",
       "              (conv1): Conv1d(64, 64, kernel_size=(3,), stride=(2,), padding=(1,), groups=64, bias=False)\n",
       "              (gelu1): ReLU()\n",
       "              (bn1): BatchNorm1d(64, eps=1e-05, momentum=0.1, affine=True, track_running_stats=True)\n",
       "            )\n",
       "            (fc_q): Linear(in_features=64, out_features=128, bias=False)\n",
       "            (fc_k): Linear(in_features=64, out_features=128, bias=False)\n",
       "            (fc_v): Linear(in_features=64, out_features=128, bias=False)\n",
       "            (fc_o): Linear(in_features=128, out_features=64, bias=True)\n",
       "            (attn_drop): Dropout(p=0.0, inplace=False)\n",
       "            (proj_drop): Dropout(p=0.0, inplace=False)\n",
       "          )\n",
       "          (ffn): RFFN(\n",
       "            (conv1): Sequential(\n",
       "              (0): Conv1d(64, 64, kernel_size=(1,), stride=(1,))\n",
       "              (1): BatchNorm1d(64, eps=1e-05, momentum=0.1, affine=True, track_running_stats=True)\n",
       "              (2): ReLU()\n",
       "            )\n",
       "            (dwconv): Sequential(\n",
       "              (0): DWCONV(\n",
       "                (conv1): Conv1d(64, 64, kernel_size=(3,), stride=(1,), padding=(1,), groups=64, bias=False)\n",
       "                (gelu1): ReLU()\n",
       "                (bn1): BatchNorm1d(64, eps=1e-05, momentum=0.1, affine=True, track_running_stats=True)\n",
       "              )\n",
       "              (1): BatchNorm1d(64, eps=1e-05, momentum=0.1, affine=True, track_running_stats=True)\n",
       "              (2): ReLU()\n",
       "            )\n",
       "            (conv2): Sequential(\n",
       "              (0): Conv1d(64, 64, kernel_size=(1,), stride=(1,))\n",
       "              (1): BatchNorm1d(64, eps=1e-05, momentum=0.1, affine=True, track_running_stats=True)\n",
       "            )\n",
       "          )\n",
       "          (select): DANE(\n",
       "            (fc_spatial): Sequential(\n",
       "              (0): LayerNorm((64,), eps=1e-05, elementwise_affine=True)\n",
       "              (1): Linear(in_features=64, out_features=1, bias=False)\n",
       "            )\n",
       "            (avg_pool): AdaptiveAvgPool1d(output_size=1)\n",
       "            (fc_channel): Sequential(\n",
       "              (0): Linear(in_features=64, out_features=4, bias=False)\n",
       "              (1): SiLU(inplace=True)\n",
       "              (2): LayerNorm((4,), eps=1e-05, elementwise_affine=True)\n",
       "              (3): Linear(in_features=4, out_features=64, bias=False)\n",
       "            )\n",
       "            (sigmoid): Sigmoid()\n",
       "          )\n",
       "          (mlp): Mlp(\n",
       "            (fc1): Linear(in_features=64, out_features=256, bias=True)\n",
       "            (act): GELU(approximate='none')\n",
       "            (fc2): Linear(in_features=256, out_features=64, bias=True)\n",
       "            (drop): Dropout(p=0.0, inplace=False)\n",
       "          )\n",
       "          (drop_path): Identity()\n",
       "          (norm2): LayerNorm((64,), eps=1e-05, elementwise_affine=True)\n",
       "        )\n",
       "      )\n",
       "    )\n",
       "    (3): BasicLayer(\n",
       "      (convlayer): ConvBlock(\n",
       "        (conv1x1_1): Sequential(\n",
       "          (0): Conv1d(128, 128, kernel_size=(1,), stride=(1,), bias=False)\n",
       "          (1): BatchNorm1d(128, eps=1e-05, momentum=0.1, affine=True, track_running_stats=True)\n",
       "          (2): SiLU(inplace=True)\n",
       "          (3): Conv1d(128, 128, kernel_size=(3,), stride=(1,), padding=(1,), groups=128, bias=False)\n",
       "          (4): BatchNorm1d(128, eps=1e-05, momentum=0.1, affine=True, track_running_stats=True)\n",
       "          (5): SiLU(inplace=True)\n",
       "          (6): Conv1d(128, 128, kernel_size=(3,), stride=(1,), padding=(1,), groups=128, bias=False)\n",
       "          (7): BatchNorm1d(128, eps=1e-05, momentum=0.1, affine=True, track_running_stats=True)\n",
       "          (8): SiLU(inplace=True)\n",
       "        )\n",
       "        (conv1): Sequential(\n",
       "          (0): Conv1d(128, 128, kernel_size=(3,), stride=(2,), padding=(1,), groups=128, bias=False)\n",
       "          (1): BatchNorm1d(128, eps=1e-05, momentum=0.1, affine=True, track_running_stats=True)\n",
       "          (2): SiLU(inplace=True)\n",
       "        )\n",
       "        (conv1x1_2): Sequential(\n",
       "          (0): Conv1d(128, 128, kernel_size=(1,), stride=(1,), bias=False)\n",
       "          (1): BatchNorm1d(128, eps=1e-05, momentum=0.1, affine=True, track_running_stats=True)\n",
       "          (2): SiLU(inplace=True)\n",
       "        )\n",
       "      )\n",
       "      (maxpool): MaxPool1d(kernel_size=3, stride=2, padding=1, dilation=1, ceil_mode=False)\n",
       "      (multiresolution_con): Sequential(\n",
       "        (0): Conv1d(256, 256, kernel_size=(3,), stride=(1,), padding=(1,), groups=256, bias=False)\n",
       "        (1): BatchNorm1d(256, eps=1e-05, momentum=0.1, affine=True, track_running_stats=True)\n",
       "        (2): Conv1d(256, 128, kernel_size=(1,), stride=(1,), bias=False)\n",
       "        (3): BatchNorm1d(128, eps=1e-05, momentum=0.1, affine=True, track_running_stats=True)\n",
       "      )\n",
       "      (lil): LIL(\n",
       "        (DWConv): DWCONV(\n",
       "          (conv1): Conv1d(128, 128, kernel_size=(3,), stride=(1,), padding=(1,), groups=128, bias=False)\n",
       "          (gelu1): ReLU()\n",
       "          (bn1): BatchNorm1d(128, eps=1e-05, momentum=0.1, affine=True, track_running_stats=True)\n",
       "        )\n",
       "      )\n",
       "      (blocks): ModuleList(\n",
       "        (0-1): 2 x MyFormerBlock(\n",
       "          (norm1): LayerNorm((128,), eps=1e-05, elementwise_affine=True)\n",
       "          (attn): SMHSA(\n",
       "            (dwconv_k): DWCONV(\n",
       "              (conv1): Conv1d(128, 128, kernel_size=(3,), stride=(2,), padding=(1,), groups=128, bias=False)\n",
       "              (gelu1): ReLU()\n",
       "              (bn1): BatchNorm1d(128, eps=1e-05, momentum=0.1, affine=True, track_running_stats=True)\n",
       "            )\n",
       "            (dwconv_v): DWCONV(\n",
       "              (conv1): Conv1d(128, 128, kernel_size=(3,), stride=(2,), padding=(1,), groups=128, bias=False)\n",
       "              (gelu1): ReLU()\n",
       "              (bn1): BatchNorm1d(128, eps=1e-05, momentum=0.1, affine=True, track_running_stats=True)\n",
       "            )\n",
       "            (fc_q): Linear(in_features=128, out_features=256, bias=False)\n",
       "            (fc_k): Linear(in_features=128, out_features=256, bias=False)\n",
       "            (fc_v): Linear(in_features=128, out_features=256, bias=False)\n",
       "            (fc_o): Linear(in_features=256, out_features=128, bias=True)\n",
       "            (attn_drop): Dropout(p=0.0, inplace=False)\n",
       "            (proj_drop): Dropout(p=0.0, inplace=False)\n",
       "          )\n",
       "          (ffn): RFFN(\n",
       "            (conv1): Sequential(\n",
       "              (0): Conv1d(128, 128, kernel_size=(1,), stride=(1,))\n",
       "              (1): BatchNorm1d(128, eps=1e-05, momentum=0.1, affine=True, track_running_stats=True)\n",
       "              (2): ReLU()\n",
       "            )\n",
       "            (dwconv): Sequential(\n",
       "              (0): DWCONV(\n",
       "                (conv1): Conv1d(128, 128, kernel_size=(3,), stride=(1,), padding=(1,), groups=128, bias=False)\n",
       "                (gelu1): ReLU()\n",
       "                (bn1): BatchNorm1d(128, eps=1e-05, momentum=0.1, affine=True, track_running_stats=True)\n",
       "              )\n",
       "              (1): BatchNorm1d(128, eps=1e-05, momentum=0.1, affine=True, track_running_stats=True)\n",
       "              (2): ReLU()\n",
       "            )\n",
       "            (conv2): Sequential(\n",
       "              (0): Conv1d(128, 128, kernel_size=(1,), stride=(1,))\n",
       "              (1): BatchNorm1d(128, eps=1e-05, momentum=0.1, affine=True, track_running_stats=True)\n",
       "            )\n",
       "          )\n",
       "          (select): DANE(\n",
       "            (fc_spatial): Sequential(\n",
       "              (0): LayerNorm((128,), eps=1e-05, elementwise_affine=True)\n",
       "              (1): Linear(in_features=128, out_features=1, bias=False)\n",
       "            )\n",
       "            (avg_pool): AdaptiveAvgPool1d(output_size=1)\n",
       "            (fc_channel): Sequential(\n",
       "              (0): Linear(in_features=128, out_features=8, bias=False)\n",
       "              (1): SiLU(inplace=True)\n",
       "              (2): LayerNorm((8,), eps=1e-05, elementwise_affine=True)\n",
       "              (3): Linear(in_features=8, out_features=128, bias=False)\n",
       "            )\n",
       "            (sigmoid): Sigmoid()\n",
       "          )\n",
       "          (mlp): Mlp(\n",
       "            (fc1): Linear(in_features=128, out_features=512, bias=True)\n",
       "            (act): GELU(approximate='none')\n",
       "            (fc2): Linear(in_features=512, out_features=128, bias=True)\n",
       "            (drop): Dropout(p=0.0, inplace=False)\n",
       "          )\n",
       "          (drop_path): Identity()\n",
       "          (norm2): LayerNorm((128,), eps=1e-05, elementwise_affine=True)\n",
       "        )\n",
       "      )\n",
       "    )\n",
       "  )\n",
       "  (norm): LayerNorm((128,), eps=1e-05, elementwise_affine=True)\n",
       "  (avgpool): AdaptiveAvgPool1d(output_size=1)\n",
       "  (head): Linear(in_features=128, out_features=5, bias=True)\n",
       ")"
      ]
     },
     "execution_count": 47,
     "metadata": {},
     "output_type": "execute_result"
    }
   ],
   "source": [
    "model = IEEGHCT(in_channels=1, num_classes=NUM_CLASSES, depths=[1, 2, 4, 2]).to(DEVICE)\n",
    "model"
   ]
  },
  {
   "cell_type": "code",
   "execution_count": 52,
   "metadata": {},
   "outputs": [],
   "source": [
    "criterion = nn.CrossEntropyLoss()\n",
    "optimizer = optim.Adam(model.parameters(), lr=LEARNING_RATE)\n"
   ]
  },
  {
   "cell_type": "code",
   "execution_count": 53,
   "metadata": {},
   "outputs": [],
   "source": [
    "\n",
    "# Training Function\n",
    "def trainCL_model(model, train_loader, optimizer, criterion, num_epochs, device):\n",
    "    model.train()\n",
    "    for epoch in range(num_epochs):\n",
    "        running_loss = 0.0\n",
    "        y_true_train = []\n",
    "        y_pred_train = []\n",
    "\n",
    "        progress_bar = tqdm(train_loader, desc=f\"Epoch {epoch+1}/{num_epochs}\", unit=\"batch\")\n",
    "        for inputs, labels in progress_bar:\n",
    "            inputs, labels = inputs.to(device), labels.to(device)\n",
    "            \n",
    "            # Ensure inputs have the correct shape\n",
    "            if inputs.dim() == 2:  # [batch_size, seq_length]\n",
    "                inputs = inputs.unsqueeze(1)  # [batch_size, 1, seq_length]\n",
    "\n",
    "            optimizer.zero_grad()\n",
    "            outputs = model(inputs)\n",
    "            loss = criterion(outputs, labels.squeeze())\n",
    "            loss.backward()\n",
    "            optimizer.step()\n",
    "            running_loss += loss.item()\n",
    "\n",
    "            _, predicted = torch.max(outputs, 1)\n",
    "            y_true_train.extend(labels.squeeze().cpu().numpy())\n",
    "            y_pred_train.extend(predicted.cpu().numpy())\n",
    "\n",
    "            avg_loss = running_loss / len(train_loader)\n",
    "            train_accuracy = accuracy_score(y_true_train, y_pred_train)\n",
    "            precision, recall, f1, _ = precision_recall_fscore_support(y_true_train, y_pred_train, average='weighted', zero_division=0)\n",
    "\n",
    "            progress_bar.set_postfix(loss=avg_loss, accuracy=train_accuracy, precision=precision, recall=recall, f1=f1)\n",
    "\n",
    "        mlflow.log_metric(\"train_loss\", avg_loss, step=epoch)\n",
    "        mlflow.log_metric(\"train_accuracy\", train_accuracy, step=epoch)\n",
    "        mlflow.log_metric(\"train_precision\", precision, step=epoch)\n",
    "        mlflow.log_metric(\"train_recall\", recall, step=epoch)\n",
    "        mlflow.log_metric(\"train_f1\", f1, step=epoch)\n",
    "\n",
    "# Evaluation Function\n",
    "def evaluateCL_model(model, test_loader, dataset, device, img_path, run_name):\n",
    "    model.eval()\n",
    "    y_true_test = []\n",
    "    y_pred_test = []\n",
    "\n",
    "    with torch.no_grad():\n",
    "        for inputs, labels in tqdm(test_loader, desc=\"Evaluating\", unit=\"batch\"):\n",
    "            inputs, labels = inputs.to(device), labels.to(device)\n",
    "            \n",
    "            # Ensure inputs have the correct shape\n",
    "            if inputs.dim() == 2:  # [batch_size, seq_length]\n",
    "                inputs = inputs.unsqueeze(1)  # [batch_size, 1, seq_length]\n",
    "\n",
    "            outputs = model(inputs)\n",
    "            _, predicted = torch.max(outputs, 1)\n",
    "            y_true_test.extend(labels.squeeze().cpu().numpy())\n",
    "            y_pred_test.extend(predicted.cpu().numpy())\n",
    "\n",
    "    test_accuracy = accuracy_score(y_true_test, y_pred_test)\n",
    "    precision, recall, f1, _ = precision_recall_fscore_support(y_true_test, y_pred_test, average='weighted', zero_division=0)\n",
    "\n",
    "    print(f'Accuracy of the model on the test data: {test_accuracy:.2f}%')\n",
    "    print(f'Precision: {precision:.4f}, Recall: {recall:.4f}, F1 Score: {f1:.4f}')\n",
    "\n",
    "    mlflow.log_metric(\"test_accuracy\", test_accuracy)\n",
    "    mlflow.log_metric(\"test_precision\", precision)\n",
    "    mlflow.log_metric(\"test_recall\", recall)\n",
    "    mlflow.log_metric(\"test_f1\", f1)\n",
    "\n",
    "    # Confusion matrix\n",
    "    cm = confusion_matrix(y_true_test, y_pred_test)\n",
    "    cm_df = pd.DataFrame(cm, index=dataset.label_encoder.classes_, columns=dataset.label_encoder.classes_)\n",
    "\n",
    "    plt.figure(figsize=(10, 7))\n",
    "    sns.heatmap(cm_df, annot=True, fmt='d', cmap='Blues')\n",
    "    plt.ylabel('Actual')\n",
    "    plt.xlabel('Predicted')\n",
    "    plt.title('Confusion Matrix')\n",
    "    img_file = os.path.join(img_path, f\"confusion_matrix_{run_name}.png\")\n",
    "    plt.savefig(img_file)\n",
    "    mlflow.log_artifact(img_file)\n",
    "    plt.close()"
   ]
  },
  {
   "cell_type": "code",
   "execution_count": 55,
   "metadata": {},
   "outputs": [
    {
     "data": {
      "application/vnd.jupyter.widget-view+json": {
       "model_id": "dae2ee12f0c940568e921c202703b24c",
       "version_major": 2,
       "version_minor": 0
      },
      "text/plain": [
       "Evaluating:   0%|          | 0/82 [00:00<?, ?batch/s]"
      ]
     },
     "metadata": {},
     "output_type": "display_data"
    },
    {
     "name": "stdout",
     "output_type": "stream",
     "text": [
      "Accuracy of the model on the test data: 0.98%\n",
      "Precision: 0.9809, Recall: 0.9802, F1 Score: 0.9803\n"
     ]
    }
   ],
   "source": [
    "\n",
    "    # Ensure the experiment is created or active\n",
    "    experiment = mlflow.get_experiment_by_name(EXPERIMENT_NAME)\n",
    "    if experiment is None:\n",
    "        experiment_id = mlflow.create_experiment(EXPERIMENT_NAME)\n",
    "    else:\n",
    "        experiment_id = experiment.experiment_id\n",
    "        if experiment.lifecycle_stage == 'deleted':\n",
    "            mlflow.tracking.MlflowClient().restore_experiment(experiment_id)\n",
    "\n",
    "    # Start MLflow experiment\n",
    "    mlflow.set_experiment(EXPERIMENT_NAME)\n",
    "\n",
    "    with mlflow.start_run(run_name=RUN_NAME) as run:\n",
    "        # Log parameters\n",
    "        mlflow.log_param(\"epochs\", NUM_EPOCHS)\n",
    "        mlflow.log_param(\"batch_size\", BATCH_SIZE)\n",
    "        mlflow.log_param(\"learning_rate\", LEARNING_RATE)\n",
    "        mlflow.log_param(\"model\", \"ConvBiLSTM\")\n",
    "        mlflow.log_param(\"input_size\", INPUT_SIZE)\n",
    "        mlflow.log_param(\"num_classes\", NUM_CLASSES)\n",
    "        mlflow.log_dict(dataset.get_class_mapping(), \"class_mapping.json\")\n",
    "\n",
    "        # Train and Evaluate the Model\n",
    "        #trainCL_model(model, train_loader, optimizer, criterion, NUM_EPOCHS, DEVICE)\n",
    "        evaluateCL_model(model, test_loader, dataset, DEVICE, '../plots', RUN_NAME)\n",
    "\n",
    "        # Log the model\n",
    "        mlflow.pytorch.log_model(model, \"model\")\n"
   ]
  },
  {
   "cell_type": "code",
   "execution_count": null,
   "metadata": {},
   "outputs": [],
   "source": []
  },
  {
   "cell_type": "code",
   "execution_count": null,
   "metadata": {},
   "outputs": [],
   "source": []
  }
 ],
 "metadata": {
  "kernelspec": {
   "display_name": "Python 3 (ipykernel)",
   "language": "python",
   "name": "python3"
  },
  "language_info": {
   "codemirror_mode": {
    "name": "ipython",
    "version": 3
   },
   "file_extension": ".py",
   "mimetype": "text/x-python",
   "name": "python",
   "nbconvert_exporter": "python",
   "pygments_lexer": "ipython3",
   "version": "3.1.undefined"
  }
 },
 "nbformat": 4,
 "nbformat_minor": 4
}
